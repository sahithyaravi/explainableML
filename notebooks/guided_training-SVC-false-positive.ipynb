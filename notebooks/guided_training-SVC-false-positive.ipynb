{
 "cells": [
  {
   "cell_type": "code",
   "execution_count": 27,
   "metadata": {},
   "outputs": [],
   "source": [
    "import pandas as pd\n",
    "import numpy as np\n",
    "from sklearn.feature_extraction.text import TfidfVectorizer\n",
    "import nltk\n",
    "from nltk.corpus import stopwords\n",
    "from sklearn.linear_model import LogisticRegression\n",
    "from sklearn.svm import SVC\n",
    "import plotly\n",
    "import plotly.graph_objs as go\n",
    "from sklearn.metrics import f1_score, confusion_matrix, accuracy_score\n",
    "import seaborn as sns\n",
    "import shap\n",
    "from sklearn.cluster import KMeans\n",
    "from sklearn.decomposition import PCA\n",
    "from scipy.spatial.distance import euclidean, cosine"
   ]
  },
  {
   "cell_type": "code",
   "execution_count": 28,
   "metadata": {},
   "outputs": [
    {
     "data": {
      "text/html": [
       "<div>\n",
       "<style scoped>\n",
       "    .dataframe tbody tr th:only-of-type {\n",
       "        vertical-align: middle;\n",
       "    }\n",
       "\n",
       "    .dataframe tbody tr th {\n",
       "        vertical-align: top;\n",
       "    }\n",
       "\n",
       "    .dataframe thead th {\n",
       "        text-align: right;\n",
       "    }\n",
       "</style>\n",
       "<table border=\"1\" class=\"dataframe\">\n",
       "  <thead>\n",
       "    <tr style=\"text-align: right;\">\n",
       "      <th></th>\n",
       "      <th>Unnamed: 0</th>\n",
       "      <th>Date</th>\n",
       "      <th>label</th>\n",
       "      <th>text</th>\n",
       "      <th>BankName</th>\n",
       "      <th>processed</th>\n",
       "    </tr>\n",
       "  </thead>\n",
       "  <tbody>\n",
       "    <tr>\n",
       "      <th>0</th>\n",
       "      <td>0</td>\n",
       "      <td>2017-04-10</td>\n",
       "      <td>1</td>\n",
       "      <td>Great job, Wyndham Capital! Each person was pr...</td>\n",
       "      <td>Wyndham Capital Mortgage</td>\n",
       "      <td>great job person professional and help move th...</td>\n",
       "    </tr>\n",
       "    <tr>\n",
       "      <th>1</th>\n",
       "      <td>1</td>\n",
       "      <td>2017-02-10</td>\n",
       "      <td>1</td>\n",
       "      <td>Matthew Richardson is professional and helpful...</td>\n",
       "      <td>Wyndham Capital Mortgage</td>\n",
       "      <td>professional and helpful help find correct pro...</td>\n",
       "    </tr>\n",
       "    <tr>\n",
       "      <th>2</th>\n",
       "      <td>2</td>\n",
       "      <td>2017-08-21</td>\n",
       "      <td>1</td>\n",
       "      <td>We had a past experience with Wyndham Mortgage...</td>\n",
       "      <td>Wyndham Capital Mortgage</td>\n",
       "      <td>past experience with and would without questio...</td>\n",
       "    </tr>\n",
       "    <tr>\n",
       "      <th>3</th>\n",
       "      <td>3</td>\n",
       "      <td>2017-12-17</td>\n",
       "      <td>1</td>\n",
       "      <td>We have been dealing with Brad Thomka from the...</td>\n",
       "      <td>Wyndham Capital Mortgage</td>\n",
       "      <td>deal with from beginning of start out to very ...</td>\n",
       "    </tr>\n",
       "    <tr>\n",
       "      <th>4</th>\n",
       "      <td>4</td>\n",
       "      <td>2016-05-27</td>\n",
       "      <td>1</td>\n",
       "      <td>I can't express how grateful I am for the supp...</td>\n",
       "      <td>Wyndham Capital Mortgage</td>\n",
       "      <td>can t express how grateful for support Zach pr...</td>\n",
       "    </tr>\n",
       "  </tbody>\n",
       "</table>\n",
       "</div>"
      ],
      "text/plain": [
       "   Unnamed: 0        Date  label  \\\n",
       "0           0  2017-04-10      1   \n",
       "1           1  2017-02-10      1   \n",
       "2           2  2017-08-21      1   \n",
       "3           3  2017-12-17      1   \n",
       "4           4  2016-05-27      1   \n",
       "\n",
       "                                                text  \\\n",
       "0  Great job, Wyndham Capital! Each person was pr...   \n",
       "1  Matthew Richardson is professional and helpful...   \n",
       "2  We had a past experience with Wyndham Mortgage...   \n",
       "3  We have been dealing with Brad Thomka from the...   \n",
       "4  I can't express how grateful I am for the supp...   \n",
       "\n",
       "                   BankName                                          processed  \n",
       "0  Wyndham Capital Mortgage  great job person professional and help move th...  \n",
       "1  Wyndham Capital Mortgage  professional and helpful help find correct pro...  \n",
       "2  Wyndham Capital Mortgage  past experience with and would without questio...  \n",
       "3  Wyndham Capital Mortgage  deal with from beginning of start out to very ...  \n",
       "4  Wyndham Capital Mortgage  can t express how grateful for support Zach pr...  "
      ]
     },
     "execution_count": 28,
     "metadata": {},
     "output_type": "execute_result"
    }
   ],
   "source": [
    "df = pd.read_csv('../datasets/bank_dataset.csv')\n",
    "df.head()"
   ]
  },
  {
   "cell_type": "code",
   "execution_count": 29,
   "metadata": {},
   "outputs": [
    {
     "data": {
      "text/plain": [
       "(397, 6)"
      ]
     },
     "execution_count": 29,
     "metadata": {},
     "output_type": "execute_result"
    }
   ],
   "source": [
    "df.shape"
   ]
  },
  {
   "cell_type": "code",
   "execution_count": 30,
   "metadata": {},
   "outputs": [
    {
     "data": {
      "application/vnd.plotly.v1+json": {
       "config": {
        "plotlyServerURL": "https://plot.ly"
       },
       "data": [
        {
         "type": "histogram",
         "x": [
          1,
          1,
          1,
          1,
          1,
          1,
          1,
          1,
          1,
          1,
          1,
          1,
          1,
          1,
          1,
          1,
          1,
          0,
          0,
          0,
          0,
          1,
          1,
          1,
          1,
          1,
          1,
          1,
          1,
          1,
          1,
          1,
          1,
          1,
          1,
          1,
          1,
          1,
          0,
          0,
          0,
          0,
          0,
          0,
          0,
          0,
          0,
          0,
          0,
          1,
          1,
          1,
          1,
          1,
          1,
          1,
          1,
          1,
          1,
          1,
          1,
          1,
          1,
          1,
          1,
          1,
          1,
          1,
          1,
          1,
          1,
          1,
          1,
          1,
          1,
          1,
          1,
          1,
          1,
          0,
          0,
          0,
          0,
          0,
          0,
          0,
          0,
          0,
          0,
          0,
          0,
          0,
          0,
          0,
          0,
          0,
          0,
          1,
          1,
          1,
          1,
          1,
          1,
          1,
          1,
          1,
          1,
          1,
          1,
          1,
          1,
          1,
          1,
          1,
          1,
          1,
          1,
          1,
          1,
          1,
          1,
          1,
          1,
          1,
          1,
          1,
          1,
          1,
          1,
          1,
          1,
          1,
          1,
          1,
          1,
          1,
          1,
          0,
          0,
          0,
          0,
          0,
          0,
          0,
          0,
          0,
          0,
          0,
          0,
          1,
          1,
          1,
          1,
          1,
          1,
          1,
          1,
          1,
          1,
          1,
          1,
          1,
          1,
          1,
          1,
          1,
          1,
          1,
          1,
          1,
          1,
          1,
          1,
          1,
          1,
          1,
          1,
          1,
          1,
          1,
          1,
          1,
          1,
          1,
          1,
          1,
          1,
          1,
          1,
          1,
          1,
          1,
          1,
          1,
          1,
          1,
          1,
          1,
          1,
          1,
          1,
          1,
          1,
          1,
          1,
          1,
          1,
          1,
          1,
          1,
          1,
          1,
          1,
          1,
          1,
          1,
          1,
          1,
          1,
          1,
          1,
          1,
          1,
          1,
          1,
          1,
          1,
          1,
          1,
          1,
          1,
          1,
          1,
          1,
          1,
          1,
          1,
          1,
          1,
          1,
          1,
          1,
          1,
          1,
          1,
          1,
          1,
          1,
          1,
          1,
          1,
          1,
          1,
          1,
          1,
          1,
          1,
          1,
          1,
          1,
          1,
          1,
          1,
          1,
          1,
          1,
          1,
          1,
          1,
          1,
          1,
          1,
          1,
          1,
          1,
          1,
          1,
          1,
          1,
          1,
          1,
          1,
          1,
          1,
          1,
          1,
          1,
          1,
          1,
          1,
          1,
          1,
          1,
          1,
          0,
          0,
          0,
          0,
          0,
          0,
          0,
          0,
          0,
          0,
          0,
          0,
          0,
          0,
          0,
          0,
          0,
          0,
          0,
          0,
          0,
          1,
          1,
          1,
          1,
          1,
          1,
          1,
          1,
          1,
          1,
          1,
          1,
          1,
          1,
          1,
          1,
          1,
          1,
          1,
          1,
          1,
          1,
          1,
          1,
          1,
          1,
          1,
          1,
          1,
          1,
          1,
          1,
          1,
          1,
          1,
          1,
          1,
          1,
          1,
          1,
          1,
          1,
          1,
          1,
          1,
          1,
          1,
          1,
          1,
          1,
          1,
          1,
          1,
          1,
          1,
          1,
          1,
          1,
          1,
          1,
          1,
          1,
          1,
          1,
          1,
          1,
          1,
          1,
          0,
          0,
          0,
          0,
          0,
          0,
          0,
          0,
          0,
          0,
          0,
          0,
          0,
          0
         ]
        }
       ],
       "layout": {
        "height": 300,
        "template": {
         "data": {
          "bar": [
           {
            "error_x": {
             "color": "#2a3f5f"
            },
            "error_y": {
             "color": "#2a3f5f"
            },
            "marker": {
             "line": {
              "color": "#E5ECF6",
              "width": 0.5
             }
            },
            "type": "bar"
           }
          ],
          "barpolar": [
           {
            "marker": {
             "line": {
              "color": "#E5ECF6",
              "width": 0.5
             }
            },
            "type": "barpolar"
           }
          ],
          "carpet": [
           {
            "aaxis": {
             "endlinecolor": "#2a3f5f",
             "gridcolor": "white",
             "linecolor": "white",
             "minorgridcolor": "white",
             "startlinecolor": "#2a3f5f"
            },
            "baxis": {
             "endlinecolor": "#2a3f5f",
             "gridcolor": "white",
             "linecolor": "white",
             "minorgridcolor": "white",
             "startlinecolor": "#2a3f5f"
            },
            "type": "carpet"
           }
          ],
          "choropleth": [
           {
            "colorbar": {
             "outlinewidth": 0,
             "ticks": ""
            },
            "type": "choropleth"
           }
          ],
          "contour": [
           {
            "colorbar": {
             "outlinewidth": 0,
             "ticks": ""
            },
            "colorscale": [
             [
              0,
              "#0d0887"
             ],
             [
              0.1111111111111111,
              "#46039f"
             ],
             [
              0.2222222222222222,
              "#7201a8"
             ],
             [
              0.3333333333333333,
              "#9c179e"
             ],
             [
              0.4444444444444444,
              "#bd3786"
             ],
             [
              0.5555555555555556,
              "#d8576b"
             ],
             [
              0.6666666666666666,
              "#ed7953"
             ],
             [
              0.7777777777777778,
              "#fb9f3a"
             ],
             [
              0.8888888888888888,
              "#fdca26"
             ],
             [
              1,
              "#f0f921"
             ]
            ],
            "type": "contour"
           }
          ],
          "contourcarpet": [
           {
            "colorbar": {
             "outlinewidth": 0,
             "ticks": ""
            },
            "type": "contourcarpet"
           }
          ],
          "heatmap": [
           {
            "colorbar": {
             "outlinewidth": 0,
             "ticks": ""
            },
            "colorscale": [
             [
              0,
              "#0d0887"
             ],
             [
              0.1111111111111111,
              "#46039f"
             ],
             [
              0.2222222222222222,
              "#7201a8"
             ],
             [
              0.3333333333333333,
              "#9c179e"
             ],
             [
              0.4444444444444444,
              "#bd3786"
             ],
             [
              0.5555555555555556,
              "#d8576b"
             ],
             [
              0.6666666666666666,
              "#ed7953"
             ],
             [
              0.7777777777777778,
              "#fb9f3a"
             ],
             [
              0.8888888888888888,
              "#fdca26"
             ],
             [
              1,
              "#f0f921"
             ]
            ],
            "type": "heatmap"
           }
          ],
          "heatmapgl": [
           {
            "colorbar": {
             "outlinewidth": 0,
             "ticks": ""
            },
            "colorscale": [
             [
              0,
              "#0d0887"
             ],
             [
              0.1111111111111111,
              "#46039f"
             ],
             [
              0.2222222222222222,
              "#7201a8"
             ],
             [
              0.3333333333333333,
              "#9c179e"
             ],
             [
              0.4444444444444444,
              "#bd3786"
             ],
             [
              0.5555555555555556,
              "#d8576b"
             ],
             [
              0.6666666666666666,
              "#ed7953"
             ],
             [
              0.7777777777777778,
              "#fb9f3a"
             ],
             [
              0.8888888888888888,
              "#fdca26"
             ],
             [
              1,
              "#f0f921"
             ]
            ],
            "type": "heatmapgl"
           }
          ],
          "histogram": [
           {
            "marker": {
             "colorbar": {
              "outlinewidth": 0,
              "ticks": ""
             }
            },
            "type": "histogram"
           }
          ],
          "histogram2d": [
           {
            "colorbar": {
             "outlinewidth": 0,
             "ticks": ""
            },
            "colorscale": [
             [
              0,
              "#0d0887"
             ],
             [
              0.1111111111111111,
              "#46039f"
             ],
             [
              0.2222222222222222,
              "#7201a8"
             ],
             [
              0.3333333333333333,
              "#9c179e"
             ],
             [
              0.4444444444444444,
              "#bd3786"
             ],
             [
              0.5555555555555556,
              "#d8576b"
             ],
             [
              0.6666666666666666,
              "#ed7953"
             ],
             [
              0.7777777777777778,
              "#fb9f3a"
             ],
             [
              0.8888888888888888,
              "#fdca26"
             ],
             [
              1,
              "#f0f921"
             ]
            ],
            "type": "histogram2d"
           }
          ],
          "histogram2dcontour": [
           {
            "colorbar": {
             "outlinewidth": 0,
             "ticks": ""
            },
            "colorscale": [
             [
              0,
              "#0d0887"
             ],
             [
              0.1111111111111111,
              "#46039f"
             ],
             [
              0.2222222222222222,
              "#7201a8"
             ],
             [
              0.3333333333333333,
              "#9c179e"
             ],
             [
              0.4444444444444444,
              "#bd3786"
             ],
             [
              0.5555555555555556,
              "#d8576b"
             ],
             [
              0.6666666666666666,
              "#ed7953"
             ],
             [
              0.7777777777777778,
              "#fb9f3a"
             ],
             [
              0.8888888888888888,
              "#fdca26"
             ],
             [
              1,
              "#f0f921"
             ]
            ],
            "type": "histogram2dcontour"
           }
          ],
          "mesh3d": [
           {
            "colorbar": {
             "outlinewidth": 0,
             "ticks": ""
            },
            "type": "mesh3d"
           }
          ],
          "parcoords": [
           {
            "line": {
             "colorbar": {
              "outlinewidth": 0,
              "ticks": ""
             }
            },
            "type": "parcoords"
           }
          ],
          "scatter": [
           {
            "marker": {
             "colorbar": {
              "outlinewidth": 0,
              "ticks": ""
             }
            },
            "type": "scatter"
           }
          ],
          "scatter3d": [
           {
            "line": {
             "colorbar": {
              "outlinewidth": 0,
              "ticks": ""
             }
            },
            "marker": {
             "colorbar": {
              "outlinewidth": 0,
              "ticks": ""
             }
            },
            "type": "scatter3d"
           }
          ],
          "scattercarpet": [
           {
            "marker": {
             "colorbar": {
              "outlinewidth": 0,
              "ticks": ""
             }
            },
            "type": "scattercarpet"
           }
          ],
          "scattergeo": [
           {
            "marker": {
             "colorbar": {
              "outlinewidth": 0,
              "ticks": ""
             }
            },
            "type": "scattergeo"
           }
          ],
          "scattergl": [
           {
            "marker": {
             "colorbar": {
              "outlinewidth": 0,
              "ticks": ""
             }
            },
            "type": "scattergl"
           }
          ],
          "scattermapbox": [
           {
            "marker": {
             "colorbar": {
              "outlinewidth": 0,
              "ticks": ""
             }
            },
            "type": "scattermapbox"
           }
          ],
          "scatterpolar": [
           {
            "marker": {
             "colorbar": {
              "outlinewidth": 0,
              "ticks": ""
             }
            },
            "type": "scatterpolar"
           }
          ],
          "scatterpolargl": [
           {
            "marker": {
             "colorbar": {
              "outlinewidth": 0,
              "ticks": ""
             }
            },
            "type": "scatterpolargl"
           }
          ],
          "scatterternary": [
           {
            "marker": {
             "colorbar": {
              "outlinewidth": 0,
              "ticks": ""
             }
            },
            "type": "scatterternary"
           }
          ],
          "surface": [
           {
            "colorbar": {
             "outlinewidth": 0,
             "ticks": ""
            },
            "colorscale": [
             [
              0,
              "#0d0887"
             ],
             [
              0.1111111111111111,
              "#46039f"
             ],
             [
              0.2222222222222222,
              "#7201a8"
             ],
             [
              0.3333333333333333,
              "#9c179e"
             ],
             [
              0.4444444444444444,
              "#bd3786"
             ],
             [
              0.5555555555555556,
              "#d8576b"
             ],
             [
              0.6666666666666666,
              "#ed7953"
             ],
             [
              0.7777777777777778,
              "#fb9f3a"
             ],
             [
              0.8888888888888888,
              "#fdca26"
             ],
             [
              1,
              "#f0f921"
             ]
            ],
            "type": "surface"
           }
          ],
          "table": [
           {
            "cells": {
             "fill": {
              "color": "#EBF0F8"
             },
             "line": {
              "color": "white"
             }
            },
            "header": {
             "fill": {
              "color": "#C8D4E3"
             },
             "line": {
              "color": "white"
             }
            },
            "type": "table"
           }
          ]
         },
         "layout": {
          "annotationdefaults": {
           "arrowcolor": "#2a3f5f",
           "arrowhead": 0,
           "arrowwidth": 1
          },
          "colorscale": {
           "diverging": [
            [
             0,
             "#8e0152"
            ],
            [
             0.1,
             "#c51b7d"
            ],
            [
             0.2,
             "#de77ae"
            ],
            [
             0.3,
             "#f1b6da"
            ],
            [
             0.4,
             "#fde0ef"
            ],
            [
             0.5,
             "#f7f7f7"
            ],
            [
             0.6,
             "#e6f5d0"
            ],
            [
             0.7,
             "#b8e186"
            ],
            [
             0.8,
             "#7fbc41"
            ],
            [
             0.9,
             "#4d9221"
            ],
            [
             1,
             "#276419"
            ]
           ],
           "sequential": [
            [
             0,
             "#0d0887"
            ],
            [
             0.1111111111111111,
             "#46039f"
            ],
            [
             0.2222222222222222,
             "#7201a8"
            ],
            [
             0.3333333333333333,
             "#9c179e"
            ],
            [
             0.4444444444444444,
             "#bd3786"
            ],
            [
             0.5555555555555556,
             "#d8576b"
            ],
            [
             0.6666666666666666,
             "#ed7953"
            ],
            [
             0.7777777777777778,
             "#fb9f3a"
            ],
            [
             0.8888888888888888,
             "#fdca26"
            ],
            [
             1,
             "#f0f921"
            ]
           ],
           "sequentialminus": [
            [
             0,
             "#0d0887"
            ],
            [
             0.1111111111111111,
             "#46039f"
            ],
            [
             0.2222222222222222,
             "#7201a8"
            ],
            [
             0.3333333333333333,
             "#9c179e"
            ],
            [
             0.4444444444444444,
             "#bd3786"
            ],
            [
             0.5555555555555556,
             "#d8576b"
            ],
            [
             0.6666666666666666,
             "#ed7953"
            ],
            [
             0.7777777777777778,
             "#fb9f3a"
            ],
            [
             0.8888888888888888,
             "#fdca26"
            ],
            [
             1,
             "#f0f921"
            ]
           ]
          },
          "colorway": [
           "#636efa",
           "#EF553B",
           "#00cc96",
           "#ab63fa",
           "#FFA15A",
           "#19d3f3",
           "#FF6692",
           "#B6E880",
           "#FF97FF",
           "#FECB52"
          ],
          "font": {
           "color": "#2a3f5f"
          },
          "geo": {
           "bgcolor": "white",
           "lakecolor": "white",
           "landcolor": "#E5ECF6",
           "showlakes": true,
           "showland": true,
           "subunitcolor": "white"
          },
          "hoverlabel": {
           "align": "left"
          },
          "hovermode": "closest",
          "mapbox": {
           "style": "light"
          },
          "paper_bgcolor": "white",
          "plot_bgcolor": "#E5ECF6",
          "polar": {
           "angularaxis": {
            "gridcolor": "white",
            "linecolor": "white",
            "ticks": ""
           },
           "bgcolor": "#E5ECF6",
           "radialaxis": {
            "gridcolor": "white",
            "linecolor": "white",
            "ticks": ""
           }
          },
          "scene": {
           "xaxis": {
            "backgroundcolor": "#E5ECF6",
            "gridcolor": "white",
            "gridwidth": 2,
            "linecolor": "white",
            "showbackground": true,
            "ticks": "",
            "zerolinecolor": "white"
           },
           "yaxis": {
            "backgroundcolor": "#E5ECF6",
            "gridcolor": "white",
            "gridwidth": 2,
            "linecolor": "white",
            "showbackground": true,
            "ticks": "",
            "zerolinecolor": "white"
           },
           "zaxis": {
            "backgroundcolor": "#E5ECF6",
            "gridcolor": "white",
            "gridwidth": 2,
            "linecolor": "white",
            "showbackground": true,
            "ticks": "",
            "zerolinecolor": "white"
           }
          },
          "shapedefaults": {
           "line": {
            "color": "#2a3f5f"
           }
          },
          "ternary": {
           "aaxis": {
            "gridcolor": "white",
            "linecolor": "white",
            "ticks": ""
           },
           "baxis": {
            "gridcolor": "white",
            "linecolor": "white",
            "ticks": ""
           },
           "bgcolor": "#E5ECF6",
           "caxis": {
            "gridcolor": "white",
            "linecolor": "white",
            "ticks": ""
           }
          },
          "title": {
           "x": 0.05
          },
          "xaxis": {
           "automargin": true,
           "gridcolor": "white",
           "linecolor": "white",
           "ticks": "",
           "zerolinecolor": "white",
           "zerolinewidth": 2
          },
          "yaxis": {
           "automargin": true,
           "gridcolor": "white",
           "linecolor": "white",
           "ticks": "",
           "zerolinecolor": "white",
           "zerolinewidth": 2
          }
         }
        },
        "width": 400
       }
      },
      "text/html": [
       "<div>\n",
       "        \n",
       "        \n",
       "            <div id=\"b5f3116d-e1c6-42bf-afa6-d4a8468df7da\" class=\"plotly-graph-div\" style=\"height:300px; width:400px;\"></div>\n",
       "            <script type=\"text/javascript\">\n",
       "                require([\"plotly\"], function(Plotly) {\n",
       "                    window.PLOTLYENV=window.PLOTLYENV || {};\n",
       "                    \n",
       "                if (document.getElementById(\"b5f3116d-e1c6-42bf-afa6-d4a8468df7da\")) {\n",
       "                    Plotly.newPlot(\n",
       "                        'b5f3116d-e1c6-42bf-afa6-d4a8468df7da',\n",
       "                        [{\"type\": \"histogram\", \"x\": [1, 1, 1, 1, 1, 1, 1, 1, 1, 1, 1, 1, 1, 1, 1, 1, 1, 0, 0, 0, 0, 1, 1, 1, 1, 1, 1, 1, 1, 1, 1, 1, 1, 1, 1, 1, 1, 1, 0, 0, 0, 0, 0, 0, 0, 0, 0, 0, 0, 1, 1, 1, 1, 1, 1, 1, 1, 1, 1, 1, 1, 1, 1, 1, 1, 1, 1, 1, 1, 1, 1, 1, 1, 1, 1, 1, 1, 1, 1, 0, 0, 0, 0, 0, 0, 0, 0, 0, 0, 0, 0, 0, 0, 0, 0, 0, 0, 1, 1, 1, 1, 1, 1, 1, 1, 1, 1, 1, 1, 1, 1, 1, 1, 1, 1, 1, 1, 1, 1, 1, 1, 1, 1, 1, 1, 1, 1, 1, 1, 1, 1, 1, 1, 1, 1, 1, 1, 0, 0, 0, 0, 0, 0, 0, 0, 0, 0, 0, 0, 1, 1, 1, 1, 1, 1, 1, 1, 1, 1, 1, 1, 1, 1, 1, 1, 1, 1, 1, 1, 1, 1, 1, 1, 1, 1, 1, 1, 1, 1, 1, 1, 1, 1, 1, 1, 1, 1, 1, 1, 1, 1, 1, 1, 1, 1, 1, 1, 1, 1, 1, 1, 1, 1, 1, 1, 1, 1, 1, 1, 1, 1, 1, 1, 1, 1, 1, 1, 1, 1, 1, 1, 1, 1, 1, 1, 1, 1, 1, 1, 1, 1, 1, 1, 1, 1, 1, 1, 1, 1, 1, 1, 1, 1, 1, 1, 1, 1, 1, 1, 1, 1, 1, 1, 1, 1, 1, 1, 1, 1, 1, 1, 1, 1, 1, 1, 1, 1, 1, 1, 1, 1, 1, 1, 1, 1, 1, 1, 1, 1, 1, 1, 1, 1, 1, 1, 1, 1, 1, 1, 1, 1, 1, 1, 1, 0, 0, 0, 0, 0, 0, 0, 0, 0, 0, 0, 0, 0, 0, 0, 0, 0, 0, 0, 0, 0, 1, 1, 1, 1, 1, 1, 1, 1, 1, 1, 1, 1, 1, 1, 1, 1, 1, 1, 1, 1, 1, 1, 1, 1, 1, 1, 1, 1, 1, 1, 1, 1, 1, 1, 1, 1, 1, 1, 1, 1, 1, 1, 1, 1, 1, 1, 1, 1, 1, 1, 1, 1, 1, 1, 1, 1, 1, 1, 1, 1, 1, 1, 1, 1, 1, 1, 1, 1, 0, 0, 0, 0, 0, 0, 0, 0, 0, 0, 0, 0, 0, 0]}],\n",
       "                        {\"height\": 300, \"template\": {\"data\": {\"bar\": [{\"error_x\": {\"color\": \"#2a3f5f\"}, \"error_y\": {\"color\": \"#2a3f5f\"}, \"marker\": {\"line\": {\"color\": \"#E5ECF6\", \"width\": 0.5}}, \"type\": \"bar\"}], \"barpolar\": [{\"marker\": {\"line\": {\"color\": \"#E5ECF6\", \"width\": 0.5}}, \"type\": \"barpolar\"}], \"carpet\": [{\"aaxis\": {\"endlinecolor\": \"#2a3f5f\", \"gridcolor\": \"white\", \"linecolor\": \"white\", \"minorgridcolor\": \"white\", \"startlinecolor\": \"#2a3f5f\"}, \"baxis\": {\"endlinecolor\": \"#2a3f5f\", \"gridcolor\": \"white\", \"linecolor\": \"white\", \"minorgridcolor\": \"white\", \"startlinecolor\": \"#2a3f5f\"}, \"type\": \"carpet\"}], \"choropleth\": [{\"colorbar\": {\"outlinewidth\": 0, \"ticks\": \"\"}, \"type\": \"choropleth\"}], \"contour\": [{\"colorbar\": {\"outlinewidth\": 0, \"ticks\": \"\"}, \"colorscale\": [[0.0, \"#0d0887\"], [0.1111111111111111, \"#46039f\"], [0.2222222222222222, \"#7201a8\"], [0.3333333333333333, \"#9c179e\"], [0.4444444444444444, \"#bd3786\"], [0.5555555555555556, \"#d8576b\"], [0.6666666666666666, \"#ed7953\"], [0.7777777777777778, \"#fb9f3a\"], [0.8888888888888888, \"#fdca26\"], [1.0, \"#f0f921\"]], \"type\": \"contour\"}], \"contourcarpet\": [{\"colorbar\": {\"outlinewidth\": 0, \"ticks\": \"\"}, \"type\": \"contourcarpet\"}], \"heatmap\": [{\"colorbar\": {\"outlinewidth\": 0, \"ticks\": \"\"}, \"colorscale\": [[0.0, \"#0d0887\"], [0.1111111111111111, \"#46039f\"], [0.2222222222222222, \"#7201a8\"], [0.3333333333333333, \"#9c179e\"], [0.4444444444444444, \"#bd3786\"], [0.5555555555555556, \"#d8576b\"], [0.6666666666666666, \"#ed7953\"], [0.7777777777777778, \"#fb9f3a\"], [0.8888888888888888, \"#fdca26\"], [1.0, \"#f0f921\"]], \"type\": \"heatmap\"}], \"heatmapgl\": [{\"colorbar\": {\"outlinewidth\": 0, \"ticks\": \"\"}, \"colorscale\": [[0.0, \"#0d0887\"], [0.1111111111111111, \"#46039f\"], [0.2222222222222222, \"#7201a8\"], [0.3333333333333333, \"#9c179e\"], [0.4444444444444444, \"#bd3786\"], [0.5555555555555556, \"#d8576b\"], [0.6666666666666666, \"#ed7953\"], [0.7777777777777778, \"#fb9f3a\"], [0.8888888888888888, \"#fdca26\"], [1.0, \"#f0f921\"]], \"type\": \"heatmapgl\"}], \"histogram\": [{\"marker\": {\"colorbar\": {\"outlinewidth\": 0, \"ticks\": \"\"}}, \"type\": \"histogram\"}], \"histogram2d\": [{\"colorbar\": {\"outlinewidth\": 0, \"ticks\": \"\"}, \"colorscale\": [[0.0, \"#0d0887\"], [0.1111111111111111, \"#46039f\"], [0.2222222222222222, \"#7201a8\"], [0.3333333333333333, \"#9c179e\"], [0.4444444444444444, \"#bd3786\"], [0.5555555555555556, \"#d8576b\"], [0.6666666666666666, \"#ed7953\"], [0.7777777777777778, \"#fb9f3a\"], [0.8888888888888888, \"#fdca26\"], [1.0, \"#f0f921\"]], \"type\": \"histogram2d\"}], \"histogram2dcontour\": [{\"colorbar\": {\"outlinewidth\": 0, \"ticks\": \"\"}, \"colorscale\": [[0.0, \"#0d0887\"], [0.1111111111111111, \"#46039f\"], [0.2222222222222222, \"#7201a8\"], [0.3333333333333333, \"#9c179e\"], [0.4444444444444444, \"#bd3786\"], [0.5555555555555556, \"#d8576b\"], [0.6666666666666666, \"#ed7953\"], [0.7777777777777778, \"#fb9f3a\"], [0.8888888888888888, \"#fdca26\"], [1.0, \"#f0f921\"]], \"type\": \"histogram2dcontour\"}], \"mesh3d\": [{\"colorbar\": {\"outlinewidth\": 0, \"ticks\": \"\"}, \"type\": \"mesh3d\"}], \"parcoords\": [{\"line\": {\"colorbar\": {\"outlinewidth\": 0, \"ticks\": \"\"}}, \"type\": \"parcoords\"}], \"scatter\": [{\"marker\": {\"colorbar\": {\"outlinewidth\": 0, \"ticks\": \"\"}}, \"type\": \"scatter\"}], \"scatter3d\": [{\"line\": {\"colorbar\": {\"outlinewidth\": 0, \"ticks\": \"\"}}, \"marker\": {\"colorbar\": {\"outlinewidth\": 0, \"ticks\": \"\"}}, \"type\": \"scatter3d\"}], \"scattercarpet\": [{\"marker\": {\"colorbar\": {\"outlinewidth\": 0, \"ticks\": \"\"}}, \"type\": \"scattercarpet\"}], \"scattergeo\": [{\"marker\": {\"colorbar\": {\"outlinewidth\": 0, \"ticks\": \"\"}}, \"type\": \"scattergeo\"}], \"scattergl\": [{\"marker\": {\"colorbar\": {\"outlinewidth\": 0, \"ticks\": \"\"}}, \"type\": \"scattergl\"}], \"scattermapbox\": [{\"marker\": {\"colorbar\": {\"outlinewidth\": 0, \"ticks\": \"\"}}, \"type\": \"scattermapbox\"}], \"scatterpolar\": [{\"marker\": {\"colorbar\": {\"outlinewidth\": 0, \"ticks\": \"\"}}, \"type\": \"scatterpolar\"}], \"scatterpolargl\": [{\"marker\": {\"colorbar\": {\"outlinewidth\": 0, \"ticks\": \"\"}}, \"type\": \"scatterpolargl\"}], \"scatterternary\": [{\"marker\": {\"colorbar\": {\"outlinewidth\": 0, \"ticks\": \"\"}}, \"type\": \"scatterternary\"}], \"surface\": [{\"colorbar\": {\"outlinewidth\": 0, \"ticks\": \"\"}, \"colorscale\": [[0.0, \"#0d0887\"], [0.1111111111111111, \"#46039f\"], [0.2222222222222222, \"#7201a8\"], [0.3333333333333333, \"#9c179e\"], [0.4444444444444444, \"#bd3786\"], [0.5555555555555556, \"#d8576b\"], [0.6666666666666666, \"#ed7953\"], [0.7777777777777778, \"#fb9f3a\"], [0.8888888888888888, \"#fdca26\"], [1.0, \"#f0f921\"]], \"type\": \"surface\"}], \"table\": [{\"cells\": {\"fill\": {\"color\": \"#EBF0F8\"}, \"line\": {\"color\": \"white\"}}, \"header\": {\"fill\": {\"color\": \"#C8D4E3\"}, \"line\": {\"color\": \"white\"}}, \"type\": \"table\"}]}, \"layout\": {\"annotationdefaults\": {\"arrowcolor\": \"#2a3f5f\", \"arrowhead\": 0, \"arrowwidth\": 1}, \"colorscale\": {\"diverging\": [[0, \"#8e0152\"], [0.1, \"#c51b7d\"], [0.2, \"#de77ae\"], [0.3, \"#f1b6da\"], [0.4, \"#fde0ef\"], [0.5, \"#f7f7f7\"], [0.6, \"#e6f5d0\"], [0.7, \"#b8e186\"], [0.8, \"#7fbc41\"], [0.9, \"#4d9221\"], [1, \"#276419\"]], \"sequential\": [[0.0, \"#0d0887\"], [0.1111111111111111, \"#46039f\"], [0.2222222222222222, \"#7201a8\"], [0.3333333333333333, \"#9c179e\"], [0.4444444444444444, \"#bd3786\"], [0.5555555555555556, \"#d8576b\"], [0.6666666666666666, \"#ed7953\"], [0.7777777777777778, \"#fb9f3a\"], [0.8888888888888888, \"#fdca26\"], [1.0, \"#f0f921\"]], \"sequentialminus\": [[0.0, \"#0d0887\"], [0.1111111111111111, \"#46039f\"], [0.2222222222222222, \"#7201a8\"], [0.3333333333333333, \"#9c179e\"], [0.4444444444444444, \"#bd3786\"], [0.5555555555555556, \"#d8576b\"], [0.6666666666666666, \"#ed7953\"], [0.7777777777777778, \"#fb9f3a\"], [0.8888888888888888, \"#fdca26\"], [1.0, \"#f0f921\"]]}, \"colorway\": [\"#636efa\", \"#EF553B\", \"#00cc96\", \"#ab63fa\", \"#FFA15A\", \"#19d3f3\", \"#FF6692\", \"#B6E880\", \"#FF97FF\", \"#FECB52\"], \"font\": {\"color\": \"#2a3f5f\"}, \"geo\": {\"bgcolor\": \"white\", \"lakecolor\": \"white\", \"landcolor\": \"#E5ECF6\", \"showlakes\": true, \"showland\": true, \"subunitcolor\": \"white\"}, \"hoverlabel\": {\"align\": \"left\"}, \"hovermode\": \"closest\", \"mapbox\": {\"style\": \"light\"}, \"paper_bgcolor\": \"white\", \"plot_bgcolor\": \"#E5ECF6\", \"polar\": {\"angularaxis\": {\"gridcolor\": \"white\", \"linecolor\": \"white\", \"ticks\": \"\"}, \"bgcolor\": \"#E5ECF6\", \"radialaxis\": {\"gridcolor\": \"white\", \"linecolor\": \"white\", \"ticks\": \"\"}}, \"scene\": {\"xaxis\": {\"backgroundcolor\": \"#E5ECF6\", \"gridcolor\": \"white\", \"gridwidth\": 2, \"linecolor\": \"white\", \"showbackground\": true, \"ticks\": \"\", \"zerolinecolor\": \"white\"}, \"yaxis\": {\"backgroundcolor\": \"#E5ECF6\", \"gridcolor\": \"white\", \"gridwidth\": 2, \"linecolor\": \"white\", \"showbackground\": true, \"ticks\": \"\", \"zerolinecolor\": \"white\"}, \"zaxis\": {\"backgroundcolor\": \"#E5ECF6\", \"gridcolor\": \"white\", \"gridwidth\": 2, \"linecolor\": \"white\", \"showbackground\": true, \"ticks\": \"\", \"zerolinecolor\": \"white\"}}, \"shapedefaults\": {\"line\": {\"color\": \"#2a3f5f\"}}, \"ternary\": {\"aaxis\": {\"gridcolor\": \"white\", \"linecolor\": \"white\", \"ticks\": \"\"}, \"baxis\": {\"gridcolor\": \"white\", \"linecolor\": \"white\", \"ticks\": \"\"}, \"bgcolor\": \"#E5ECF6\", \"caxis\": {\"gridcolor\": \"white\", \"linecolor\": \"white\", \"ticks\": \"\"}}, \"title\": {\"x\": 0.05}, \"xaxis\": {\"automargin\": true, \"gridcolor\": \"white\", \"linecolor\": \"white\", \"ticks\": \"\", \"zerolinecolor\": \"white\", \"zerolinewidth\": 2}, \"yaxis\": {\"automargin\": true, \"gridcolor\": \"white\", \"linecolor\": \"white\", \"ticks\": \"\", \"zerolinecolor\": \"white\", \"zerolinewidth\": 2}}}, \"width\": 400},\n",
       "                        {\"responsive\": true}\n",
       "                    ).then(function(){\n",
       "                            \n",
       "var gd = document.getElementById('b5f3116d-e1c6-42bf-afa6-d4a8468df7da');\n",
       "var x = new MutationObserver(function (mutations, observer) {{\n",
       "        var display = window.getComputedStyle(gd).display;\n",
       "        if (!display || display === 'none') {{\n",
       "            console.log([gd, 'removed!']);\n",
       "            Plotly.purge(gd);\n",
       "            observer.disconnect();\n",
       "        }}\n",
       "}});\n",
       "\n",
       "// Listen for the removal of the full notebook cells\n",
       "var notebookContainer = gd.closest('#notebook-container');\n",
       "if (notebookContainer) {{\n",
       "    x.observe(notebookContainer, {childList: true});\n",
       "}}\n",
       "\n",
       "// Listen for the clearing of the current output cell\n",
       "var outputEl = gd.closest('.output');\n",
       "if (outputEl) {{\n",
       "    x.observe(outputEl, {childList: true});\n",
       "}}\n",
       "\n",
       "                        })\n",
       "                };\n",
       "                });\n",
       "            </script>\n",
       "        </div>"
      ]
     },
     "metadata": {},
     "output_type": "display_data"
    }
   ],
   "source": [
    "go.Figure(data=[go.Histogram(x=df['label'])], layout=go.Layout(height=300, width=400))"
   ]
  },
  {
   "cell_type": "code",
   "execution_count": 31,
   "metadata": {},
   "outputs": [],
   "source": [
    "x = df['text'].values\n",
    "y = df['label'].values"
   ]
  },
  {
   "cell_type": "markdown",
   "metadata": {},
   "source": [
    "#### Word representation\n",
    "We are going to use TF*IDF (Term frequency- Inverse document frequency) vectorizer to convert our text into numbers.\n",
    "TF = Frequency of term\n",
    "IDF = No of docs/ No of docs with the term"
   ]
  },
  {
   "cell_type": "code",
   "execution_count": 32,
   "metadata": {},
   "outputs": [
    {
     "data": {
      "text/plain": [
       "(397, 2665)"
      ]
     },
     "execution_count": 32,
     "metadata": {},
     "output_type": "execute_result"
    }
   ],
   "source": [
    "tfid = TfidfVectorizer(max_features=5000)\n",
    "x = tfid.fit_transform(x).toarray()\n",
    "x.shape"
   ]
  },
  {
   "cell_type": "markdown",
   "metadata": {},
   "source": [
    "#### Splitting data\n",
    "We split data as follows:\n",
    "- train = 20%\n",
    "- test = 20%\n",
    "- unlabelled pool = 60% (this is the data which we want the domain expert to label)"
   ]
  },
  {
   "cell_type": "code",
   "execution_count": 33,
   "metadata": {},
   "outputs": [],
   "source": [
    "np.random.seed(50)\n",
    "indices =  np.random.randint(low=0, high=x.shape[0], size=x.shape[0])\n",
    "train_indices = indices[0:round(0.7*x.shape[0])]\n",
    "test_indices = indices[round(0.5*x.shape[0]): round(0.7*x.shape[0])]\n",
    "pool_indices = indices[round(0.7*x.shape[0]):]\n",
    "df_train = df.iloc[train_indices]['text'].values\n",
    "df_test = df.iloc[test_indices]['text'].values\n",
    "df_pool = df.iloc[pool_indices]['text'].values\n",
    "x_train = x[train_indices]\n",
    "y_train = y[train_indices]\n",
    "x_test = x[test_indices]\n",
    "y_test = y[test_indices]\n",
    "x_pool = x[pool_indices]\n",
    "y_pool = y[pool_indices]"
   ]
  },
  {
   "cell_type": "markdown",
   "metadata": {},
   "source": [
    "#### Model fitting\n",
    "We are going to use Logistic regression with L1 regularization. Reasons for L1:\n",
    "- We are going to apply shapely values - L1 => sparse model => better for interpretability\n",
    "- We prefer a sparse model because not all features are important (feature selection)\n",
    "- It results in better accuracy in this case"
   ]
  },
  {
   "cell_type": "code",
   "execution_count": 34,
   "metadata": {},
   "outputs": [
    {
     "data": {
      "text/plain": [
       "1.0"
      ]
     },
     "execution_count": 34,
     "metadata": {},
     "output_type": "execute_result"
    }
   ],
   "source": [
    "C = 0.5\n",
    "max_iter = 1000\n",
    "model = SVC( max_iter=max_iter, C=C, kernel='linear', class_weight='balanced')\n",
    "model.fit(x_train, y_train)\n",
    "model.score(x_train,y_train)"
   ]
  },
  {
   "cell_type": "markdown",
   "metadata": {},
   "source": [
    "We measure the f1_score and plot confusion matrix. Recall:\n",
    "- f1 score = 2PR/ (P+R)\n",
    "- P = actual pos/ predicted pos\n",
    "- R = predicted pos/ total actual pos"
   ]
  },
  {
   "cell_type": "code",
   "execution_count": 35,
   "metadata": {},
   "outputs": [
    {
     "data": {
      "text/plain": [
       "0.9947089947089947"
      ]
     },
     "execution_count": 35,
     "metadata": {},
     "output_type": "execute_result"
    }
   ],
   "source": [
    "predictions = model.predict(x_pool)\n",
    "f1_score(predictions,\n",
    "         y_pool)"
   ]
  },
  {
   "cell_type": "code",
   "execution_count": 36,
   "metadata": {},
   "outputs": [
    {
     "data": {
      "text/plain": [
       "0.9915966386554622"
      ]
     },
     "execution_count": 36,
     "metadata": {},
     "output_type": "execute_result"
    }
   ],
   "source": [
    "accuracy_score(y_pool, predictions)"
   ]
  },
  {
   "cell_type": "code",
   "execution_count": 37,
   "metadata": {},
   "outputs": [
    {
     "data": {
      "text/plain": [
       "<matplotlib.axes._subplots.AxesSubplot at 0x24df1eb0b00>"
      ]
     },
     "execution_count": 37,
     "metadata": {},
     "output_type": "execute_result"
    },
    {
     "data": {
      "image/png": "[encoded data removed]",
      "text/plain": [
       "<Figure size 432x288 with 2 Axes>"
      ]
     },
     "metadata": {
      "needs_background": "light"
     },
     "output_type": "display_data"
    }
   ],
   "source": [
    "sns.heatmap(confusion_matrix(y_pool, predictions),annot=True)"
   ]
  },
  {
   "cell_type": "code",
   "execution_count": 38,
   "metadata": {},
   "outputs": [
    {
     "data": {
      "text/plain": [
       "array([[ 0, 25],\n",
       "       [ 1, 94]], dtype=int64)"
      ]
     },
     "execution_count": 38,
     "metadata": {},
     "output_type": "execute_result"
    }
   ],
   "source": [
    "np.array(np.unique(y_pool, return_counts=True)).T"
   ]
  },
  {
   "cell_type": "markdown",
   "metadata": {},
   "source": [
    "#### SHAP explainer\n",
    "\n",
    "Refer https://christophm.github.io/interpretable-ml-book/shap.html\n",
    "\n",
    "The goal of SHAP is to explain the prediction of an instance x by computing the contribution of each feature to the prediction. The SHAP explanation method computes Shapley values from coalitional game theory. The feature values of a data instance act as players in a coalition. Shapley values tell us how to fairly distribute the “payout” (= the prediction) among the features\n",
    "\n",
    "We call the SHAP explainer for linear models\n",
    "shapely values produced have same dimensions as data passed"
   ]
  },
  {
   "cell_type": "code",
   "execution_count": 39,
   "metadata": {},
   "outputs": [
    {
     "name": "stderr",
     "output_type": "stream",
     "text": [
      "The option feature_dependence has been renamed to feature_perturbation!\n",
      "The option feature_perturbation=\"independent\" is has been renamed to feature_perturbation=\"interventional\"!\n",
      "The feature_perturbation option is now deprecated in favor of using the appropriate masker (maskers.Independent, or maskers.Impute)\n"
     ]
    }
   ],
   "source": [
    "explainer = shap.LinearExplainer(model, x_train,feature_dependence=\"independent\")\n",
    "shap_values_train = explainer.shap_values(x_train)\n",
    "shap_values_pool = explainer.shap_values(x_pool)"
   ]
  },
  {
   "cell_type": "code",
   "execution_count": 40,
   "metadata": {},
   "outputs": [],
   "source": [
    "# # Explain a single positive prediction\n",
    "# postive_index = 10\n",
    "# index = np.where(predictions==1)[0][postive_index]\n",
    "# print(\"text \", df_test[index], \" prediction: \", predictions[index], \"actual \", y_test[index])\n",
    "# shap.force_plot(explainer.expected_value, \n",
    "#                                shap_values_pool[index,:], \n",
    "#                                x_test[index,:], feature_names = tfid.get_feature_names(),\n",
    "#                matplotlib=True)"
   ]
  },
  {
   "cell_type": "code",
   "execution_count": 41,
   "metadata": {},
   "outputs": [
    {
     "data": {
      "image/png": "[encoded data removed]",
      "text/plain": [
       "<Figure size 576x684 with 2 Axes>"
      ]
     },
     "metadata": {
      "needs_background": "light"
     },
     "output_type": "display_data"
    }
   ],
   "source": [
    "shap.summary_plot(shap_values_pool, x_pool, feature_names=tfid.get_feature_names())"
   ]
  },
  {
   "cell_type": "code",
   "execution_count": 42,
   "metadata": {},
   "outputs": [
    {
     "data": {
      "text/plain": [
       "(119, 2665)"
      ]
     },
     "execution_count": 42,
     "metadata": {},
     "output_type": "execute_result"
    }
   ],
   "source": [
    "shap_values_pool.shape"
   ]
  },
  {
   "cell_type": "markdown",
   "metadata": {},
   "source": [
    "#### Clustering data\n",
    "We are going to cluster the training data \n",
    "    - using shapely values (shapely space)\n",
    "SHAP clustering works by clustering on Shapley values of each instance. \n",
    "This means that you cluster instances by explanation similarity"
   ]
  },
  {
   "cell_type": "code",
   "execution_count": 43,
   "metadata": {},
   "outputs": [],
   "source": [
    "from sklearn.manifold import TSNE\n",
    "tsne = TSNE(n_components=2, perplexity=20)\n",
    "principals = tsne.fit_transform(shap_values_pool)"
   ]
  },
  {
   "cell_type": "code",
   "execution_count": 44,
   "metadata": {},
   "outputs": [],
   "source": [
    "unequal = np.where(y_pool!=predictions)\n",
    "ones = np.where(predictions==1)\n",
    "false_positives = np.intersect1d(unequal, ones)"
   ]
  },
  {
   "cell_type": "code",
   "execution_count": 45,
   "metadata": {},
   "outputs": [],
   "source": [
    "n_clusters = 15"
   ]
  },
  {
   "cell_type": "code",
   "execution_count": 46,
   "metadata": {},
   "outputs": [
    {
     "name": "stderr",
     "output_type": "stream",
     "text": [
      "'n_jobs' was deprecated in version 0.23 and will be removed in 0.25.\n"
     ]
    },
    {
     "data": {
      "text/plain": [
       "KMeans(max_iter=600, n_clusters=15, n_jobs=-1)"
      ]
     },
     "execution_count": 46,
     "metadata": {},
     "output_type": "execute_result"
    }
   ],
   "source": [
    "kmeans = KMeans(n_clusters= n_clusters, n_jobs=-1, max_iter=600)\n",
    "kmeans.fit(shap_values_pool)"
   ]
  },
  {
   "cell_type": "markdown",
   "metadata": {},
   "source": [
    "We use cosine distance instead of euclidean distance to measure the similarity between the documents.\n",
    "As the size of the document increases, the number of common words (euclidean) tend to increase \n",
    "even if the documents talk about different topics. The cosine similarity helps overcome this fundamental flaw \n",
    "and finds the similarity irrespective of size.\n",
    "\n",
    "https://www.machinelearningplus.com/nlp/cosine-similarity/"
   ]
  },
  {
   "cell_type": "code",
   "execution_count": 47,
   "metadata": {},
   "outputs": [],
   "source": [
    "# Find similarity of each point in cluster to its centroid\n",
    "similarity_to_center = []\n",
    "for i, instance in enumerate(shap_values_pool):\n",
    "    cluster_label = kmeans.labels_[i] # cluster of this instance\n",
    "    centroid = kmeans.cluster_centers_[cluster_label] # cluster center of the cluster of that instance\n",
    "    similarity = 1-cosine(instance, centroid) # 1- cosine distance gives similarity\n",
    "    similarity_to_center.append(similarity)"
   ]
  },
  {
   "cell_type": "code",
   "execution_count": 48,
   "metadata": {},
   "outputs": [],
   "source": [
    "centroid_match = [None]*n_clusters\n",
    "centroid_indices =[None]*n_clusters\n",
    "for i, instance in enumerate(shap_values_pool):\n",
    "    cluster_label = kmeans.labels_[i]     \n",
    "    if centroid_match[cluster_label] is None or similarity_to_center[i] > centroid_match[cluster_label]:\n",
    "        centroid_indices[cluster_label] = i\n",
    "        centroid_match[cluster_label] = similarity_to_center[i]\n",
    "        "
   ]
  },
  {
   "cell_type": "code",
   "execution_count": 49,
   "metadata": {
    "scrolled": false
   },
   "outputs": [
    {
     "name": "stdout",
     "output_type": "stream",
     "text": [
      "0 [1 1 1 1 0 1 1 1 1 1 1 1 1 1 1 1 1 1 0 1 1 1 1 1 1 1]\n",
      "1 [0 0 1 0]\n",
      "2 [0 0]\n",
      "3 [0 0]\n",
      "4 [0 0 0]\n",
      "5 [1 1 1 0 0 0 1]\n",
      "6 [1 1 1 1 1 1 1]\n",
      "7 [1 1 0 0 1 1 0 0 1 1 1 0 1 1 0]\n",
      "8 [1 1 1 1]\n",
      "9 [1 1 1 1 1 1 1 1 1 1 1 1 1 1 1 1 1 1 1 1 1 1 0 1 1 1 1]\n",
      "10 [1 1]\n",
      "11 [1 1 1 1 1 1 1 1 1 1 0 1 1 1 1 1 1]\n",
      "12 [1]\n",
      "13 [0]\n",
      "14 [0]\n"
     ]
    },
    {
     "data": {
      "application/vnd.plotly.v1+json": {
       "config": {
        "plotlyServerURL": "https://plot.ly"
       },
       "data": [
        {
         "hovertext": [
          "\r\nWorked with Jason & June & it couldn’t have been an easier process. Completely happy with my experience & the process just depends how fast you respond to their requests. This was a refinance & it was completed & funded within under a month.\r\n        ",
          "\r\nSuch a pleasure working with Alex. Couldn't ask for a better lender. \r\n        ",
          "\r\nTom was a pleasure to work with and really took the time to answer all of our questions. He always answered his phone when we called and went above and beyond to make sure we had a good experience. I have since referred three friends to him who all had similar experiences. Tom is very knowledable and is the best in his industry. You’ll be hearing from us again, Tom! Thank you for everything.... Read More\r\n        ",
          "Working with Michelle and Wyndham went really well for me. As a first time homeowner and this being my first refinance, I feel that this process was smooth and successful. I will definitely recommend Michelle to friends and family.",
          "\r\nProbably this was a more challenging refinance. Alex Zelada worked very had on this!\r\nBut despite numerous assurances of getting close to the finish line, it took over 3 months , and the 45 day rate lock had to be extended.\r\nMost of the problem seemed to be with Quicken. Requests for documents was piecemeal, and each new request caused a delay; this most likely due to Quicken, and Q did put everything in a holding pattern, apparently without the brokers' knowledge. It was discovered only after my following up to see what the delay was .\r\nAlso there were a few instances of PB staff not fully reading thru correspondence and making assumptions that weren't entirely accurate and could have been significant to the borrower.\r\n\r\nIf doing it over I would go with a local broker with a comparable rate... Read More\r\n        ",
          "\r\nAaron was extremely help and very friendly. I kept his about everything and was always up front with everything. As a veteran myself, he made to go the extra mile for me and always was available to talk and answer questions. This was my first time buying a home and he made as painless as possible for me and my wife. I nothing but great things to about him and cannot thank him enough for helping us through this process... Read More\r\n        ",
          "\r\nWorking with Chris was an excellent experience, he is knowledgeable, and he follow up with me, in every step of the way.\r\nIt really make a big difference to work with a professional like him.\r\nThank you Chris for all the time and effort you put in our deal.\r\n \r\n        ",
          "\r\nFriendly, Knowledgeable, experienced in the industry. One of the best companies I've had to do business with, and would and will use again upon my next purchase of a home or refinance. Jim Moore and his team are on of the best here in Raleigh North Carolina, you can look forward to being on of the Guaranteed Rate Family. And Just smiling.\r\n        ",
          "\r\nI have purchased 4 properties in CA in the past 15 years, and this was by FAR the best experience I've had with a lender.  They were quick, fair, detail oriented and great communicators.  Please note, I am also in real estate, and I have had clients go thru terrible experiences with larger institutions recently.  Bryan B is REALLY on top of the process and is very knowledgeable.  Will be using them again for personal use, and also referring them to clients... Read More\r\n        ",
          "\r\nStephanie was amazing. We just bought our first house in Houston and we can’t be more thankful for all the patience and help she gave us. Working with her was a pleasure, she did more for us than our own realtor and I’ll never forget it. Thank you Stephanie you’re the best. We highly recommend her!\r\n        ",
          "\r\nWorked with Jason & June & it couldn’t have been an easier process. Completely happy with my experience & the process just depends how fast you respond to their requests. This was a refinance & it was completed & funded within under a month. June was very helpful & I’m an Accountant with lots of questions & she was very patient with me. I’d ask for different terms & loan amounts & she was quick to give me the updated rates. She definitely has amazing customer service skills & knowledge. I highly recommend... Read More\r\n        ",
          "\r\nI have purchased 4 properties in CA in the past 15 years, and this was by FAR the best experience I've had with a lender.  They were quick, fair, detail oriented and great communicators.  Please note, I am also in real estate, and I have had clients go thru terrible experiences with larger institutions recently.  Bryan B is REALLY on top of the process and is very knowledgeable.  Will be using them again for personal use, and also referring them to clients... Read More\r\n        ",
          "\r\nWorking with Chris was easy.  He listens to your needs, understands them and does his best to meet them.  He is open, upfront, honest, communicates quickly, thorough and delivers a high level of customer service.  His under writing and processing was the best and fastest I've ever seen.  If you want a great loan experience then do business with Chris, he won't let you down... Read More\r\n        ",
          "\r\nAccommodating, easy to work with, good products\r\n        ",
          "\r\nAdam Carrion was hands down the best! Always there to answer any questions or let us know next steps and status at anytime of the day or night. Process was very simple, I provided a few items and Adam and his team handled everything else. It was the best experience you can have while refinancing. I would definitely recommend and will do business again in the future! Fast, simple and painless. Thank you!... Read More\r\n        ",
          "\r\nWorked with Jason & June & it couldn’t have been an easier process. Completely happy with my experience & the process just depends how fast you respond to their requests. This was a refinance & it was completed & funded within under a month.\r\n        ",
          "\r\nI can't express how incredibly awesome our experience was with working with Bryant Small at NASB. As a military family, we have purchased or refinanced many homes and this was by far the BEST experience we have ever had. Bryant makes it easy and took the time to discuss the best options for us. I've never met Bryant, but you can't mistake authenticity and we knew instantly he and NASB were who we were going with.... Read More\r\n        ",
          "\r\nRobert was the best person to do our loan almost makes us wish we could do this again. No just kidding, but he was an amazing person who was concerned and wanted to do whatever he could to make our experience as painless as possible.  We would truely recommend him to friends and family.\r\nThanks again Robert\r\n        ",
          "\r\nUnfortunately we were dealing with an agent in the Santa Clara County area in CA and his name was Andrew. He left from another company called Alpine mortgage and moved to this company and thats where everything went bad. Responsiveness towards myself (The agent) and my clients has been slow and every aspect of the transaction has now been delayed. Asking for papers in the 19th hour has killed our chances of closing this on time. Unfortunately Andrew has done everything but help us out and be a strong customer service rep. I would not wish his services upon any other home buyer. Very disappointed on the entirety of this guys professionalism... Read More\r\n        ",
          "\r\nMy wife and I have purchased several homes over the years and have worked with a number of different mortgage companies. Our experience with Jeremy and Brent (Custer) has been, by far, the best we have ever experienced. If we are ever in the market again, we will definitely be back and will recommend NASB to anyone we know who is looking for a mortgage.\r\n        ",
          "\r\nI can't express how incredibly awesome our experience was with working with Bryant Small at NASB. As a military family, we have purchased or refinanced many homes and this was by far the BEST experience we have ever had. Bryant makes it easy and took the time to discuss the best options for us. I've never met Bryant, but you can't mistake authenticity and we knew instantly he and NASB were who we were going with.... Read More\r\n        ",
          "\r\nEthan our mortgage banker from DLJ Financial was absolutely a pleasure to work with. From start to finish he kept us updated and in the loop. The process of our HELOC was fast as well. Lisa the processor was very kind and attentive. From the first phone call I had with Ethan, he was very detailed and had nothing but my best interest in mine. Ethan has definitely earned my business for many years to come.... Read More\r\n        ",
          "\r\nReliance was a pleasure to work with on my refinancing. With all the documents provided, we went from the start to closing in just a few weeks (with me on vacation for 1 week in the middle). I would do business with them again. A special mention to Ritu, who was a delight and helped keep our processing moving quickly.\r\n        ",
          "Adam was great to work with during our refi! His attention to detail made this a smooth and easy transaction. It has been several years since we've gone thru the home loan process and we were unsure where to start. After talking with Adam, we were confident he was the one to help us with our refi. He was professional, helpful, very knowledgeable about the loan process and answered all of our questions in a timely manner. I would highly recommend Adam and would not hesitate to work with him agai",
          "\r\nthis man is amazing!!!   i said it all in the orginal review.  i would deal with him again and again\r\n\r\nthank you Bryan\r\n        ",
          "\r\nIt was a pleasure working with Alex Jocovic. I was unfortunate with having to go through two failed escrows due to the conditions of the houses that I was in contract with, but Alex was patient and helped me through all three of my escrows until I finally closed on a house. If you are looking for a loan officer that is responsive and personable go with Alex. He will follow up with you consistently and make sure that you close on time. Overall I had an excellent experience working with Alex and Pacific Beneficial Mortgage... Read More\r\n        "
         ],
         "marker": {
          "color": "hsl(0.0,80%,50%)",
          "size": 10
         },
         "mode": "markers",
         "name": "cluster 0",
         "type": "scatter",
         "x": [
          -34.70713424682617,
          -41.699485778808594,
          1.442409634590149,
          -7.064934253692627,
          12.95805835723877,
          -13.678126335144043,
          -44.69569778442383,
          -22.615161895751953,
          11.140155792236328,
          -5.91918420791626,
          16.353673934936523,
          9.733312606811523,
          -20.719219207763672,
          -44.77800750732422,
          -19.529611587524414,
          36.04791259765625,
          -14.67012882232666,
          -28.152189254760742,
          -8.5055570602417,
          -12.304028511047363,
          -12.820456504821777,
          -4.107612133026123,
          -32.6585807800293,
          28.899532318115234,
          -57.86030197143555,
          -44.08990478515625
         ],
         "y": [
          -40.761444091796875,
          -25.587453842163086,
          -13.602805137634277,
          -39.35077667236328,
          -28.70183563232422,
          -43.69816589355469,
          -7.6999030113220215,
          -10.308391571044922,
          9.182273864746094,
          -20.361713409423828,
          40.23784637451172,
          5.510076999664307,
          -19.346155166625977,
          22.541357040405273,
          -5.203559875488281,
          42.4995002746582,
          -15.583648681640625,
          -19.189849853515625,
          -56.35258102416992,
          -9.334166526794434,
          -19.02621841430664,
          -12.107683181762695,
          -9.902597427368164,
          -8.16558837890625,
          -26.724868774414062,
          -17.242149353027344
         ]
        },
        {
         "marker": {
          "color": "hsl(0.0,80%,50%)",
          "line": {
           "color": "black",
           "width": 5
          },
          "size": 15
         },
         "mode": "markers",
         "name": "centroid cluster 0",
         "type": "scatter",
         "x": [
          -14.67012882232666
         ],
         "y": [
          -15.583648681640625
         ]
        },
        {
         "hovertext": [
          "They were not upfront. Learn from my mistake... I trusted the loan officer that my zero point rate is an option before closing the loan because he convinced me to initially sign the Good Faith Estimate with higher rate plus lender's credit. After running my numbers, the lower interest is favorable for me and asking for it now, I'm being charge points. It looks like they are only good in their words at the beginning so please be careful dealing with this lender",
          "\r\nI was \"pre-approved\" by Guaranteed Rate after they had all of my information, including an extensive application and full access to my credit information. Of course, I stopped dealing with other lenders who had made offers. I then entered into a months-long process of responding to multiple requests for documentation; everything had been clearly spelled out in my application, but they needed corroboration. Whenever I sent something, they would call a few days later and say that \"Underwriting\" required something else; and that it was all on account of the new govt. regulations. (And note that I was looking to consolidate the 1st and 2d mortgages on my home, and that the total I was asking for was less than 25% of my home's value.)\r\n\r\nFinally, I received a call from my loan contact saying that my credit card balance was too high, and they couldn't give me a loan unless I paid it off first. This was information they had had all along, before they \"pre-approved\" me. In fact, my primary reason for re-financing was to get my monthly mortgage payments lower and to pay off that credit card balance. I basically said that their response was not acceptable; and we eventually got it done. However, I would never recommend them.\r\n\r\nThe only thing I would give them high points for is responsiveness. At least until I agreed to go with them, they got back to me quicker than anyone. I didn't go with 2 other lenders who were offering similar rates because they weren't getting back to me as fast as Gauranteed Rate. Once I went with them, however, the process dragged on for months; and they almost weren't going to give me the loan. Buyers Beware... Read More\r\n        ",
          "\r\nOur experience with Tom exceeded expectations, he was always available to answer my questions via email, phone and text. Tom and his team (Ken) were true professionals, they delivered on everything they said they would. Couldn't be happier with the home buying process because of them. Thankful that we choose Garanteed Rate through Lending Tree. Thank you Tom!!!\r\n        ",
          "\r\nThe experience with Reliance was extremely frustrating and aggravating. First the loan \"mgr\" asked for the usual pile of paper, including the 4506T to prove I paid my taxes. Fine, but then they wanted copies of my tax returns so they could compare. Since when are they tax auditors? Unable to find the copy for 2011, I had the IRS send us the transcript of it, and sent it via PO, and electronically. But then it was held up for 3 weeks because the transcript was mailed by us, and not the IRS. Now we are getting ridiculous. So we had the IRS fax it to them directly, AND STILL they had a problem with it's \"authenticity\". They received everything we had, with no discrepancies, yet the loan mgr suggested we go ahead and \"dummy up\" a copy, as long as it would match exactly. We said no, the two separate transcripts were accurate, and they could use those, or we would walk. Amazing that a week later they finally approved it. This guy had emailed and called every day, sometimes as many as 4 times, even during our Christmas trip to Dallas, only to sit and wait, and wonder what the black hole was doing. And to make it more annoying, he had a demeaning way of speaking, saying \"Does that make sense?\", after every statement, as if I couldn't understand basic English. One of those things people say when they want people to feel inferior. They requested the 4506T 4 more times, so we sent them at least 8 to make sure. So that didn't \"make sense\", nor did their inability to accept the IRS transcripts sent from the IRS, nor the harassment for other tax copies while we were visiting my sons in Dallas over Christmas. I certainly would not want my friends to feel my frustration... Read More\r\n        "
         ],
         "marker": {
          "color": "hsl(18.214285714285715,80%,50%)",
          "size": 10
         },
         "mode": "markers",
         "name": "cluster 1",
         "type": "scatter",
         "x": [
          45.05047607421875,
          46.776100158691406,
          38.00257873535156,
          45.67411422729492
         ],
         "y": [
          -7.865588188171387,
          5.126077175140381,
          8.589212417602539,
          -0.7353047132492065
         ]
        },
        {
         "marker": {
          "color": "hsl(18.214285714285715,80%,50%)",
          "line": {
           "color": "black",
           "width": 5
          },
          "size": 15
         },
         "mode": "markers",
         "name": "centroid cluster 1",
         "type": "scatter",
         "x": [
          46.776100158691406
         ],
         "y": [
          5.126077175140381
         ]
        },
        {
         "hovertext": [
          "Started refinance with Nick things were going OK then there was a problem with a credit card fro 5 years earlier, which must of made the loan not possible. This I would of understood, But I never heard from them again? called Nick several times no response? I even called his supervisor no response? E-Mailed them no response? IS THIS THE COMPANY YOU WANT TO DUE BUSNESS...",
          "Started refinance with Nick things were going OK then there was a problem with a credit card fro 5 years earlier, which must of made the loan not possible. This I would of understood, But I never heard from them again? called Nick several times no response? I even called his supervisor no response? E-Mailed them no response? IS THIS THE COMPANY YOU WANT TO DUE BUSNESS..."
         ],
         "marker": {
          "color": "hsl(36.42857142857143,80%,50%)",
          "size": 10
         },
         "mode": "markers",
         "name": "cluster 2",
         "type": "scatter",
         "x": [
          -27.691669464111328,
          -30.74397850036621
         ],
         "y": [
          -67.38020324707031,
          -64.80755615234375
         ]
        },
        {
         "marker": {
          "color": "hsl(36.42857142857143,80%,50%)",
          "line": {
           "color": "black",
           "width": 5
          },
          "size": 15
         },
         "mode": "markers",
         "name": "centroid cluster 2",
         "type": "scatter",
         "x": [
          -27.691669464111328
         ],
         "y": [
          -67.38020324707031
         ]
        },
        {
         "hovertext": [
          "\r\nGood News:\r\n\r\nThe $995 processing fee was waived.\r\nThe rate was locked for 35 days but they closed in 9 weeks, I did not have to pay for an extension.\r\nThey have also floated my rate down 1/8 percent without any fees.\r\nUntil the closing I did not pay anything other than a credit history check fee.\r\n\r\nNot so good news:\r\n\r\nThis was a very long and frustrating experience.\r\nI do believe that the process took longer than expected mostly because of the busy refinance season.\r\nI might be a difficult customer or may be just unlucky but there was always a problem with every stage and detail of my refinance experience.\r\nI am trying not to blame the \"loan consultant\" (BYRON HOUSWORTH) for this.\r\n\r\nWhenever I asked about any time line, the answer was fixed \"in a week or so\". I had to wait for 9 (nine) weeks to close.\r\n\r\nIt was my luck that his vacation week was in the middle of my process.\r\n\r\nIf NASB needs a document they will wait until the last minute and then come back \"oh we need this document or else we can't continue\"\r\nWhen you have that one taken care of, they will wait \"a week or so\" to get back to you and next week you will hear \"it turns out we also need this document\"\r\nThis went on and on, the day before the closing they would email me and say \"we just noticed that we didn't have your employment verification done\", hours before closing,\r\n\"oh we just found out that we don't have your home insurance verification and we can't reach them\"\r\nI called the insurance company and in ten minutes it was taken care of.\r\n\r\nI don't know how many times I had to hear \"this should be OK\" and turns out it is not OK.\r\n\r\nMany many times they assured me they have all the information they need - but this was never the case.\r\n\r\nThey were not very careful, they missed out all the details, they wasted weeks and weeks because they were not able to go through a check list and see if they have taken care of everything.\r\n\r\nThey always say \"we are too busy with a lot of applications\". I believe they shouln't accept applications that they can't process.\r\n\r\nSample communication:\r\n\r\nme: Why am I being charged for such and such?\r\nrespond: We are not charging you for that.\r\nme: Please check the final HUD line XX\r\nrespond: Sorry I didn't go down that far.\r\nme: ???\r\n\r\nSome of my favorite quotes from them:\r\n\"Sorry! Don't come across this too often. \"\r\n\"Wasn't aware of that...\"\r\n\"This should work.\"\r\n\"Can you possibly call them again? We need it ASAP.\"\r\n\"Thank you for your patience.\"\r\n\"TGIF!\" --(I had to hear this 8-9 times)\r\n\r\nThey are not bad people, but you need a lot of patience dealing with them.\r\n\r\nDo I suggest working with them?\r\nOnly if you are not under any time pressure.\r\nOnly if you can work hard for your own application.\r\nOnly if you have a lot of patience.\r\n\r\nOverall, I feel like NASB is an OK bank to work with. But I don't think I could handle this hassle again... Read More\r\n        ",
          "\r\nI thought they seemed very nice at first. played phone tag then got a letter in the mail stateing that I was not interested so they would not do anything more on my file. I left messages andd emailed that that was incorrect. Have not heard from them since. Maybe they should have said they were not interested. Im in dier straights and need help.\r\n        "
         ],
         "marker": {
          "color": "hsl(54.642857142857146,80%,50%)",
          "size": 10
         },
         "mode": "markers",
         "name": "cluster 3",
         "type": "scatter",
         "x": [
          57.05704879760742,
          61.51570510864258
         ],
         "y": [
          -2.8505091667175293,
          -6.035499095916748
         ]
        },
        {
         "marker": {
          "color": "hsl(54.642857142857146,80%,50%)",
          "line": {
           "color": "black",
           "width": 5
          },
          "size": 15
         },
         "mode": "markers",
         "name": "centroid cluster 3",
         "type": "scatter",
         "x": [
          61.51570510864258
         ],
         "y": [
          -6.035499095916748
         ]
        },
        {
         "hovertext": [
          "\r\nMiserable experience. They screwed up everything imaginable and never accepted responsibility for any of their errors. I wouldnt recommend them for the purchase of a doghouse much less purchasing a new home. \r\n        ",
          "Miserable experience. They screwed up everything imaginable and never accepted responsibility for any of their errors. I wouldnt recommend them for the purchase of a doghouse much less purchasing a new home.",
          "\r\nMiserable experience. They screwed up everything imaginable and never accepted responsibility for any of their errors. I wouldnt recommend them for the purchase of a doghouse much less purchasing a new home. \r\n        "
         ],
         "marker": {
          "color": "hsl(72.85714285714286,80%,50%)",
          "size": 10
         },
         "mode": "markers",
         "name": "cluster 4",
         "type": "scatter",
         "x": [
          46.26580047607422,
          41.22836685180664,
          44.970489501953125
         ],
         "y": [
          -80.25393676757812,
          -78.86060333251953,
          -75.204345703125
         ]
        },
        {
         "marker": {
          "color": "hsl(72.85714285714286,80%,50%)",
          "line": {
           "color": "black",
           "width": 5
          },
          "size": 15
         },
         "mode": "markers",
         "name": "centroid cluster 4",
         "type": "scatter",
         "x": [
          46.26580047607422
         ],
         "y": [
          -80.25393676757812
         ]
        },
        {
         "hovertext": [
          "\r\nAs a first time home buyer the process can be very daunting. Brandon was a great guide through the entire process. I feel that he did his absolute best to provide me with a fair rate. He was very responsive and helpful with any and all questions. I can assure you I will use him for my next home purchase.\r\n        ",
          "\r\nOur last home purchase was a stressful and challenging process to say the least.  One so difficult that we were reluctant to embark on the process again since that was the only experience we have known.  Expressing the dread of the journey to our realtor, he recommended for us to use Guaranteed Rate and to trust him on this recommendation. We are so happy that we did because we were absolutely blown away with Guaranteed Rate!  This time around was such a breeze because of Rick Richter and his wonderful team! They broke down the process beautifully, eliminated any guesswork, and were always available for any questions or clarification.  I guarantee that you will have a phenomenal experience with Guaranteed Rate... Read More\r\n        ",
          "\r\nIt is simple really. Doing a re-fi is a lot of work, and can be stressful. What you look for in a company is one that is going to handle all that for you, and work to your best interest, as well as present ideas to you that you may not have known were options. Once your strategy is underway, you want communication, updates and overall insight as to how the process is going, and those three things should happen easily and in a non-invasive way. DLJ checks off every box mentioned above. I would highly recommend them to anyone that wants to do a re-fi correctly and with minimal stress... Read More\r\n        ",
          "\r\nI never write reviews but had to this time to prevent anyone from making the same mistake as I. That mistake was using North American Savings Bank over other lenders. I started my refinance with this company with the assurance that it would be a standard refinance without any problems and would be completed in a minimal amount of time. Communication with the company was below average after I confirmed that I would be pursuing a loan with them. I had the impression that the loan officer was more interested in attracting more business than helping me. The company uses a convoluted email system that sometimes worked but mostly didn't. This led to frequent emails and phone calls asking for documents to be resent. After having an assessment done on my house and paying for it the communication all but stopped. When I was able to reach the loan officer I was told that I would personally have to find additional comps in my area. I was more than a little annoyed as this is what I was going to be paying them for, however I complied. After contacting area realtors and securing what I believe were suitable comps I forwarded them to the officer. A week went by before my phone calls and emails were answered. At that time I was told that my comps weren't sufficient and as a result they couldn't ensure that my residence was worth anything despite the assessment's findings. As a result they would not be issuing me a loan. By the time they decided to do me the honor of informing me of this the rates had risen by a half point. I should warn that the loan officer had a way of recording voicemail messages and forwarding them to my voicemail account without calling me. He did this when he had bad news and i feel like it was an effort to avoid conversing with me. I'm now stuck with a $450 assessment that other banks are telling me that I can't use. In other words I will have to pay for a new assessment. I'm also out the money for credit reports and of course I'll be paying a higher interest rate on any new loan I secure. I was told by the loan officer that there was no recourse to recoup the money I had spent. I expect to be paying for my mistake for years. I should point out that I refinanced my loan one year ago without any issues. I strongly urge anyone looking to refinance or obtain a new loan to bypass North American Savings Bank no matter what they promise. Save yourself time, money and a lot of aggravation... Read More\r\n        ",
          "I never write reviews but had to this time to prevent anyone from making the same mistake as I. That mistake was using North American Savings Bank over other lenders. I started my refinance with this company with the assurance that it would be a standard refinance without any problems and would be completed in a minimal amount of time. Communication with the company w... ",
          "\r\nPositive: Completed mortgage refinance reducing my APR from 5.25% to 3.5%\r\n\r\nHowever: The 3.5% rate was available at several competitors, several of whom offered lower fees. I was also refinancing to reinstate my VA Certificate of Eligibility toward purchase of a home. Since the rate was available elsewhere, I hired GR based on the broker's claim that the transaction could be completed within 4-5 weeks or less. I formally began the process with Guaranteed Rate on July 2. Based on broker feedback that the transaction was in underwriting on July 23rd, we planned the closing date on our new home purchase for 1 month later and I alerted VA. This refinance didn't close with GR until a full month later (Aug 23) and the loan was funded on Aug 27. I came within 2 days of missing a rate-lock date on the other new-home purchase mortgage because of this.\r\n\r\nCommunications from the broker was horrible. As I mentioned, in parallel with this effort, I was going through the process of obtaining a home purchase mortgage from another company, so I have a great basis of comparison. I received no information from Guaranteed Rate without having to ask for it. When I did receive information, it was minimal (typically \"yes\" or \"no\" answer), so I had to follow-up with additional questions to get clarification on details (I don't do this for a living, that's why I hired GR! I definitely did NOT receive my money's worth).\r\n\r\nIf I'm to believe the broker, my loan package spent 4 1/2 weeks in underwriting. BTW, my credit scores are all above 770, so there was no issue there. When asked, the broker never offered any rationale for the delay.\r\n\r\nWhen asked by GR, I sent this same review two weeks ago. Surprise - I haven't heard a word back from them apologizing for their complete lack of customer service.\r\n\r\nTrust me, you can do better than these guys... Read More\r\n        ",
          "\r\nIt was a great experience working with Stephanie and her team.  The loan process went so smoothly that we were able to close 4 days earlier than expected. My realtor had not worked with Triumph before but she made the comment at close that the process went so smoothly because of the great lender and title company that we used.  I would definitely reach out to Triumph for any of my future lending needs... Read More\r\n        "
         ],
         "marker": {
          "color": "hsl(91.07142857142858,80%,50%)",
          "size": 10
         },
         "mode": "markers",
         "name": "cluster 5",
         "type": "scatter",
         "x": [
          -16.6257381439209,
          2.027275562286377,
          16.564002990722656,
          5.794680118560791,
          3.03031587600708,
          6.288711071014404,
          16.169734954833984
         ],
         "y": [
          -32.06514358520508,
          -36.58503723144531,
          -40.525291442871094,
          -44.826045989990234,
          -49.330352783203125,
          -28.14397621154785,
          -49.60397720336914
         ]
        },
        {
         "marker": {
          "color": "hsl(91.07142857142858,80%,50%)",
          "line": {
           "color": "black",
           "width": 5
          },
          "size": 15
         },
         "mode": "markers",
         "name": "centroid cluster 5",
         "type": "scatter",
         "x": [
          5.794680118560791
         ],
         "y": [
          -44.826045989990234
         ]
        },
        {
         "hovertext": [
          "\r\nJoey was very helpful. We appreciated his friendly manner and his timely responses.\r\n        ",
          "\r\nMark and his team were very helpful and provided a great experience, fast closing and competitive rates.\r\n        ",
          "\r\nRob was very helpful in getting this loan closed. Few issues on our end we didn't know about but he was still able to get it done on time.\r\n        ",
          "\r\nThey completed everything on time to get us through a quick closing. So helpful!\r\n        ",
          "\r\nThey were quick, professional, friendly, and cost effective.\r\n        ",
          "\r\nOur loan officer, Joey Hartegan, was friendly and very helpful. My wife and I were very pleased that we chose NASB to refinance our home.\r\n        ",
          "\r\nBob did amazing job . If I can give more than 5 stars I would . Process went so smooth and stress free . Definitely will respond super fast and super helpful. 100 % satisfaction \r\n        "
         ],
         "marker": {
          "color": "hsl(109.28571428571429,80%,50%)",
          "size": 10
         },
         "mode": "markers",
         "name": "cluster 6",
         "type": "scatter",
         "x": [
          -20.53526496887207,
          -29.808393478393555,
          -21.10869789123535,
          40.74106216430664,
          38.7724609375,
          -26.048078536987305,
          -19.67003059387207
         ],
         "y": [
          15.815740585327148,
          23.01988410949707,
          56.881553649902344,
          24.092496871948242,
          17.100330352783203,
          14.891321182250977,
          22.75737762451172
         ]
        },
        {
         "marker": {
          "color": "hsl(109.28571428571429,80%,50%)",
          "line": {
           "color": "black",
           "width": 5
          },
          "size": 15
         },
         "mode": "markers",
         "name": "centroid cluster 6",
         "type": "scatter",
         "x": [
          -20.53526496887207
         ],
         "y": [
          15.815740585327148
         ]
        },
        {
         "hovertext": [
          "\r\nShe, in every way, is a wonderful person, business woman and 100% considerate of your goals and helping you achieve them.  She went about and beyond in helping me make good decisions as well as educate me on options.  I could not have been more happy to connect with her during this process and will definitely use her again in the future if needed. \r\n        ",
          "\r\nI worked with a person name Andrew Leehy.  He is a very hard working, honest person with the customers interest not the commission at heart.\r\n        ",
          "\r\nWhat a horrible experience. We have excellent credit, plenty of income, etc. NASB rep made tons of promises to get us to sign up, but then just a few weeks before the closing, she just disappeared, and failed to give us a lock or firm closing date! Thankfully, we sensed the problems and immediately contacted a local lender that got us the loan on better terms with lower rates in only 3 weeks. NASB rep constantly complained about being too busy and having too many matters to work on; this became very apparent towards the end. Not sure to this day why she didn't want our business other than they apparently cannot follow through for some reason or another. I'm sure there are good lenders here, but this is not one of them... Read More\r\n        ",
          "\r\nI was contacted via email by Jody Martin twice. I answered her questions then never heard from her again. That's not what I call good customer service. If they were unable to approve me for a mortgage that's fine, but at least let me know.\r\n        ",
          "\r\nThanks to Reliance Capital for helping us get through what we thought would be a difficult if not impossible refinance.  We've had some credit issues in the past but lately we've been working hard on improving our scores.  We are happy that Reliance Capital was able to work with us and help guide us throughout the process despite our less than stellar financial situation.  Thanks especially to Patrick G for his excellent customer service and reassurance each step of the way... Read More\r\n        ",
          "\r\nI can't begin to express my happiness with working with Aaron, not only is he professional and knowledgeable but he literally ended up saving me thousands of dollars on my loan! I thought I had good rate until I spoke with him and we were able to lower it almost a full 1% which saved us hundreds of dollars per month and then he was able to get everything approved/closed on a very tight timeline of less than 4 weeks! I highly recommend him... Read More\r\n        ",
          "\r\nThey increased my rate, quoted me different closing costs 5 different times, took 2 months to get to closing, and needed information that should not have mattered in the least.\r\n        ",
          "\r\nThe Interest rate offered and time to close being short sold us on the loan so we pursued it despite -\r\n1. the fact that a credit check and underwriting was made when per VA rules for an IRRRL these were not necessary and we were assured by Mr. Owens when first discussing the refinancing they would not be made. \r\n2. the constant errors in the paperwork. One huge error was the Loan Estimate had rolled in initial escrow funding into the loan amount when we expressly communicated at the beginning that we did not want to finance it but pay for it at closing from available funds. Another was not classifying the currently owed property taxes as a prepaid for immediate disbursement to the county but trying to collect it at closing rolling it into the initial escrow account to be paid in December just a month later during the time NASB intended to sell the mortgage. Thankfully this was corrected by the Closing Agent.\r\n3. Mr. Owens not being straight with us about NASB's intent to sell the mortgage after closing. His statements of first saying NASB would not consider a sale and intended to keep the mortgage on its books then after the statement it would be sold appeared in the Loan Estimate saying a sale was not definite but only there \"just in case it had to be sold sometime in the future.\" Since today, just 5 days after disbursement, I find out that our mortgage is on the books for immediate sale shows Mr. Owens likely knew of a definite sale and tried to mislead us by saying it wasn't definite. \r\n4. taking 4 calendar days to address errors and issues in the initial Closing Document which prevented us from knowing the amount we were financing and the amount we needed to pay at closing which was supposed to be made through a certified check until 15 minutes prior to arrival at the Closing Agent's place of business.\r\nPros allow for the Neutral instead of bad rating because the \"despites\" show that the customer support during this loan process was extremely poor and unacceptable.\r\n... Read More\r\n        ",
          "\r\nFantastic communicator, and able to offer options you may not have considered. Thinks about the big picture and how to best achieve your long-term goals.\r\n        ",
          "\r\nIt was fast easy and did not have to leave the comforts of our home... Steven Shatz was so friendly and helped us at every turn... I would recommended to everyone that needs financing to go through this company.. \r\n        ",
          "\r\nMary Connolly and her staff as well as upper management were nothing but helpful during the entire process.  Mary is a special lady, she took her time with me, understood my goals and helped me achieve them.  She never made me feel uncomfortable or nervous about our situation and was always available to help when I needed her.  If she did not have the answer she found it for me. These are wonderful people to work with... Read More\r\n        ",
          "\r\n Lisa Podorson has set my closing date three different dates, which she has reneged on since August 2017. Ms. Podorson has continued to asked for documents at the last minuet. She does not return text or phone calls for an entire week. She did not return my calls until I decided to cancel the refinancing and Contact the BBB.  She has been very unprofessional during this process. This experience was very unpleasant... Read More\r\n        ",
          "\r\nChris is not a hard sell guy. He earns your business by giving you a great deal and working hard for you. Chris was always responsive and, most of the time, reached out to me before I even contacted him. His follow-up is great as well. I highly recommend him. If you do your part and provide the required information to obtain your loan, this man breaks speed records getting it done. Two thumbs up... Read More\r\n        ",
          "\r\nWords cannot express my gratitude for John Spellman.  He was absolutely amazing from day one.  He treated me as if I was his only client, although I know I wasn't.  I am sure he did not get paid what he deserved in working with me.  I cannot say enough about him and I think Reliance is extremely lucky to have him!  His patience, understanding, amazing service, and knowledge exceeded my expectations beyond measure!  My approval and closing went so quickly that my head was almost spinning... Read More\r\n        ",
          "\r\nAt the end of the 35 day period, we were about to sign our contract for our new mortgage. IT was $2500 more than what was disclosed to us. We were not able to close and guaranteed rate NEVER told us about the extra cost. I talked with several supervisors, to which, nothing was dealt with appropriately for Service Recover, Customer satisfaction or complaint/grievance resolution. I called QUICKEN LOANS and they were able to help me quickly and were professional. I would not recommend Guaranteed Rate.... Read More\r\n        "
         ],
         "marker": {
          "color": "hsl(127.5,80%,50%)",
          "size": 10
         },
         "mode": "markers",
         "name": "cluster 7",
         "type": "scatter",
         "x": [
          31.054285049438477,
          50.82726287841797,
          20.360301971435547,
          33.22315979003906,
          21.739025115966797,
          48.20919418334961,
          59.199886322021484,
          49.8724479675293,
          36.24063491821289,
          23.148189544677734,
          33.014488220214844,
          41.32825469970703,
          31.862850189208984,
          43.03654479980469,
          48.80794143676758
         ],
         "y": [
          -24.428997039794922,
          -31.55917739868164,
          -28.337766647338867,
          -40.68324279785156,
          -19.041902542114258,
          -42.83658218383789,
          -22.734285354614258,
          -16.048282623291016,
          -19.445430755615234,
          -38.12833786010742,
          -28.535371780395508,
          -24.115299224853516,
          -54.97751235961914,
          -42.44888687133789,
          -23.220001220703125
         ]
        },
        {
         "marker": {
          "color": "hsl(127.5,80%,50%)",
          "line": {
           "color": "black",
           "width": 5
          },
          "size": 15
         },
         "mode": "markers",
         "name": "centroid cluster 7",
         "type": "scatter",
         "x": [
          48.80794143676758
         ],
         "y": [
          -23.220001220703125
         ]
        },
        {
         "hovertext": [
          "\r\nA great lender to work with!\r\n        ",
          "\r\nExcellent customer service - had a great experience working with lender Marcos Maya & team!\r\n        ",
          "\r\nMike's knowledge and enthusiasm are evident in everything he does. I've never worked with anyone who responds to emails faster. Great communication and great service.\r\n        ",
          "\r\nGreat service and easy\r\n        "
         ],
         "marker": {
          "color": "hsl(145.71428571428572,80%,50%)",
          "size": 10
         },
         "mode": "markers",
         "name": "cluster 8",
         "type": "scatter",
         "x": [
          -54.13290023803711,
          -49.37553024291992,
          -38.183807373046875,
          -42.41319274902344
         ],
         "y": [
          19.422090530395508,
          8.076353073120117,
          34.884429931640625,
          42.831756591796875
         ]
        },
        {
         "marker": {
          "color": "hsl(145.71428571428572,80%,50%)",
          "line": {
           "color": "black",
           "width": 5
          },
          "size": 15
         },
         "mode": "markers",
         "name": "centroid cluster 8",
         "type": "scatter",
         "x": [
          -54.13290023803711
         ],
         "y": [
          19.422090530395508
         ]
        },
        {
         "hovertext": [
          "\r\nIncredibly responsive and completed the process with LITTLE effort.\r\n        ",
          "\r\nStephanie Drewry took such wonderful care of us, while we were purchasing a home in another state!  I felt as though we were the only customers, because we received such personal, timely care.\r\n        ",
          "\r\nI would like to thank Brent for working with us. He kept encouraging us when we felt we would get turned down because of a previous lender. Brent and his team did everything possible to meet our deadline. Thanks to him,  we are now happy home owners. \r\n        ",
          "\r\nVanessa was, in a word, fantastic.\r\n\r\nShe was there for me every step of the way, with a perfect balance of professionalism and enthusiasm.\r\n\r\nShe was always very quick to respond to respond to my questions and, even more importantly, her answers were always right.\r\n\r\nI did check with a few other mortgage companies and their representatives couldn't hold a candle to her... Read More\r\n        ",
          "\r\nVery professional yet personable.  Quick to help with any questions or obstacles to the funding process.  I highly recommend Peter Lammerts and his team.\r\n        ",
          "\r\nvery professional, kept us up-to-date with the progress of our loan, very accommodating\r\n\r\n        ",
          "\r\nOur contact Maurice was professional and courteous in all of our discussions. He explained the details and worked to meet our timelines. He was excellent.\r\n        ",
          "\r\nTeddy Ferrell and Binh Lai were excellent team members. Teddy explained everything from beginning to end and was very honest and up front with all that was required for my transactions to take place. He answered all of my calls and emails in a very timely manner. Very professional with excellent communication\r\n        ",
          "\r\nTriumph's customer service was great.  Stephanie worked very hard to ensure we closed on time and to address/resolve issues that arose prior to closing.  I suggest you use them and specifically request Stephanie Drewry.\r\n        ",
          "\r\nEasy, going the extra mile and overcoming obstacles.  Truthful, honest and dependable.  Very professional and friendly.\r\n        ",
          "\r\nGood guy to work with.  Very responsive.  No surprises.\r\n        ",
          "Great website, knowledgeable, responsive and always got back to us quickly with answers to our questions. Mortgage process can be very tedious and they made it easy.",
          "\r\nExcellent service . RC stayed on top of everythign to make sure we closed on target .. i would recommend to anyone looking for a home loan .\r\n        ",
          "\r\nVery professional yet personable.  Quick to help with any questions or obstacles to the funding process.  I highly recommend Peter Lammerts and his team.\r\n        ",
          "\r\nEverything worked great, a very smooth process. We are very pleased. Alex did an incredible job for us. Thank you!,\r\n        ",
          "\r\nJason Bean and June Lee were honest and very responsive. \r\n        ",
          "\r\nVery informative, and responsive\r\n        ",
          "\r\nTriumph's customer service was great.  Stephanie worked very hard to ensure we closed on time and to address/resolve issues that arose prior to closing.  I suggest you use them and specifically request Stephanie Drewry.\r\n        ",
          "\r\nAs a first time homebuyer I was walking blindly, Bryant became my guide! I recall telling him \"I don't speak mortgage\" and that was no problem at all. Bryant was kind, understanding, and genuinely cared throughout the entire process from my online application to the day we became homeowners. He was very prompt and always gave clear explanations of what was happening, next steps, and what path would be in my best interest. Even when there were bumps in the road he was there to smooth them out. I would recommend Bryant to anyone seeking financial wisdom in their buying/refinancing process... Read More\r\n        ",
          "\r\nLee's team of Ethan and Angelica did a fantastic job making my loan happen.  I had complications and they figured out a way to complete the loan.  Very happy.\r\n\r\nJim.\r\n        ",
          "\r\nexcellent service. always called and emailed to give status of our loan. very accommodating.\r\n        ",
          "\r\nI am pretty sure they set a world record in getting my paperwork done PROPERLY and without hassle. I'd recommend doing business with them hands down.\r\n        ",
          "\r\nCalled me after 60 seconds of submitting my Lending tree form. Asked if they could run some numbers by me, which I later found out was pulling my credit score without my permission. Didnt ask any specifics, just emailed a preapproval letter with a horrible rate.\r\n        ",
          "\r\nGuaranteed Rate provided us a seamless loan experience from beginning to end, with wonderful service from all the staff.  We shopped many lenders, but found Guaranteed Rate offered the most candid feedback, honest rates, and reasonable fees.  Thank you.\r\n        ",
          "\r\nI met Mr. Germain through my daughter and son in law who have known him and have done business with him for several years. Mr. Germain also helped my granddaughter buy her first home.  We moved from our home in another state that we lived in for 59 years.  Thinking this would be a very frightening and intimidating process I was dreading the whole thing.  Mr. Germain made the transition to a new home so much easier because of his knowledge and compassion.  I would recommend Mr. Germain to anyone out there who wants a less stressful and very positive experience. ... Read More\r\n        ",
          "Great web interface for both the loan application and document upload and download features. Quick responses to any questions or concerns. Willingness to communicate almost exclusively via email...as phone calls weren't always an option for us.",
          "\r\nStephanie was awesome!!! Worked very hard for us to make sure the loan closed.\r\n        "
         ],
         "marker": {
          "color": "hsl(163.92857142857144,80%,50%)",
          "size": 10
         },
         "mode": "markers",
         "name": "cluster 9",
         "type": "scatter",
         "x": [
          -3.697206735610962,
          -13.385478019714355,
          -58.812522888183594,
          -2.944943428039551,
          0.1978943645954132,
          2.880486488342285,
          -36.76827621459961,
          -42.73395919799805,
          -29.96004867553711,
          -16.439481735229492,
          -52.97483444213867,
          10.84654426574707,
          -32.42405319213867,
          -2.838716506958008,
          -30.55640983581543,
          -11.43015193939209,
          -10.921874046325684,
          -26.467994689941406,
          -5.211251735687256,
          20.590221405029297,
          -38.63146209716797,
          28.25166130065918,
          28.644126892089844,
          12.699394226074219,
          -9.027642250061035,
          -21.881637573242188,
          -24.009157180786133
         ],
         "y": [
          14.063802719116211,
          4.534828186035156,
          -4.96578311920166,
          5.135555744171143,
          21.47393035888672,
          31.53365707397461,
          0.6203819513320923,
          1.4306812286376953,
          34.76655960083008,
          11.798791885375977,
          30.68053436279297,
          17.456514358520508,
          7.589415550231934,
          24.076875686645508,
          43.738800048828125,
          12.595786094665527,
          18.622833251953125,
          32.822181701660156,
          -3.833852767944336,
          18.498638153076172,
          10.87028694152832,
          9.36880111694336,
          15.32511043548584,
          -9.400158882141113,
          -0.9248175024986267,
          4.700721740722656,
          39.95233154296875
         ]
        },
        {
         "marker": {
          "color": "hsl(163.92857142857144,80%,50%)",
          "line": {
           "color": "black",
           "width": 5
          },
          "size": 15
         },
         "mode": "markers",
         "name": "centroid cluster 9",
         "type": "scatter",
         "x": [
          -11.43015193939209
         ],
         "y": [
          12.595786094665527
         ]
        },
        {
         "hovertext": [
          "\r\nWas a quick and easy process. They worked with me to find a loan that would fit my circumstances. Very satisfied with the entire process. My third loan through them.\r\n        ",
          "\r\nWas a quick and easy process. They worked with me to find a loan that would fit my circumstances. Very satisfied with the entire process. My third loan through them.\r\n        "
         ],
         "marker": {
          "color": "hsl(182.14285714285717,80%,50%)",
          "size": 10
         },
         "mode": "markers",
         "name": "cluster 10",
         "type": "scatter",
         "x": [
          29.030235290527344,
          32.544273376464844
         ],
         "y": [
          61.77959442138672,
          63.77366256713867
         ]
        },
        {
         "marker": {
          "color": "hsl(182.14285714285717,80%,50%)",
          "line": {
           "color": "black",
           "width": 5
          },
          "size": 15
         },
         "mode": "markers",
         "name": "centroid cluster 10",
         "type": "scatter",
         "x": [
          29.030235290527344
         ],
         "y": [
          61.77959442138672
         ]
        },
        {
         "hovertext": [
          "\r\nI just want to thank Robert McClung and Janeen Cadwell for their kind assistance through the loan process.  Although I had many questions in the beginning, Robert provided the information required to make me feel comfortable with refinancing our home.  What a great experience and I highly recommend DLJ Financial.  Thanks again Robert and Janeen for the great service.\r\n        ",
          "\r\nI was extremely impressed with the proffessionalism, the quality and speed of the quotes, the ability to communicate through my preferred methods and the speed to close. After speaking to several other loan officers, it was Jon Barrett at NASB that won us over. We couldnt have been happier with the service. Great work!  \r\n        ",
          "\r\nBuying a house is the most stressful thing I have done. Specially with the developer company I had to deal with!, but Mark and his team were the best !\r\nThey were always helpful, on time, and went the extra mile to help me and solve all my questions.\r\n\r\nI am really happy I chose them!, from the very beginning they showed their professionalism and their customer care skills.\r\n\r\nFrom the bottom of my heart! thank you!! for helping me get my first home!!\r\n\r\n... Read More\r\n        ",
          "\r\nKelly & Rasool were extremely helpful! It was a stressful time for me and my family and they made us feel taken care of and really cared about helping us! Thank you Again! I will be referring them to family and friends in the future!\r\n        ",
          "\r\nIt was the first time we refinanced our home and Kirk was Knowledgeable and made it very easy for us throughout the process. Great rate and service. Thank you.\r\n        ",
          "\r\nIt was a pleasure with John. Besides all the fees and closing costs being lower than other brokers that I reached out to, John was involved in every step of the way. He was on top of every element of the transaction and communicated timely, nothing was left to chance and even the loan was ready to be funded one week prior to closing day!\r\nHaving shopped around and compared other brokers, I know I made a great decision (financially and for peace of mind) going with John. I would not hesitate to recommend his services to anyone looking for a home loan... Read More\r\n        ",
          "\r\nI had a fantastic experience working with Brian Belcer and his team at Guaranteed Rate while purchasing my first home. He made himself available just about any time, day or night, to walk me through the process and answer all of my questions. I am very happy with the mortgage I was able to obtain, and ultimately feel that I am much more educated on the process now than I was before working with GR. I highly recommend them to anyone in the market for a home, and will absolutely be using them again for all of my future home purchases... Read More\r\n        ",
          "\r\n\r\nJaclyn & Maribel,\r\n\r\nFirst time doing a refi completely online. We have owned several properties for over 40 years. DLJ Senior Mortgage Banker Jaclyn M and Maribel N were both courteous, professional, knowledgeable to every extent and made this choice with DLJ, one we wish we had for every property purchase or refi we made in the past. Seemless and delivered on every promise made on day one. We couldn't have been happier for the service they provided and the manner in which they provided it. 5 Star all the way around. Thank you to both of you and your DLJ Team... Read More\r\n        ",
          "\r\nANTHONY MARROQUIN was my primary Senior Mortgage Banker. Anthony patiently and thoroughly fully explained everything to me step by step from start to finish while exploring all options for the best results. I went with DLJ because of Anthony - his individualized care, his competence, and his commitment to making all the right stuff happen. As anyone who is in the financing market knows, when you begin to research options you are swamped by endless phone calls and texts from dozens of companies all offering everything - but usually not disclosing the downsides or hidden fees. Anythony is so savvy, financially creative, thoughtful, and thorough that I chose to work with him and DLJ versus any other company. Anthony walked me through all the steps and requirements from beginning to successful finish. Thus my 5 stars for Anthony. If and when I do a further refinance, I will go to Anthony Marroquin and DLJ Financial for the best service and options... Read More\r\n        ",
          "\r\nI had the pleasure of working with Mr. Barrett from NASB and I couldn’t be more please. From the very beginning Mr. Barrett guided us on our journey with the upmost courtesy and respect. Even while closing Mr. Barrett once again came to the rescue helping me save even more money! A big thanks to Mr. Barrett and the team at NASB. When I buy again I know who I’ll call\r\n        ",
          "\r\nI tried emailing the lender, and it got sent back to me. I tried calling the lender and all I got was a busy signal. I couldn't get a hold of anyone.\r\n        ",
          "\r\nI just want to thank Robert McClung and Janeen Cadwell for their kind assistance through the loan process.  Although I had many questions in the beginning, Robert provided the information required to make me feel comfortable with refinancing our home.  What a great experience and I highly recommend DLJ Financial.  Thanks again Robert and Janeen for the great service.\r\n        ",
          "\r\nBuying a house is the most stressful thing I have done. Specially with the developer company I had to deal with!, but Mark and his team were the best !\r\nThey were always helpful, on time, and went the extra mile to help me and solve all my questions.\r\n\r\nI am really happy I chose them!, from the very beginning they showed their professionalism and their customer care skills.\r\n\r\nFrom the bottom of my heart! thank you!! for helping me get my first home!!\r\n\r\n... Read More\r\n        ",
          "\r\nJust got funded with DLJ and it was a very smooth transaction.  Michele Neal was a pleasure  from the Hello on. She was super communicative professional and available at all times. She worked with Sekani Hamiltn who processed the loan and was also in constant contact with me. They were a \r\ngreat team. Sekani was attentive, responsive and both were very knowledgeable in the fields. I wouldn't hesitate to use DLJ in my future for any of their services.\r\nI had a good experience working with both of these customer- service oriented people who reflect DLJ... Read More\r\n        ",
          "\r\nBuying a home is complicated, there a multiple parties, and competing interests, and it can be a really stressful and frustrating experiecne. What helps enormously is working with a lender that is upfront about what it can offer and accept, in terms of type of loan, type of property, downpayment, and timing of close.  \r\nI received a call from DLJ when my previous lender changed terms on me two weeks into escrow, and in desperation I had filled out the Lending Tree form in the hope if finding a new lender. \r\nAt the time, I honestly thought my purchase was going to fall through. \r\nThe next day I received a call from a number and a lender I didn't recognize. It was DLJ. Am I glad I answered the phone!\r\nWithin minutes, Adan Munoz had me back on track. DLJ's team was, across the board, knowledgable, articulate, well-coordinated, calm and constructive. They offered a product that met my needs perfectly, and got me across the finish line in record time.\r\nSpecial shout-out to the focused, unflappable, and highly responsive Ranee Martinez... Read More\r\n        ",
          "I can't express how grateful I am for the support that Zach provided to me and my family during this home purchase! His customer service, responsiveness and professional demeanor is second to none. He was very thorough and took the time to educate me about the process along the way. I highly recommend working with Zach and Wyndham Capital!",
          "I worked with Kory and Carla at NASB. They were a superb team and provided excellent, responsive and knowledgeable service throughout the entire process. Ours was a complicated process with a refinance and a loan and they hung in there with us the entire time. It was a great experience working with both of them. I highly recommend them and will use them in the future for all of my mortgage needs"
         ],
         "marker": {
          "color": "hsl(200.35714285714286,80%,50%)",
          "size": 10
         },
         "mode": "markers",
         "name": "cluster 11",
         "type": "scatter",
         "x": [
          -11.665814399719238,
          24.905405044555664,
          14.106932640075684,
          19.953500747680664,
          -5.607799530029297,
          13.180371284484863,
          -11.22177505493164,
          18.859649658203125,
          7.179126739501953,
          -27.696170806884766,
          4.142371654510498,
          -8.235271453857422,
          10.011474609375,
          4.903373718261719,
          4.331883430480957,
          -5.13419771194458,
          14.263400077819824
         ],
         "y": [
          41.87351989746094,
          33.33298110961914,
          -70.8661880493164,
          4.443069934844971,
          49.944549560546875,
          -18.673810958862305,
          -29.255020141601562,
          10.651538848876953,
          -14.810223579406738,
          -30.51657485961914,
          -0.02345394343137741,
          39.68755340576172,
          -71.09437561035156,
          12.285127639770508,
          -6.298726558685303,
          -32.62602233886719,
          26.6204833984375
         ]
        },
        {
         "marker": {
          "color": "hsl(200.35714285714286,80%,50%)",
          "line": {
           "color": "black",
           "width": 5
          },
          "size": 15
         },
         "mode": "markers",
         "name": "centroid cluster 11",
         "type": "scatter",
         "x": [
          14.106932640075684
         ],
         "y": [
          -70.8661880493164
         ]
        },
        {
         "hovertext": [
          "\r\nEasy and smooth process\r\n        "
         ],
         "marker": {
          "color": "hsl(218.57142857142858,80%,50%)",
          "size": 10
         },
         "mode": "markers",
         "name": "cluster 12",
         "type": "scatter",
         "x": [
          -12.751764297485352
         ],
         "y": [
          28.93521499633789
         ]
        },
        {
         "marker": {
          "color": "hsl(218.57142857142858,80%,50%)",
          "line": {
           "color": "black",
           "width": 5
          },
          "size": 15
         },
         "mode": "markers",
         "name": "centroid cluster 12",
         "type": "scatter",
         "x": [
          -12.751764297485352
         ],
         "y": [
          28.93521499633789
         ]
        },
        {
         "hovertext": [
          "\r\nWas not able to provide a viable product for my needs. Was rude when I was confused and upset about their inability to help.\r\n        "
         ],
         "marker": {
          "color": "hsl(236.7857142857143,80%,50%)",
          "size": 10
         },
         "mode": "markers",
         "name": "cluster 13",
         "type": "scatter",
         "x": [
          40.15373992919922
         ],
         "y": [
          -32.270938873291016
         ]
        },
        {
         "marker": {
          "color": "hsl(236.7857142857143,80%,50%)",
          "line": {
           "color": "black",
           "width": 5
          },
          "size": 15
         },
         "mode": "markers",
         "name": "centroid cluster 13",
         "type": "scatter",
         "x": [
          40.15373992919922
         ],
         "y": [
          -32.270938873291016
         ]
        },
        {
         "hovertext": [
          "\r\ncan someone explain why the APR is more than a point higher than the interest rate, if there are $0 fees? ?\r\n        "
         ],
         "marker": {
          "color": "hsl(255.0,80%,50%)",
          "size": 10
         },
         "mode": "markers",
         "name": "cluster 14",
         "type": "scatter",
         "x": [
          18.462783813476562
         ],
         "y": [
          -7.402068614959717
         ]
        },
        {
         "marker": {
          "color": "hsl(255.0,80%,50%)",
          "line": {
           "color": "black",
           "width": 5
          },
          "size": 15
         },
         "mode": "markers",
         "name": "centroid cluster 14",
         "type": "scatter",
         "x": [
          18.462783813476562
         ],
         "y": [
          -7.402068614959717
         ]
        }
       ],
       "layout": {
        "template": {
         "data": {
          "bar": [
           {
            "error_x": {
             "color": "#2a3f5f"
            },
            "error_y": {
             "color": "#2a3f5f"
            },
            "marker": {
             "line": {
              "color": "#E5ECF6",
              "width": 0.5
             }
            },
            "type": "bar"
           }
          ],
          "barpolar": [
           {
            "marker": {
             "line": {
              "color": "#E5ECF6",
              "width": 0.5
             }
            },
            "type": "barpolar"
           }
          ],
          "carpet": [
           {
            "aaxis": {
             "endlinecolor": "#2a3f5f",
             "gridcolor": "white",
             "linecolor": "white",
             "minorgridcolor": "white",
             "startlinecolor": "#2a3f5f"
            },
            "baxis": {
             "endlinecolor": "#2a3f5f",
             "gridcolor": "white",
             "linecolor": "white",
             "minorgridcolor": "white",
             "startlinecolor": "#2a3f5f"
            },
            "type": "carpet"
           }
          ],
          "choropleth": [
           {
            "colorbar": {
             "outlinewidth": 0,
             "ticks": ""
            },
            "type": "choropleth"
           }
          ],
          "contour": [
           {
            "colorbar": {
             "outlinewidth": 0,
             "ticks": ""
            },
            "colorscale": [
             [
              0,
              "#0d0887"
             ],
             [
              0.1111111111111111,
              "#46039f"
             ],
             [
              0.2222222222222222,
              "#7201a8"
             ],
             [
              0.3333333333333333,
              "#9c179e"
             ],
             [
              0.4444444444444444,
              "#bd3786"
             ],
             [
              0.5555555555555556,
              "#d8576b"
             ],
             [
              0.6666666666666666,
              "#ed7953"
             ],
             [
              0.7777777777777778,
              "#fb9f3a"
             ],
             [
              0.8888888888888888,
              "#fdca26"
             ],
             [
              1,
              "#f0f921"
             ]
            ],
            "type": "contour"
           }
          ],
          "contourcarpet": [
           {
            "colorbar": {
             "outlinewidth": 0,
             "ticks": ""
            },
            "type": "contourcarpet"
           }
          ],
          "heatmap": [
           {
            "colorbar": {
             "outlinewidth": 0,
             "ticks": ""
            },
            "colorscale": [
             [
              0,
              "#0d0887"
             ],
             [
              0.1111111111111111,
              "#46039f"
             ],
             [
              0.2222222222222222,
              "#7201a8"
             ],
             [
              0.3333333333333333,
              "#9c179e"
             ],
             [
              0.4444444444444444,
              "#bd3786"
             ],
             [
              0.5555555555555556,
              "#d8576b"
             ],
             [
              0.6666666666666666,
              "#ed7953"
             ],
             [
              0.7777777777777778,
              "#fb9f3a"
             ],
             [
              0.8888888888888888,
              "#fdca26"
             ],
             [
              1,
              "#f0f921"
             ]
            ],
            "type": "heatmap"
           }
          ],
          "heatmapgl": [
           {
            "colorbar": {
             "outlinewidth": 0,
             "ticks": ""
            },
            "colorscale": [
             [
              0,
              "#0d0887"
             ],
             [
              0.1111111111111111,
              "#46039f"
             ],
             [
              0.2222222222222222,
              "#7201a8"
             ],
             [
              0.3333333333333333,
              "#9c179e"
             ],
             [
              0.4444444444444444,
              "#bd3786"
             ],
             [
              0.5555555555555556,
              "#d8576b"
             ],
             [
              0.6666666666666666,
              "#ed7953"
             ],
             [
              0.7777777777777778,
              "#fb9f3a"
             ],
             [
              0.8888888888888888,
              "#fdca26"
             ],
             [
              1,
              "#f0f921"
             ]
            ],
            "type": "heatmapgl"
           }
          ],
          "histogram": [
           {
            "marker": {
             "colorbar": {
              "outlinewidth": 0,
              "ticks": ""
             }
            },
            "type": "histogram"
           }
          ],
          "histogram2d": [
           {
            "colorbar": {
             "outlinewidth": 0,
             "ticks": ""
            },
            "colorscale": [
             [
              0,
              "#0d0887"
             ],
             [
              0.1111111111111111,
              "#46039f"
             ],
             [
              0.2222222222222222,
              "#7201a8"
             ],
             [
              0.3333333333333333,
              "#9c179e"
             ],
             [
              0.4444444444444444,
              "#bd3786"
             ],
             [
              0.5555555555555556,
              "#d8576b"
             ],
             [
              0.6666666666666666,
              "#ed7953"
             ],
             [
              0.7777777777777778,
              "#fb9f3a"
             ],
             [
              0.8888888888888888,
              "#fdca26"
             ],
             [
              1,
              "#f0f921"
             ]
            ],
            "type": "histogram2d"
           }
          ],
          "histogram2dcontour": [
           {
            "colorbar": {
             "outlinewidth": 0,
             "ticks": ""
            },
            "colorscale": [
             [
              0,
              "#0d0887"
             ],
             [
              0.1111111111111111,
              "#46039f"
             ],
             [
              0.2222222222222222,
              "#7201a8"
             ],
             [
              0.3333333333333333,
              "#9c179e"
             ],
             [
              0.4444444444444444,
              "#bd3786"
             ],
             [
              0.5555555555555556,
              "#d8576b"
             ],
             [
              0.6666666666666666,
              "#ed7953"
             ],
             [
              0.7777777777777778,
              "#fb9f3a"
             ],
             [
              0.8888888888888888,
              "#fdca26"
             ],
             [
              1,
              "#f0f921"
             ]
            ],
            "type": "histogram2dcontour"
           }
          ],
          "mesh3d": [
           {
            "colorbar": {
             "outlinewidth": 0,
             "ticks": ""
            },
            "type": "mesh3d"
           }
          ],
          "parcoords": [
           {
            "line": {
             "colorbar": {
              "outlinewidth": 0,
              "ticks": ""
             }
            },
            "type": "parcoords"
           }
          ],
          "scatter": [
           {
            "marker": {
             "colorbar": {
              "outlinewidth": 0,
              "ticks": ""
             }
            },
            "type": "scatter"
           }
          ],
          "scatter3d": [
           {
            "line": {
             "colorbar": {
              "outlinewidth": 0,
              "ticks": ""
             }
            },
            "marker": {
             "colorbar": {
              "outlinewidth": 0,
              "ticks": ""
             }
            },
            "type": "scatter3d"
           }
          ],
          "scattercarpet": [
           {
            "marker": {
             "colorbar": {
              "outlinewidth": 0,
              "ticks": ""
             }
            },
            "type": "scattercarpet"
           }
          ],
          "scattergeo": [
           {
            "marker": {
             "colorbar": {
              "outlinewidth": 0,
              "ticks": ""
             }
            },
            "type": "scattergeo"
           }
          ],
          "scattergl": [
           {
            "marker": {
             "colorbar": {
              "outlinewidth": 0,
              "ticks": ""
             }
            },
            "type": "scattergl"
           }
          ],
          "scattermapbox": [
           {
            "marker": {
             "colorbar": {
              "outlinewidth": 0,
              "ticks": ""
             }
            },
            "type": "scattermapbox"
           }
          ],
          "scatterpolar": [
           {
            "marker": {
             "colorbar": {
              "outlinewidth": 0,
              "ticks": ""
             }
            },
            "type": "scatterpolar"
           }
          ],
          "scatterpolargl": [
           {
            "marker": {
             "colorbar": {
              "outlinewidth": 0,
              "ticks": ""
             }
            },
            "type": "scatterpolargl"
           }
          ],
          "scatterternary": [
           {
            "marker": {
             "colorbar": {
              "outlinewidth": 0,
              "ticks": ""
             }
            },
            "type": "scatterternary"
           }
          ],
          "surface": [
           {
            "colorbar": {
             "outlinewidth": 0,
             "ticks": ""
            },
            "colorscale": [
             [
              0,
              "#0d0887"
             ],
             [
              0.1111111111111111,
              "#46039f"
             ],
             [
              0.2222222222222222,
              "#7201a8"
             ],
             [
              0.3333333333333333,
              "#9c179e"
             ],
             [
              0.4444444444444444,
              "#bd3786"
             ],
             [
              0.5555555555555556,
              "#d8576b"
             ],
             [
              0.6666666666666666,
              "#ed7953"
             ],
             [
              0.7777777777777778,
              "#fb9f3a"
             ],
             [
              0.8888888888888888,
              "#fdca26"
             ],
             [
              1,
              "#f0f921"
             ]
            ],
            "type": "surface"
           }
          ],
          "table": [
           {
            "cells": {
             "fill": {
              "color": "#EBF0F8"
             },
             "line": {
              "color": "white"
             }
            },
            "header": {
             "fill": {
              "color": "#C8D4E3"
             },
             "line": {
              "color": "white"
             }
            },
            "type": "table"
           }
          ]
         },
         "layout": {
          "annotationdefaults": {
           "arrowcolor": "#2a3f5f",
           "arrowhead": 0,
           "arrowwidth": 1
          },
          "colorscale": {
           "diverging": [
            [
             0,
             "#8e0152"
            ],
            [
             0.1,
             "#c51b7d"
            ],
            [
             0.2,
             "#de77ae"
            ],
            [
             0.3,
             "#f1b6da"
            ],
            [
             0.4,
             "#fde0ef"
            ],
            [
             0.5,
             "#f7f7f7"
            ],
            [
             0.6,
             "#e6f5d0"
            ],
            [
             0.7,
             "#b8e186"
            ],
            [
             0.8,
             "#7fbc41"
            ],
            [
             0.9,
             "#4d9221"
            ],
            [
             1,
             "#276419"
            ]
           ],
           "sequential": [
            [
             0,
             "#0d0887"
            ],
            [
             0.1111111111111111,
             "#46039f"
            ],
            [
             0.2222222222222222,
             "#7201a8"
            ],
            [
             0.3333333333333333,
             "#9c179e"
            ],
            [
             0.4444444444444444,
             "#bd3786"
            ],
            [
             0.5555555555555556,
             "#d8576b"
            ],
            [
             0.6666666666666666,
             "#ed7953"
            ],
            [
             0.7777777777777778,
             "#fb9f3a"
            ],
            [
             0.8888888888888888,
             "#fdca26"
            ],
            [
             1,
             "#f0f921"
            ]
           ],
           "sequentialminus": [
            [
             0,
             "#0d0887"
            ],
            [
             0.1111111111111111,
             "#46039f"
            ],
            [
             0.2222222222222222,
             "#7201a8"
            ],
            [
             0.3333333333333333,
             "#9c179e"
            ],
            [
             0.4444444444444444,
             "#bd3786"
            ],
            [
             0.5555555555555556,
             "#d8576b"
            ],
            [
             0.6666666666666666,
             "#ed7953"
            ],
            [
             0.7777777777777778,
             "#fb9f3a"
            ],
            [
             0.8888888888888888,
             "#fdca26"
            ],
            [
             1,
             "#f0f921"
            ]
           ]
          },
          "colorway": [
           "#636efa",
           "#EF553B",
           "#00cc96",
           "#ab63fa",
           "#FFA15A",
           "#19d3f3",
           "#FF6692",
           "#B6E880",
           "#FF97FF",
           "#FECB52"
          ],
          "font": {
           "color": "#2a3f5f"
          },
          "geo": {
           "bgcolor": "white",
           "lakecolor": "white",
           "landcolor": "#E5ECF6",
           "showlakes": true,
           "showland": true,
           "subunitcolor": "white"
          },
          "hoverlabel": {
           "align": "left"
          },
          "hovermode": "closest",
          "mapbox": {
           "style": "light"
          },
          "paper_bgcolor": "white",
          "plot_bgcolor": "#E5ECF6",
          "polar": {
           "angularaxis": {
            "gridcolor": "white",
            "linecolor": "white",
            "ticks": ""
           },
           "bgcolor": "#E5ECF6",
           "radialaxis": {
            "gridcolor": "white",
            "linecolor": "white",
            "ticks": ""
           }
          },
          "scene": {
           "xaxis": {
            "backgroundcolor": "#E5ECF6",
            "gridcolor": "white",
            "gridwidth": 2,
            "linecolor": "white",
            "showbackground": true,
            "ticks": "",
            "zerolinecolor": "white"
           },
           "yaxis": {
            "backgroundcolor": "#E5ECF6",
            "gridcolor": "white",
            "gridwidth": 2,
            "linecolor": "white",
            "showbackground": true,
            "ticks": "",
            "zerolinecolor": "white"
           },
           "zaxis": {
            "backgroundcolor": "#E5ECF6",
            "gridcolor": "white",
            "gridwidth": 2,
            "linecolor": "white",
            "showbackground": true,
            "ticks": "",
            "zerolinecolor": "white"
           }
          },
          "shapedefaults": {
           "line": {
            "color": "#2a3f5f"
           }
          },
          "ternary": {
           "aaxis": {
            "gridcolor": "white",
            "linecolor": "white",
            "ticks": ""
           },
           "baxis": {
            "gridcolor": "white",
            "linecolor": "white",
            "ticks": ""
           },
           "bgcolor": "#E5ECF6",
           "caxis": {
            "gridcolor": "white",
            "linecolor": "white",
            "ticks": ""
           }
          },
          "title": {
           "x": 0.05
          },
          "xaxis": {
           "automargin": true,
           "gridcolor": "white",
           "linecolor": "white",
           "ticks": "",
           "zerolinecolor": "white",
           "zerolinewidth": 2
          },
          "yaxis": {
           "automargin": true,
           "gridcolor": "white",
           "linecolor": "white",
           "ticks": "",
           "zerolinecolor": "white",
           "zerolinewidth": 2
          }
         }
        }
       }
      },
      "text/html": [
       "<div>\n",
       "        \n",
       "        \n",
       "            <div id=\"37141d8d-542b-4c27-8398-9edb8c5f1a46\" class=\"plotly-graph-div\" style=\"height:525px; width:100%;\"></div>\n",
       "            <script type=\"text/javascript\">\n",
       "                require([\"plotly\"], function(Plotly) {\n",
       "                    window.PLOTLYENV=window.PLOTLYENV || {};\n",
       "                    \n",
       "                if (document.getElementById(\"37141d8d-542b-4c27-8398-9edb8c5f1a46\")) {\n",
       "                    Plotly.newPlot(\n",
       "                        '37141d8d-542b-4c27-8398-9edb8c5f1a46',\n",
       "                        [{\"hovertext\": [\"\\r\\nWorked with Jason & June & it couldn\\u2019t have been an easier process. Completely happy with my experience & the process just depends how fast you respond to their requests. This was a refinance & it was completed & funded within under a month.\\r\\n        \", \"\\r\\nSuch a pleasure working with Alex. Couldn't ask for a better lender. \\r\\n        \", \"\\r\\nTom was a pleasure to work with and really took the time to answer all of our questions. He always answered his phone when we called and went above and beyond to make sure we had a good experience. I have since referred three friends to him who all had similar experiences. Tom is very knowledable and is the best in his industry. You\\u2019ll be hearing from us again, Tom! Thank you for everything.... Read More\\r\\n        \", \"Working with Michelle and Wyndham went really well for me. As a first time homeowner and this being my first refinance, I feel that this process was smooth and successful. I will definitely recommend Michelle to friends and family.\", \"\\r\\nProbably this was a more challenging refinance. Alex Zelada worked very had on this!\\r\\nBut despite numerous assurances of getting close to the finish line, it took over 3 months , and the 45 day rate lock had to be extended.\\r\\nMost of the problem seemed to be with Quicken. Requests for documents was piecemeal, and each new request caused a delay; this most likely due to Quicken, and Q did put everything in a holding pattern, apparently without the brokers' knowledge. It was discovered only after my following up to see what the delay was .\\r\\nAlso there were a few instances of PB staff not fully reading thru correspondence and making assumptions that weren't entirely accurate and could have been significant to the borrower.\\r\\n\\r\\nIf doing it over I would go with a local broker with a comparable rate... Read More\\r\\n        \", \"\\r\\nAaron was extremely help and very friendly. I kept his about everything and was always up front with everything. As a veteran myself, he made to go the extra mile for me and always was available to talk and answer questions. This was my first time buying a home and he made as painless as possible for me and my wife. I nothing but great things to about him and cannot thank him enough for helping us through this process... Read More\\r\\n        \", \"\\r\\nWorking with Chris was an excellent experience, he is knowledgeable, and he follow up with me, in every step of the way.\\r\\nIt really make a big difference to work with a professional like him.\\r\\nThank you Chris for all the time and effort you put in our deal.\\r\\n \\r\\n        \", \"\\r\\nFriendly, Knowledgeable, experienced in the industry. One of the best companies I've had to do business with, and would and will use again upon my next purchase of a home or refinance. Jim Moore and his team are on of the best here in Raleigh North Carolina, you can look forward to being on of the Guaranteed Rate Family. And Just smiling.\\r\\n        \", \"\\r\\nI have purchased 4 properties in CA in the past 15 years, and this was by FAR the best experience I've had with a lender.  They were quick, fair, detail oriented and great communicators.  Please note, I am also in real estate, and I have had clients go thru terrible experiences with larger institutions recently.  Bryan B is REALLY on top of the process and is very knowledgeable.  Will be using them again for personal use, and also referring them to clients... Read More\\r\\n        \", \"\\r\\nStephanie was amazing. We just bought our first house in Houston and we can\\u2019t be more thankful for all the patience and help she gave us. Working with her was a pleasure, she did more for us than our own realtor and I\\u2019ll never forget it. Thank you Stephanie you\\u2019re the best. We highly recommend her!\\r\\n        \", \"\\r\\nWorked with Jason & June & it couldn\\u2019t have been an easier process. Completely happy with my experience & the process just depends how fast you respond to their requests. This was a refinance & it was completed & funded within under a month. June was very helpful & I\\u2019m an Accountant with lots of questions & she was very patient with me. I\\u2019d ask for different terms & loan amounts & she was quick to give me the updated rates. She definitely has amazing customer service skills & knowledge. I highly recommend... Read More\\r\\n        \", \"\\r\\nI have purchased 4 properties in CA in the past 15 years, and this was by FAR the best experience I've had with a lender.  They were quick, fair, detail oriented and great communicators.  Please note, I am also in real estate, and I have had clients go thru terrible experiences with larger institutions recently.  Bryan B is REALLY on top of the process and is very knowledgeable.  Will be using them again for personal use, and also referring them to clients... Read More\\r\\n        \", \"\\r\\nWorking with Chris was easy.  He listens to your needs, understands them and does his best to meet them.  He is open, upfront, honest, communicates quickly, thorough and delivers a high level of customer service.  His under writing and processing was the best and fastest I've ever seen.  If you want a great loan experience then do business with Chris, he won't let you down... Read More\\r\\n        \", \"\\r\\nAccommodating, easy to work with, good products\\r\\n        \", \"\\r\\nAdam Carrion was hands down the best! Always there to answer any questions or let us know next steps and status at anytime of the day or night. Process was very simple, I provided a few items and Adam and his team handled everything else. It was the best experience you can have while refinancing. I would definitely recommend and will do business again in the future! Fast, simple and painless. Thank you!... Read More\\r\\n        \", \"\\r\\nWorked with Jason & June & it couldn\\u2019t have been an easier process. Completely happy with my experience & the process just depends how fast you respond to their requests. This was a refinance & it was completed & funded within under a month.\\r\\n        \", \"\\r\\nI can't express how incredibly awesome our experience was with working with Bryant Small at NASB. As a military family, we have purchased or refinanced many homes and this was by far the BEST experience we have ever had. Bryant makes it easy and took the time to discuss the best options for us. I've never met Bryant, but you can't mistake authenticity and we knew instantly he and NASB were who we were going with.... Read More\\r\\n        \", \"\\r\\nRobert was the best person to do our loan almost makes us wish we could do this again. No just kidding, but he was an amazing person who was concerned and wanted to do whatever he could to make our experience as painless as possible.  We would truely recommend him to friends and family.\\r\\nThanks again Robert\\r\\n        \", \"\\r\\nUnfortunately we were dealing with an agent in the Santa Clara County area in CA and his name was Andrew. He left from another company called Alpine mortgage and moved to this company and thats where everything went bad. Responsiveness towards myself (The agent) and my clients has been slow and every aspect of the transaction has now been delayed. Asking for papers in the 19th hour has killed our chances of closing this on time. Unfortunately Andrew has done everything but help us out and be a strong customer service rep. I would not wish his services upon any other home buyer. Very disappointed on the entirety of this guys professionalism... Read More\\r\\n        \", \"\\r\\nMy wife and I have purchased several homes over the years and have worked with a number of different mortgage companies. Our experience with Jeremy and Brent (Custer) has been, by far, the best we have ever experienced. If we are ever in the market again, we will definitely be back and will recommend NASB to anyone we know who is looking for a mortgage.\\r\\n        \", \"\\r\\nI can't express how incredibly awesome our experience was with working with Bryant Small at NASB. As a military family, we have purchased or refinanced many homes and this was by far the BEST experience we have ever had. Bryant makes it easy and took the time to discuss the best options for us. I've never met Bryant, but you can't mistake authenticity and we knew instantly he and NASB were who we were going with.... Read More\\r\\n        \", \"\\r\\nEthan our mortgage banker from DLJ Financial was absolutely a pleasure to work with. From start to finish he kept us updated and in the loop. The process of our HELOC was fast as well. Lisa the processor was very kind and attentive. From the first phone call I had with Ethan, he was very detailed and had nothing but my best interest in mine. Ethan has definitely earned my business for many years to come.... Read More\\r\\n        \", \"\\r\\nReliance was a pleasure to work with on my refinancing. With all the documents provided, we went from the start to closing in just a few weeks (with me on vacation for 1 week in the middle). I would do business with them again. A special mention to Ritu, who was a delight and helped keep our processing moving quickly.\\r\\n        \", \"Adam was great to work with during our refi! His attention to detail made this a smooth and easy transaction. It has been several years since we've gone thru the home loan process and we were unsure where to start. After talking with Adam, we were confident he was the one to help us with our refi. He was professional, helpful, very knowledgeable about the loan process and answered all of our questions in a timely manner. I would highly recommend Adam and would not hesitate to work with him agai\", \"\\r\\nthis man is amazing!!!   i said it all in the orginal review.  i would deal with him again and again\\r\\n\\r\\nthank you Bryan\\r\\n        \", \"\\r\\nIt was a pleasure working with Alex Jocovic. I was unfortunate with having to go through two failed escrows due to the conditions of the houses that I was in contract with, but Alex was patient and helped me through all three of my escrows until I finally closed on a house. If you are looking for a loan officer that is responsive and personable go with Alex. He will follow up with you consistently and make sure that you close on time. Overall I had an excellent experience working with Alex and Pacific Beneficial Mortgage... Read More\\r\\n        \"], \"marker\": {\"color\": \"hsl(0.0,80%,50%)\", \"size\": 10}, \"mode\": \"markers\", \"name\": \"cluster 0\", \"type\": \"scatter\", \"x\": [-34.70713424682617, -41.699485778808594, 1.442409634590149, -7.064934253692627, 12.95805835723877, -13.678126335144043, -44.69569778442383, -22.615161895751953, 11.140155792236328, -5.91918420791626, 16.353673934936523, 9.733312606811523, -20.719219207763672, -44.77800750732422, -19.529611587524414, 36.04791259765625, -14.67012882232666, -28.152189254760742, -8.5055570602417, -12.304028511047363, -12.820456504821777, -4.107612133026123, -32.6585807800293, 28.899532318115234, -57.86030197143555, -44.08990478515625], \"y\": [-40.761444091796875, -25.587453842163086, -13.602805137634277, -39.35077667236328, -28.70183563232422, -43.69816589355469, -7.6999030113220215, -10.308391571044922, 9.182273864746094, -20.361713409423828, 40.23784637451172, 5.510076999664307, -19.346155166625977, 22.541357040405273, -5.203559875488281, 42.4995002746582, -15.583648681640625, -19.189849853515625, -56.35258102416992, -9.334166526794434, -19.02621841430664, -12.107683181762695, -9.902597427368164, -8.16558837890625, -26.724868774414062, -17.242149353027344]}, {\"marker\": {\"color\": \"hsl(0.0,80%,50%)\", \"line\": {\"color\": \"black\", \"width\": 5}, \"size\": 15}, \"mode\": \"markers\", \"name\": \"centroid cluster 0\", \"type\": \"scatter\", \"x\": [-14.67012882232666], \"y\": [-15.583648681640625]}, {\"hovertext\": [\"They were not upfront. Learn from my mistake... I trusted the loan officer that my zero point rate is an option before closing the loan because he convinced me to initially sign the Good Faith Estimate with higher rate plus lender's credit. After running my numbers, the lower interest is favorable for me and asking for it now, I'm being charge points. It looks like they are only good in their words at the beginning so please be careful dealing with this lender\", \"\\r\\nI was \\\"pre-approved\\\" by Guaranteed Rate after they had all of my information, including an extensive application and full access to my credit information. Of course, I stopped dealing with other lenders who had made offers. I then entered into a months-long process of responding to multiple requests for documentation; everything had been clearly spelled out in my application, but they needed corroboration. Whenever I sent something, they would call a few days later and say that \\\"Underwriting\\\" required something else; and that it was all on account of the new govt. regulations. (And note that I was looking to consolidate the 1st and 2d mortgages on my home, and that the total I was asking for was less than 25% of my home's value.)\\r\\n\\r\\nFinally, I received a call from my loan contact saying that my credit card balance was too high, and they couldn't give me a loan unless I paid it off first. This was information they had had all along, before they \\\"pre-approved\\\" me. In fact, my primary reason for re-financing was to get my monthly mortgage payments lower and to pay off that credit card balance. I basically said that their response was not acceptable; and we eventually got it done. However, I would never recommend them.\\r\\n\\r\\nThe only thing I would give them high points for is responsiveness. At least until I agreed to go with them, they got back to me quicker than anyone. I didn't go with 2 other lenders who were offering similar rates because they weren't getting back to me as fast as Gauranteed Rate. Once I went with them, however, the process dragged on for months; and they almost weren't going to give me the loan. Buyers Beware... Read More\\r\\n        \", \"\\r\\nOur experience with Tom exceeded expectations, he was always available to answer my questions via email, phone and text. Tom and his team (Ken) were true professionals, they delivered on everything they said they would. Couldn't be happier with the home buying process because of them. Thankful that we choose Garanteed Rate through Lending Tree. Thank you Tom!!!\\r\\n        \", \"\\r\\nThe experience with Reliance was extremely frustrating and aggravating. First the loan \\\"mgr\\\" asked for the usual pile of paper, including the 4506T to prove I paid my taxes. Fine, but then they wanted copies of my tax returns so they could compare. Since when are they tax auditors? Unable to find the copy for 2011, I had the IRS send us the transcript of it, and sent it via PO, and electronically. But then it was held up for 3 weeks because the transcript was mailed by us, and not the IRS. Now we are getting ridiculous. So we had the IRS fax it to them directly, AND STILL they had a problem with it's \\\"authenticity\\\". They received everything we had, with no discrepancies, yet the loan mgr suggested we go ahead and \\\"dummy up\\\" a copy, as long as it would match exactly. We said no, the two separate transcripts were accurate, and they could use those, or we would walk. Amazing that a week later they finally approved it. This guy had emailed and called every day, sometimes as many as 4 times, even during our Christmas trip to Dallas, only to sit and wait, and wonder what the black hole was doing. And to make it more annoying, he had a demeaning way of speaking, saying \\\"Does that make sense?\\\", after every statement, as if I couldn't understand basic English. One of those things people say when they want people to feel inferior. They requested the 4506T 4 more times, so we sent them at least 8 to make sure. So that didn't \\\"make sense\\\", nor did their inability to accept the IRS transcripts sent from the IRS, nor the harassment for other tax copies while we were visiting my sons in Dallas over Christmas. I certainly would not want my friends to feel my frustration... Read More\\r\\n        \"], \"marker\": {\"color\": \"hsl(18.214285714285715,80%,50%)\", \"size\": 10}, \"mode\": \"markers\", \"name\": \"cluster 1\", \"type\": \"scatter\", \"x\": [45.05047607421875, 46.776100158691406, 38.00257873535156, 45.67411422729492], \"y\": [-7.865588188171387, 5.126077175140381, 8.589212417602539, -0.7353047132492065]}, {\"marker\": {\"color\": \"hsl(18.214285714285715,80%,50%)\", \"line\": {\"color\": \"black\", \"width\": 5}, \"size\": 15}, \"mode\": \"markers\", \"name\": \"centroid cluster 1\", \"type\": \"scatter\", \"x\": [46.776100158691406], \"y\": [5.126077175140381]}, {\"hovertext\": [\"Started refinance with Nick things were going OK then there was a problem with a credit card fro 5 years earlier, which must of made the loan not possible. This I would of understood, But I never heard from them again? called Nick several times no response? I even called his supervisor no response? E-Mailed them no response? IS THIS THE COMPANY YOU WANT TO DUE BUSNESS...\", \"Started refinance with Nick things were going OK then there was a problem with a credit card fro 5 years earlier, which must of made the loan not possible. This I would of understood, But I never heard from them again? called Nick several times no response? I even called his supervisor no response? E-Mailed them no response? IS THIS THE COMPANY YOU WANT TO DUE BUSNESS...\"], \"marker\": {\"color\": \"hsl(36.42857142857143,80%,50%)\", \"size\": 10}, \"mode\": \"markers\", \"name\": \"cluster 2\", \"type\": \"scatter\", \"x\": [-27.691669464111328, -30.74397850036621], \"y\": [-67.38020324707031, -64.80755615234375]}, {\"marker\": {\"color\": \"hsl(36.42857142857143,80%,50%)\", \"line\": {\"color\": \"black\", \"width\": 5}, \"size\": 15}, \"mode\": \"markers\", \"name\": \"centroid cluster 2\", \"type\": \"scatter\", \"x\": [-27.691669464111328], \"y\": [-67.38020324707031]}, {\"hovertext\": [\"\\r\\nGood News:\\r\\n\\r\\nThe $995 processing fee was waived.\\r\\nThe rate was locked for 35 days but they closed in 9 weeks, I did not have to pay for an extension.\\r\\nThey have also floated my rate down 1/8 percent without any fees.\\r\\nUntil the closing I did not pay anything other than a credit history check fee.\\r\\n\\r\\nNot so good news:\\r\\n\\r\\nThis was a very long and frustrating experience.\\r\\nI do believe that the process took longer than expected mostly because of the busy refinance season.\\r\\nI might be a difficult customer or may be just unlucky but there was always a problem with every stage and detail of my refinance experience.\\r\\nI am trying not to blame the \\\"loan consultant\\\" (BYRON HOUSWORTH) for this.\\r\\n\\r\\nWhenever I asked about any time line, the answer was fixed \\\"in a week or so\\\". I had to wait for 9 (nine) weeks to close.\\r\\n\\r\\nIt was my luck that his vacation week was in the middle of my process.\\r\\n\\r\\nIf NASB needs a document they will wait until the last minute and then come back \\\"oh we need this document or else we can't continue\\\"\\r\\nWhen you have that one taken care of, they will wait \\\"a week or so\\\" to get back to you and next week you will hear \\\"it turns out we also need this document\\\"\\r\\nThis went on and on, the day before the closing they would email me and say \\\"we just noticed that we didn't have your employment verification done\\\", hours before closing,\\r\\n\\\"oh we just found out that we don't have your home insurance verification and we can't reach them\\\"\\r\\nI called the insurance company and in ten minutes it was taken care of.\\r\\n\\r\\nI don't know how many times I had to hear \\\"this should be OK\\\" and turns out it is not OK.\\r\\n\\r\\nMany many times they assured me they have all the information they need - but this was never the case.\\r\\n\\r\\nThey were not very careful, they missed out all the details, they wasted weeks and weeks because they were not able to go through a check list and see if they have taken care of everything.\\r\\n\\r\\nThey always say \\\"we are too busy with a lot of applications\\\". I believe they shouln't accept applications that they can't process.\\r\\n\\r\\nSample communication:\\r\\n\\r\\nme: Why am I being charged for such and such?\\r\\nrespond: We are not charging you for that.\\r\\nme: Please check the final HUD line XX\\r\\nrespond: Sorry I didn't go down that far.\\r\\nme: ???\\r\\n\\r\\nSome of my favorite quotes from them:\\r\\n\\\"Sorry! Don't come across this too often. \\\"\\r\\n\\\"Wasn't aware of that...\\\"\\r\\n\\\"This should work.\\\"\\r\\n\\\"Can you possibly call them again? We need it ASAP.\\\"\\r\\n\\\"Thank you for your patience.\\\"\\r\\n\\\"TGIF!\\\" --(I had to hear this 8-9 times)\\r\\n\\r\\nThey are not bad people, but you need a lot of patience dealing with them.\\r\\n\\r\\nDo I suggest working with them?\\r\\nOnly if you are not under any time pressure.\\r\\nOnly if you can work hard for your own application.\\r\\nOnly if you have a lot of patience.\\r\\n\\r\\nOverall, I feel like NASB is an OK bank to work with. But I don't think I could handle this hassle again... Read More\\r\\n        \", \"\\r\\nI thought they seemed very nice at first. played phone tag then got a letter in the mail stateing that I was not interested so they would not do anything more on my file. I left messages andd emailed that that was incorrect. Have not heard from them since. Maybe they should have said they were not interested. Im in dier straights and need help.\\r\\n        \"], \"marker\": {\"color\": \"hsl(54.642857142857146,80%,50%)\", \"size\": 10}, \"mode\": \"markers\", \"name\": \"cluster 3\", \"type\": \"scatter\", \"x\": [57.05704879760742, 61.51570510864258], \"y\": [-2.8505091667175293, -6.035499095916748]}, {\"marker\": {\"color\": \"hsl(54.642857142857146,80%,50%)\", \"line\": {\"color\": \"black\", \"width\": 5}, \"size\": 15}, \"mode\": \"markers\", \"name\": \"centroid cluster 3\", \"type\": \"scatter\", \"x\": [61.51570510864258], \"y\": [-6.035499095916748]}, {\"hovertext\": [\"\\r\\nMiserable experience. They screwed up everything imaginable and never accepted responsibility for any of their errors. I wouldnt recommend them for the purchase of a doghouse much less purchasing a new home. \\r\\n        \", \"Miserable experience. They screwed up everything imaginable and never accepted responsibility for any of their errors. I wouldnt recommend them for the purchase of a doghouse much less purchasing a new home.\", \"\\r\\nMiserable experience. They screwed up everything imaginable and never accepted responsibility for any of their errors. I wouldnt recommend them for the purchase of a doghouse much less purchasing a new home. \\r\\n        \"], \"marker\": {\"color\": \"hsl(72.85714285714286,80%,50%)\", \"size\": 10}, \"mode\": \"markers\", \"name\": \"cluster 4\", \"type\": \"scatter\", \"x\": [46.26580047607422, 41.22836685180664, 44.970489501953125], \"y\": [-80.25393676757812, -78.86060333251953, -75.204345703125]}, {\"marker\": {\"color\": \"hsl(72.85714285714286,80%,50%)\", \"line\": {\"color\": \"black\", \"width\": 5}, \"size\": 15}, \"mode\": \"markers\", \"name\": \"centroid cluster 4\", \"type\": \"scatter\", \"x\": [46.26580047607422], \"y\": [-80.25393676757812]}, {\"hovertext\": [\"\\r\\nAs a first time home buyer the process can be very daunting. Brandon was a great guide through the entire process. I feel that he did his absolute best to provide me with a fair rate. He was very responsive and helpful with any and all questions. I can assure you I will use him for my next home purchase.\\r\\n        \", \"\\r\\nOur last home purchase was a stressful and challenging process to say the least.  One so difficult that we were reluctant to embark on the process again since that was the only experience we have known.  Expressing the dread of the journey to our realtor, he recommended for us to use Guaranteed Rate and to trust him on this recommendation. We are so happy that we did because we were absolutely blown away with Guaranteed Rate!  This time around was such a breeze because of Rick Richter and his wonderful team! They broke down the process beautifully, eliminated any guesswork, and were always available for any questions or clarification.  I guarantee that you will have a phenomenal experience with Guaranteed Rate... Read More\\r\\n        \", \"\\r\\nIt is simple really. Doing a re-fi is a lot of work, and can be stressful. What you look for in a company is one that is going to handle all that for you, and work to your best interest, as well as present ideas to you that you may not have known were options. Once your strategy is underway, you want communication, updates and overall insight as to how the process is going, and those three things should happen easily and in a non-invasive way. DLJ checks off every box mentioned above. I would highly recommend them to anyone that wants to do a re-fi correctly and with minimal stress... Read More\\r\\n        \", \"\\r\\nI never write reviews but had to this time to prevent anyone from making the same mistake as I. That mistake was using North American Savings Bank over other lenders. I started my refinance with this company with the assurance that it would be a standard refinance without any problems and would be completed in a minimal amount of time. Communication with the company was below average after I confirmed that I would be pursuing a loan with them. I had the impression that the loan officer was more interested in attracting more business than helping me. The company uses a convoluted email system that sometimes worked but mostly didn't. This led to frequent emails and phone calls asking for documents to be resent. After having an assessment done on my house and paying for it the communication all but stopped. When I was able to reach the loan officer I was told that I would personally have to find additional comps in my area. I was more than a little annoyed as this is what I was going to be paying them for, however I complied. After contacting area realtors and securing what I believe were suitable comps I forwarded them to the officer. A week went by before my phone calls and emails were answered. At that time I was told that my comps weren't sufficient and as a result they couldn't ensure that my residence was worth anything despite the assessment's findings. As a result they would not be issuing me a loan. By the time they decided to do me the honor of informing me of this the rates had risen by a half point. I should warn that the loan officer had a way of recording voicemail messages and forwarding them to my voicemail account without calling me. He did this when he had bad news and i feel like it was an effort to avoid conversing with me. I'm now stuck with a $450 assessment that other banks are telling me that I can't use. In other words I will have to pay for a new assessment. I'm also out the money for credit reports and of course I'll be paying a higher interest rate on any new loan I secure. I was told by the loan officer that there was no recourse to recoup the money I had spent. I expect to be paying for my mistake for years. I should point out that I refinanced my loan one year ago without any issues. I strongly urge anyone looking to refinance or obtain a new loan to bypass North American Savings Bank no matter what they promise. Save yourself time, money and a lot of aggravation... Read More\\r\\n        \", \"I never write reviews but had to this time to prevent anyone from making the same mistake as I. That mistake was using North American Savings Bank over other lenders. I started my refinance with this company with the assurance that it would be a standard refinance without any problems and would be completed in a minimal amount of time. Communication with the company w...\\u00a0\", \"\\r\\nPositive: Completed mortgage refinance reducing my APR from 5.25% to 3.5%\\r\\n\\r\\nHowever: The 3.5% rate was available at several competitors, several of whom offered lower fees. I was also refinancing to reinstate my VA Certificate of Eligibility toward purchase of a home. Since the rate was available elsewhere, I hired GR based on the broker's claim that the transaction could be completed within 4-5 weeks or less. I formally began the process with Guaranteed Rate on July 2. Based on broker feedback that the transaction was in underwriting on July 23rd, we planned the closing date on our new home purchase for 1 month later and I alerted VA. This refinance didn't close with GR until a full month later (Aug 23) and the loan was funded on Aug 27. I came within 2 days of missing a rate-lock date on the other new-home purchase mortgage because of this.\\r\\n\\r\\nCommunications from the broker was horrible. As I mentioned, in parallel with this effort, I was going through the process of obtaining a home purchase mortgage from another company, so I have a great basis of comparison. I received no information from Guaranteed Rate without having to ask for it. When I did receive information, it was minimal (typically \\\"yes\\\" or \\\"no\\\" answer), so I had to follow-up with additional questions to get clarification on details (I don't do this for a living, that's why I hired GR! I definitely did NOT receive my money's worth).\\r\\n\\r\\nIf I'm to believe the broker, my loan package spent 4 1/2 weeks in underwriting. BTW, my credit scores are all above 770, so there was no issue there. When asked, the broker never offered any rationale for the delay.\\r\\n\\r\\nWhen asked by GR, I sent this same review two weeks ago. Surprise - I haven't heard a word back from them apologizing for their complete lack of customer service.\\r\\n\\r\\nTrust me, you can do better than these guys... Read More\\r\\n        \", \"\\r\\nIt was a great experience working with Stephanie and her team.  The loan process went so smoothly that we were able to close 4 days earlier than expected. My realtor had not worked with Triumph before but she made the comment at close that the process went so smoothly because of the great lender and title company that we used.  I would definitely reach out to Triumph for any of my future lending needs... Read More\\r\\n        \"], \"marker\": {\"color\": \"hsl(91.07142857142858,80%,50%)\", \"size\": 10}, \"mode\": \"markers\", \"name\": \"cluster 5\", \"type\": \"scatter\", \"x\": [-16.6257381439209, 2.027275562286377, 16.564002990722656, 5.794680118560791, 3.03031587600708, 6.288711071014404, 16.169734954833984], \"y\": [-32.06514358520508, -36.58503723144531, -40.525291442871094, -44.826045989990234, -49.330352783203125, -28.14397621154785, -49.60397720336914]}, {\"marker\": {\"color\": \"hsl(91.07142857142858,80%,50%)\", \"line\": {\"color\": \"black\", \"width\": 5}, \"size\": 15}, \"mode\": \"markers\", \"name\": \"centroid cluster 5\", \"type\": \"scatter\", \"x\": [5.794680118560791], \"y\": [-44.826045989990234]}, {\"hovertext\": [\"\\r\\nJoey was very helpful. We appreciated his friendly manner and his timely responses.\\r\\n        \", \"\\r\\nMark and his team were very helpful and provided a great experience, fast closing and competitive rates.\\r\\n        \", \"\\r\\nRob was very helpful in getting this loan closed. Few issues on our end we didn't know about but he was still able to get it done on time.\\r\\n        \", \"\\r\\nThey completed everything on time to get us through a quick closing. So helpful!\\r\\n        \", \"\\r\\nThey were quick, professional, friendly, and cost effective.\\r\\n        \", \"\\r\\nOur loan officer, Joey Hartegan, was friendly and very helpful. My wife and I were very pleased that we chose NASB to refinance our home.\\r\\n        \", \"\\r\\nBob did amazing job . If I can give more than 5 stars I would . Process went so smooth and stress free . Definitely will respond super fast and super helpful. 100 % satisfaction \\r\\n        \"], \"marker\": {\"color\": \"hsl(109.28571428571429,80%,50%)\", \"size\": 10}, \"mode\": \"markers\", \"name\": \"cluster 6\", \"type\": \"scatter\", \"x\": [-20.53526496887207, -29.808393478393555, -21.10869789123535, 40.74106216430664, 38.7724609375, -26.048078536987305, -19.67003059387207], \"y\": [15.815740585327148, 23.01988410949707, 56.881553649902344, 24.092496871948242, 17.100330352783203, 14.891321182250977, 22.75737762451172]}, {\"marker\": {\"color\": \"hsl(109.28571428571429,80%,50%)\", \"line\": {\"color\": \"black\", \"width\": 5}, \"size\": 15}, \"mode\": \"markers\", \"name\": \"centroid cluster 6\", \"type\": \"scatter\", \"x\": [-20.53526496887207], \"y\": [15.815740585327148]}, {\"hovertext\": [\"\\r\\nShe, in every way, is a wonderful person, business woman and 100% considerate of your goals and helping you achieve them.  She went about and beyond in helping me make good decisions as well as educate me on options.  I could not have been more happy to connect with her during this process and will definitely use her again in the future if needed. \\r\\n        \", \"\\r\\nI worked with a person name Andrew Leehy.  He is a very hard working, honest person with the customers interest not the commission at heart.\\r\\n        \", \"\\r\\nWhat a horrible experience. We have excellent credit, plenty of income, etc. NASB rep made tons of promises to get us to sign up, but then just a few weeks before the closing, she just disappeared, and failed to give us a lock or firm closing date! Thankfully, we sensed the problems and immediately contacted a local lender that got us the loan on better terms with lower rates in only 3 weeks. NASB rep constantly complained about being too busy and having too many matters to work on; this became very apparent towards the end. Not sure to this day why she didn't want our business other than they apparently cannot follow through for some reason or another. I'm sure there are good lenders here, but this is not one of them... Read More\\r\\n        \", \"\\r\\nI was contacted via email by Jody Martin twice. I answered her questions then never heard from her again. That's not what I call good customer service. If they were unable to approve me for a mortgage that's fine, but at least let me know.\\r\\n        \", \"\\r\\nThanks to Reliance Capital for helping us get through what we thought would be a difficult if not impossible refinance.  We've had some credit issues in the past but lately we've been working hard on improving our scores.  We are happy that Reliance Capital was able to work with us and help guide us throughout the process despite our less than stellar financial situation.  Thanks especially to Patrick G for his excellent customer service and reassurance each step of the way... Read More\\r\\n        \", \"\\r\\nI can't begin to express my happiness with working with Aaron, not only is he professional and knowledgeable but he literally ended up saving me thousands of dollars on my loan! I thought I had good rate until I spoke with him and we were able to lower it almost a full 1% which saved us hundreds of dollars per month and then he was able to get everything approved/closed on a very tight timeline of less than 4 weeks! I highly recommend him... Read More\\r\\n        \", \"\\r\\nThey increased my rate, quoted me different closing costs 5 different times, took 2 months to get to closing, and needed information that should not have mattered in the least.\\r\\n        \", \"\\r\\nThe Interest rate offered and time to close being short sold us on the loan so we pursued it despite -\\r\\n1. the fact that a credit check and underwriting was made when per VA rules for an IRRRL these were not necessary and we were assured by Mr. Owens when first discussing the refinancing they would not be made. \\r\\n2. the constant errors in the paperwork. One huge error was the Loan Estimate had rolled in initial escrow funding into the loan amount when we expressly communicated at the beginning that we did not want to finance it but pay for it at closing from available funds. Another was not classifying the currently owed property taxes as a prepaid for immediate disbursement to the county but trying to collect it at closing rolling it into the initial escrow account to be paid in December just a month later during the time NASB intended to sell the mortgage. Thankfully this was corrected by the Closing Agent.\\r\\n3. Mr. Owens not being straight with us about NASB's intent to sell the mortgage after closing. His statements of first saying NASB would not consider a sale and intended to keep the mortgage on its books then after the statement it would be sold appeared in the Loan Estimate saying a sale was not definite but only there \\\"just in case it had to be sold sometime in the future.\\\" Since today, just 5 days after disbursement, I find out that our mortgage is on the books for immediate sale shows Mr. Owens likely knew of a definite sale and tried to mislead us by saying it wasn't definite. \\r\\n4. taking 4 calendar days to address errors and issues in the initial Closing Document which prevented us from knowing the amount we were financing and the amount we needed to pay at closing which was supposed to be made through a certified check until 15 minutes prior to arrival at the Closing Agent's place of business.\\r\\nPros allow for the Neutral instead of bad rating because the \\\"despites\\\" show that the customer support during this loan process was extremely poor and unacceptable.\\r\\n... Read More\\r\\n        \", \"\\r\\nFantastic communicator, and able to offer options you may not have considered. Thinks about the big picture and how to best achieve your long-term goals.\\r\\n        \", \"\\r\\nIt was fast easy and did not have to leave the comforts of our home... Steven Shatz was so friendly and helped us at every turn... I would recommended to everyone that needs financing to go through this company.. \\r\\n        \", \"\\r\\nMary Connolly and her staff as well as upper management were nothing but helpful during the entire process.  Mary is a special lady, she took her time with me, understood my goals and helped me achieve them.  She never made me feel uncomfortable or nervous about our situation and was always available to help when I needed her.  If she did not have the answer she found it for me. These are wonderful people to work with... Read More\\r\\n        \", \"\\r\\n Lisa Podorson has set my closing date three different dates, which she has reneged on since August 2017. Ms. Podorson has continued to asked for documents at the last minuet. She does not return text or phone calls for an entire week. She did not return my calls until I decided to cancel the refinancing and Contact the BBB.  She has been very unprofessional during this process. This experience was very unpleasant... Read More\\r\\n        \", \"\\r\\nChris is not a hard sell guy. He earns your business by giving you a great deal and working hard for you. Chris was always responsive and, most of the time, reached out to me before I even contacted him. His follow-up is great as well. I highly recommend him. If you do your part and provide the required information to obtain your loan, this man breaks speed records getting it done. Two thumbs up... Read More\\r\\n        \", \"\\r\\nWords cannot express my gratitude for John Spellman.  He was absolutely amazing from day one.  He treated me as if I was his only client, although I know I wasn't.  I am sure he did not get paid what he deserved in working with me.  I cannot say enough about him and I think Reliance is extremely lucky to have him!  His patience, understanding, amazing service, and knowledge exceeded my expectations beyond measure!  My approval and closing went so quickly that my head was almost spinning... Read More\\r\\n        \", \"\\r\\nAt the end of the 35 day period, we were about to sign our contract for our new mortgage. IT was $2500 more than what was disclosed to us. We were not able to close and guaranteed rate NEVER told us about the extra cost. I talked with several supervisors, to which, nothing was dealt with appropriately for Service Recover, Customer satisfaction or complaint/grievance resolution. I called QUICKEN LOANS and they were able to help me quickly and were professional. I would not recommend Guaranteed Rate.... Read More\\r\\n        \"], \"marker\": {\"color\": \"hsl(127.5,80%,50%)\", \"size\": 10}, \"mode\": \"markers\", \"name\": \"cluster 7\", \"type\": \"scatter\", \"x\": [31.054285049438477, 50.82726287841797, 20.360301971435547, 33.22315979003906, 21.739025115966797, 48.20919418334961, 59.199886322021484, 49.8724479675293, 36.24063491821289, 23.148189544677734, 33.014488220214844, 41.32825469970703, 31.862850189208984, 43.03654479980469, 48.80794143676758], \"y\": [-24.428997039794922, -31.55917739868164, -28.337766647338867, -40.68324279785156, -19.041902542114258, -42.83658218383789, -22.734285354614258, -16.048282623291016, -19.445430755615234, -38.12833786010742, -28.535371780395508, -24.115299224853516, -54.97751235961914, -42.44888687133789, -23.220001220703125]}, {\"marker\": {\"color\": \"hsl(127.5,80%,50%)\", \"line\": {\"color\": \"black\", \"width\": 5}, \"size\": 15}, \"mode\": \"markers\", \"name\": \"centroid cluster 7\", \"type\": \"scatter\", \"x\": [48.80794143676758], \"y\": [-23.220001220703125]}, {\"hovertext\": [\"\\r\\nA great lender to work with!\\r\\n        \", \"\\r\\nExcellent customer service - had a great experience working with lender Marcos Maya & team!\\r\\n        \", \"\\r\\nMike's knowledge and enthusiasm are evident in everything he does. I've never worked with anyone who responds to emails faster. Great communication and great service.\\r\\n        \", \"\\r\\nGreat service and easy\\r\\n        \"], \"marker\": {\"color\": \"hsl(145.71428571428572,80%,50%)\", \"size\": 10}, \"mode\": \"markers\", \"name\": \"cluster 8\", \"type\": \"scatter\", \"x\": [-54.13290023803711, -49.37553024291992, -38.183807373046875, -42.41319274902344], \"y\": [19.422090530395508, 8.076353073120117, 34.884429931640625, 42.831756591796875]}, {\"marker\": {\"color\": \"hsl(145.71428571428572,80%,50%)\", \"line\": {\"color\": \"black\", \"width\": 5}, \"size\": 15}, \"mode\": \"markers\", \"name\": \"centroid cluster 8\", \"type\": \"scatter\", \"x\": [-54.13290023803711], \"y\": [19.422090530395508]}, {\"hovertext\": [\"\\r\\nIncredibly responsive and completed the process with LITTLE effort.\\r\\n        \", \"\\r\\nStephanie Drewry took such wonderful care of us, while we were purchasing a home in another state!  I felt as though we were the only customers, because we received such personal, timely care.\\r\\n        \", \"\\r\\nI would like to thank Brent for working with us. He kept encouraging us when we felt we would get turned down because of a previous lender. Brent and his team did everything possible to meet our deadline. Thanks to him,  we are now happy home owners. \\r\\n        \", \"\\r\\nVanessa was, in a word, fantastic.\\r\\n\\r\\nShe was there for me every step of the way, with a perfect balance of professionalism and enthusiasm.\\r\\n\\r\\nShe was always very quick to respond to respond to my questions and, even more importantly, her answers were always right.\\r\\n\\r\\nI did check with a few other mortgage companies and their representatives couldn't hold a candle to her... Read More\\r\\n        \", \"\\r\\nVery professional yet personable.  Quick to help with any questions or obstacles to the funding process.  I highly recommend Peter Lammerts and his team.\\r\\n        \", \"\\r\\nvery professional, kept us up-to-date with the progress of our loan, very accommodating\\r\\n\\r\\n        \", \"\\r\\nOur contact Maurice was professional and courteous in all of our discussions. He explained the details and worked to meet our timelines. He was excellent.\\r\\n        \", \"\\r\\nTeddy Ferrell and Binh Lai were excellent team members. Teddy explained everything from beginning to end and was very honest and up front with all that was required for my transactions to take place. He answered all of my calls and emails in a very timely manner. Very professional with excellent communication\\r\\n        \", \"\\r\\nTriumph's customer service was great.  Stephanie worked very hard to ensure we closed on time and to address/resolve issues that arose prior to closing.  I suggest you use them and specifically request Stephanie Drewry.\\r\\n        \", \"\\r\\nEasy, going the extra mile and overcoming obstacles.  Truthful, honest and dependable.  Very professional and friendly.\\r\\n        \", \"\\r\\nGood guy to work with.  Very responsive.  No surprises.\\r\\n        \", \"Great website, knowledgeable, responsive and always got back to us quickly with answers to our questions. Mortgage process can be very tedious and they made it easy.\", \"\\r\\nExcellent service . RC stayed on top of everythign to make sure we closed on target .. i would recommend to anyone looking for a home loan .\\r\\n        \", \"\\r\\nVery professional yet personable.  Quick to help with any questions or obstacles to the funding process.  I highly recommend Peter Lammerts and his team.\\r\\n        \", \"\\r\\nEverything worked great, a very smooth process. We are very pleased. Alex did an incredible job for us. Thank you!,\\r\\n        \", \"\\r\\nJason Bean and June Lee were honest and very responsive. \\r\\n        \", \"\\r\\nVery informative, and responsive\\r\\n        \", \"\\r\\nTriumph's customer service was great.  Stephanie worked very hard to ensure we closed on time and to address/resolve issues that arose prior to closing.  I suggest you use them and specifically request Stephanie Drewry.\\r\\n        \", \"\\r\\nAs a first time homebuyer I was walking blindly, Bryant became my guide! I recall telling him \\\"I don't speak mortgage\\\" and that was no problem at all. Bryant was kind, understanding, and genuinely cared throughout the entire process from my online application to the day we became homeowners. He was very prompt and always gave clear explanations of what was happening, next steps, and what path would be in my best interest. Even when there were bumps in the road he was there to smooth them out. I would recommend Bryant to anyone seeking financial wisdom in their buying/refinancing process... Read More\\r\\n        \", \"\\r\\nLee's team of Ethan and Angelica did a fantastic job making my loan happen.  I had complications and they figured out a way to complete the loan.  Very happy.\\r\\n\\r\\nJim.\\r\\n        \", \"\\r\\nexcellent service. always called and emailed to give status of our loan. very accommodating.\\r\\n        \", \"\\r\\nI am pretty sure they set a world record in getting my paperwork done PROPERLY and without hassle. I'd recommend doing business with them hands down.\\r\\n        \", \"\\r\\nCalled me after 60 seconds of submitting my Lending tree form. Asked if they could run some numbers by me, which I later found out was pulling my credit score without my permission. Didnt ask any specifics, just emailed a preapproval letter with a horrible rate.\\r\\n        \", \"\\r\\nGuaranteed Rate provided us a seamless loan experience from beginning to end, with wonderful service from all the staff.  We shopped many lenders, but found Guaranteed Rate offered the most candid feedback, honest rates, and reasonable fees.  Thank you.\\r\\n        \", \"\\r\\nI met Mr. Germain through my daughter and son in law who have known him and have done business with him for several years. Mr. Germain also helped my granddaughter buy her first home.  We moved from our home in another state that we lived in for 59 years.  Thinking this would be a very frightening and intimidating process I was dreading the whole thing.  Mr. Germain made the transition to a new home so much easier because of his knowledge and compassion.  I would recommend Mr. Germain to anyone out there who wants a less stressful and very positive experience. ... Read More\\r\\n        \", \"Great web interface for both the loan application and document upload and download features. Quick responses to any questions or concerns. Willingness to communicate almost exclusively via email...as phone calls weren't always an option for us.\", \"\\r\\nStephanie was awesome!!! Worked very hard for us to make sure the loan closed.\\r\\n        \"], \"marker\": {\"color\": \"hsl(163.92857142857144,80%,50%)\", \"size\": 10}, \"mode\": \"markers\", \"name\": \"cluster 9\", \"type\": \"scatter\", \"x\": [-3.697206735610962, -13.385478019714355, -58.812522888183594, -2.944943428039551, 0.1978943645954132, 2.880486488342285, -36.76827621459961, -42.73395919799805, -29.96004867553711, -16.439481735229492, -52.97483444213867, 10.84654426574707, -32.42405319213867, -2.838716506958008, -30.55640983581543, -11.43015193939209, -10.921874046325684, -26.467994689941406, -5.211251735687256, 20.590221405029297, -38.63146209716797, 28.25166130065918, 28.644126892089844, 12.699394226074219, -9.027642250061035, -21.881637573242188, -24.009157180786133], \"y\": [14.063802719116211, 4.534828186035156, -4.96578311920166, 5.135555744171143, 21.47393035888672, 31.53365707397461, 0.6203819513320923, 1.4306812286376953, 34.76655960083008, 11.798791885375977, 30.68053436279297, 17.456514358520508, 7.589415550231934, 24.076875686645508, 43.738800048828125, 12.595786094665527, 18.622833251953125, 32.822181701660156, -3.833852767944336, 18.498638153076172, 10.87028694152832, 9.36880111694336, 15.32511043548584, -9.400158882141113, -0.9248175024986267, 4.700721740722656, 39.95233154296875]}, {\"marker\": {\"color\": \"hsl(163.92857142857144,80%,50%)\", \"line\": {\"color\": \"black\", \"width\": 5}, \"size\": 15}, \"mode\": \"markers\", \"name\": \"centroid cluster 9\", \"type\": \"scatter\", \"x\": [-11.43015193939209], \"y\": [12.595786094665527]}, {\"hovertext\": [\"\\r\\nWas a quick and easy process. They worked with me to find a loan that would fit my circumstances. Very satisfied with the entire process. My third loan through them.\\r\\n        \", \"\\r\\nWas a quick and easy process. They worked with me to find a loan that would fit my circumstances. Very satisfied with the entire process. My third loan through them.\\r\\n        \"], \"marker\": {\"color\": \"hsl(182.14285714285717,80%,50%)\", \"size\": 10}, \"mode\": \"markers\", \"name\": \"cluster 10\", \"type\": \"scatter\", \"x\": [29.030235290527344, 32.544273376464844], \"y\": [61.77959442138672, 63.77366256713867]}, {\"marker\": {\"color\": \"hsl(182.14285714285717,80%,50%)\", \"line\": {\"color\": \"black\", \"width\": 5}, \"size\": 15}, \"mode\": \"markers\", \"name\": \"centroid cluster 10\", \"type\": \"scatter\", \"x\": [29.030235290527344], \"y\": [61.77959442138672]}, {\"hovertext\": [\"\\r\\nI just want to thank Robert McClung and Janeen Cadwell for their kind assistance through the loan process.  Although I had many questions in the beginning, Robert provided the information required to make me feel comfortable with refinancing our home.  What a great experience and I highly recommend DLJ Financial.  Thanks again Robert and Janeen for the great service.\\r\\n        \", \"\\r\\nI was extremely impressed with the proffessionalism, the quality and speed of the quotes, the ability to communicate through my preferred methods and the speed to close. After speaking to several other loan officers, it was Jon Barrett at NASB that won us over. We couldnt have been happier with the service. Great work!  \\r\\n        \", \"\\r\\nBuying a house is the most stressful thing I have done. Specially with the developer company I had to deal with!, but Mark and his team were the best !\\r\\nThey were always helpful, on time, and went the extra mile to help me and solve all my questions.\\r\\n\\r\\nI am really happy I chose them!, from the very beginning they showed their professionalism and their customer care skills.\\r\\n\\r\\nFrom the bottom of my heart! thank you!! for helping me get my first home!!\\r\\n\\r\\n... Read More\\r\\n        \", \"\\r\\nKelly & Rasool were extremely helpful! It was a stressful time for me and my family and they made us feel taken care of and really cared about helping us! Thank you Again! I will be referring them to family and friends in the future!\\r\\n        \", \"\\r\\nIt was the first time we refinanced our home and Kirk was Knowledgeable and made it very easy for us throughout the process. Great rate and service. Thank you.\\r\\n        \", \"\\r\\nIt was a pleasure with John. Besides all the fees and closing costs being lower than other brokers that I reached out to, John was involved in every step of the way. He was on top of every element of the transaction and communicated timely, nothing was left to chance and even the loan was ready to be funded one week prior to closing day!\\r\\nHaving shopped around and compared other brokers, I know I made a great decision (financially and for peace of mind) going with John. I would not hesitate to recommend his services to anyone looking for a home loan... Read More\\r\\n        \", \"\\r\\nI had a fantastic experience working with Brian Belcer and his team at Guaranteed Rate while purchasing my first home. He made himself available just about any time, day or night, to walk me through the process and answer all of my questions. I am very happy with the mortgage I was able to obtain, and ultimately feel that I am much more educated on the process now than I was before working with GR. I highly recommend them to anyone in the market for a home, and will absolutely be using them again for all of my future home purchases... Read More\\r\\n        \", \"\\r\\n\\r\\nJaclyn & Maribel,\\r\\n\\r\\nFirst time doing a refi completely online. We have owned several properties for over 40 years. DLJ Senior Mortgage Banker Jaclyn M and Maribel N were both courteous, professional, knowledgeable to every extent and made this choice with DLJ, one we wish we had for every property purchase or refi we made in the past. Seemless and delivered on every promise made on day one. We couldn't have been happier for the service they provided and the manner in which they provided it. 5 Star all the way around. Thank you to both of you and your DLJ Team... Read More\\r\\n        \", \"\\r\\nANTHONY MARROQUIN was my primary Senior Mortgage Banker. Anthony patiently and thoroughly fully explained everything to me step by step from start to finish while exploring all options for the best results. I went with DLJ because of Anthony - his individualized care, his competence, and his commitment to making all the right stuff happen. As anyone who is in the financing market knows, when you begin to research options you are swamped by endless phone calls and texts from dozens of companies all offering everything - but usually not disclosing the downsides or hidden fees. Anythony is so savvy, financially creative, thoughtful, and thorough that I chose to work with him and DLJ versus any other company. Anthony walked me through all the steps and requirements from beginning to successful finish. Thus my 5 stars for Anthony. If and when I do a further refinance, I will go to Anthony Marroquin and DLJ Financial for the best service and options... Read More\\r\\n        \", \"\\r\\nI had the pleasure of working with Mr. Barrett from NASB and I couldn\\u2019t be more please. From the very beginning Mr. Barrett guided us on our journey with the upmost courtesy and respect. Even while closing Mr. Barrett once again came to the rescue helping me save even more money! A big thanks to Mr. Barrett and the team at NASB. When I buy again I know who I\\u2019ll call\\r\\n        \", \"\\r\\nI tried emailing the lender, and it got sent back to me. I tried calling the lender and all I got was a busy signal. I couldn't get a hold of anyone.\\r\\n        \", \"\\r\\nI just want to thank Robert McClung and Janeen Cadwell for their kind assistance through the loan process.  Although I had many questions in the beginning, Robert provided the information required to make me feel comfortable with refinancing our home.  What a great experience and I highly recommend DLJ Financial.  Thanks again Robert and Janeen for the great service.\\r\\n        \", \"\\r\\nBuying a house is the most stressful thing I have done. Specially with the developer company I had to deal with!, but Mark and his team were the best !\\r\\nThey were always helpful, on time, and went the extra mile to help me and solve all my questions.\\r\\n\\r\\nI am really happy I chose them!, from the very beginning they showed their professionalism and their customer care skills.\\r\\n\\r\\nFrom the bottom of my heart! thank you!! for helping me get my first home!!\\r\\n\\r\\n... Read More\\r\\n        \", \"\\r\\nJust got funded with DLJ and it was a very smooth transaction.  Michele Neal was a pleasure  from the Hello on. She was super communicative professional and available at all times. She worked with Sekani Hamiltn who processed the loan and was also in constant contact with me. They were a \\r\\ngreat team. Sekani was attentive, responsive and both were very knowledgeable in the fields. I wouldn't hesitate to use DLJ in my future for any of their services.\\r\\nI had a good experience working with both of these customer- service oriented people who reflect DLJ... Read More\\r\\n        \", \"\\r\\nBuying a home is complicated, there a multiple parties, and competing interests, and it can be a really stressful and frustrating experiecne. What helps enormously is working with a lender that is upfront about what it can offer and accept, in terms of type of loan, type of property, downpayment, and timing of close.  \\r\\nI received a call from DLJ when my previous lender changed terms on me two weeks into escrow, and in desperation I had filled out the Lending Tree form in the hope if finding a new lender. \\r\\nAt the time, I honestly thought my purchase was going to fall through. \\r\\nThe next day I received a call from a number and a lender I didn't recognize. It was DLJ. Am I glad I answered the phone!\\r\\nWithin minutes, Adan Munoz had me back on track. DLJ's team was, across the board, knowledgable, articulate, well-coordinated, calm and constructive. They offered a product that met my needs perfectly, and got me across the finish line in record time.\\r\\nSpecial shout-out to the focused, unflappable, and highly responsive Ranee Martinez... Read More\\r\\n        \", \"I can't express how grateful I am for the support that Zach provided to me and my family during this home purchase! His customer service, responsiveness and professional demeanor is second to none. He was very thorough and took the time to educate me about the process along the way. I highly recommend working with Zach and Wyndham Capital!\", \"I worked with Kory and Carla at NASB. They were a superb team and provided excellent, responsive and knowledgeable service throughout the entire process. Ours was a complicated process with a refinance and a loan and they hung in there with us the entire time. It was a great experience working with both of them. I highly recommend them and will use them in the future\\u00a0for all of my mortgage needs\"], \"marker\": {\"color\": \"hsl(200.35714285714286,80%,50%)\", \"size\": 10}, \"mode\": \"markers\", \"name\": \"cluster 11\", \"type\": \"scatter\", \"x\": [-11.665814399719238, 24.905405044555664, 14.106932640075684, 19.953500747680664, -5.607799530029297, 13.180371284484863, -11.22177505493164, 18.859649658203125, 7.179126739501953, -27.696170806884766, 4.142371654510498, -8.235271453857422, 10.011474609375, 4.903373718261719, 4.331883430480957, -5.13419771194458, 14.263400077819824], \"y\": [41.87351989746094, 33.33298110961914, -70.8661880493164, 4.443069934844971, 49.944549560546875, -18.673810958862305, -29.255020141601562, 10.651538848876953, -14.810223579406738, -30.51657485961914, -0.02345394343137741, 39.68755340576172, -71.09437561035156, 12.285127639770508, -6.298726558685303, -32.62602233886719, 26.6204833984375]}, {\"marker\": {\"color\": \"hsl(200.35714285714286,80%,50%)\", \"line\": {\"color\": \"black\", \"width\": 5}, \"size\": 15}, \"mode\": \"markers\", \"name\": \"centroid cluster 11\", \"type\": \"scatter\", \"x\": [14.106932640075684], \"y\": [-70.8661880493164]}, {\"hovertext\": [\"\\r\\nEasy and smooth process\\r\\n        \"], \"marker\": {\"color\": \"hsl(218.57142857142858,80%,50%)\", \"size\": 10}, \"mode\": \"markers\", \"name\": \"cluster 12\", \"type\": \"scatter\", \"x\": [-12.751764297485352], \"y\": [28.93521499633789]}, {\"marker\": {\"color\": \"hsl(218.57142857142858,80%,50%)\", \"line\": {\"color\": \"black\", \"width\": 5}, \"size\": 15}, \"mode\": \"markers\", \"name\": \"centroid cluster 12\", \"type\": \"scatter\", \"x\": [-12.751764297485352], \"y\": [28.93521499633789]}, {\"hovertext\": [\"\\r\\nWas not able to provide a viable product for my needs. Was rude when I was confused and upset about their inability to help.\\r\\n        \"], \"marker\": {\"color\": \"hsl(236.7857142857143,80%,50%)\", \"size\": 10}, \"mode\": \"markers\", \"name\": \"cluster 13\", \"type\": \"scatter\", \"x\": [40.15373992919922], \"y\": [-32.270938873291016]}, {\"marker\": {\"color\": \"hsl(236.7857142857143,80%,50%)\", \"line\": {\"color\": \"black\", \"width\": 5}, \"size\": 15}, \"mode\": \"markers\", \"name\": \"centroid cluster 13\", \"type\": \"scatter\", \"x\": [40.15373992919922], \"y\": [-32.270938873291016]}, {\"hovertext\": [\"\\r\\ncan someone explain why the APR is more than a point higher than the interest rate, if there are $0 fees? ?\\r\\n        \"], \"marker\": {\"color\": \"hsl(255.0,80%,50%)\", \"size\": 10}, \"mode\": \"markers\", \"name\": \"cluster 14\", \"type\": \"scatter\", \"x\": [18.462783813476562], \"y\": [-7.402068614959717]}, {\"marker\": {\"color\": \"hsl(255.0,80%,50%)\", \"line\": {\"color\": \"black\", \"width\": 5}, \"size\": 15}, \"mode\": \"markers\", \"name\": \"centroid cluster 14\", \"type\": \"scatter\", \"x\": [18.462783813476562], \"y\": [-7.402068614959717]}],\n",
       "                        {\"template\": {\"data\": {\"bar\": [{\"error_x\": {\"color\": \"#2a3f5f\"}, \"error_y\": {\"color\": \"#2a3f5f\"}, \"marker\": {\"line\": {\"color\": \"#E5ECF6\", \"width\": 0.5}}, \"type\": \"bar\"}], \"barpolar\": [{\"marker\": {\"line\": {\"color\": \"#E5ECF6\", \"width\": 0.5}}, \"type\": \"barpolar\"}], \"carpet\": [{\"aaxis\": {\"endlinecolor\": \"#2a3f5f\", \"gridcolor\": \"white\", \"linecolor\": \"white\", \"minorgridcolor\": \"white\", \"startlinecolor\": \"#2a3f5f\"}, \"baxis\": {\"endlinecolor\": \"#2a3f5f\", \"gridcolor\": \"white\", \"linecolor\": \"white\", \"minorgridcolor\": \"white\", \"startlinecolor\": \"#2a3f5f\"}, \"type\": \"carpet\"}], \"choropleth\": [{\"colorbar\": {\"outlinewidth\": 0, \"ticks\": \"\"}, \"type\": \"choropleth\"}], \"contour\": [{\"colorbar\": {\"outlinewidth\": 0, \"ticks\": \"\"}, \"colorscale\": [[0.0, \"#0d0887\"], [0.1111111111111111, \"#46039f\"], [0.2222222222222222, \"#7201a8\"], [0.3333333333333333, \"#9c179e\"], [0.4444444444444444, \"#bd3786\"], [0.5555555555555556, \"#d8576b\"], [0.6666666666666666, \"#ed7953\"], [0.7777777777777778, \"#fb9f3a\"], [0.8888888888888888, \"#fdca26\"], [1.0, \"#f0f921\"]], \"type\": \"contour\"}], \"contourcarpet\": [{\"colorbar\": {\"outlinewidth\": 0, \"ticks\": \"\"}, \"type\": \"contourcarpet\"}], \"heatmap\": [{\"colorbar\": {\"outlinewidth\": 0, \"ticks\": \"\"}, \"colorscale\": [[0.0, \"#0d0887\"], [0.1111111111111111, \"#46039f\"], [0.2222222222222222, \"#7201a8\"], [0.3333333333333333, \"#9c179e\"], [0.4444444444444444, \"#bd3786\"], [0.5555555555555556, \"#d8576b\"], [0.6666666666666666, \"#ed7953\"], [0.7777777777777778, \"#fb9f3a\"], [0.8888888888888888, \"#fdca26\"], [1.0, \"#f0f921\"]], \"type\": \"heatmap\"}], \"heatmapgl\": [{\"colorbar\": {\"outlinewidth\": 0, \"ticks\": \"\"}, \"colorscale\": [[0.0, \"#0d0887\"], [0.1111111111111111, \"#46039f\"], [0.2222222222222222, \"#7201a8\"], [0.3333333333333333, \"#9c179e\"], [0.4444444444444444, \"#bd3786\"], [0.5555555555555556, \"#d8576b\"], [0.6666666666666666, \"#ed7953\"], [0.7777777777777778, \"#fb9f3a\"], [0.8888888888888888, \"#fdca26\"], [1.0, \"#f0f921\"]], \"type\": \"heatmapgl\"}], \"histogram\": [{\"marker\": {\"colorbar\": {\"outlinewidth\": 0, \"ticks\": \"\"}}, \"type\": \"histogram\"}], \"histogram2d\": [{\"colorbar\": {\"outlinewidth\": 0, \"ticks\": \"\"}, \"colorscale\": [[0.0, \"#0d0887\"], [0.1111111111111111, \"#46039f\"], [0.2222222222222222, \"#7201a8\"], [0.3333333333333333, \"#9c179e\"], [0.4444444444444444, \"#bd3786\"], [0.5555555555555556, \"#d8576b\"], [0.6666666666666666, \"#ed7953\"], [0.7777777777777778, \"#fb9f3a\"], [0.8888888888888888, \"#fdca26\"], [1.0, \"#f0f921\"]], \"type\": \"histogram2d\"}], \"histogram2dcontour\": [{\"colorbar\": {\"outlinewidth\": 0, \"ticks\": \"\"}, \"colorscale\": [[0.0, \"#0d0887\"], [0.1111111111111111, \"#46039f\"], [0.2222222222222222, \"#7201a8\"], [0.3333333333333333, \"#9c179e\"], [0.4444444444444444, \"#bd3786\"], [0.5555555555555556, \"#d8576b\"], [0.6666666666666666, \"#ed7953\"], [0.7777777777777778, \"#fb9f3a\"], [0.8888888888888888, \"#fdca26\"], [1.0, \"#f0f921\"]], \"type\": \"histogram2dcontour\"}], \"mesh3d\": [{\"colorbar\": {\"outlinewidth\": 0, \"ticks\": \"\"}, \"type\": \"mesh3d\"}], \"parcoords\": [{\"line\": {\"colorbar\": {\"outlinewidth\": 0, \"ticks\": \"\"}}, \"type\": \"parcoords\"}], \"scatter\": [{\"marker\": {\"colorbar\": {\"outlinewidth\": 0, \"ticks\": \"\"}}, \"type\": \"scatter\"}], \"scatter3d\": [{\"line\": {\"colorbar\": {\"outlinewidth\": 0, \"ticks\": \"\"}}, \"marker\": {\"colorbar\": {\"outlinewidth\": 0, \"ticks\": \"\"}}, \"type\": \"scatter3d\"}], \"scattercarpet\": [{\"marker\": {\"colorbar\": {\"outlinewidth\": 0, \"ticks\": \"\"}}, \"type\": \"scattercarpet\"}], \"scattergeo\": [{\"marker\": {\"colorbar\": {\"outlinewidth\": 0, \"ticks\": \"\"}}, \"type\": \"scattergeo\"}], \"scattergl\": [{\"marker\": {\"colorbar\": {\"outlinewidth\": 0, \"ticks\": \"\"}}, \"type\": \"scattergl\"}], \"scattermapbox\": [{\"marker\": {\"colorbar\": {\"outlinewidth\": 0, \"ticks\": \"\"}}, \"type\": \"scattermapbox\"}], \"scatterpolar\": [{\"marker\": {\"colorbar\": {\"outlinewidth\": 0, \"ticks\": \"\"}}, \"type\": \"scatterpolar\"}], \"scatterpolargl\": [{\"marker\": {\"colorbar\": {\"outlinewidth\": 0, \"ticks\": \"\"}}, \"type\": \"scatterpolargl\"}], \"scatterternary\": [{\"marker\": {\"colorbar\": {\"outlinewidth\": 0, \"ticks\": \"\"}}, \"type\": \"scatterternary\"}], \"surface\": [{\"colorbar\": {\"outlinewidth\": 0, \"ticks\": \"\"}, \"colorscale\": [[0.0, \"#0d0887\"], [0.1111111111111111, \"#46039f\"], [0.2222222222222222, \"#7201a8\"], [0.3333333333333333, \"#9c179e\"], [0.4444444444444444, \"#bd3786\"], [0.5555555555555556, \"#d8576b\"], [0.6666666666666666, \"#ed7953\"], [0.7777777777777778, \"#fb9f3a\"], [0.8888888888888888, \"#fdca26\"], [1.0, \"#f0f921\"]], \"type\": \"surface\"}], \"table\": [{\"cells\": {\"fill\": {\"color\": \"#EBF0F8\"}, \"line\": {\"color\": \"white\"}}, \"header\": {\"fill\": {\"color\": \"#C8D4E3\"}, \"line\": {\"color\": \"white\"}}, \"type\": \"table\"}]}, \"layout\": {\"annotationdefaults\": {\"arrowcolor\": \"#2a3f5f\", \"arrowhead\": 0, \"arrowwidth\": 1}, \"colorscale\": {\"diverging\": [[0, \"#8e0152\"], [0.1, \"#c51b7d\"], [0.2, \"#de77ae\"], [0.3, \"#f1b6da\"], [0.4, \"#fde0ef\"], [0.5, \"#f7f7f7\"], [0.6, \"#e6f5d0\"], [0.7, \"#b8e186\"], [0.8, \"#7fbc41\"], [0.9, \"#4d9221\"], [1, \"#276419\"]], \"sequential\": [[0.0, \"#0d0887\"], [0.1111111111111111, \"#46039f\"], [0.2222222222222222, \"#7201a8\"], [0.3333333333333333, \"#9c179e\"], [0.4444444444444444, \"#bd3786\"], [0.5555555555555556, \"#d8576b\"], [0.6666666666666666, \"#ed7953\"], [0.7777777777777778, \"#fb9f3a\"], [0.8888888888888888, \"#fdca26\"], [1.0, \"#f0f921\"]], \"sequentialminus\": [[0.0, \"#0d0887\"], [0.1111111111111111, \"#46039f\"], [0.2222222222222222, \"#7201a8\"], [0.3333333333333333, \"#9c179e\"], [0.4444444444444444, \"#bd3786\"], [0.5555555555555556, \"#d8576b\"], [0.6666666666666666, \"#ed7953\"], [0.7777777777777778, \"#fb9f3a\"], [0.8888888888888888, \"#fdca26\"], [1.0, \"#f0f921\"]]}, \"colorway\": [\"#636efa\", \"#EF553B\", \"#00cc96\", \"#ab63fa\", \"#FFA15A\", \"#19d3f3\", \"#FF6692\", \"#B6E880\", \"#FF97FF\", \"#FECB52\"], \"font\": {\"color\": \"#2a3f5f\"}, \"geo\": {\"bgcolor\": \"white\", \"lakecolor\": \"white\", \"landcolor\": \"#E5ECF6\", \"showlakes\": true, \"showland\": true, \"subunitcolor\": \"white\"}, \"hoverlabel\": {\"align\": \"left\"}, \"hovermode\": \"closest\", \"mapbox\": {\"style\": \"light\"}, \"paper_bgcolor\": \"white\", \"plot_bgcolor\": \"#E5ECF6\", \"polar\": {\"angularaxis\": {\"gridcolor\": \"white\", \"linecolor\": \"white\", \"ticks\": \"\"}, \"bgcolor\": \"#E5ECF6\", \"radialaxis\": {\"gridcolor\": \"white\", \"linecolor\": \"white\", \"ticks\": \"\"}}, \"scene\": {\"xaxis\": {\"backgroundcolor\": \"#E5ECF6\", \"gridcolor\": \"white\", \"gridwidth\": 2, \"linecolor\": \"white\", \"showbackground\": true, \"ticks\": \"\", \"zerolinecolor\": \"white\"}, \"yaxis\": {\"backgroundcolor\": \"#E5ECF6\", \"gridcolor\": \"white\", \"gridwidth\": 2, \"linecolor\": \"white\", \"showbackground\": true, \"ticks\": \"\", \"zerolinecolor\": \"white\"}, \"zaxis\": {\"backgroundcolor\": \"#E5ECF6\", \"gridcolor\": \"white\", \"gridwidth\": 2, \"linecolor\": \"white\", \"showbackground\": true, \"ticks\": \"\", \"zerolinecolor\": \"white\"}}, \"shapedefaults\": {\"line\": {\"color\": \"#2a3f5f\"}}, \"ternary\": {\"aaxis\": {\"gridcolor\": \"white\", \"linecolor\": \"white\", \"ticks\": \"\"}, \"baxis\": {\"gridcolor\": \"white\", \"linecolor\": \"white\", \"ticks\": \"\"}, \"bgcolor\": \"#E5ECF6\", \"caxis\": {\"gridcolor\": \"white\", \"linecolor\": \"white\", \"ticks\": \"\"}}, \"title\": {\"x\": 0.05}, \"xaxis\": {\"automargin\": true, \"gridcolor\": \"white\", \"linecolor\": \"white\", \"ticks\": \"\", \"zerolinecolor\": \"white\", \"zerolinewidth\": 2}, \"yaxis\": {\"automargin\": true, \"gridcolor\": \"white\", \"linecolor\": \"white\", \"ticks\": \"\", \"zerolinecolor\": \"white\", \"zerolinewidth\": 2}}}},\n",
       "                        {\"responsive\": true}\n",
       "                    ).then(function(){\n",
       "                            \n",
       "var gd = document.getElementById('37141d8d-542b-4c27-8398-9edb8c5f1a46');\n",
       "var x = new MutationObserver(function (mutations, observer) {{\n",
       "        var display = window.getComputedStyle(gd).display;\n",
       "        if (!display || display === 'none') {{\n",
       "            console.log([gd, 'removed!']);\n",
       "            Plotly.purge(gd);\n",
       "            observer.disconnect();\n",
       "        }}\n",
       "}});\n",
       "\n",
       "// Listen for the removal of the full notebook cells\n",
       "var notebookContainer = gd.closest('#notebook-container');\n",
       "if (notebookContainer) {{\n",
       "    x.observe(notebookContainer, {childList: true});\n",
       "}}\n",
       "\n",
       "// Listen for the clearing of the current output cell\n",
       "var outputEl = gd.closest('.output');\n",
       "if (outputEl) {{\n",
       "    x.observe(outputEl, {childList: true});\n",
       "}}\n",
       "\n",
       "                        })\n",
       "                };\n",
       "                });\n",
       "            </script>\n",
       "        </div>"
      ]
     },
     "metadata": {},
     "output_type": "display_data"
    }
   ],
   "source": [
    "data = []\n",
    "collect = dict()\n",
    "color = ['hsl(' + str(h) + ',80%' + ',50%)' for h in np.linspace(0, 255, n_clusters)]\n",
    "df_final_labels = pd.DataFrame()\n",
    "for cluster_id in np.unique(kmeans.labels_):\n",
    "    cluster_indices = np.where(kmeans.labels_ == cluster_id)    \n",
    "    cluster_text = df_pool[cluster_indices]\n",
    "    center_index = centroid_indices[cluster_id]\n",
    "    center_text = df_pool[center_index]\n",
    "    cluster_truth = (y_pool[cluster_indices])\n",
    "    df_cluster = pd.DataFrame({'text': cluster_text})\n",
    "    df_cluster['cluster_id'] = cluster_id\n",
    "#     df_cluster['centroid'] = False\n",
    "    print(cluster_id, cluster_truth)\n",
    "    df_cluster['truth'] = cluster_truth\n",
    "    df_cluster = df_cluster.append({'text':center_text, 'cluster_id':cluster_id,\n",
    "                                    }, ignore_index=True)\n",
    "    df_final_labels = pd.concat([df_final_labels, df_cluster])\n",
    "    \n",
    "\n",
    "    cp = principals[cluster_indices]\n",
    "    data.append(go.Scatter(x = cp[:,0],\n",
    "                   y = cp[:,1],\n",
    "                   mode='markers',                    \n",
    "                hovertext=cluster_text,\n",
    "                            marker=dict(color=color[cluster_id],\n",
    "                                                   size=10),\n",
    "                           name = 'cluster '+ str(cluster_id)\n",
    "                          ))\n",
    "    data.append(go.Scatter(x = [principals[center_index, 0]],\n",
    "                   y = [principals[center_index, 1]],\n",
    "                   mode='markers',  \n",
    "                           marker=dict(color=color[cluster_id],\n",
    "                                                   size=15,\n",
    "                                                   line=dict(color='black', width=5)),\n",
    "                           name = 'centroid cluster '+ str(cluster_id)\n",
    "                          ))\n",
    "    collect[cluster_id] = df_pool[cluster_indices]\n",
    "    \n",
    "fig = go.Figure(data=data)\n",
    "fig.show()\n"
   ]
  },
  {
   "cell_type": "code",
   "execution_count": 50,
   "metadata": {},
   "outputs": [
    {
     "data": {
      "text/plain": [
       "0.4727164976976267"
      ]
     },
     "execution_count": 50,
     "metadata": {},
     "output_type": "execute_result"
    }
   ],
   "source": [
    "from sklearn.metrics import f1_score, confusion_matrix, accuracy_score, homogeneity_score, v_measure_score, completeness_score\n",
    "homogeneity_score( y_pool, kmeans.labels_)"
   ]
  },
  {
   "cell_type": "code",
   "execution_count": 51,
   "metadata": {},
   "outputs": [
    {
     "name": "stderr",
     "output_type": "stream",
     "text": [
      "Passing a negative integer is deprecated in version 1.0 and will not be supported in future version. Instead, use None to not limit the column width.\n"
     ]
    },
    {
     "data": {
      "text/html": [
       "<div>\n",
       "<style scoped>\n",
       "    .dataframe tbody tr th:only-of-type {\n",
       "        vertical-align: middle;\n",
       "    }\n",
       "\n",
       "    .dataframe tbody tr th {\n",
       "        vertical-align: top;\n",
       "    }\n",
       "\n",
       "    .dataframe thead th {\n",
       "        text-align: right;\n",
       "    }\n",
       "</style>\n",
       "<table border=\"1\" class=\"dataframe\">\n",
       "  <thead>\n",
       "    <tr style=\"text-align: right;\">\n",
       "      <th></th>\n",
       "      <th>text</th>\n",
       "      <th>cluster_id</th>\n",
       "      <th>truth</th>\n",
       "    </tr>\n",
       "  </thead>\n",
       "  <tbody>\n",
       "    <tr>\n",
       "      <th>0</th>\n",
       "      <td>They were not upfront. Learn from my mistake... I trusted the loan officer that my zero point rate is an option before closing the loan because he convinced me to initially sign the Good Faith Estimate with higher rate plus lender's credit. After running my numbers, the lower interest is favorable for me and asking for it now, I'm being charge points. It looks like they are only good in their words at the beginning so please be careful dealing with this lender</td>\n",
       "      <td>1</td>\n",
       "      <td>0.0</td>\n",
       "    </tr>\n",
       "    <tr>\n",
       "      <th>1</th>\n",
       "      <td>\\r\\nI was \"pre-approved\" by Guaranteed Rate after they had all of my information, including an extensive application and full access to my credit information. Of course, I stopped dealing with other lenders who had made offers. I then entered into a months-long process of responding to multiple requests for documentation; everything had been clearly spelled out in my application, but they needed corroboration. Whenever I sent something, they would call a few days later and say that \"Underwriting\" required something else; and that it was all on account of the new govt. regulations. (And note that I was looking to consolidate the 1st and 2d mortgages on my home, and that the total I was asking for was less than 25% of my home's value.)\\r\\n\\r\\nFinally, I received a call from my loan contact saying that my credit card balance was too high, and they couldn't give me a loan unless I paid it off first. This was information they had had all along, before they \"pre-approved\" me. In fact, my primary reason for re-financing was to get my monthly mortgage payments lower and to pay off that credit card balance. I basically said that their response was not acceptable; and we eventually got it done. However, I would never recommend them.\\r\\n\\r\\nThe only thing I would give them high points for is responsiveness. At least until I agreed to go with them, they got back to me quicker than anyone. I didn't go with 2 other lenders who were offering similar rates because they weren't getting back to me as fast as Gauranteed Rate. Once I went with them, however, the process dragged on for months; and they almost weren't going to give me the loan. Buyers Beware... Read More\\r\\n</td>\n",
       "      <td>1</td>\n",
       "      <td>0.0</td>\n",
       "    </tr>\n",
       "    <tr>\n",
       "      <th>2</th>\n",
       "      <td>\\r\\nOur experience with Tom exceeded expectations, he was always available to answer my questions via email, phone and text. Tom and his team (Ken) were true professionals, they delivered on everything they said they would. Couldn't be happier with the home buying process because of them. Thankful that we choose Garanteed Rate through Lending Tree. Thank you Tom!!!\\r\\n</td>\n",
       "      <td>1</td>\n",
       "      <td>1.0</td>\n",
       "    </tr>\n",
       "    <tr>\n",
       "      <th>3</th>\n",
       "      <td>\\r\\nThe experience with Reliance was extremely frustrating and aggravating. First the loan \"mgr\" asked for the usual pile of paper, including the 4506T to prove I paid my taxes. Fine, but then they wanted copies of my tax returns so they could compare. Since when are they tax auditors? Unable to find the copy for 2011, I had the IRS send us the transcript of it, and sent it via PO, and electronically. But then it was held up for 3 weeks because the transcript was mailed by us, and not the IRS. Now we are getting ridiculous. So we had the IRS fax it to them directly, AND STILL they had a problem with it's \"authenticity\". They received everything we had, with no discrepancies, yet the loan mgr suggested we go ahead and \"dummy up\" a copy, as long as it would match exactly. We said no, the two separate transcripts were accurate, and they could use those, or we would walk. Amazing that a week later they finally approved it. This guy had emailed and called every day, sometimes as many as 4 times, even during our Christmas trip to Dallas, only to sit and wait, and wonder what the black hole was doing. And to make it more annoying, he had a demeaning way of speaking, saying \"Does that make sense?\", after every statement, as if I couldn't understand basic English. One of those things people say when they want people to feel inferior. They requested the 4506T 4 more times, so we sent them at least 8 to make sure. So that didn't \"make sense\", nor did their inability to accept the IRS transcripts sent from the IRS, nor the harassment for other tax copies while we were visiting my sons in Dallas over Christmas. I certainly would not want my friends to feel my frustration... Read More\\r\\n</td>\n",
       "      <td>1</td>\n",
       "      <td>0.0</td>\n",
       "    </tr>\n",
       "    <tr>\n",
       "      <th>4</th>\n",
       "      <td>\\r\\nI was \"pre-approved\" by Guaranteed Rate after they had all of my information, including an extensive application and full access to my credit information. Of course, I stopped dealing with other lenders who had made offers. I then entered into a months-long process of responding to multiple requests for documentation; everything had been clearly spelled out in my application, but they needed corroboration. Whenever I sent something, they would call a few days later and say that \"Underwriting\" required something else; and that it was all on account of the new govt. regulations. (And note that I was looking to consolidate the 1st and 2d mortgages on my home, and that the total I was asking for was less than 25% of my home's value.)\\r\\n\\r\\nFinally, I received a call from my loan contact saying that my credit card balance was too high, and they couldn't give me a loan unless I paid it off first. This was information they had had all along, before they \"pre-approved\" me. In fact, my primary reason for re-financing was to get my monthly mortgage payments lower and to pay off that credit card balance. I basically said that their response was not acceptable; and we eventually got it done. However, I would never recommend them.\\r\\n\\r\\nThe only thing I would give them high points for is responsiveness. At least until I agreed to go with them, they got back to me quicker than anyone. I didn't go with 2 other lenders who were offering similar rates because they weren't getting back to me as fast as Gauranteed Rate. Once I went with them, however, the process dragged on for months; and they almost weren't going to give me the loan. Buyers Beware... Read More\\r\\n</td>\n",
       "      <td>1</td>\n",
       "      <td>NaN</td>\n",
       "    </tr>\n",
       "  </tbody>\n",
       "</table>\n",
       "</div>"
      ],
      "text/plain": [
       "                                                                                                                                                                                                                                                                                                                                                                                                                                                                                                                                                                                                                                                                                                                                                                                                                                                                                                                                                                                                                                                                                                                                                                                                                                                                                                                                                                                                                                                                                                                                                                                                                                                                                                                                                                              text  \\\n",
       "0  They were not upfront. Learn from my mistake... I trusted the loan officer that my zero point rate is an option before closing the loan because he convinced me to initially sign the Good Faith Estimate with higher rate plus lender's credit. After running my numbers, the lower interest is favorable for me and asking for it now, I'm being charge points. It looks like they are only good in their words at the beginning so please be careful dealing with this lender                                                                                                                                                                                                                                                                                                                                                                                                                                                                                                                                                                                                                                                                                                                                                                                                                                                                                                                                                                                                                                                                                                                                                                                                                                                                                                  \n",
       "1  \\r\\nI was \"pre-approved\" by Guaranteed Rate after they had all of my information, including an extensive application and full access to my credit information. Of course, I stopped dealing with other lenders who had made offers. I then entered into a months-long process of responding to multiple requests for documentation; everything had been clearly spelled out in my application, but they needed corroboration. Whenever I sent something, they would call a few days later and say that \"Underwriting\" required something else; and that it was all on account of the new govt. regulations. (And note that I was looking to consolidate the 1st and 2d mortgages on my home, and that the total I was asking for was less than 25% of my home's value.)\\r\\n\\r\\nFinally, I received a call from my loan contact saying that my credit card balance was too high, and they couldn't give me a loan unless I paid it off first. This was information they had had all along, before they \"pre-approved\" me. In fact, my primary reason for re-financing was to get my monthly mortgage payments lower and to pay off that credit card balance. I basically said that their response was not acceptable; and we eventually got it done. However, I would never recommend them.\\r\\n\\r\\nThe only thing I would give them high points for is responsiveness. At least until I agreed to go with them, they got back to me quicker than anyone. I didn't go with 2 other lenders who were offering similar rates because they weren't getting back to me as fast as Gauranteed Rate. Once I went with them, however, the process dragged on for months; and they almost weren't going to give me the loan. Buyers Beware... Read More\\r\\n                                 \n",
       "2  \\r\\nOur experience with Tom exceeded expectations, he was always available to answer my questions via email, phone and text. Tom and his team (Ken) were true professionals, they delivered on everything they said they would. Couldn't be happier with the home buying process because of them. Thankful that we choose Garanteed Rate through Lending Tree. Thank you Tom!!!\\r\\n                                                                                                                                                                                                                                                                                                                                                                                                                                                                                                                                                                                                                                                                                                                                                                                                                                                                                                                                                                                                                                                                                                                                                                                                                                                                                                                                                                                               \n",
       "3  \\r\\nThe experience with Reliance was extremely frustrating and aggravating. First the loan \"mgr\" asked for the usual pile of paper, including the 4506T to prove I paid my taxes. Fine, but then they wanted copies of my tax returns so they could compare. Since when are they tax auditors? Unable to find the copy for 2011, I had the IRS send us the transcript of it, and sent it via PO, and electronically. But then it was held up for 3 weeks because the transcript was mailed by us, and not the IRS. Now we are getting ridiculous. So we had the IRS fax it to them directly, AND STILL they had a problem with it's \"authenticity\". They received everything we had, with no discrepancies, yet the loan mgr suggested we go ahead and \"dummy up\" a copy, as long as it would match exactly. We said no, the two separate transcripts were accurate, and they could use those, or we would walk. Amazing that a week later they finally approved it. This guy had emailed and called every day, sometimes as many as 4 times, even during our Christmas trip to Dallas, only to sit and wait, and wonder what the black hole was doing. And to make it more annoying, he had a demeaning way of speaking, saying \"Does that make sense?\", after every statement, as if I couldn't understand basic English. One of those things people say when they want people to feel inferior. They requested the 4506T 4 more times, so we sent them at least 8 to make sure. So that didn't \"make sense\", nor did their inability to accept the IRS transcripts sent from the IRS, nor the harassment for other tax copies while we were visiting my sons in Dallas over Christmas. I certainly would not want my friends to feel my frustration... Read More\\r\\n           \n",
       "4  \\r\\nI was \"pre-approved\" by Guaranteed Rate after they had all of my information, including an extensive application and full access to my credit information. Of course, I stopped dealing with other lenders who had made offers. I then entered into a months-long process of responding to multiple requests for documentation; everything had been clearly spelled out in my application, but they needed corroboration. Whenever I sent something, they would call a few days later and say that \"Underwriting\" required something else; and that it was all on account of the new govt. regulations. (And note that I was looking to consolidate the 1st and 2d mortgages on my home, and that the total I was asking for was less than 25% of my home's value.)\\r\\n\\r\\nFinally, I received a call from my loan contact saying that my credit card balance was too high, and they couldn't give me a loan unless I paid it off first. This was information they had had all along, before they \"pre-approved\" me. In fact, my primary reason for re-financing was to get my monthly mortgage payments lower and to pay off that credit card balance. I basically said that their response was not acceptable; and we eventually got it done. However, I would never recommend them.\\r\\n\\r\\nThe only thing I would give them high points for is responsiveness. At least until I agreed to go with them, they got back to me quicker than anyone. I didn't go with 2 other lenders who were offering similar rates because they weren't getting back to me as fast as Gauranteed Rate. Once I went with them, however, the process dragged on for months; and they almost weren't going to give me the loan. Buyers Beware... Read More\\r\\n                                 \n",
       "\n",
       "   cluster_id  truth  \n",
       "0  1           0.0    \n",
       "1  1           0.0    \n",
       "2  1           1.0    \n",
       "3  1           0.0    \n",
       "4  1          NaN     "
      ]
     },
     "execution_count": 51,
     "metadata": {},
     "output_type": "execute_result"
    }
   ],
   "source": [
    "pd.set_option('display.max_colwidth', -1)\n",
    "df_final_labels[df_final_labels['cluster_id']==1]\n"
   ]
  },
  {
   "cell_type": "code",
   "execution_count": 56,
   "metadata": {},
   "outputs": [
    {
     "data": {
      "image/png": "[encoded data removed]",
      "text/plain": [
       "<Figure size 1440x216 with 1 Axes>"
      ]
     },
     "metadata": {
      "needs_background": "light"
     },
     "output_type": "display_data"
    }
   ],
   "source": [
    "cluster_id = 1\n",
    "indices = np.where(kmeans.labels_ == cluster_id)  \n",
    "shap.force_plot(explainer.expected_value, shap_values_pool[indices][2], x_pool[indices][2],\n",
    "                feature_names=tfid.get_feature_names(), matplotlib=True)"
   ]
  },
  {
   "cell_type": "code",
   "execution_count": null,
   "metadata": {},
   "outputs": [],
   "source": [
    "shap_values_pool.shape"
   ]
  },
  {
   "cell_type": "code",
   "execution_count": null,
   "metadata": {},
   "outputs": [],
   "source": [
    "df_final_labels.to_csv('df_input.csv')"
   ]
  },
  {
   "cell_type": "code",
   "execution_count": null,
   "metadata": {},
   "outputs": [],
   "source": [
    "centroid_indices"
   ]
  },
  {
   "cell_type": "code",
   "execution_count": null,
   "metadata": {},
   "outputs": [],
   "source": [
    "shap_values_pool.shape"
   ]
  },
  {
   "cell_type": "code",
   "execution_count": null,
   "metadata": {},
   "outputs": [],
   "source": [
    "homogeneity_scores = []\n",
    "v_measure_scores = []\n",
    "completeness_scores = []\n",
    "n_iters = 10\n",
    "ranges = list(range(10, 110, 10))\n",
    "for k in ranges:\n",
    "    vavg = 0\n",
    "    havg = 0\n",
    "    cavg = 0\n",
    "    for i in range(n_iters):\n",
    "        kmeans = KMeans(n_clusters= n_clusters, n_jobs=-1)\n",
    "        kmeans.fit(shap_values_pool)\n",
    "        v = v_measure_score(labels_pred=kmeans.labels_, labels_true=y_pool) \n",
    "        h = homogeneity_score(labels_pred=kmeans.labels_, labels_true=y_pool) \n",
    "        c = completeness_score(labels_pred=kmeans.labels_, labels_true=y_pool) \n",
    "        vavg += v\n",
    "        havg += h\n",
    "        cavg += c\n",
    "    homogeneity_scores.append(havg/n_iters)\n",
    "    v_measure_scores.append(vavg/n_iters)\n",
    "    completeness_scores.append(cavg/n_iters)\n",
    "    print(k, \"done\")\n",
    "\n"
   ]
  },
  {
   "cell_type": "code",
   "execution_count": null,
   "metadata": {},
   "outputs": [],
   "source": [
    "data = [go.Scatter(x=ranges, y=homogeneity_scores, mode=\"lines\", name=\"homogeneity\"),\n",
    "        go.Scatter(x=ranges, y=v_measure_scores, mode=\"lines\", name=\"v_measure\"),\n",
    "        go.Scatter(x=ranges, y=completeness_scores, mode=\"lines\", name=\"completeness\")\n",
    "        ]\n",
    "fig = go.Figure(data=data)\n",
    "fig.update_layout(xaxis_title=\"no of clusters\")\n",
    "fig.show()"
   ]
  }
 ],
 "metadata": {
  "kernelspec": {
   "display_name": "Python 3",
   "language": "python",
   "name": "python3"
  },
  "language_info": {
   "codemirror_mode": {
    "name": "ipython",
    "version": 3
   },
   "file_extension": ".py",
   "mimetype": "text/x-python",
   "name": "python",
   "nbconvert_exporter": "python",
   "pygments_lexer": "ipython3",
   "version": "3.7.3"
  }
 },
 "nbformat": 4,
 "nbformat_minor": 2
}

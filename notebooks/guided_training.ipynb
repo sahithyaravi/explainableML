{
 "cells": [
  {
   "cell_type": "code",
   "execution_count": 1,
   "metadata": {},
   "outputs": [
    {
     "name": "stderr",
     "output_type": "stream",
     "text": [
      "Using TensorFlow backend.\n"
     ]
    }
   ],
   "source": [
    "import pandas as pd\n",
    "import numpy as np\n",
    "from sklearn.feature_extraction.text import TfidfVectorizer\n",
    "import nltk\n",
    "from nltk.corpus import stopwords\n",
    "from sklearn.linear_model import LogisticRegression\n",
    "from sklearn.svm import LinearSVC\n",
    "import plotly\n",
    "import plotly.graph_objs as go\n",
    "import chart_studio.plotly as py\n",
    "from sklearn.metrics import f1_score, confusion_matrix, accuracy_score, homogeneity_score, v_measure_score\n",
    "import seaborn as sns\n",
    "import shap\n",
    "from sklearn.cluster import KMeans\n",
    "from sklearn.decomposition import PCA\n",
    "from scipy.spatial.distance import euclidean, cosine\n",
    "import umap\n",
    "import random\n",
    "\n",
    "from keras.preprocessing import sequence\n",
    "from keras.models import Sequential\n",
    "from keras.layers import Dense, Embedding\n",
    "from keras.layers import LSTM\n",
    "from keras.datasets import imdb"
   ]
  },
  {
   "cell_type": "code",
   "execution_count": 3,
   "metadata": {},
   "outputs": [
    {
     "data": {
      "text/html": [
       "<div>\n",
       "<style scoped>\n",
       "    .dataframe tbody tr th:only-of-type {\n",
       "        vertical-align: middle;\n",
       "    }\n",
       "\n",
       "    .dataframe tbody tr th {\n",
       "        vertical-align: top;\n",
       "    }\n",
       "\n",
       "    .dataframe thead th {\n",
       "        text-align: right;\n",
       "    }\n",
       "</style>\n",
       "<table border=\"1\" class=\"dataframe\">\n",
       "  <thead>\n",
       "    <tr style=\"text-align: right;\">\n",
       "      <th></th>\n",
       "      <th>index</th>\n",
       "      <th>label</th>\n",
       "      <th>text</th>\n",
       "      <th>processed</th>\n",
       "    </tr>\n",
       "  </thead>\n",
       "  <tbody>\n",
       "    <tr>\n",
       "      <th>0</th>\n",
       "      <td>1</td>\n",
       "      <td>0</td>\n",
       "      <td>as a woman you should not complain about clea...</td>\n",
       "      <td>as a woman you should not complain about clea...</td>\n",
       "    </tr>\n",
       "    <tr>\n",
       "      <th>1</th>\n",
       "      <td>2</td>\n",
       "      <td>0</td>\n",
       "      <td>momma said no cats inside my doghouse</td>\n",
       "      <td>momma said no cats inside my doghouse</td>\n",
       "    </tr>\n",
       "    <tr>\n",
       "      <th>2</th>\n",
       "      <td>3</td>\n",
       "      <td>0</td>\n",
       "      <td>simply addicted to guys hot scally lad</td>\n",
       "      <td>simply addicted to guys hot scally lad</td>\n",
       "    </tr>\n",
       "    <tr>\n",
       "      <th>3</th>\n",
       "      <td>4</td>\n",
       "      <td>0</td>\n",
       "      <td>and hot soles</td>\n",
       "      <td>and hot soles</td>\n",
       "    </tr>\n",
       "    <tr>\n",
       "      <th>4</th>\n",
       "      <td>5</td>\n",
       "      <td>0</td>\n",
       "      <td>lemmie eat a oreo do these dishes one oreo</td>\n",
       "      <td>lemmie eat a oreo do these dishes one oreo</td>\n",
       "    </tr>\n",
       "  </tbody>\n",
       "</table>\n",
       "</div>"
      ],
      "text/plain": [
       "   index  label                                               text  \\\n",
       "0      1      0   as a woman you should not complain about clea...   \n",
       "1      2      0             momma said no cats inside my doghouse    \n",
       "2      3      0             simply addicted to guys hot scally lad   \n",
       "3      4      0                                      and hot soles   \n",
       "4      5      0        lemmie eat a oreo do these dishes one oreo    \n",
       "\n",
       "                                           processed  \n",
       "0   as a woman you should not complain about clea...  \n",
       "1             momma said no cats inside my doghouse   \n",
       "2             simply addicted to guys hot scally lad  \n",
       "3                                      and hot soles  \n",
       "4        lemmie eat a oreo do these dishes one oreo   "
      ]
     },
     "execution_count": 3,
     "metadata": {},
     "output_type": "execute_result"
    }
   ],
   "source": [
    "df = pd.read_csv('../datasets/davidson_dataset.csv')\n",
    "df.head()"
   ]
  },
  {
   "cell_type": "code",
   "execution_count": 4,
   "metadata": {},
   "outputs": [
    {
     "data": {
      "text/plain": [
       "<matplotlib.axes._subplots.AxesSubplot at 0x2471890f470>"
      ]
     },
     "execution_count": 4,
     "metadata": {},
     "output_type": "execute_result"
    },
    {
     "data": {
      "image/png": "[encoded data removed]",
      "text/plain": [
       "<Figure size 432x288 with 1 Axes>"
      ]
     },
     "metadata": {
      "needs_background": "light"
     },
     "output_type": "display_data"
    }
   ],
   "source": [
    "df['label'].hist()"
   ]
  },
  {
   "cell_type": "code",
   "execution_count": 5,
   "metadata": {},
   "outputs": [],
   "source": [
    "x = df['processed'].values\n",
    "y = df['label'].values"
   ]
  },
  {
   "cell_type": "markdown",
   "metadata": {},
   "source": [
    "## TF-IDF\n",
    "We are going to use TF*IDF (Term frequency- Inverse document frequency) vectorizer to convert our text into numbers.\n",
    "TF = Frequency of term\n",
    "IDF = No of docs/ No of docs with the term"
   ]
  },
  {
   "cell_type": "code",
   "execution_count": 6,
   "metadata": {},
   "outputs": [
    {
     "data": {
      "text/plain": [
       "(5233, 5000)"
      ]
     },
     "execution_count": 6,
     "metadata": {},
     "output_type": "execute_result"
    }
   ],
   "source": [
    "tfid = TfidfVectorizer(max_features=5000)\n",
    "x = tfid.fit_transform(x).toarray()\n",
    "x.shape"
   ]
  },
  {
   "cell_type": "markdown",
   "metadata": {},
   "source": [
    "#### Splitting data\n",
    "We split data as follows:\n",
    "- train = 20%\n",
    "- test = 20%\n",
    "- unlabelled pool = 60% (this is the data which we want the domain expert to label)"
   ]
  },
  {
   "cell_type": "code",
   "execution_count": 46,
   "metadata": {},
   "outputs": [],
   "source": [
    "indices =  np.random.randint(low=0, high=x.shape[0], size=x.shape[0])\n",
    "train_indices = indices[0:round(0.7*x.shape[0])]\n",
    "test_indices = indices[round(0.7*x.shape[0]): round(0.95*x.shape[0])]\n",
    "pool_indices = indices[round(0.95*x.shape[0]):]\n",
    "df_train = df.iloc[train_indices]['text'].values\n",
    "df_test = df.iloc[test_indices]['text'].values\n",
    "df_pool = df.iloc[pool_indices]['text'].values\n",
    "x_train = x[train_indices]\n",
    "y_train = y[train_indices]\n",
    "x_test = x[test_indices]\n",
    "y_test = y[test_indices]\n",
    "x_pool = x[pool_indices]\n",
    "y_pool = y[pool_indices]"
   ]
  },
  {
   "cell_type": "code",
   "execution_count": 47,
   "metadata": {},
   "outputs": [],
   "source": [
    "PENALTY = 'l1'\n",
    "C = 1\n",
    "max_iter = 2000"
   ]
  },
  {
   "cell_type": "markdown",
   "metadata": {},
   "source": [
    "#### Model fitting\n",
    "We are going to use Logistic regression with L1 regularization. Reasons for L1:\n",
    "- We are going to apply shapely values - L1 => sparse model => better for interpretability\n",
    "- We prefer a sparse model because not all features are important (feature selection)\n",
    "- It results in better accuracy in this case"
   ]
  },
  {
   "cell_type": "code",
   "execution_count": 48,
   "metadata": {},
   "outputs": [
    {
     "data": {
      "text/plain": [
       "0.9492219492219492"
      ]
     },
     "execution_count": 48,
     "metadata": {},
     "output_type": "execute_result"
    }
   ],
   "source": [
    "model = LogisticRegression(C=C, max_iter=max_iter)\n",
    "model.fit(x_train, y_train)\n",
    "model.score(x_train,y_train)"
   ]
  },
  {
   "cell_type": "markdown",
   "metadata": {},
   "source": [
    "We measure the f1_score and plot confusion matrix. Recall:\n",
    "- f1 score = 2PR/ (P+R)\n",
    "- P = actual pos/ predicted pos\n",
    "- R = predicted pos/ total actual pos"
   ]
  },
  {
   "cell_type": "code",
   "execution_count": 49,
   "metadata": {},
   "outputs": [
    {
     "data": {
      "text/plain": [
       "0.8095238095238095"
      ]
     },
     "execution_count": 49,
     "metadata": {},
     "output_type": "execute_result"
    }
   ],
   "source": [
    "predictions = model.predict(x_test)\n",
    "f1_score(predictions,\n",
    "         y_test)"
   ]
  },
  {
   "cell_type": "code",
   "execution_count": 50,
   "metadata": {},
   "outputs": [
    {
     "data": {
      "text/plain": [
       "0.908256880733945"
      ]
     },
     "execution_count": 50,
     "metadata": {},
     "output_type": "execute_result"
    }
   ],
   "source": [
    "accuracy_score(y_test, predictions)"
   ]
  },
  {
   "cell_type": "code",
   "execution_count": 51,
   "metadata": {},
   "outputs": [
    {
     "data": {
      "text/plain": [
       "<matplotlib.axes._subplots.AxesSubplot at 0x2472fbebc18>"
      ]
     },
     "execution_count": 51,
     "metadata": {},
     "output_type": "execute_result"
    },
    {
     "data": {
      "image/png": "[encoded data removed]",
      "text/plain": [
       "<Figure size 432x288 with 2 Axes>"
      ]
     },
     "metadata": {
      "needs_background": "light"
     },
     "output_type": "display_data"
    }
   ],
   "source": [
    "sns.heatmap(confusion_matrix(y_test, predictions),annot=True)"
   ]
  },
  {
   "cell_type": "code",
   "execution_count": 52,
   "metadata": {},
   "outputs": [
    {
     "data": {
      "text/plain": [
       "array([[  0, 934],\n",
       "       [  1, 374]], dtype=int64)"
      ]
     },
     "execution_count": 52,
     "metadata": {},
     "output_type": "execute_result"
    }
   ],
   "source": [
    "np.array(np.unique(y_test, return_counts=True)).T"
   ]
  },
  {
   "cell_type": "markdown",
   "metadata": {},
   "source": [
    "#### SHAP explainer\n",
    "\n",
    "Refer https://christophm.github.io/interpretable-ml-book/shap.html\n",
    "\n",
    "The goal of SHAP is to explain the prediction of an instance x by computing the contribution of each feature to the prediction. The SHAP explanation method computes Shapley values from coalitional game theory. The feature values of a data instance act as players in a coalition. Shapley values tell us how to fairly distribute the “payout” (= the prediction) among the features\n",
    "\n",
    "We call the SHAP explainer for linear models\n",
    "shapely values produced have same dimensions as data passed"
   ]
  },
  {
   "cell_type": "code",
   "execution_count": 53,
   "metadata": {},
   "outputs": [
    {
     "name": "stderr",
     "output_type": "stream",
     "text": [
      "The option feature_dependence has been renamed to feature_perturbation!\n",
      "The option feature_perturbation=\"independent\" is has been renamed to feature_perturbation=\"interventional\"!\n",
      "The feature_perturbation option is now deprecated in favor of using the appropriate masker (maskers.Independent, or maskers.Impute)\n"
     ]
    }
   ],
   "source": [
    "explainer = shap.LinearExplainer(model, x_train,feature_dependence=\"independent\")\n",
    "shap_values_train = explainer.shap_values(x_train)\n",
    "shap_values_pool = explainer.shap_values(x_pool)"
   ]
  },
  {
   "cell_type": "code",
   "execution_count": 54,
   "metadata": {},
   "outputs": [
    {
     "data": {
      "image/png": "[encoded data removed]",
      "text/plain": [
       "<Figure size 576x684 with 2 Axes>"
      ]
     },
     "metadata": {
      "needs_background": "light"
     },
     "output_type": "display_data"
    }
   ],
   "source": [
    "shap.summary_plot(shap_values_pool, x_pool, feature_names=tfid.get_feature_names())"
   ]
  },
  {
   "cell_type": "code",
   "execution_count": 55,
   "metadata": {},
   "outputs": [
    {
     "data": {
      "text/plain": [
       "(262, 5000)"
      ]
     },
     "execution_count": 55,
     "metadata": {},
     "output_type": "execute_result"
    }
   ],
   "source": [
    "shap_values_pool.shape"
   ]
  },
  {
   "cell_type": "markdown",
   "metadata": {},
   "source": [
    "#### Clustering data\n",
    "We are going to cluster the training data \n",
    "    - using shapely values (shapely space)\n",
    "SHAP clustering works by clustering on Shapley values of each instance. \n",
    "This means that you cluster instances by explanation similarity"
   ]
  },
  {
   "cell_type": "code",
   "execution_count": 56,
   "metadata": {},
   "outputs": [],
   "source": [
    "from sklearn.manifold import TSNE\n",
    "tsne = TSNE(n_components=2, perplexity=20,\n",
    "            )\n",
    "principals = tsne.fit_transform(shap_values_pool)"
   ]
  },
  {
   "cell_type": "code",
   "execution_count": 57,
   "metadata": {},
   "outputs": [],
   "source": [
    "n_clusters = 25"
   ]
  },
  {
   "cell_type": "code",
   "execution_count": 58,
   "metadata": {},
   "outputs": [
    {
     "data": {
      "text/plain": [
       "(262, 5000)"
      ]
     },
     "execution_count": 58,
     "metadata": {},
     "output_type": "execute_result"
    }
   ],
   "source": [
    "shap_values_pool.shape"
   ]
  },
  {
   "cell_type": "code",
   "execution_count": 59,
   "metadata": {
    "scrolled": true
   },
   "outputs": [
    {
     "name": "stderr",
     "output_type": "stream",
     "text": [
      "'n_jobs' was deprecated in version 0.23 and will be removed in 0.25.\n"
     ]
    },
    {
     "name": "stdout",
     "output_type": "stream",
     "text": [
      "Homogenity score 0.6902637618118854\n"
     ]
    }
   ],
   "source": [
    "kmeans = KMeans(n_clusters= n_clusters, n_jobs=-1, max_iter=600)\n",
    "kmeans.fit(shap_values_pool)\n",
    "print(\"Homogenity score\", homogeneity_score(y_pool, kmeans.labels_))"
   ]
  },
  {
   "cell_type": "markdown",
   "metadata": {},
   "source": [
    "We use cosine distance instead of euclidean distance to measure the similarity between the documents.\n",
    "As the size of the document increases, the number of common words (euclidean) tend to increase \n",
    "even if the documents talk about different topics. The cosine similarity helps overcome this fundamental flaw \n",
    "and finds the similarity irrespective of size.\n",
    "\n",
    "https://www.machinelearningplus.com/nlp/cosine-similarity/"
   ]
  },
  {
   "cell_type": "code",
   "execution_count": 60,
   "metadata": {},
   "outputs": [],
   "source": [
    "# Find similarity of each point in cluster to its centroid\n",
    "similarity_to_center = []\n",
    "for i, instance in enumerate(shap_values_pool):\n",
    "    cluster_label = kmeans.labels_[i] # cluster of this instance\n",
    "    centroid = kmeans.cluster_centers_[cluster_label] # cluster center of the cluster of that instance\n",
    "    similarity = 1-cosine(instance, centroid) # 1- cosine distance gives similarity\n",
    "    similarity_to_center.append(similarity)"
   ]
  },
  {
   "cell_type": "code",
   "execution_count": 61,
   "metadata": {},
   "outputs": [],
   "source": [
    "centroid_match = [None]*n_clusters\n",
    "centroid_indices =[None]*n_clusters\n",
    "for i, instance in enumerate(shap_values_pool):\n",
    "    cluster_label = kmeans.labels_[i]     \n",
    "    if centroid_match[cluster_label] is None or similarity_to_center[i] > centroid_match[cluster_label]:\n",
    "        centroid_indices[cluster_label] = i\n",
    "        centroid_match[cluster_label] = similarity_to_center[i]\n",
    "        "
   ]
  },
  {
   "cell_type": "code",
   "execution_count": 64,
   "metadata": {
    "scrolled": true
   },
   "outputs": [
    {
     "data": {
      "application/vnd.plotly.v1+json": {
       "config": {
        "plotlyServerURL": "https://plot.ly"
       },
       "data": [
        {
         "hovertext": [
          " i like to rape the bitch that posted that ",
          " your pal threat kufar i cut your neck sword of islam watch you squeal like a bitch like daniel pearl ",
          "bitch you are white with your shitty spanish",
          " you are a pussy without your guns bitch as spic your daddy does not even respect the sperm he would drop in your moms stank pussy"
         ],
         "marker": {
          "color": "#F91EE2",
          "size": 10
         },
         "mode": "markers",
         "name": "cluster 0",
         "text": [
          " i like to rape the bitch that posted that ",
          " your pal threat kufar i cut your neck sword of islam watch you squeal like a bitch like daniel pearl ",
          "bitch you are white with your shitty spanish",
          " you are a pussy without your guns bitch as spic your daddy does not even respect the sperm he would drop in your moms stank pussy"
         ],
         "textposition": "middle right",
         "type": "scatter",
         "x": [
          -8.89076042175293,
          -8.306897163391113,
          -8.882882118225098,
          -7.577147960662842
         ],
         "y": [
          -9.71671199798584,
          -9.67117977142334,
          -10.508597373962402,
          -9.559349060058594
         ]
        },
        {
         "hovertext": [
          "whoever made these brownies and cookies belongs in heaven",
          " cait ghetto driving a nice car and not having to pay a lot for rent i drive a lexus and pay little rent just saying ",
          " how about we hadraft all those  folks and send them to afghanistan or other war zones so they can show their ",
          " to my mom came home to tacos and brownies ",
          "embrace it love it flip this group of mine runoff water colored turds off and make a pick ",
          "feelin all warm and fuzzy inside ",
          " last time factor auditions came to dublin i auditioned and and a man in a blue monkey",
          " breaking dawn i often think about what used to be and was with rose colored glasses and a gentle ",
          "this time a night dark skin niggas really turn into lightskin niggas i swear i seen a darkie try buying starbucks mins ago but they closed",
          "i also had a dream that i went to the show and was rude to me and was getting badly hit on by some creep",
          "by lost in japan by miguel mich and ",
          "gotta love rednecks loud stupid stubborn and full schitt ",
          " send them damn beaners back where they belong and the us am not it",
          "hand me a brew and i will chug it",
          " better off banning  and their anti american supporters",
          " must have run out of brownies",
          " old hoes a ponk and a dyke outchea having girl talk ",
          " cole i like being asian and all but it is a struggle having squinty eyes in every picture",
          "meatloaf cream potatoes deer steak and gravy pinto beans and cornbread pear cobbler and bread pudding ",
          "and now every time me and my friend talk no matter the subject her nips haunt us it is as if one nip was introducing itself to the other ",
          " hello brookland we here at the opening serving free samples of cider vegan sliders brownies ",
          " them charlotte niggas around and burn bank of america stadium down "
         ],
         "marker": {
          "color": "#B30395",
          "size": 10
         },
         "mode": "markers",
         "name": "cluster 1",
         "text": [
          "whoever made these brownies and cookies belongs in heaven",
          " cait ghetto driving a nice car and not having to pay a lot for rent i drive a lexus and pay little rent just saying ",
          " how about we hadraft all those  folks and send them to afghanistan or other war zones so they can show their ",
          " to my mom came home to tacos and brownies ",
          "embrace it love it flip this group of mine runoff water colored turds off and make a pick ",
          "feelin all warm and fuzzy inside ",
          " last time factor auditions came to dublin i auditioned and and a man in a blue monkey",
          " breaking dawn i often think about what used to be and was with rose colored glasses and a gentle ",
          "this time a night dark skin niggas really turn into lightskin niggas i swear i seen a darkie try buying starbucks mins ago but they closed",
          "i also had a dream that i went to the show and was rude to me and was getting badly hit on by some creep",
          "by lost in japan by miguel mich and ",
          "gotta love rednecks loud stupid stubborn and full schitt ",
          " send them damn beaners back where they belong and the us am not it",
          "hand me a brew and i will chug it",
          " better off banning  and their anti american supporters",
          " must have run out of brownies",
          " old hoes a ponk and a dyke outchea having girl talk ",
          " cole i like being asian and all but it is a struggle having squinty eyes in every picture",
          "meatloaf cream potatoes deer steak and gravy pinto beans and cornbread pear cobbler and bread pudding ",
          "and now every time me and my friend talk no matter the subject her nips haunt us it is as if one nip was introducing itself to the other ",
          " hello brookland we here at the opening serving free samples of cider vegan sliders brownies ",
          " them charlotte niggas around and burn bank of america stadium down "
         ],
         "textposition": "middle right",
         "type": "scatter",
         "x": [
          -5.292609214782715,
          6.88307523727417,
          1.3554975986480713,
          -5.637255668640137,
          2.8126776218414307,
          -1.9569460153579712,
          -5.438650608062744,
          2.6639554500579834,
          5.160645961761475,
          5.014641284942627,
          2.837230682373047,
          7.0918731689453125,
          7.283026218414307,
          1.6552064418792725,
          2.2134482860565186,
          -5.978813171386719,
          -0.9149668216705322,
          0.05704944208264351,
          2.7832469940185547,
          5.99202823638916,
          -5.9246368408203125,
          5.170238018035889
         ],
         "y": [
          5.079161643981934,
          2.772459030151367,
          -1.766448736190796,
          5.31702995300293,
          1.6662075519561768,
          1.879249930381775,
          0.3936435878276825,
          -0.8024926781654358,
          -12.421948432922363,
          -4.081396579742432,
          -2.117000102996826,
          -1.5345103740692139,
          -5.525054454803467,
          1.072738766670227,
          -2.105562686920166,
          5.58877420425415,
          -0.6335940957069397,
          -1.9389630556106567,
          -1.6178303956985474,
          -5.664743423461914,
          5.475090026855469,
          -12.358381271362305
         ]
        },
        {
         "hovertext": [
          " call him a cock blocking faggot",
          " pass the fosters faggot",
          " do not be a hurt little faggot"
         ],
         "marker": {
          "color": "#A4F2D6",
          "size": 10
         },
         "mode": "markers",
         "name": "cluster 2",
         "text": [
          " call him a cock blocking faggot",
          " pass the fosters faggot",
          " do not be a hurt little faggot"
         ],
         "textposition": "middle right",
         "type": "scatter",
         "x": [
          -4.606770038604736,
          -4.790829658508301,
          -4.755735874176025
         ],
         "y": [
          15.600434303283691,
          15.736370086669922,
          15.277539253234863
         ]
        },
        {
         "hovertext": [
          " hats on us not bad  ",
          " thanks now go clean that bad  can your little nasty ",
          "all these afternoon groups are bad besides the bubba keegs and furyk group the memorial tournament",
          " skating is for bad people  ",
          "tuna is good the rest bad  cans of spam most struggle food has to be any meat in a can of tuna included",
          "is trending twitter bad today ",
          " this whole week was bad ",
          " kendrick lamar still bad  ",
          " some of you all bios are bad  mine pretty good",
          "the family of ron neal needs to sue wutang for that bad  song they are released in his name ",
          " forget to salute bad  the other guy for the garbage war during cairo i sympathize pockistan gays hurting morale thanks king ",
          " khan has been facing nothing but bad  since his to garcia",
          "went to an open house today the place was bad   ",
          "houston has so many bad drivers",
          " bad  you know trouble is in government states but like news you areport lies anyway",
          "photo rest in peace to these bad boys some bad advise made me let usome old asian dude glue the sole  ",
          "the rams really dont wanna be bad jeff fisher really about it",
          " you all defense too bad for that ",
          " pumprules is on bravo quality bad",
          " messi play bad and im flattered but what was the games scorre",
          " no doubt about it i mean its cute tossing around bad cans and having mexican boys wanting ",
          " final debate clean up journalists sure know how to bad  a lobby  politics   ",
          "we was saying this same statement last year boozer is bad man i am done ",
          " would not spend my money on bad  like that ",
          " and this lewis so bad  ",
          "first key club bad pick up with the freshman ",
          " being a good citizen picking up bad  ",
          " in their primes would have dominated in on just so much mentally tougher mj bad  talk alone would "
         ],
         "marker": {
          "color": "#20A0D1",
          "size": 10
         },
         "mode": "markers",
         "name": "cluster 3",
         "text": [
          " hats on us not bad  ",
          " thanks now go clean that bad  can your little nasty ",
          "all these afternoon groups are bad besides the bubba keegs and furyk group the memorial tournament",
          " skating is for bad people  ",
          "tuna is good the rest bad  cans of spam most struggle food has to be any meat in a can of tuna included",
          "is trending twitter bad today ",
          " this whole week was bad ",
          " kendrick lamar still bad  ",
          " some of you all bios are bad  mine pretty good",
          "the family of ron neal needs to sue wutang for that bad  song they are released in his name ",
          " forget to salute bad  the other guy for the garbage war during cairo i sympathize pockistan gays hurting morale thanks king ",
          " khan has been facing nothing but bad  since his to garcia",
          "went to an open house today the place was bad   ",
          "houston has so many bad drivers",
          " bad  you know trouble is in government states but like news you areport lies anyway",
          "photo rest in peace to these bad boys some bad advise made me let usome old asian dude glue the sole  ",
          "the rams really dont wanna be bad jeff fisher really about it",
          " you all defense too bad for that ",
          " pumprules is on bravo quality bad",
          " messi play bad and im flattered but what was the games scorre",
          " no doubt about it i mean its cute tossing around bad cans and having mexican boys wanting ",
          " final debate clean up journalists sure know how to bad  a lobby  politics   ",
          "we was saying this same statement last year boozer is bad man i am done ",
          " would not spend my money on bad  like that ",
          " and this lewis so bad  ",
          "first key club bad pick up with the freshman ",
          " being a good citizen picking up bad  ",
          " in their primes would have dominated in on just so much mentally tougher mj bad  talk alone would "
         ],
         "textposition": "middle right",
         "type": "scatter",
         "x": [
          -11.707200050354004,
          -12.916933059692383,
          -9.484626770019531,
          -12.961444854736328,
          -11.068282127380371,
          -11.729251861572266,
          -12.692623138427734,
          -11.993698120117188,
          -14.29967975616455,
          -11.041876792907715,
          -10.31702995300293,
          -11.574487686157227,
          -10.900113105773926,
          -11.52242660522461,
          -13.719830513000488,
          -10.622954368591309,
          -11.100217819213867,
          -14.277936935424805,
          -11.87625503540039,
          -10.486723899841309,
          -12.086753845214844,
          -11.782645225524902,
          -10.309019088745117,
          -12.652680397033691,
          -12.305121421813965,
          -11.314695358276367,
          -12.123126983642578,
          -12.336219787597656
         ],
         "y": [
          36.32267761230469,
          33.26439666748047,
          34.45881652832031,
          37.007686614990234,
          30.925251007080078,
          35.35382843017578,
          35.63689041137695,
          34.73712921142578,
          34.571346282958984,
          31.123655319213867,
          30.837862014770508,
          32.25693130493164,
          33.748741149902344,
          34.47300338745117,
          31.95745086669922,
          35.26945877075195,
          31.964466094970703,
          35.060123443603516,
          33.434715270996094,
          33.85921096801758,
          31.228179931640625,
          32.655391693115234,
          32.72468948364258,
          34.44952392578125,
          35.744049072265625,
          33.58035659790039,
          33.92647171020508,
          31.933528900146484
         ]
        },
        {
         "hovertext": [
          " go to bed whitey trash ",
          " he looks like reg memphis trash we got them everywhere "
         ],
         "marker": {
          "color": "#D7A024",
          "size": 10
         },
         "mode": "markers",
         "name": "cluster 4",
         "text": [
          " go to bed whitey trash ",
          " he looks like reg memphis trash we got them everywhere "
         ],
         "textposition": "middle right",
         "type": "scatter",
         "x": [
          14.352693557739258,
          14.339662551879883
         ],
         "y": [
          -17.600543975830078,
          -17.521270751953125
         ]
        },
        {
         "hovertext": [
          " well dirty bird could be just a middle finger since it is the phallic giving the bird not necessarily a wobble wibbler ",
          " highest score on flappy bird cant be beat ",
          "then i went inside in order to hide from mutant bird",
          "you all suck on flappy bird",
          " how i feel playing flappy bird ",
          " whats it say i see bird in it ",
          " it a bird it a plane it jake mcgee ",
          "early worm gets the bird good morning ",
          " pdplive is on november get your early bird tickets from ",
          " i think i got the bird flu",
          "no man your want inyou serious man am early bird special"
         ],
         "marker": {
          "color": "#204DBE",
          "size": 10
         },
         "mode": "markers",
         "name": "cluster 5",
         "text": [
          " well dirty bird could be just a middle finger since it is the phallic giving the bird not necessarily a wobble wibbler ",
          " highest score on flappy bird cant be beat ",
          "then i went inside in order to hide from mutant bird",
          "you all suck on flappy bird",
          " how i feel playing flappy bird ",
          " whats it say i see bird in it ",
          " it a bird it a plane it jake mcgee ",
          "early worm gets the bird good morning ",
          " pdplive is on november get your early bird tickets from ",
          " i think i got the bird flu",
          "no man your want inyou serious man am early bird special"
         ],
         "textposition": "middle right",
         "type": "scatter",
         "x": [
          7.162567138671875,
          6.758251190185547,
          6.713758945465088,
          7.256491184234619,
          7.019942283630371,
          6.03397274017334,
          5.831705570220947,
          7.97421932220459,
          7.501229763031006,
          7.725883483886719,
          7.497191429138184
         ],
         "y": [
          9.507107734680176,
          9.146288871765137,
          8.686734199523926,
          11.074117660522461,
          10.011539459228516,
          9.923255920410156,
          10.059518814086914,
          9.299711227416992,
          8.482216835021973,
          10.042668342590332,
          8.307821273803711
         ]
        },
        {
         "hovertext": [
          " ugly queer white trash"
         ],
         "marker": {
          "color": "#A64DF8",
          "size": 10
         },
         "mode": "markers",
         "name": "cluster 6",
         "text": [
          " ugly queer white trash"
         ],
         "textposition": "middle right",
         "type": "scatter",
         "x": [
          15.876655578613281
         ],
         "y": [
          -20.47516441345215
         ]
        },
        {
         "hovertext": [
          "anyone who came to the us as an indentured servant is white trash ",
          " i do not follow you  because   everything about your company is white trash ",
          "anyone who came to the us as an indentured servant is white trash ",
          "white trash warfare",
          "pennsylvania is white trash and is so are all pennsylvanians ",
          "america is white trash and so are all americans "
         ],
         "marker": {
          "color": "#77220F",
          "size": 10
         },
         "mode": "markers",
         "name": "cluster 7",
         "text": [
          "anyone who came to the us as an indentured servant is white trash ",
          " i do not follow you  because   everything about your company is white trash ",
          "anyone who came to the us as an indentured servant is white trash ",
          "white trash warfare",
          "pennsylvania is white trash and is so are all pennsylvanians ",
          "america is white trash and so are all americans "
         ],
         "textposition": "middle right",
         "type": "scatter",
         "x": [
          14.679120063781738,
          14.163631439208984,
          14.679120063781738,
          15.04845142364502,
          14.579334259033203,
          14.440601348876953
         ],
         "y": [
          -19.468107223510742,
          -19.466569900512695,
          -19.468107223510742,
          -20.224998474121094,
          -20.004859924316406,
          -20.23072624206543
         ]
        },
        {
         "hovertext": [
          "hitler did not finish it can you if a nigger your jew confronts you in the street what then ",
          "i dont care what phone you got  silly nigger",
          "jameis winston is a nigger",
          "i color my entire arm black with a sharpie and fist my wife asshole just so she knows what a nigger dick feels like ",
          " goes to olive garden turns into a cracker goes black friday shopping turns into a nigger ",
          " i will do that if you agree to take your ethiopian starving looking nigger ass back to africa buy food little guy"
         ],
         "marker": {
          "color": "#1EF096",
          "size": 10
         },
         "mode": "markers",
         "name": "cluster 8",
         "text": [
          "hitler did not finish it can you if a nigger your jew confronts you in the street what then ",
          "i dont care what phone you got  silly nigger",
          "jameis winston is a nigger",
          "i color my entire arm black with a sharpie and fist my wife asshole just so she knows what a nigger dick feels like ",
          " goes to olive garden turns into a cracker goes black friday shopping turns into a nigger ",
          " i will do that if you agree to take your ethiopian starving looking nigger ass back to africa buy food little guy"
         ],
         "textposition": "middle right",
         "type": "scatter",
         "x": [
          -13.61173152923584,
          -13.767925262451172,
          -14.024247169494629,
          -12.442007064819336,
          -12.467519760131836,
          -12.92619514465332
         ],
         "y": [
          -0.6917516589164734,
          -0.29834529757499695,
          0.11641135811805725,
          -0.21174512803554535,
          -0.23055438697338104,
          -0.56959468126297
         ]
        },
        {
         "hovertext": [
          "twitter is for fags ",
          "you guys are fags ",
          " really fags are gross you aids infected sick fuckers"
         ],
         "marker": {
          "color": "#94D03E",
          "size": 10
         },
         "mode": "markers",
         "name": "cluster 9",
         "text": [
          "twitter is for fags ",
          "you guys are fags ",
          " really fags are gross you aids infected sick fuckers"
         ],
         "textposition": "middle right",
         "type": "scatter",
         "x": [
          14.833574295043945,
          14.863425254821777,
          14.86679458618164
         ],
         "y": [
          -1.9867068529129028,
          -2.0114924907684326,
          -2.0309791564941406
         ]
        },
        {
         "hovertext": [
          " ill give you a tip beware of the ugly birds who hide behind massive lensed sunnies ",
          "with the birds i share this lonely view ",
          "the birds and the bees ",
          "i keep running under trees or when birds fly to avoid their erm being targeted by their lack of a digestive system ",
          " california solar plant fries thousands of birds in mid flight hot air ",
          " flappy birds extreme now you can play two birds at once hardcore easier with two people ",
          "i keep running under trees or when birds fly to avoid their erm being targeted by their lack of a digestive system ",
          "even humming birds like the stuff ",
          "it is a brand new day and the birds they chirpin",
          " i hope you get better soon colds are for the birds",
          " birds of a feather flock togetheryou all ",
          " just call my phone if you want them birds migos voice ",
          " have not you ever heard the story of the birds and the bees"
         ],
         "marker": {
          "color": "#B9E435",
          "size": 10
         },
         "mode": "markers",
         "name": "cluster 10",
         "text": [
          " ill give you a tip beware of the ugly birds who hide behind massive lensed sunnies ",
          "with the birds i share this lonely view ",
          "the birds and the bees ",
          "i keep running under trees or when birds fly to avoid their erm being targeted by their lack of a digestive system ",
          " california solar plant fries thousands of birds in mid flight hot air ",
          " flappy birds extreme now you can play two birds at once hardcore easier with two people ",
          "i keep running under trees or when birds fly to avoid their erm being targeted by their lack of a digestive system ",
          "even humming birds like the stuff ",
          "it is a brand new day and the birds they chirpin",
          " i hope you get better soon colds are for the birds",
          " birds of a feather flock togetheryou all ",
          " just call my phone if you want them birds migos voice ",
          " have not you ever heard the story of the birds and the bees"
         ],
         "textposition": "middle right",
         "type": "scatter",
         "x": [
          3.40855073928833,
          1.6568536758422852,
          1.7153232097625732,
          1.5366262197494507,
          1.4925637245178223,
          2.2457027435302734,
          1.5365935564041138,
          1.1580891609191895,
          1.5125761032104492,
          2.837599039077759,
          0.728287935256958,
          2.8128843307495117,
          2.8321404457092285
         ],
         "y": [
          -23.829357147216797,
          -24.733989715576172,
          -26.15403175354004,
          -22.7392635345459,
          -23.292081832885742,
          -24.667036056518555,
          -22.740049362182617,
          -25.857677459716797,
          -24.823877334594727,
          -24.82761573791504,
          -24.369773864746094,
          -24.44935417175293,
          -25.873199462890625
         ]
        },
        {
         "hovertext": [
          "fuck you faggot hoesss grow up i am  going to  be an old ass man still playing video games "
         ],
         "marker": {
          "color": "#CF75FF",
          "size": 10
         },
         "mode": "markers",
         "name": "cluster 11",
         "text": [
          "fuck you faggot hoesss grow up i am  going to  be an old ass man still playing video games "
         ],
         "textposition": "middle right",
         "type": "scatter",
         "x": [
          -3.009542226791382
         ],
         "y": [
          16.792560577392578
         ]
        },
        {
         "hovertext": [
          " my bitch dont want your ugly ass peyton manning looking ass",
          "brandon phelps a hoe ass nigga and wen i see him i ama smack him like the little bitch he is ",
          "at least i say im crazy some nigga gotta find out a bitch wild when she shooting at they ass "
         ],
         "marker": {
          "color": "#A823F0",
          "size": 10
         },
         "mode": "markers",
         "name": "cluster 12",
         "text": [
          " my bitch dont want your ugly ass peyton manning looking ass",
          "brandon phelps a hoe ass nigga and wen i see him i ama smack him like the little bitch he is ",
          "at least i say im crazy some nigga gotta find out a bitch wild when she shooting at they ass "
         ],
         "textposition": "middle right",
         "type": "scatter",
         "x": [
          12.065534591674805,
          11.355240821838379,
          11.43305492401123
         ],
         "y": [
          -6.062735557556152,
          -6.455504894256592,
          -6.412868499755859
         ]
        },
        {
         "hovertext": [
          "from now on i will call all radical muslims niggers it is very fitting and it is racist i am racist against anyone who hates america ",
          "and i am definitely top at makin beats in the city but you all niggers love your trap beats so you all probably will not admit that",
          "i is not been to the fair since i was like and i have not wanted to go since then either for some reason too many niggers for me",
          " most of these people are followers of followers of truth but they themselves are still niggers their outlook mind all "
         ],
         "marker": {
          "color": "#EFD1A1",
          "size": 10
         },
         "mode": "markers",
         "name": "cluster 13",
         "text": [
          "from now on i will call all radical muslims niggers it is very fitting and it is racist i am racist against anyone who hates america ",
          "and i am definitely top at makin beats in the city but you all niggers love your trap beats so you all probably will not admit that",
          "i is not been to the fair since i was like and i have not wanted to go since then either for some reason too many niggers for me",
          " most of these people are followers of followers of truth but they themselves are still niggers their outlook mind all "
         ],
         "textposition": "middle right",
         "type": "scatter",
         "x": [
          -0.4663507044315338,
          -0.6948966383934021,
          -0.4969060719013214,
          -0.5363723635673523
         ],
         "y": [
          7.4959516525268555,
          7.66286563873291,
          7.527472496032715,
          7.551778316497803
         ]
        },
        {
         "hovertext": [
          "it is so weird outside it is like yellow ",
          "i am currently using a yellow marker that is literally called spanish orange for this drawing of absolute perfection ",
          " yellow jacket landed on my mouth and stung me while i was cutting grass safe to say he won ",
          "yes liking the yellow ",
          " sheeze a yellow bone",
          "appropriately this guy wears the wounderfull yellow rick james on his face ",
          " praying today pictures do not come out yellow ",
          "vintage gold and diamond engagement ring yellow gold unique ring size by vintage ",
          "this is really for exploding giant yellow ducks you will appreciate this ",
          " girls do not let a guy treat you like a yellow starburst you are a pink starburst ",
          " top tip of the would if you want to be inconspicuous at an elbow gig do not wear a yellow jacket ",
          "yesterday i saw a red hair do with streaks of orange and yellow in it combed up like woody wood pecker and ",
          "white kids black kids yellow kids hell even purple kids if you carry your selves like daniel geale you will go far gealemundine "
         ],
         "marker": {
          "color": "#F6D054",
          "size": 10
         },
         "mode": "markers",
         "name": "cluster 14",
         "text": [
          "it is so weird outside it is like yellow ",
          "i am currently using a yellow marker that is literally called spanish orange for this drawing of absolute perfection ",
          " yellow jacket landed on my mouth and stung me while i was cutting grass safe to say he won ",
          "yes liking the yellow ",
          " sheeze a yellow bone",
          "appropriately this guy wears the wounderfull yellow rick james on his face ",
          " praying today pictures do not come out yellow ",
          "vintage gold and diamond engagement ring yellow gold unique ring size by vintage ",
          "this is really for exploding giant yellow ducks you will appreciate this ",
          " girls do not let a guy treat you like a yellow starburst you are a pink starburst ",
          " top tip of the would if you want to be inconspicuous at an elbow gig do not wear a yellow jacket ",
          "yesterday i saw a red hair do with streaks of orange and yellow in it combed up like woody wood pecker and ",
          "white kids black kids yellow kids hell even purple kids if you carry your selves like daniel geale you will go far gealemundine "
         ],
         "textposition": "middle right",
         "type": "scatter",
         "x": [
          -10.589324951171875,
          -9.199127197265625,
          -9.534749031066895,
          -11.037005424499512,
          -11.601998329162598,
          -10.042218208312988,
          -9.878365516662598,
          -9.23361587524414,
          -8.251169204711914,
          -7.278314113616943,
          -8.354151725769043,
          -9.309274673461914,
          -6.144193649291992
         ],
         "y": [
          -18.278921127319336,
          -16.75732421875,
          -16.47233009338379,
          -17.568567276000977,
          -17.575918197631836,
          -16.93361473083496,
          -17.798654556274414,
          -16.588891983032227,
          -17.064908981323242,
          -17.424060821533203,
          -17.611103057861328,
          -17.897554397583008,
          -14.743705749511719
         ]
        },
        {
         "hovertext": [
          "so real it is unreal  yankees world series and counting",
          " well how about those yankees this year what a run what is wrong with nebraska",
          " week from thursday might be the last yankees game to look forward to in a while if nothing else jeter deserves that night ",
          "yankees getting killed",
          " one more from yankees would not be letting polanco sit in minor leagues  because they are all about ",
          "after kuroda gave it his all putting up career numbers but getting no run support the yankees do not deserve to get into the world series",
          " even if you hate the yankees there is no way you cannot like derek jeter he is one of the classiest and most respectful",
          " yankees unveil beautiful derek jeter cage in monument park ",
          " yankees playing tonight in the bronx game of the current series against the would diamond backs"
         ],
         "marker": {
          "color": "#FAF803",
          "size": 10
         },
         "mode": "markers",
         "name": "cluster 15",
         "text": [
          "so real it is unreal  yankees world series and counting",
          " well how about those yankees this year what a run what is wrong with nebraska",
          " week from thursday might be the last yankees game to look forward to in a while if nothing else jeter deserves that night ",
          "yankees getting killed",
          " one more from yankees would not be letting polanco sit in minor leagues  because they are all about ",
          "after kuroda gave it his all putting up career numbers but getting no run support the yankees do not deserve to get into the world series",
          " even if you hate the yankees there is no way you cannot like derek jeter he is one of the classiest and most respectful",
          " yankees unveil beautiful derek jeter cage in monument park ",
          " yankees playing tonight in the bronx game of the current series against the would diamond backs"
         ],
         "textposition": "middle right",
         "type": "scatter",
         "x": [
          16.262859344482422,
          16.441492080688477,
          15.669065475463867,
          17.355878829956055,
          15.876242637634277,
          15.470244407653809,
          -1.545798659324646,
          16.484302520751953,
          14.945316314697266
         ],
         "y": [
          -9.284221649169922,
          -8.146980285644531,
          -9.193977355957031,
          -9.594133377075195,
          -9.225516319274902,
          -10.3173828125,
          -15.331563949584961,
          -9.066877365112305,
          -9.557554244995117
         ]
        },
        {
         "hovertext": [
          " glad about your uncle another stupid faggot off the world hopefully you next ",
          " kincannon real tony i am partial faggot homo both fairly describes the same sick twisted assholes out there ",
          "truth only a faggot would turn down hairy pussy",
          "ugly faggot your a bad mother you should kill yo yourself  like robin williams",
          " answer my snapchat faggot butt hurt",
          " he is a faggot and i do not like him i am on the other side of the state ",
          "look at your boy nigga a faggot chance the rapper "
         ],
         "marker": {
          "color": "#642DC6",
          "size": 10
         },
         "mode": "markers",
         "name": "cluster 16",
         "text": [
          " glad about your uncle another stupid faggot off the world hopefully you next ",
          " kincannon real tony i am partial faggot homo both fairly describes the same sick twisted assholes out there ",
          "truth only a faggot would turn down hairy pussy",
          "ugly faggot your a bad mother you should kill yo yourself  like robin williams",
          " answer my snapchat faggot butt hurt",
          " he is a faggot and i do not like him i am on the other side of the state ",
          "look at your boy nigga a faggot chance the rapper "
         ],
         "textposition": "middle right",
         "type": "scatter",
         "x": [
          -4.093780517578125,
          -3.898198127746582,
          -3.716411828994751,
          -4.4466938972473145,
          -4.145336627960205,
          -4.501189231872559,
          -5.692454814910889
         ],
         "y": [
          16.938949584960938,
          17.040729522705078,
          15.73556900024414,
          17.88076400756836,
          16.51658058166504,
          16.44082260131836,
          16.27536392211914
         ]
        },
        {
         "hovertext": [
          " happy birthday queer",
          "them queer ass shorts rabchenko got on"
         ],
         "marker": {
          "color": "#C87B63",
          "size": 10
         },
         "mode": "markers",
         "name": "cluster 17",
         "text": [
          " happy birthday queer",
          "them queer ass shorts rabchenko got on"
         ],
         "textposition": "middle right",
         "type": "scatter",
         "x": [
          6.298290252685547,
          6.298219680786133
         ],
         "y": [
          -17.110177993774414,
          -17.108293533325195
         ]
        },
        {
         "hovertext": [
          " yes great song just watching the msg concert of yankee stadium gig ",
          " beanies for life ",
          " looks like any other little porch monkey to me ",
          " when rappers say what it makes me feel weird ",
          "they got david taking out the garbage",
          " in which i refresh dhimmi seattle mayor ed murray poor memory of city long history as a jihadi breeding ground ",
          " word and it had make you a it okay to have sex on first date long as the feeling is mutual",
          "them jants be clutch for bedtime ",
          " has to be live version pulled pork clams baby jesus litle smokey",
          " discredited by whom per the government the study is good and factual pay your bills moocher and republicans",
          " i want a pet monkey ",
          " thank you based pee slit",
          "jay takeover ampyou do not know live home home concert yankee stadium ",
          " the best way to make a man do something is to tell him he cannot do it ",
          "i reblogged them to mock her god bless",
          "my teacher always says has a man ever abused his wife while using marijuana not unless she hides the oreo cookies then she would deserves it ",
          " chunky goalkeeper makes a save with his stomach ",
          " all i see in every if they gunned med own tweet this be like the colored brady bunch",
          " i want affection but i also want to be left alone do you see the issue here fag",
          " is good i would have thought he would have gone after khan but what you said makes sense",
          "i didnt buy any alcohol this weekend and only bought proud that i still have ",
          "fat dykes make me want to vomit",
          " real talk not being byes or nothing the whole south glad ",
          " i cannot wait to wear warm fuzzy sweaters ",
          " when you has a frownie eats a brownie",
          "i love my but most days they remind me why birth control is important later in life i miss my baby bird come home ",
          " drew chaysin condom were invent for that sole purpose",
          "some douche cubs redneck cubs fan freaked out asking if bites no you bloody berk he like the ",
          " yes now get off twitter you lame negros should have never learned how to use the internet",
          "i did not forsake all other bitches for my wife to be getting fucked on by another nigga and you know she married you gotta die ",
          " serious question here how many country songs mention honkey tonk ",
          " rise rhyme snow patricks day on in the am wear your green dance a sing a lively tune me ",
          "foley abduction linked to british jihadi kidnapping ring ",
          " something i get a lot are you asian black hawaian gay retarded drunk ",
          " not only you and that pom stuff totally porn ",
          "it so shady when you bitches talk to guys girlfriends that is so disrespectful to do to another girl",
          " bino looking at nip rings i cannot wait until i can change mine ",
          " me gusta typing like a retard to make the other person look dumber by pretending to agree with them bazinga",
          " first second an third mistake i been hearing it want give it a listen ",
          " black americans are worse off under bho well researched article bound to elicit cries of uncle tom ",
          " cookie if i had to pick a president of the uncle tom association i would pick larry elder ",
          " this the i play soccer cheat on girls and wear khaki coloured cargos haircut",
          " an ohio inmate sums up what lebronjames return means for cleveland ",
          " bizarre sports week in cle win a game that felt like a loss failed ex browns duel each other and lose ",
          " no i am a wexican",
          " where do all the foreskins go when they circumcise a guy the foreskin fairy takes them after you put them under your pillow",
          " happy happy helloween helloween",
          " twitter tipped its cap to say  farewell captain  to jeter in his yankee stadium finale video ",
          " do not feel like reading right now i wanna give a sexy coolie girl some lyrics text message ",
          "samsung made fun of bendgate now the galaxy note fails too ",
          "egypt the muzzie bros still running things only a tad better certainly no respectors of them though",
          " i drove my daughter guinea pig to the vet this morning i am quite handy with my new callaway golf clubs sickipedia",
          " full set except the last song from southern darkness fest last month who the ape on guitar ",
          " mickey mouse ears hat and tail for that matter ",
          "all brown university students the stop and frisk protesters will be systematically dispersed into random you ghettos good luck ",
          "i am an year old gay driving through the back roads of redneck virginia blasting cheetah girls if that wouldoesn scream sitcom what does ",
          "if train officers that are wearing body armor stand back to watch the ismoke clear why does every gun wanna be ",
          "this store is so redneck ",
          " is he chunky ",
          " second page handout may closed ended questions ",
          " i think it is time to bring out the would drunken monkey",
          "when will joe stop telling how to do his job you could not even keep a job in ",
          " friends of has let me know that phil is very ill his infection has gone septic and he is fighting ",
          " squak squak squak squak me bird shut up squak alex that was an act of defiance ",
          "so much more going on but hypocrisy does not sit well with me my redneck family from central illinois more black then bieber ",
          " it is crazy if a female cheats it is so wrong she is every type of there is but if a guy cheats there is all these justific ",
          " for lots of great oldies check out memories and more with yankee rose today from pm to pm eastern ",
          " the best way to make a man do something is to tell him he cannot do it ",
          " this this this pack it up and head to new york please enjoy being called a hick for a few years come home humbled plans",
          " tornado sirens atleast i will be dying with you guys krizanovic and this ",
          " your pet zebra stripey ",
          " i do not like it peaceful that is boring i like fighting i come from the ghetto doyou aremember that it is impossible for me not to",
          "i could go for a brownie right now",
          " we could get matching burner phones and be ghetto fab for a few months",
          " me waiting on you to take me to new yorkwith you to get my nips pierced ",
          " have heard good grousings that bugs much worse in the cafesince microphone shut down ",
          " hey now there is no need for foul language you kike",
          " so cute shy bunny ",
          "i just wanna slit this throat",
          " lemur he loves me eats a brownie he loves me not eats a brownie ",
          "just cleaned my fingernails with a knife",
          "apaches rounds turn jihadis into tomato soup ",
          " gerry remember all the garbage on the floor of your car we upgraded it put wale the gifted so it feels like your old car ",
          " this this this pack it up and head to new york please enjoy being called a hick for a few years come home humbled plans",
          " oreo  well i gota do dee video for his dance soon i can show you how to use equipment and that ",
          "so am i the only cracker up playing his guitar thank you rick on this saturday night ",
          " saw that there is a slope to the wire that enough for a zip line business opportunity",
          " hot off the press here todd mcshay first post combine mock draft including a new ",
          " rotherdam rape jihad cover up young girls sacrificed on altar of political correctness in favor ",
          " king pats owner is a kike ",
          "tattoos are about expression not meaning one mans garbage is another mans treasure ",
          " only one problem theres a no pussies allowed sorry ",
          " i need some clams on the half shell down here all you can get is deep fried clam necks ",
          "my best friend says i do not need to be in love right now he thinks its too soon to love monkey ",
          " percent of the garbage we had dump in the sea is missing this is not a good thing ",
          " you know how in superhero stories the best insult for superheroes dumb mooks can come up with is do gooder white knight",
          " since i know you are wondering no cracker barrel is not a place to buy barrels full of crackers ",
          "no one has even eaten a twinkie in like decades ",
          " a silent protest in philadelphia performance artists protest the murder of mike brown while passerby mock it ",
          "someone at my household wants to die i get all excited to enjoy a couple of oreos but someone left only one one friggin oreo ",
          " bri one of my classmates offered my teacher and brownie and someone said you  trying to earn brownie points ",
          "the perfect gift for the jihadi on your shopping list ",
          " that is definitely the problem if his teacher was a spear chucker he"
         ],
         "marker": {
          "color": "#0BF94C",
          "size": 10
         },
         "mode": "markers",
         "name": "cluster 18",
         "text": [
          " yes great song just watching the msg concert of yankee stadium gig ",
          " beanies for life ",
          " looks like any other little porch monkey to me ",
          " when rappers say what it makes me feel weird ",
          "they got david taking out the garbage",
          " in which i refresh dhimmi seattle mayor ed murray poor memory of city long history as a jihadi breeding ground ",
          " word and it had make you a it okay to have sex on first date long as the feeling is mutual",
          "them jants be clutch for bedtime ",
          " has to be live version pulled pork clams baby jesus litle smokey",
          " discredited by whom per the government the study is good and factual pay your bills moocher and republicans",
          " i want a pet monkey ",
          " thank you based pee slit",
          "jay takeover ampyou do not know live home home concert yankee stadium ",
          " the best way to make a man do something is to tell him he cannot do it ",
          "i reblogged them to mock her god bless",
          "my teacher always says has a man ever abused his wife while using marijuana not unless she hides the oreo cookies then she would deserves it ",
          " chunky goalkeeper makes a save with his stomach ",
          " all i see in every if they gunned med own tweet this be like the colored brady bunch",
          " i want affection but i also want to be left alone do you see the issue here fag",
          " is good i would have thought he would have gone after khan but what you said makes sense",
          "i didnt buy any alcohol this weekend and only bought proud that i still have ",
          "fat dykes make me want to vomit",
          " real talk not being byes or nothing the whole south glad ",
          " i cannot wait to wear warm fuzzy sweaters ",
          " when you has a frownie eats a brownie",
          "i love my but most days they remind me why birth control is important later in life i miss my baby bird come home ",
          " drew chaysin condom were invent for that sole purpose",
          "some douche cubs redneck cubs fan freaked out asking if bites no you bloody berk he like the ",
          " yes now get off twitter you lame negros should have never learned how to use the internet",
          "i did not forsake all other bitches for my wife to be getting fucked on by another nigga and you know she married you gotta die ",
          " serious question here how many country songs mention honkey tonk ",
          " rise rhyme snow patricks day on in the am wear your green dance a sing a lively tune me ",
          "foley abduction linked to british jihadi kidnapping ring ",
          " something i get a lot are you asian black hawaian gay retarded drunk ",
          " not only you and that pom stuff totally porn ",
          "it so shady when you bitches talk to guys girlfriends that is so disrespectful to do to another girl",
          " bino looking at nip rings i cannot wait until i can change mine ",
          " me gusta typing like a retard to make the other person look dumber by pretending to agree with them bazinga",
          " first second an third mistake i been hearing it want give it a listen ",
          " black americans are worse off under bho well researched article bound to elicit cries of uncle tom ",
          " cookie if i had to pick a president of the uncle tom association i would pick larry elder ",
          " this the i play soccer cheat on girls and wear khaki coloured cargos haircut",
          " an ohio inmate sums up what lebronjames return means for cleveland ",
          " bizarre sports week in cle win a game that felt like a loss failed ex browns duel each other and lose ",
          " no i am a wexican",
          " where do all the foreskins go when they circumcise a guy the foreskin fairy takes them after you put them under your pillow",
          " happy happy helloween helloween",
          " twitter tipped its cap to say  farewell captain  to jeter in his yankee stadium finale video ",
          " do not feel like reading right now i wanna give a sexy coolie girl some lyrics text message ",
          "samsung made fun of bendgate now the galaxy note fails too ",
          "egypt the muzzie bros still running things only a tad better certainly no respectors of them though",
          " i drove my daughter guinea pig to the vet this morning i am quite handy with my new callaway golf clubs sickipedia",
          " full set except the last song from southern darkness fest last month who the ape on guitar ",
          " mickey mouse ears hat and tail for that matter ",
          "all brown university students the stop and frisk protesters will be systematically dispersed into random you ghettos good luck ",
          "i am an year old gay driving through the back roads of redneck virginia blasting cheetah girls if that wouldoesn scream sitcom what does ",
          "if train officers that are wearing body armor stand back to watch the ismoke clear why does every gun wanna be ",
          "this store is so redneck ",
          " is he chunky ",
          " second page handout may closed ended questions ",
          " i think it is time to bring out the would drunken monkey",
          "when will joe stop telling how to do his job you could not even keep a job in ",
          " friends of has let me know that phil is very ill his infection has gone septic and he is fighting ",
          " squak squak squak squak me bird shut up squak alex that was an act of defiance ",
          "so much more going on but hypocrisy does not sit well with me my redneck family from central illinois more black then bieber ",
          " it is crazy if a female cheats it is so wrong she is every type of there is but if a guy cheats there is all these justific ",
          " for lots of great oldies check out memories and more with yankee rose today from pm to pm eastern ",
          " the best way to make a man do something is to tell him he cannot do it ",
          " this this this pack it up and head to new york please enjoy being called a hick for a few years come home humbled plans",
          " tornado sirens atleast i will be dying with you guys krizanovic and this ",
          " your pet zebra stripey ",
          " i do not like it peaceful that is boring i like fighting i come from the ghetto doyou aremember that it is impossible for me not to",
          "i could go for a brownie right now",
          " we could get matching burner phones and be ghetto fab for a few months",
          " me waiting on you to take me to new yorkwith you to get my nips pierced ",
          " have heard good grousings that bugs much worse in the cafesince microphone shut down ",
          " hey now there is no need for foul language you kike",
          " so cute shy bunny ",
          "i just wanna slit this throat",
          " lemur he loves me eats a brownie he loves me not eats a brownie ",
          "just cleaned my fingernails with a knife",
          "apaches rounds turn jihadis into tomato soup ",
          " gerry remember all the garbage on the floor of your car we upgraded it put wale the gifted so it feels like your old car ",
          " this this this pack it up and head to new york please enjoy being called a hick for a few years come home humbled plans",
          " oreo  well i gota do dee video for his dance soon i can show you how to use equipment and that ",
          "so am i the only cracker up playing his guitar thank you rick on this saturday night ",
          " saw that there is a slope to the wire that enough for a zip line business opportunity",
          " hot off the press here todd mcshay first post combine mock draft including a new ",
          " rotherdam rape jihad cover up young girls sacrificed on altar of political correctness in favor ",
          " king pats owner is a kike ",
          "tattoos are about expression not meaning one mans garbage is another mans treasure ",
          " only one problem theres a no pussies allowed sorry ",
          " i need some clams on the half shell down here all you can get is deep fried clam necks ",
          "my best friend says i do not need to be in love right now he thinks its too soon to love monkey ",
          " percent of the garbage we had dump in the sea is missing this is not a good thing ",
          " you know how in superhero stories the best insult for superheroes dumb mooks can come up with is do gooder white knight",
          " since i know you are wondering no cracker barrel is not a place to buy barrels full of crackers ",
          "no one has even eaten a twinkie in like decades ",
          " a silent protest in philadelphia performance artists protest the murder of mike brown while passerby mock it ",
          "someone at my household wants to die i get all excited to enjoy a couple of oreos but someone left only one one friggin oreo ",
          " bri one of my classmates offered my teacher and brownie and someone said you  trying to earn brownie points ",
          "the perfect gift for the jihadi on your shopping list ",
          " that is definitely the problem if his teacher was a spear chucker he"
         ],
         "textposition": "middle right",
         "type": "scatter",
         "x": [
          9.893746376037598,
          4.930525302886963,
          -6.316941261291504,
          2.9780354499816895,
          8.646801948547363,
          3.480987787246704,
          0.01901128515601158,
          5.550786972045898,
          3.325900077819824,
          5.767032146453857,
          -5.466494560241699,
          -1.8463311195373535,
          9.227874755859375,
          11.278532028198242,
          1.510157585144043,
          -3.6097095012664795,
          0.7234471440315247,
          8.851487159729004,
          0.656421959400177,
          1.1680874824523926,
          3.758673667907715,
          7.231094837188721,
          5.2798075675964355,
          -1.8224817514419556,
          -4.5830183029174805,
          6.089559555053711,
          3.899442434310913,
          -0.8165384531021118,
          -0.541256308555603,
          1.4898251295089722,
          0.5830940008163452,
          5.751596450805664,
          3.588395357131958,
          -1.4352947473526,
          -2.85184645652771,
          1.0496410131454468,
          2.0680201053619385,
          -0.5957045555114746,
          1.6735113859176636,
          -0.11116575449705124,
          2.3945446014404297,
          4.068185329437256,
          3.9324405193328857,
          1.0041108131408691,
          2.5567965507507324,
          0.11601710319519043,
          2.564051389694214,
          -2.540902614593506,
          -0.40392690896987915,
          2.6039953231811523,
          2.958543539047241,
          3.1384694576263428,
          4.342989921569824,
          4.290858268737793,
          -1.021865963935852,
          -1.0613040924072266,
          3.926187038421631,
          5.6336140632629395,
          0.6867451667785645,
          1.7123346328735352,
          -5.431449890136719,
          -2.838238000869751,
          1.0313642024993896,
          5.77154541015625,
          0.1337033063173294,
          -1.7982072830200195,
          9.725654602050781,
          11.279229164123535,
          4.539889335632324,
          -2.1512932777404785,
          6.4297966957092285,
          7.798816204071045,
          -4.461949348449707,
          6.854557037353516,
          -2.6222457885742188,
          6.451641082763672,
          -1.6453604698181152,
          5.889854431152344,
          -0.0193962249904871,
          -4.310880184173584,
          1.809415340423584,
          2.558906078338623,
          7.2524189949035645,
          4.539938449859619,
          -3.6899023056030273,
          -1.4256511926651,
          4.606818199157715,
          1.1367061138153076,
          1.8686858415603638,
          2.5250275135040283,
          8.69483757019043,
          7.636582851409912,
          -0.23315030336380005,
          -1.601326584815979,
          8.300495147705078,
          -6.032224655151367,
          -2.1162731647491455,
          0.44455525279045105,
          1.592106819152832,
          -2.199878454208374,
          -4.586384296417236,
          5.118027687072754,
          3.868716239929199
         ],
         "y": [
          -2.048349142074585,
          -0.9836647510528564,
          0.7961220741271973,
          0.19175218045711517,
          -9.164121627807617,
          -9.142658233642578,
          -13.013760566711426,
          -1.7387034893035889,
          -3.2740721702575684,
          -8.225069999694824,
          0.4053941071033478,
          -13.498041152954102,
          -0.25693774223327637,
          2.119396686553955,
          -7.805835723876953,
          -3.031165599822998,
          2.809072971343994,
          -4.559661388397217,
          -10.966514587402344,
          -12.354330062866211,
          -2.4841134548187256,
          0.1362496316432953,
          -5.402071475982666,
          1.6764897108078003,
          -8.120307922363281,
          7.064133644104004,
          3.2678632736206055,
          -11.745299339294434,
          -12.27599048614502,
          -15.294116020202637,
          -0.8933811783790588,
          -7.694225788116455,
          -9.195490837097168,
          -7.836090564727783,
          -12.697412490844727,
          -14.62856674194336,
          -4.131103038787842,
          -4.043550968170166,
          -0.060176827013492584,
          -5.782987117767334,
          -5.729369163513184,
          -4.970260143280029,
          -0.4503687620162964,
          -2.9783222675323486,
          -3.448242425918579,
          -9.709588050842285,
          -3.316803216934204,
          -0.8876751661300659,
          -2.8844797611236572,
          -6.37139892578125,
          -5.857029914855957,
          -4.5542311668396,
          -5.932896137237549,
          -1.7813646793365479,
          -10.581936836242676,
          -7.433972358703613,
          -3.9422922134399414,
          0.18623974919319153,
          3.405762195587158,
          -2.771448850631714,
          0.38297557830810547,
          -10.442364692687988,
          -4.608370304107666,
          6.2382073402404785,
          -5.271902084350586,
          -5.3031840324401855,
          -2.0216939449310303,
          2.1191060543060303,
          1.2934272289276123,
          -12.55992317199707,
          -7.362461090087891,
          2.9027161598205566,
          -6.156698226928711,
          2.8564367294311523,
          -13.750709533691406,
          -4.067708969116211,
          -12.147708892822266,
          -2.9196627140045166,
          0.6557514071464539,
          -6.608390808105469,
          -3.488497257232666,
          -3.110257387161255,
          -9.196675300598145,
          1.2933458089828491,
          -10.938098907470703,
          -12.922310829162598,
          -2.8986661434173584,
          -7.142775058746338,
          -5.155182361602783,
          -3.351564645767212,
          -8.173554420471191,
          -3.0395267009735107,
          -10.870967864990234,
          -2.3576300144195557,
          -9.231070518493652,
          -14.615535736083984,
          -11.403382301330566,
          -3.2658889293670654,
          -6.602109909057617,
          -3.9132485389709473,
          -7.906358242034912,
          -9.129863739013672,
          -7.151507377624512
         ]
        },
        {
         "hovertext": [
          " ruin a comedian charlie lap dance",
          " charlie baker about to make his final election eve campaign stop here ",
          "former towie star charlie king comes out inspiring congrats and welcome to the family ",
          " rivers charlie sheen will star in a new sitcom as an anger management therapist so what is next casey anthony as the owner of ",
          " fear mongering by the left is dying wake up who are you going believe charlie rangel and hussein or mia love and ",
          " charlie have a great day",
          "i cannot watch charlie cloud  because i cry like a little baby every single time ",
          "charlie crist i rumored to demand a recount sayfie",
          " forget your typical graduation speech charlie day manages to be hilarious and inspirational in today ",
          " you hit no lights no line for toco bell at in he morning and diana back in her house it a miracle charlie "
         ],
         "marker": {
          "color": "#3DC604",
          "size": 10
         },
         "mode": "markers",
         "name": "cluster 19",
         "text": [
          " ruin a comedian charlie lap dance",
          " charlie baker about to make his final election eve campaign stop here ",
          "former towie star charlie king comes out inspiring congrats and welcome to the family ",
          " rivers charlie sheen will star in a new sitcom as an anger management therapist so what is next casey anthony as the owner of ",
          " fear mongering by the left is dying wake up who are you going believe charlie rangel and hussein or mia love and ",
          " charlie have a great day",
          "i cannot watch charlie cloud  because i cry like a little baby every single time ",
          "charlie crist i rumored to demand a recount sayfie",
          " forget your typical graduation speech charlie day manages to be hilarious and inspirational in today ",
          " you hit no lights no line for toco bell at in he morning and diana back in her house it a miracle charlie "
         ],
         "textposition": "middle right",
         "type": "scatter",
         "x": [
          18.629758834838867,
          19.612648010253906,
          18.0565185546875,
          17.549196243286133,
          18.249483108520508,
          18.973121643066406,
          18.403579711914062,
          18.71321678161621,
          17.615859985351562,
          18.44554901123047
         ],
         "y": [
          5.285330772399902,
          5.184451580047607,
          4.8188652992248535,
          4.669118881225586,
          4.196522235870361,
          6.607059478759766,
          5.238092422485352,
          5.430723190307617,
          5.535498142242432,
          3.801370143890381
         ]
        },
        {
         "hovertext": [
          "you have a new boyfriend every week you had hoe ",
          " you like you needs to you a hoe i breaking suck my dick ",
          "fat ass hoe holding up the machine"
         ],
         "marker": {
          "color": "#5CB106",
          "size": 10
         },
         "mode": "markers",
         "name": "cluster 20",
         "text": [
          "you have a new boyfriend every week you had hoe ",
          " you like you needs to you a hoe i breaking suck my dick ",
          "fat ass hoe holding up the machine"
         ],
         "textposition": "middle right",
         "type": "scatter",
         "x": [
          8.822616577148438,
          8.72446060180664,
          9.175572395324707
         ],
         "y": [
          -14.144968032836914,
          -14.33581256866455,
          -13.449519157409668
         ]
        },
        {
         "hovertext": [
          "hood niggas and bitches love emojis "
         ],
         "marker": {
          "color": "#E553CC",
          "size": 10
         },
         "mode": "markers",
         "name": "cluster 21",
         "text": [
          "hood niggas and bitches love emojis "
         ],
         "textposition": "middle right",
         "type": "scatter",
         "x": [
          5.093965530395508
         ],
         "y": [
          -13.070073127746582
         ]
        },
        {
         "hovertext": [
          " madonnas music sucks yes you are fucking stupid if you think gaga is better retard",
          "anybody who trashes their own neighborhood after a perceived injustice is a fucking moron ferguson",
          "boyden fucking james tried to tell me jawga boys sucked i went ape shit ",
          "none of us went to these prestigious establishments so we are clearly not as superior as these fucking retards "
         ],
         "marker": {
          "color": "#727A7F",
          "size": 10
         },
         "mode": "markers",
         "name": "cluster 22",
         "text": [
          " madonnas music sucks yes you are fucking stupid if you think gaga is better retard",
          "anybody who trashes their own neighborhood after a perceived injustice is a fucking moron ferguson",
          "boyden fucking james tried to tell me jawga boys sucked i went ape shit ",
          "none of us went to these prestigious establishments so we are clearly not as superior as these fucking retards "
         ],
         "textposition": "middle right",
         "type": "scatter",
         "x": [
          -8.147749900817871,
          -7.896304607391357,
          -8.048599243164062,
          -7.397397994995117
         ],
         "y": [
          -4.705575942993164,
          -3.7579457759857178,
          -3.687373161315918,
          -3.3853096961975098
         ]
        },
        {
         "hovertext": [
          "that peach my niggas hot boys so do not bring no ice in this bitch ",
          "i cannot fuck any old bitch niggas be desert dicks out here "
         ],
         "marker": {
          "color": "#953395",
          "size": 10
         },
         "mode": "markers",
         "name": "cluster 23",
         "text": [
          "that peach my niggas hot boys so do not bring no ice in this bitch ",
          "i cannot fuck any old bitch niggas be desert dicks out here "
         ],
         "textposition": "middle right",
         "type": "scatter",
         "x": [
          -9.87957763671875,
          -10.067456245422363
         ],
         "y": [
          -9.04074764251709,
          -8.907785415649414
         ]
        },
        {
         "hovertext": [
          " do not my nigga me honkie"
         ],
         "marker": {
          "color": "#2205F3",
          "size": 10
         },
         "mode": "markers",
         "name": "cluster 24",
         "text": [
          " do not my nigga me honkie"
         ],
         "textposition": "middle right",
         "type": "scatter",
         "x": [
          2.0686099529266357
         ],
         "y": [
          -15.811494827270508
         ]
        }
       ],
       "layout": {
        "hoverlabel": {
         "bgcolor": "white",
         "font": {
          "size": 20
         }
        },
        "template": {
         "data": {
          "bar": [
           {
            "error_x": {
             "color": "#2a3f5f"
            },
            "error_y": {
             "color": "#2a3f5f"
            },
            "marker": {
             "line": {
              "color": "#E5ECF6",
              "width": 0.5
             }
            },
            "type": "bar"
           }
          ],
          "barpolar": [
           {
            "marker": {
             "line": {
              "color": "#E5ECF6",
              "width": 0.5
             }
            },
            "type": "barpolar"
           }
          ],
          "carpet": [
           {
            "aaxis": {
             "endlinecolor": "#2a3f5f",
             "gridcolor": "white",
             "linecolor": "white",
             "minorgridcolor": "white",
             "startlinecolor": "#2a3f5f"
            },
            "baxis": {
             "endlinecolor": "#2a3f5f",
             "gridcolor": "white",
             "linecolor": "white",
             "minorgridcolor": "white",
             "startlinecolor": "#2a3f5f"
            },
            "type": "carpet"
           }
          ],
          "choropleth": [
           {
            "colorbar": {
             "outlinewidth": 0,
             "ticks": ""
            },
            "type": "choropleth"
           }
          ],
          "contour": [
           {
            "colorbar": {
             "outlinewidth": 0,
             "ticks": ""
            },
            "colorscale": [
             [
              0,
              "#0d0887"
             ],
             [
              0.1111111111111111,
              "#46039f"
             ],
             [
              0.2222222222222222,
              "#7201a8"
             ],
             [
              0.3333333333333333,
              "#9c179e"
             ],
             [
              0.4444444444444444,
              "#bd3786"
             ],
             [
              0.5555555555555556,
              "#d8576b"
             ],
             [
              0.6666666666666666,
              "#ed7953"
             ],
             [
              0.7777777777777778,
              "#fb9f3a"
             ],
             [
              0.8888888888888888,
              "#fdca26"
             ],
             [
              1,
              "#f0f921"
             ]
            ],
            "type": "contour"
           }
          ],
          "contourcarpet": [
           {
            "colorbar": {
             "outlinewidth": 0,
             "ticks": ""
            },
            "type": "contourcarpet"
           }
          ],
          "heatmap": [
           {
            "colorbar": {
             "outlinewidth": 0,
             "ticks": ""
            },
            "colorscale": [
             [
              0,
              "#0d0887"
             ],
             [
              0.1111111111111111,
              "#46039f"
             ],
             [
              0.2222222222222222,
              "#7201a8"
             ],
             [
              0.3333333333333333,
              "#9c179e"
             ],
             [
              0.4444444444444444,
              "#bd3786"
             ],
             [
              0.5555555555555556,
              "#d8576b"
             ],
             [
              0.6666666666666666,
              "#ed7953"
             ],
             [
              0.7777777777777778,
              "#fb9f3a"
             ],
             [
              0.8888888888888888,
              "#fdca26"
             ],
             [
              1,
              "#f0f921"
             ]
            ],
            "type": "heatmap"
           }
          ],
          "heatmapgl": [
           {
            "colorbar": {
             "outlinewidth": 0,
             "ticks": ""
            },
            "colorscale": [
             [
              0,
              "#0d0887"
             ],
             [
              0.1111111111111111,
              "#46039f"
             ],
             [
              0.2222222222222222,
              "#7201a8"
             ],
             [
              0.3333333333333333,
              "#9c179e"
             ],
             [
              0.4444444444444444,
              "#bd3786"
             ],
             [
              0.5555555555555556,
              "#d8576b"
             ],
             [
              0.6666666666666666,
              "#ed7953"
             ],
             [
              0.7777777777777778,
              "#fb9f3a"
             ],
             [
              0.8888888888888888,
              "#fdca26"
             ],
             [
              1,
              "#f0f921"
             ]
            ],
            "type": "heatmapgl"
           }
          ],
          "histogram": [
           {
            "marker": {
             "colorbar": {
              "outlinewidth": 0,
              "ticks": ""
             }
            },
            "type": "histogram"
           }
          ],
          "histogram2d": [
           {
            "colorbar": {
             "outlinewidth": 0,
             "ticks": ""
            },
            "colorscale": [
             [
              0,
              "#0d0887"
             ],
             [
              0.1111111111111111,
              "#46039f"
             ],
             [
              0.2222222222222222,
              "#7201a8"
             ],
             [
              0.3333333333333333,
              "#9c179e"
             ],
             [
              0.4444444444444444,
              "#bd3786"
             ],
             [
              0.5555555555555556,
              "#d8576b"
             ],
             [
              0.6666666666666666,
              "#ed7953"
             ],
             [
              0.7777777777777778,
              "#fb9f3a"
             ],
             [
              0.8888888888888888,
              "#fdca26"
             ],
             [
              1,
              "#f0f921"
             ]
            ],
            "type": "histogram2d"
           }
          ],
          "histogram2dcontour": [
           {
            "colorbar": {
             "outlinewidth": 0,
             "ticks": ""
            },
            "colorscale": [
             [
              0,
              "#0d0887"
             ],
             [
              0.1111111111111111,
              "#46039f"
             ],
             [
              0.2222222222222222,
              "#7201a8"
             ],
             [
              0.3333333333333333,
              "#9c179e"
             ],
             [
              0.4444444444444444,
              "#bd3786"
             ],
             [
              0.5555555555555556,
              "#d8576b"
             ],
             [
              0.6666666666666666,
              "#ed7953"
             ],
             [
              0.7777777777777778,
              "#fb9f3a"
             ],
             [
              0.8888888888888888,
              "#fdca26"
             ],
             [
              1,
              "#f0f921"
             ]
            ],
            "type": "histogram2dcontour"
           }
          ],
          "mesh3d": [
           {
            "colorbar": {
             "outlinewidth": 0,
             "ticks": ""
            },
            "type": "mesh3d"
           }
          ],
          "parcoords": [
           {
            "line": {
             "colorbar": {
              "outlinewidth": 0,
              "ticks": ""
             }
            },
            "type": "parcoords"
           }
          ],
          "scatter": [
           {
            "marker": {
             "colorbar": {
              "outlinewidth": 0,
              "ticks": ""
             }
            },
            "type": "scatter"
           }
          ],
          "scatter3d": [
           {
            "line": {
             "colorbar": {
              "outlinewidth": 0,
              "ticks": ""
             }
            },
            "marker": {
             "colorbar": {
              "outlinewidth": 0,
              "ticks": ""
             }
            },
            "type": "scatter3d"
           }
          ],
          "scattercarpet": [
           {
            "marker": {
             "colorbar": {
              "outlinewidth": 0,
              "ticks": ""
             }
            },
            "type": "scattercarpet"
           }
          ],
          "scattergeo": [
           {
            "marker": {
             "colorbar": {
              "outlinewidth": 0,
              "ticks": ""
             }
            },
            "type": "scattergeo"
           }
          ],
          "scattergl": [
           {
            "marker": {
             "colorbar": {
              "outlinewidth": 0,
              "ticks": ""
             }
            },
            "type": "scattergl"
           }
          ],
          "scattermapbox": [
           {
            "marker": {
             "colorbar": {
              "outlinewidth": 0,
              "ticks": ""
             }
            },
            "type": "scattermapbox"
           }
          ],
          "scatterpolar": [
           {
            "marker": {
             "colorbar": {
              "outlinewidth": 0,
              "ticks": ""
             }
            },
            "type": "scatterpolar"
           }
          ],
          "scatterpolargl": [
           {
            "marker": {
             "colorbar": {
              "outlinewidth": 0,
              "ticks": ""
             }
            },
            "type": "scatterpolargl"
           }
          ],
          "scatterternary": [
           {
            "marker": {
             "colorbar": {
              "outlinewidth": 0,
              "ticks": ""
             }
            },
            "type": "scatterternary"
           }
          ],
          "surface": [
           {
            "colorbar": {
             "outlinewidth": 0,
             "ticks": ""
            },
            "colorscale": [
             [
              0,
              "#0d0887"
             ],
             [
              0.1111111111111111,
              "#46039f"
             ],
             [
              0.2222222222222222,
              "#7201a8"
             ],
             [
              0.3333333333333333,
              "#9c179e"
             ],
             [
              0.4444444444444444,
              "#bd3786"
             ],
             [
              0.5555555555555556,
              "#d8576b"
             ],
             [
              0.6666666666666666,
              "#ed7953"
             ],
             [
              0.7777777777777778,
              "#fb9f3a"
             ],
             [
              0.8888888888888888,
              "#fdca26"
             ],
             [
              1,
              "#f0f921"
             ]
            ],
            "type": "surface"
           }
          ],
          "table": [
           {
            "cells": {
             "fill": {
              "color": "#EBF0F8"
             },
             "line": {
              "color": "white"
             }
            },
            "header": {
             "fill": {
              "color": "#C8D4E3"
             },
             "line": {
              "color": "white"
             }
            },
            "type": "table"
           }
          ]
         },
         "layout": {
          "annotationdefaults": {
           "arrowcolor": "#2a3f5f",
           "arrowhead": 0,
           "arrowwidth": 1
          },
          "colorscale": {
           "diverging": [
            [
             0,
             "#8e0152"
            ],
            [
             0.1,
             "#c51b7d"
            ],
            [
             0.2,
             "#de77ae"
            ],
            [
             0.3,
             "#f1b6da"
            ],
            [
             0.4,
             "#fde0ef"
            ],
            [
             0.5,
             "#f7f7f7"
            ],
            [
             0.6,
             "#e6f5d0"
            ],
            [
             0.7,
             "#b8e186"
            ],
            [
             0.8,
             "#7fbc41"
            ],
            [
             0.9,
             "#4d9221"
            ],
            [
             1,
             "#276419"
            ]
           ],
           "sequential": [
            [
             0,
             "#0d0887"
            ],
            [
             0.1111111111111111,
             "#46039f"
            ],
            [
             0.2222222222222222,
             "#7201a8"
            ],
            [
             0.3333333333333333,
             "#9c179e"
            ],
            [
             0.4444444444444444,
             "#bd3786"
            ],
            [
             0.5555555555555556,
             "#d8576b"
            ],
            [
             0.6666666666666666,
             "#ed7953"
            ],
            [
             0.7777777777777778,
             "#fb9f3a"
            ],
            [
             0.8888888888888888,
             "#fdca26"
            ],
            [
             1,
             "#f0f921"
            ]
           ],
           "sequentialminus": [
            [
             0,
             "#0d0887"
            ],
            [
             0.1111111111111111,
             "#46039f"
            ],
            [
             0.2222222222222222,
             "#7201a8"
            ],
            [
             0.3333333333333333,
             "#9c179e"
            ],
            [
             0.4444444444444444,
             "#bd3786"
            ],
            [
             0.5555555555555556,
             "#d8576b"
            ],
            [
             0.6666666666666666,
             "#ed7953"
            ],
            [
             0.7777777777777778,
             "#fb9f3a"
            ],
            [
             0.8888888888888888,
             "#fdca26"
            ],
            [
             1,
             "#f0f921"
            ]
           ]
          },
          "colorway": [
           "#636efa",
           "#EF553B",
           "#00cc96",
           "#ab63fa",
           "#FFA15A",
           "#19d3f3",
           "#FF6692",
           "#B6E880",
           "#FF97FF",
           "#FECB52"
          ],
          "font": {
           "color": "#2a3f5f"
          },
          "geo": {
           "bgcolor": "white",
           "lakecolor": "white",
           "landcolor": "#E5ECF6",
           "showlakes": true,
           "showland": true,
           "subunitcolor": "white"
          },
          "hoverlabel": {
           "align": "left"
          },
          "hovermode": "closest",
          "mapbox": {
           "style": "light"
          },
          "paper_bgcolor": "white",
          "plot_bgcolor": "#E5ECF6",
          "polar": {
           "angularaxis": {
            "gridcolor": "white",
            "linecolor": "white",
            "ticks": ""
           },
           "bgcolor": "#E5ECF6",
           "radialaxis": {
            "gridcolor": "white",
            "linecolor": "white",
            "ticks": ""
           }
          },
          "scene": {
           "xaxis": {
            "backgroundcolor": "#E5ECF6",
            "gridcolor": "white",
            "gridwidth": 2,
            "linecolor": "white",
            "showbackground": true,
            "ticks": "",
            "zerolinecolor": "white"
           },
           "yaxis": {
            "backgroundcolor": "#E5ECF6",
            "gridcolor": "white",
            "gridwidth": 2,
            "linecolor": "white",
            "showbackground": true,
            "ticks": "",
            "zerolinecolor": "white"
           },
           "zaxis": {
            "backgroundcolor": "#E5ECF6",
            "gridcolor": "white",
            "gridwidth": 2,
            "linecolor": "white",
            "showbackground": true,
            "ticks": "",
            "zerolinecolor": "white"
           }
          },
          "shapedefaults": {
           "line": {
            "color": "#2a3f5f"
           }
          },
          "ternary": {
           "aaxis": {
            "gridcolor": "white",
            "linecolor": "white",
            "ticks": ""
           },
           "baxis": {
            "gridcolor": "white",
            "linecolor": "white",
            "ticks": ""
           },
           "bgcolor": "#E5ECF6",
           "caxis": {
            "gridcolor": "white",
            "linecolor": "white",
            "ticks": ""
           }
          },
          "title": {
           "x": 0.05
          },
          "xaxis": {
           "automargin": true,
           "gridcolor": "white",
           "linecolor": "white",
           "ticks": "",
           "zerolinecolor": "white",
           "zerolinewidth": 2
          },
          "yaxis": {
           "automargin": true,
           "gridcolor": "white",
           "linecolor": "white",
           "ticks": "",
           "zerolinecolor": "white",
           "zerolinewidth": 2
          }
         }
        }
       }
      },
      "text/html": [
       "<div>\n",
       "        \n",
       "        \n",
       "            <div id=\"b10b3966-4d88-43ff-b520-8c955d7c211d\" class=\"plotly-graph-div\" style=\"height:525px; width:100%;\"></div>\n",
       "            <script type=\"text/javascript\">\n",
       "                require([\"plotly\"], function(Plotly) {\n",
       "                    window.PLOTLYENV=window.PLOTLYENV || {};\n",
       "                    \n",
       "                if (document.getElementById(\"b10b3966-4d88-43ff-b520-8c955d7c211d\")) {\n",
       "                    Plotly.newPlot(\n",
       "                        'b10b3966-4d88-43ff-b520-8c955d7c211d',\n",
       "                        [{\"hovertext\": [\" i like to rape the bitch that posted that \", \" your pal threat kufar i cut your neck sword of islam watch you squeal like a bitch like daniel pearl \", \"bitch you are white with your shitty spanish\", \" you are a pussy without your guns bitch as spic your daddy does not even respect the sperm he would drop in your moms stank pussy\"], \"marker\": {\"color\": \"#F91EE2\", \"size\": 10}, \"mode\": \"markers\", \"name\": \"cluster 0\", \"text\": [\" i like to rape the bitch that posted that \", \" your pal threat kufar i cut your neck sword of islam watch you squeal like a bitch like daniel pearl \", \"bitch you are white with your shitty spanish\", \" you are a pussy without your guns bitch as spic your daddy does not even respect the sperm he would drop in your moms stank pussy\"], \"textposition\": \"middle right\", \"type\": \"scatter\", \"x\": [-8.89076042175293, -8.306897163391113, -8.882882118225098, -7.577147960662842], \"y\": [-9.71671199798584, -9.67117977142334, -10.508597373962402, -9.559349060058594]}, {\"hovertext\": [\"whoever made these brownies and cookies belongs in heaven\", \" cait ghetto driving a nice car and not having to pay a lot for rent i drive a lexus and pay little rent just saying \", \" how about we hadraft all those  folks and send them to afghanistan or other war zones so they can show their \", \" to my mom came home to tacos and brownies \", \"embrace it love it flip this group of mine runoff water colored turds off and make a pick \", \"feelin all warm and fuzzy inside \", \" last time factor auditions came to dublin i auditioned and and a man in a blue monkey\", \" breaking dawn i often think about what used to be and was with rose colored glasses and a gentle \", \"this time a night dark skin niggas really turn into lightskin niggas i swear i seen a darkie try buying starbucks mins ago but they closed\", \"i also had a dream that i went to the show and was rude to me and was getting badly hit on by some creep\", \"by lost in japan by miguel mich and \", \"gotta love rednecks loud stupid stubborn and full schitt \", \" send them damn beaners back where they belong and the us am not it\", \"hand me a brew and i will chug it\", \" better off banning  and their anti american supporters\", \" must have run out of brownies\", \" old hoes a ponk and a dyke outchea having girl talk \", \" cole i like being asian and all but it is a struggle having squinty eyes in every picture\", \"meatloaf cream potatoes deer steak and gravy pinto beans and cornbread pear cobbler and bread pudding \", \"and now every time me and my friend talk no matter the subject her nips haunt us it is as if one nip was introducing itself to the other \", \" hello brookland we here at the opening serving free samples of cider vegan sliders brownies \", \" them charlotte niggas around and burn bank of america stadium down \"], \"marker\": {\"color\": \"#B30395\", \"size\": 10}, \"mode\": \"markers\", \"name\": \"cluster 1\", \"text\": [\"whoever made these brownies and cookies belongs in heaven\", \" cait ghetto driving a nice car and not having to pay a lot for rent i drive a lexus and pay little rent just saying \", \" how about we hadraft all those  folks and send them to afghanistan or other war zones so they can show their \", \" to my mom came home to tacos and brownies \", \"embrace it love it flip this group of mine runoff water colored turds off and make a pick \", \"feelin all warm and fuzzy inside \", \" last time factor auditions came to dublin i auditioned and and a man in a blue monkey\", \" breaking dawn i often think about what used to be and was with rose colored glasses and a gentle \", \"this time a night dark skin niggas really turn into lightskin niggas i swear i seen a darkie try buying starbucks mins ago but they closed\", \"i also had a dream that i went to the show and was rude to me and was getting badly hit on by some creep\", \"by lost in japan by miguel mich and \", \"gotta love rednecks loud stupid stubborn and full schitt \", \" send them damn beaners back where they belong and the us am not it\", \"hand me a brew and i will chug it\", \" better off banning  and their anti american supporters\", \" must have run out of brownies\", \" old hoes a ponk and a dyke outchea having girl talk \", \" cole i like being asian and all but it is a struggle having squinty eyes in every picture\", \"meatloaf cream potatoes deer steak and gravy pinto beans and cornbread pear cobbler and bread pudding \", \"and now every time me and my friend talk no matter the subject her nips haunt us it is as if one nip was introducing itself to the other \", \" hello brookland we here at the opening serving free samples of cider vegan sliders brownies \", \" them charlotte niggas around and burn bank of america stadium down \"], \"textposition\": \"middle right\", \"type\": \"scatter\", \"x\": [-5.292609214782715, 6.88307523727417, 1.3554975986480713, -5.637255668640137, 2.8126776218414307, -1.9569460153579712, -5.438650608062744, 2.6639554500579834, 5.160645961761475, 5.014641284942627, 2.837230682373047, 7.0918731689453125, 7.283026218414307, 1.6552064418792725, 2.2134482860565186, -5.978813171386719, -0.9149668216705322, 0.05704944208264351, 2.7832469940185547, 5.99202823638916, -5.9246368408203125, 5.170238018035889], \"y\": [5.079161643981934, 2.772459030151367, -1.766448736190796, 5.31702995300293, 1.6662075519561768, 1.879249930381775, 0.3936435878276825, -0.8024926781654358, -12.421948432922363, -4.081396579742432, -2.117000102996826, -1.5345103740692139, -5.525054454803467, 1.072738766670227, -2.105562686920166, 5.58877420425415, -0.6335940957069397, -1.9389630556106567, -1.6178303956985474, -5.664743423461914, 5.475090026855469, -12.358381271362305]}, {\"hovertext\": [\" call him a cock blocking faggot\", \" pass the fosters faggot\", \" do not be a hurt little faggot\"], \"marker\": {\"color\": \"#A4F2D6\", \"size\": 10}, \"mode\": \"markers\", \"name\": \"cluster 2\", \"text\": [\" call him a cock blocking faggot\", \" pass the fosters faggot\", \" do not be a hurt little faggot\"], \"textposition\": \"middle right\", \"type\": \"scatter\", \"x\": [-4.606770038604736, -4.790829658508301, -4.755735874176025], \"y\": [15.600434303283691, 15.736370086669922, 15.277539253234863]}, {\"hovertext\": [\" hats on us not bad  \", \" thanks now go clean that bad  can your little nasty \", \"all these afternoon groups are bad besides the bubba keegs and furyk group the memorial tournament\", \" skating is for bad people  \", \"tuna is good the rest bad  cans of spam most struggle food has to be any meat in a can of tuna included\", \"is trending twitter bad today \", \" this whole week was bad \", \" kendrick lamar still bad  \", \" some of you all bios are bad  mine pretty good\", \"the family of ron neal needs to sue wutang for that bad  song they are released in his name \", \" forget to salute bad  the other guy for the garbage war during cairo i sympathize pockistan gays hurting morale thanks king \", \" khan has been facing nothing but bad  since his to garcia\", \"went to an open house today the place was bad   \", \"houston has so many bad drivers\", \" bad  you know trouble is in government states but like news you areport lies anyway\", \"photo rest in peace to these bad boys some bad advise made me let usome old asian dude glue the sole  \", \"the rams really dont wanna be bad jeff fisher really about it\", \" you all defense too bad for that \", \" pumprules is on bravo quality bad\", \" messi play bad and im flattered but what was the games scorre\", \" no doubt about it i mean its cute tossing around bad cans and having mexican boys wanting \", \" final debate clean up journalists sure know how to bad  a lobby  politics   \", \"we was saying this same statement last year boozer is bad man i am done \", \" would not spend my money on bad  like that \", \" and this lewis so bad  \", \"first key club bad pick up with the freshman \", \" being a good citizen picking up bad  \", \" in their primes would have dominated in on just so much mentally tougher mj bad  talk alone would \"], \"marker\": {\"color\": \"#20A0D1\", \"size\": 10}, \"mode\": \"markers\", \"name\": \"cluster 3\", \"text\": [\" hats on us not bad  \", \" thanks now go clean that bad  can your little nasty \", \"all these afternoon groups are bad besides the bubba keegs and furyk group the memorial tournament\", \" skating is for bad people  \", \"tuna is good the rest bad  cans of spam most struggle food has to be any meat in a can of tuna included\", \"is trending twitter bad today \", \" this whole week was bad \", \" kendrick lamar still bad  \", \" some of you all bios are bad  mine pretty good\", \"the family of ron neal needs to sue wutang for that bad  song they are released in his name \", \" forget to salute bad  the other guy for the garbage war during cairo i sympathize pockistan gays hurting morale thanks king \", \" khan has been facing nothing but bad  since his to garcia\", \"went to an open house today the place was bad   \", \"houston has so many bad drivers\", \" bad  you know trouble is in government states but like news you areport lies anyway\", \"photo rest in peace to these bad boys some bad advise made me let usome old asian dude glue the sole  \", \"the rams really dont wanna be bad jeff fisher really about it\", \" you all defense too bad for that \", \" pumprules is on bravo quality bad\", \" messi play bad and im flattered but what was the games scorre\", \" no doubt about it i mean its cute tossing around bad cans and having mexican boys wanting \", \" final debate clean up journalists sure know how to bad  a lobby  politics   \", \"we was saying this same statement last year boozer is bad man i am done \", \" would not spend my money on bad  like that \", \" and this lewis so bad  \", \"first key club bad pick up with the freshman \", \" being a good citizen picking up bad  \", \" in their primes would have dominated in on just so much mentally tougher mj bad  talk alone would \"], \"textposition\": \"middle right\", \"type\": \"scatter\", \"x\": [-11.707200050354004, -12.916933059692383, -9.484626770019531, -12.961444854736328, -11.068282127380371, -11.729251861572266, -12.692623138427734, -11.993698120117188, -14.29967975616455, -11.041876792907715, -10.31702995300293, -11.574487686157227, -10.900113105773926, -11.52242660522461, -13.719830513000488, -10.622954368591309, -11.100217819213867, -14.277936935424805, -11.87625503540039, -10.486723899841309, -12.086753845214844, -11.782645225524902, -10.309019088745117, -12.652680397033691, -12.305121421813965, -11.314695358276367, -12.123126983642578, -12.336219787597656], \"y\": [36.32267761230469, 33.26439666748047, 34.45881652832031, 37.007686614990234, 30.925251007080078, 35.35382843017578, 35.63689041137695, 34.73712921142578, 34.571346282958984, 31.123655319213867, 30.837862014770508, 32.25693130493164, 33.748741149902344, 34.47300338745117, 31.95745086669922, 35.26945877075195, 31.964466094970703, 35.060123443603516, 33.434715270996094, 33.85921096801758, 31.228179931640625, 32.655391693115234, 32.72468948364258, 34.44952392578125, 35.744049072265625, 33.58035659790039, 33.92647171020508, 31.933528900146484]}, {\"hovertext\": [\" go to bed whitey trash \", \" he looks like reg memphis trash we got them everywhere \"], \"marker\": {\"color\": \"#D7A024\", \"size\": 10}, \"mode\": \"markers\", \"name\": \"cluster 4\", \"text\": [\" go to bed whitey trash \", \" he looks like reg memphis trash we got them everywhere \"], \"textposition\": \"middle right\", \"type\": \"scatter\", \"x\": [14.352693557739258, 14.339662551879883], \"y\": [-17.600543975830078, -17.521270751953125]}, {\"hovertext\": [\" well dirty bird could be just a middle finger since it is the phallic giving the bird not necessarily a wobble wibbler \", \" highest score on flappy bird cant be beat \", \"then i went inside in order to hide from mutant bird\", \"you all suck on flappy bird\", \" how i feel playing flappy bird \", \" whats it say i see bird in it \", \" it a bird it a plane it jake mcgee \", \"early worm gets the bird good morning \", \" pdplive is on november get your early bird tickets from \", \" i think i got the bird flu\", \"no man your want inyou serious man am early bird special\"], \"marker\": {\"color\": \"#204DBE\", \"size\": 10}, \"mode\": \"markers\", \"name\": \"cluster 5\", \"text\": [\" well dirty bird could be just a middle finger since it is the phallic giving the bird not necessarily a wobble wibbler \", \" highest score on flappy bird cant be beat \", \"then i went inside in order to hide from mutant bird\", \"you all suck on flappy bird\", \" how i feel playing flappy bird \", \" whats it say i see bird in it \", \" it a bird it a plane it jake mcgee \", \"early worm gets the bird good morning \", \" pdplive is on november get your early bird tickets from \", \" i think i got the bird flu\", \"no man your want inyou serious man am early bird special\"], \"textposition\": \"middle right\", \"type\": \"scatter\", \"x\": [7.162567138671875, 6.758251190185547, 6.713758945465088, 7.256491184234619, 7.019942283630371, 6.03397274017334, 5.831705570220947, 7.97421932220459, 7.501229763031006, 7.725883483886719, 7.497191429138184], \"y\": [9.507107734680176, 9.146288871765137, 8.686734199523926, 11.074117660522461, 10.011539459228516, 9.923255920410156, 10.059518814086914, 9.299711227416992, 8.482216835021973, 10.042668342590332, 8.307821273803711]}, {\"hovertext\": [\" ugly queer white trash\"], \"marker\": {\"color\": \"#A64DF8\", \"size\": 10}, \"mode\": \"markers\", \"name\": \"cluster 6\", \"text\": [\" ugly queer white trash\"], \"textposition\": \"middle right\", \"type\": \"scatter\", \"x\": [15.876655578613281], \"y\": [-20.47516441345215]}, {\"hovertext\": [\"anyone who came to the us as an indentured servant is white trash \", \" i do not follow you  because   everything about your company is white trash \", \"anyone who came to the us as an indentured servant is white trash \", \"white trash warfare\", \"pennsylvania is white trash and is so are all pennsylvanians \", \"america is white trash and so are all americans \"], \"marker\": {\"color\": \"#77220F\", \"size\": 10}, \"mode\": \"markers\", \"name\": \"cluster 7\", \"text\": [\"anyone who came to the us as an indentured servant is white trash \", \" i do not follow you  because   everything about your company is white trash \", \"anyone who came to the us as an indentured servant is white trash \", \"white trash warfare\", \"pennsylvania is white trash and is so are all pennsylvanians \", \"america is white trash and so are all americans \"], \"textposition\": \"middle right\", \"type\": \"scatter\", \"x\": [14.679120063781738, 14.163631439208984, 14.679120063781738, 15.04845142364502, 14.579334259033203, 14.440601348876953], \"y\": [-19.468107223510742, -19.466569900512695, -19.468107223510742, -20.224998474121094, -20.004859924316406, -20.23072624206543]}, {\"hovertext\": [\"hitler did not finish it can you if a nigger your jew confronts you in the street what then \", \"i dont care what phone you got  silly nigger\", \"jameis winston is a nigger\", \"i color my entire arm black with a sharpie and fist my wife asshole just so she knows what a nigger dick feels like \", \" goes to olive garden turns into a cracker goes black friday shopping turns into a nigger \", \" i will do that if you agree to take your ethiopian starving looking nigger ass back to africa buy food little guy\"], \"marker\": {\"color\": \"#1EF096\", \"size\": 10}, \"mode\": \"markers\", \"name\": \"cluster 8\", \"text\": [\"hitler did not finish it can you if a nigger your jew confronts you in the street what then \", \"i dont care what phone you got  silly nigger\", \"jameis winston is a nigger\", \"i color my entire arm black with a sharpie and fist my wife asshole just so she knows what a nigger dick feels like \", \" goes to olive garden turns into a cracker goes black friday shopping turns into a nigger \", \" i will do that if you agree to take your ethiopian starving looking nigger ass back to africa buy food little guy\"], \"textposition\": \"middle right\", \"type\": \"scatter\", \"x\": [-13.61173152923584, -13.767925262451172, -14.024247169494629, -12.442007064819336, -12.467519760131836, -12.92619514465332], \"y\": [-0.6917516589164734, -0.29834529757499695, 0.11641135811805725, -0.21174512803554535, -0.23055438697338104, -0.56959468126297]}, {\"hovertext\": [\"twitter is for fags \", \"you guys are fags \", \" really fags are gross you aids infected sick fuckers\"], \"marker\": {\"color\": \"#94D03E\", \"size\": 10}, \"mode\": \"markers\", \"name\": \"cluster 9\", \"text\": [\"twitter is for fags \", \"you guys are fags \", \" really fags are gross you aids infected sick fuckers\"], \"textposition\": \"middle right\", \"type\": \"scatter\", \"x\": [14.833574295043945, 14.863425254821777, 14.86679458618164], \"y\": [-1.9867068529129028, -2.0114924907684326, -2.0309791564941406]}, {\"hovertext\": [\" ill give you a tip beware of the ugly birds who hide behind massive lensed sunnies \", \"with the birds i share this lonely view \", \"the birds and the bees \", \"i keep running under trees or when birds fly to avoid their erm being targeted by their lack of a digestive system \", \" california solar plant fries thousands of birds in mid flight hot air \", \" flappy birds extreme now you can play two birds at once hardcore easier with two people \", \"i keep running under trees or when birds fly to avoid their erm being targeted by their lack of a digestive system \", \"even humming birds like the stuff \", \"it is a brand new day and the birds they chirpin\", \" i hope you get better soon colds are for the birds\", \" birds of a feather flock togetheryou all \", \" just call my phone if you want them birds migos voice \", \" have not you ever heard the story of the birds and the bees\"], \"marker\": {\"color\": \"#B9E435\", \"size\": 10}, \"mode\": \"markers\", \"name\": \"cluster 10\", \"text\": [\" ill give you a tip beware of the ugly birds who hide behind massive lensed sunnies \", \"with the birds i share this lonely view \", \"the birds and the bees \", \"i keep running under trees or when birds fly to avoid their erm being targeted by their lack of a digestive system \", \" california solar plant fries thousands of birds in mid flight hot air \", \" flappy birds extreme now you can play two birds at once hardcore easier with two people \", \"i keep running under trees or when birds fly to avoid their erm being targeted by their lack of a digestive system \", \"even humming birds like the stuff \", \"it is a brand new day and the birds they chirpin\", \" i hope you get better soon colds are for the birds\", \" birds of a feather flock togetheryou all \", \" just call my phone if you want them birds migos voice \", \" have not you ever heard the story of the birds and the bees\"], \"textposition\": \"middle right\", \"type\": \"scatter\", \"x\": [3.40855073928833, 1.6568536758422852, 1.7153232097625732, 1.5366262197494507, 1.4925637245178223, 2.2457027435302734, 1.5365935564041138, 1.1580891609191895, 1.5125761032104492, 2.837599039077759, 0.728287935256958, 2.8128843307495117, 2.8321404457092285], \"y\": [-23.829357147216797, -24.733989715576172, -26.15403175354004, -22.7392635345459, -23.292081832885742, -24.667036056518555, -22.740049362182617, -25.857677459716797, -24.823877334594727, -24.82761573791504, -24.369773864746094, -24.44935417175293, -25.873199462890625]}, {\"hovertext\": [\"fuck you faggot hoesss grow up i am  going to  be an old ass man still playing video games \"], \"marker\": {\"color\": \"#CF75FF\", \"size\": 10}, \"mode\": \"markers\", \"name\": \"cluster 11\", \"text\": [\"fuck you faggot hoesss grow up i am  going to  be an old ass man still playing video games \"], \"textposition\": \"middle right\", \"type\": \"scatter\", \"x\": [-3.009542226791382], \"y\": [16.792560577392578]}, {\"hovertext\": [\" my bitch dont want your ugly ass peyton manning looking ass\", \"brandon phelps a hoe ass nigga and wen i see him i ama smack him like the little bitch he is \", \"at least i say im crazy some nigga gotta find out a bitch wild when she shooting at they ass \"], \"marker\": {\"color\": \"#A823F0\", \"size\": 10}, \"mode\": \"markers\", \"name\": \"cluster 12\", \"text\": [\" my bitch dont want your ugly ass peyton manning looking ass\", \"brandon phelps a hoe ass nigga and wen i see him i ama smack him like the little bitch he is \", \"at least i say im crazy some nigga gotta find out a bitch wild when she shooting at they ass \"], \"textposition\": \"middle right\", \"type\": \"scatter\", \"x\": [12.065534591674805, 11.355240821838379, 11.43305492401123], \"y\": [-6.062735557556152, -6.455504894256592, -6.412868499755859]}, {\"hovertext\": [\"from now on i will call all radical muslims niggers it is very fitting and it is racist i am racist against anyone who hates america \", \"and i am definitely top at makin beats in the city but you all niggers love your trap beats so you all probably will not admit that\", \"i is not been to the fair since i was like and i have not wanted to go since then either for some reason too many niggers for me\", \" most of these people are followers of followers of truth but they themselves are still niggers their outlook mind all \"], \"marker\": {\"color\": \"#EFD1A1\", \"size\": 10}, \"mode\": \"markers\", \"name\": \"cluster 13\", \"text\": [\"from now on i will call all radical muslims niggers it is very fitting and it is racist i am racist against anyone who hates america \", \"and i am definitely top at makin beats in the city but you all niggers love your trap beats so you all probably will not admit that\", \"i is not been to the fair since i was like and i have not wanted to go since then either for some reason too many niggers for me\", \" most of these people are followers of followers of truth but they themselves are still niggers their outlook mind all \"], \"textposition\": \"middle right\", \"type\": \"scatter\", \"x\": [-0.4663507044315338, -0.6948966383934021, -0.4969060719013214, -0.5363723635673523], \"y\": [7.4959516525268555, 7.66286563873291, 7.527472496032715, 7.551778316497803]}, {\"hovertext\": [\"it is so weird outside it is like yellow \", \"i am currently using a yellow marker that is literally called spanish orange for this drawing of absolute perfection \", \" yellow jacket landed on my mouth and stung me while i was cutting grass safe to say he won \", \"yes liking the yellow \", \" sheeze a yellow bone\", \"appropriately this guy wears the wounderfull yellow rick james on his face \", \" praying today pictures do not come out yellow \", \"vintage gold and diamond engagement ring yellow gold unique ring size by vintage \", \"this is really for exploding giant yellow ducks you will appreciate this \", \" girls do not let a guy treat you like a yellow starburst you are a pink starburst \", \" top tip of the would if you want to be inconspicuous at an elbow gig do not wear a yellow jacket \", \"yesterday i saw a red hair do with streaks of orange and yellow in it combed up like woody wood pecker and \", \"white kids black kids yellow kids hell even purple kids if you carry your selves like daniel geale you will go far gealemundine \"], \"marker\": {\"color\": \"#F6D054\", \"size\": 10}, \"mode\": \"markers\", \"name\": \"cluster 14\", \"text\": [\"it is so weird outside it is like yellow \", \"i am currently using a yellow marker that is literally called spanish orange for this drawing of absolute perfection \", \" yellow jacket landed on my mouth and stung me while i was cutting grass safe to say he won \", \"yes liking the yellow \", \" sheeze a yellow bone\", \"appropriately this guy wears the wounderfull yellow rick james on his face \", \" praying today pictures do not come out yellow \", \"vintage gold and diamond engagement ring yellow gold unique ring size by vintage \", \"this is really for exploding giant yellow ducks you will appreciate this \", \" girls do not let a guy treat you like a yellow starburst you are a pink starburst \", \" top tip of the would if you want to be inconspicuous at an elbow gig do not wear a yellow jacket \", \"yesterday i saw a red hair do with streaks of orange and yellow in it combed up like woody wood pecker and \", \"white kids black kids yellow kids hell even purple kids if you carry your selves like daniel geale you will go far gealemundine \"], \"textposition\": \"middle right\", \"type\": \"scatter\", \"x\": [-10.589324951171875, -9.199127197265625, -9.534749031066895, -11.037005424499512, -11.601998329162598, -10.042218208312988, -9.878365516662598, -9.23361587524414, -8.251169204711914, -7.278314113616943, -8.354151725769043, -9.309274673461914, -6.144193649291992], \"y\": [-18.278921127319336, -16.75732421875, -16.47233009338379, -17.568567276000977, -17.575918197631836, -16.93361473083496, -17.798654556274414, -16.588891983032227, -17.064908981323242, -17.424060821533203, -17.611103057861328, -17.897554397583008, -14.743705749511719]}, {\"hovertext\": [\"so real it is unreal  yankees world series and counting\", \" well how about those yankees this year what a run what is wrong with nebraska\", \" week from thursday might be the last yankees game to look forward to in a while if nothing else jeter deserves that night \", \"yankees getting killed\", \" one more from yankees would not be letting polanco sit in minor leagues  because they are all about \", \"after kuroda gave it his all putting up career numbers but getting no run support the yankees do not deserve to get into the world series\", \" even if you hate the yankees there is no way you cannot like derek jeter he is one of the classiest and most respectful\", \" yankees unveil beautiful derek jeter cage in monument park \", \" yankees playing tonight in the bronx game of the current series against the would diamond backs\"], \"marker\": {\"color\": \"#FAF803\", \"size\": 10}, \"mode\": \"markers\", \"name\": \"cluster 15\", \"text\": [\"so real it is unreal  yankees world series and counting\", \" well how about those yankees this year what a run what is wrong with nebraska\", \" week from thursday might be the last yankees game to look forward to in a while if nothing else jeter deserves that night \", \"yankees getting killed\", \" one more from yankees would not be letting polanco sit in minor leagues  because they are all about \", \"after kuroda gave it his all putting up career numbers but getting no run support the yankees do not deserve to get into the world series\", \" even if you hate the yankees there is no way you cannot like derek jeter he is one of the classiest and most respectful\", \" yankees unveil beautiful derek jeter cage in monument park \", \" yankees playing tonight in the bronx game of the current series against the would diamond backs\"], \"textposition\": \"middle right\", \"type\": \"scatter\", \"x\": [16.262859344482422, 16.441492080688477, 15.669065475463867, 17.355878829956055, 15.876242637634277, 15.470244407653809, -1.545798659324646, 16.484302520751953, 14.945316314697266], \"y\": [-9.284221649169922, -8.146980285644531, -9.193977355957031, -9.594133377075195, -9.225516319274902, -10.3173828125, -15.331563949584961, -9.066877365112305, -9.557554244995117]}, {\"hovertext\": [\" glad about your uncle another stupid faggot off the world hopefully you next \", \" kincannon real tony i am partial faggot homo both fairly describes the same sick twisted assholes out there \", \"truth only a faggot would turn down hairy pussy\", \"ugly faggot your a bad mother you should kill yo yourself  like robin williams\", \" answer my snapchat faggot butt hurt\", \" he is a faggot and i do not like him i am on the other side of the state \", \"look at your boy nigga a faggot chance the rapper \"], \"marker\": {\"color\": \"#642DC6\", \"size\": 10}, \"mode\": \"markers\", \"name\": \"cluster 16\", \"text\": [\" glad about your uncle another stupid faggot off the world hopefully you next \", \" kincannon real tony i am partial faggot homo both fairly describes the same sick twisted assholes out there \", \"truth only a faggot would turn down hairy pussy\", \"ugly faggot your a bad mother you should kill yo yourself  like robin williams\", \" answer my snapchat faggot butt hurt\", \" he is a faggot and i do not like him i am on the other side of the state \", \"look at your boy nigga a faggot chance the rapper \"], \"textposition\": \"middle right\", \"type\": \"scatter\", \"x\": [-4.093780517578125, -3.898198127746582, -3.716411828994751, -4.4466938972473145, -4.145336627960205, -4.501189231872559, -5.692454814910889], \"y\": [16.938949584960938, 17.040729522705078, 15.73556900024414, 17.88076400756836, 16.51658058166504, 16.44082260131836, 16.27536392211914]}, {\"hovertext\": [\" happy birthday queer\", \"them queer ass shorts rabchenko got on\"], \"marker\": {\"color\": \"#C87B63\", \"size\": 10}, \"mode\": \"markers\", \"name\": \"cluster 17\", \"text\": [\" happy birthday queer\", \"them queer ass shorts rabchenko got on\"], \"textposition\": \"middle right\", \"type\": \"scatter\", \"x\": [6.298290252685547, 6.298219680786133], \"y\": [-17.110177993774414, -17.108293533325195]}, {\"hovertext\": [\" yes great song just watching the msg concert of yankee stadium gig \", \" beanies for life \", \" looks like any other little porch monkey to me \", \" when rappers say what it makes me feel weird \", \"they got david taking out the garbage\", \" in which i refresh dhimmi seattle mayor ed murray poor memory of city long history as a jihadi breeding ground \", \" word and it had make you a it okay to have sex on first date long as the feeling is mutual\", \"them jants be clutch for bedtime \", \" has to be live version pulled pork clams baby jesus litle smokey\", \" discredited by whom per the government the study is good and factual pay your bills moocher and republicans\", \" i want a pet monkey \", \" thank you based pee slit\", \"jay takeover ampyou do not know live home home concert yankee stadium \", \" the best way to make a man do something is to tell him he cannot do it \", \"i reblogged them to mock her god bless\", \"my teacher always says has a man ever abused his wife while using marijuana not unless she hides the oreo cookies then she would deserves it \", \" chunky goalkeeper makes a save with his stomach \", \" all i see in every if they gunned med own tweet this be like the colored brady bunch\", \" i want affection but i also want to be left alone do you see the issue here fag\", \" is good i would have thought he would have gone after khan but what you said makes sense\", \"i didnt buy any alcohol this weekend and only bought proud that i still have \", \"fat dykes make me want to vomit\", \" real talk not being byes or nothing the whole south glad \", \" i cannot wait to wear warm fuzzy sweaters \", \" when you has a frownie eats a brownie\", \"i love my but most days they remind me why birth control is important later in life i miss my baby bird come home \", \" drew chaysin condom were invent for that sole purpose\", \"some douche cubs redneck cubs fan freaked out asking if bites no you bloody berk he like the \", \" yes now get off twitter you lame negros should have never learned how to use the internet\", \"i did not forsake all other bitches for my wife to be getting fucked on by another nigga and you know she married you gotta die \", \" serious question here how many country songs mention honkey tonk \", \" rise rhyme snow patricks day on in the am wear your green dance a sing a lively tune me \", \"foley abduction linked to british jihadi kidnapping ring \", \" something i get a lot are you asian black hawaian gay retarded drunk \", \" not only you and that pom stuff totally porn \", \"it so shady when you bitches talk to guys girlfriends that is so disrespectful to do to another girl\", \" bino looking at nip rings i cannot wait until i can change mine \", \" me gusta typing like a retard to make the other person look dumber by pretending to agree with them bazinga\", \" first second an third mistake i been hearing it want give it a listen \", \" black americans are worse off under bho well researched article bound to elicit cries of uncle tom \", \" cookie if i had to pick a president of the uncle tom association i would pick larry elder \", \" this the i play soccer cheat on girls and wear khaki coloured cargos haircut\", \" an ohio inmate sums up what lebronjames return means for cleveland \", \" bizarre sports week in cle win a game that felt like a loss failed ex browns duel each other and lose \", \" no i am a wexican\", \" where do all the foreskins go when they circumcise a guy the foreskin fairy takes them after you put them under your pillow\", \" happy happy helloween helloween\", \" twitter tipped its cap to say  farewell captain  to jeter in his yankee stadium finale video \", \" do not feel like reading right now i wanna give a sexy coolie girl some lyrics text message \", \"samsung made fun of bendgate now the galaxy note fails too \", \"egypt the muzzie bros still running things only a tad better certainly no respectors of them though\", \" i drove my daughter guinea pig to the vet this morning i am quite handy with my new callaway golf clubs sickipedia\", \" full set except the last song from southern darkness fest last month who the ape on guitar \", \" mickey mouse ears hat and tail for that matter \", \"all brown university students the stop and frisk protesters will be systematically dispersed into random you ghettos good luck \", \"i am an year old gay driving through the back roads of redneck virginia blasting cheetah girls if that wouldoesn scream sitcom what does \", \"if train officers that are wearing body armor stand back to watch the ismoke clear why does every gun wanna be \", \"this store is so redneck \", \" is he chunky \", \" second page handout may closed ended questions \", \" i think it is time to bring out the would drunken monkey\", \"when will joe stop telling how to do his job you could not even keep a job in \", \" friends of has let me know that phil is very ill his infection has gone septic and he is fighting \", \" squak squak squak squak me bird shut up squak alex that was an act of defiance \", \"so much more going on but hypocrisy does not sit well with me my redneck family from central illinois more black then bieber \", \" it is crazy if a female cheats it is so wrong she is every type of there is but if a guy cheats there is all these justific \", \" for lots of great oldies check out memories and more with yankee rose today from pm to pm eastern \", \" the best way to make a man do something is to tell him he cannot do it \", \" this this this pack it up and head to new york please enjoy being called a hick for a few years come home humbled plans\", \" tornado sirens atleast i will be dying with you guys krizanovic and this \", \" your pet zebra stripey \", \" i do not like it peaceful that is boring i like fighting i come from the ghetto doyou aremember that it is impossible for me not to\", \"i could go for a brownie right now\", \" we could get matching burner phones and be ghetto fab for a few months\", \" me waiting on you to take me to new yorkwith you to get my nips pierced \", \" have heard good grousings that bugs much worse in the cafesince microphone shut down \", \" hey now there is no need for foul language you kike\", \" so cute shy bunny \", \"i just wanna slit this throat\", \" lemur he loves me eats a brownie he loves me not eats a brownie \", \"just cleaned my fingernails with a knife\", \"apaches rounds turn jihadis into tomato soup \", \" gerry remember all the garbage on the floor of your car we upgraded it put wale the gifted so it feels like your old car \", \" this this this pack it up and head to new york please enjoy being called a hick for a few years come home humbled plans\", \" oreo  well i gota do dee video for his dance soon i can show you how to use equipment and that \", \"so am i the only cracker up playing his guitar thank you rick on this saturday night \", \" saw that there is a slope to the wire that enough for a zip line business opportunity\", \" hot off the press here todd mcshay first post combine mock draft including a new \", \" rotherdam rape jihad cover up young girls sacrificed on altar of political correctness in favor \", \" king pats owner is a kike \", \"tattoos are about expression not meaning one mans garbage is another mans treasure \", \" only one problem theres a no pussies allowed sorry \", \" i need some clams on the half shell down here all you can get is deep fried clam necks \", \"my best friend says i do not need to be in love right now he thinks its too soon to love monkey \", \" percent of the garbage we had dump in the sea is missing this is not a good thing \", \" you know how in superhero stories the best insult for superheroes dumb mooks can come up with is do gooder white knight\", \" since i know you are wondering no cracker barrel is not a place to buy barrels full of crackers \", \"no one has even eaten a twinkie in like decades \", \" a silent protest in philadelphia performance artists protest the murder of mike brown while passerby mock it \", \"someone at my household wants to die i get all excited to enjoy a couple of oreos but someone left only one one friggin oreo \", \" bri one of my classmates offered my teacher and brownie and someone said you  trying to earn brownie points \", \"the perfect gift for the jihadi on your shopping list \", \" that is definitely the problem if his teacher was a spear chucker he\"], \"marker\": {\"color\": \"#0BF94C\", \"size\": 10}, \"mode\": \"markers\", \"name\": \"cluster 18\", \"text\": [\" yes great song just watching the msg concert of yankee stadium gig \", \" beanies for life \", \" looks like any other little porch monkey to me \", \" when rappers say what it makes me feel weird \", \"they got david taking out the garbage\", \" in which i refresh dhimmi seattle mayor ed murray poor memory of city long history as a jihadi breeding ground \", \" word and it had make you a it okay to have sex on first date long as the feeling is mutual\", \"them jants be clutch for bedtime \", \" has to be live version pulled pork clams baby jesus litle smokey\", \" discredited by whom per the government the study is good and factual pay your bills moocher and republicans\", \" i want a pet monkey \", \" thank you based pee slit\", \"jay takeover ampyou do not know live home home concert yankee stadium \", \" the best way to make a man do something is to tell him he cannot do it \", \"i reblogged them to mock her god bless\", \"my teacher always says has a man ever abused his wife while using marijuana not unless she hides the oreo cookies then she would deserves it \", \" chunky goalkeeper makes a save with his stomach \", \" all i see in every if they gunned med own tweet this be like the colored brady bunch\", \" i want affection but i also want to be left alone do you see the issue here fag\", \" is good i would have thought he would have gone after khan but what you said makes sense\", \"i didnt buy any alcohol this weekend and only bought proud that i still have \", \"fat dykes make me want to vomit\", \" real talk not being byes or nothing the whole south glad \", \" i cannot wait to wear warm fuzzy sweaters \", \" when you has a frownie eats a brownie\", \"i love my but most days they remind me why birth control is important later in life i miss my baby bird come home \", \" drew chaysin condom were invent for that sole purpose\", \"some douche cubs redneck cubs fan freaked out asking if bites no you bloody berk he like the \", \" yes now get off twitter you lame negros should have never learned how to use the internet\", \"i did not forsake all other bitches for my wife to be getting fucked on by another nigga and you know she married you gotta die \", \" serious question here how many country songs mention honkey tonk \", \" rise rhyme snow patricks day on in the am wear your green dance a sing a lively tune me \", \"foley abduction linked to british jihadi kidnapping ring \", \" something i get a lot are you asian black hawaian gay retarded drunk \", \" not only you and that pom stuff totally porn \", \"it so shady when you bitches talk to guys girlfriends that is so disrespectful to do to another girl\", \" bino looking at nip rings i cannot wait until i can change mine \", \" me gusta typing like a retard to make the other person look dumber by pretending to agree with them bazinga\", \" first second an third mistake i been hearing it want give it a listen \", \" black americans are worse off under bho well researched article bound to elicit cries of uncle tom \", \" cookie if i had to pick a president of the uncle tom association i would pick larry elder \", \" this the i play soccer cheat on girls and wear khaki coloured cargos haircut\", \" an ohio inmate sums up what lebronjames return means for cleveland \", \" bizarre sports week in cle win a game that felt like a loss failed ex browns duel each other and lose \", \" no i am a wexican\", \" where do all the foreskins go when they circumcise a guy the foreskin fairy takes them after you put them under your pillow\", \" happy happy helloween helloween\", \" twitter tipped its cap to say  farewell captain  to jeter in his yankee stadium finale video \", \" do not feel like reading right now i wanna give a sexy coolie girl some lyrics text message \", \"samsung made fun of bendgate now the galaxy note fails too \", \"egypt the muzzie bros still running things only a tad better certainly no respectors of them though\", \" i drove my daughter guinea pig to the vet this morning i am quite handy with my new callaway golf clubs sickipedia\", \" full set except the last song from southern darkness fest last month who the ape on guitar \", \" mickey mouse ears hat and tail for that matter \", \"all brown university students the stop and frisk protesters will be systematically dispersed into random you ghettos good luck \", \"i am an year old gay driving through the back roads of redneck virginia blasting cheetah girls if that wouldoesn scream sitcom what does \", \"if train officers that are wearing body armor stand back to watch the ismoke clear why does every gun wanna be \", \"this store is so redneck \", \" is he chunky \", \" second page handout may closed ended questions \", \" i think it is time to bring out the would drunken monkey\", \"when will joe stop telling how to do his job you could not even keep a job in \", \" friends of has let me know that phil is very ill his infection has gone septic and he is fighting \", \" squak squak squak squak me bird shut up squak alex that was an act of defiance \", \"so much more going on but hypocrisy does not sit well with me my redneck family from central illinois more black then bieber \", \" it is crazy if a female cheats it is so wrong she is every type of there is but if a guy cheats there is all these justific \", \" for lots of great oldies check out memories and more with yankee rose today from pm to pm eastern \", \" the best way to make a man do something is to tell him he cannot do it \", \" this this this pack it up and head to new york please enjoy being called a hick for a few years come home humbled plans\", \" tornado sirens atleast i will be dying with you guys krizanovic and this \", \" your pet zebra stripey \", \" i do not like it peaceful that is boring i like fighting i come from the ghetto doyou aremember that it is impossible for me not to\", \"i could go for a brownie right now\", \" we could get matching burner phones and be ghetto fab for a few months\", \" me waiting on you to take me to new yorkwith you to get my nips pierced \", \" have heard good grousings that bugs much worse in the cafesince microphone shut down \", \" hey now there is no need for foul language you kike\", \" so cute shy bunny \", \"i just wanna slit this throat\", \" lemur he loves me eats a brownie he loves me not eats a brownie \", \"just cleaned my fingernails with a knife\", \"apaches rounds turn jihadis into tomato soup \", \" gerry remember all the garbage on the floor of your car we upgraded it put wale the gifted so it feels like your old car \", \" this this this pack it up and head to new york please enjoy being called a hick for a few years come home humbled plans\", \" oreo  well i gota do dee video for his dance soon i can show you how to use equipment and that \", \"so am i the only cracker up playing his guitar thank you rick on this saturday night \", \" saw that there is a slope to the wire that enough for a zip line business opportunity\", \" hot off the press here todd mcshay first post combine mock draft including a new \", \" rotherdam rape jihad cover up young girls sacrificed on altar of political correctness in favor \", \" king pats owner is a kike \", \"tattoos are about expression not meaning one mans garbage is another mans treasure \", \" only one problem theres a no pussies allowed sorry \", \" i need some clams on the half shell down here all you can get is deep fried clam necks \", \"my best friend says i do not need to be in love right now he thinks its too soon to love monkey \", \" percent of the garbage we had dump in the sea is missing this is not a good thing \", \" you know how in superhero stories the best insult for superheroes dumb mooks can come up with is do gooder white knight\", \" since i know you are wondering no cracker barrel is not a place to buy barrels full of crackers \", \"no one has even eaten a twinkie in like decades \", \" a silent protest in philadelphia performance artists protest the murder of mike brown while passerby mock it \", \"someone at my household wants to die i get all excited to enjoy a couple of oreos but someone left only one one friggin oreo \", \" bri one of my classmates offered my teacher and brownie and someone said you  trying to earn brownie points \", \"the perfect gift for the jihadi on your shopping list \", \" that is definitely the problem if his teacher was a spear chucker he\"], \"textposition\": \"middle right\", \"type\": \"scatter\", \"x\": [9.893746376037598, 4.930525302886963, -6.316941261291504, 2.9780354499816895, 8.646801948547363, 3.480987787246704, 0.01901128515601158, 5.550786972045898, 3.325900077819824, 5.767032146453857, -5.466494560241699, -1.8463311195373535, 9.227874755859375, 11.278532028198242, 1.510157585144043, -3.6097095012664795, 0.7234471440315247, 8.851487159729004, 0.656421959400177, 1.1680874824523926, 3.758673667907715, 7.231094837188721, 5.2798075675964355, -1.8224817514419556, -4.5830183029174805, 6.089559555053711, 3.899442434310913, -0.8165384531021118, -0.541256308555603, 1.4898251295089722, 0.5830940008163452, 5.751596450805664, 3.588395357131958, -1.4352947473526, -2.85184645652771, 1.0496410131454468, 2.0680201053619385, -0.5957045555114746, 1.6735113859176636, -0.11116575449705124, 2.3945446014404297, 4.068185329437256, 3.9324405193328857, 1.0041108131408691, 2.5567965507507324, 0.11601710319519043, 2.564051389694214, -2.540902614593506, -0.40392690896987915, 2.6039953231811523, 2.958543539047241, 3.1384694576263428, 4.342989921569824, 4.290858268737793, -1.021865963935852, -1.0613040924072266, 3.926187038421631, 5.6336140632629395, 0.6867451667785645, 1.7123346328735352, -5.431449890136719, -2.838238000869751, 1.0313642024993896, 5.77154541015625, 0.1337033063173294, -1.7982072830200195, 9.725654602050781, 11.279229164123535, 4.539889335632324, -2.1512932777404785, 6.4297966957092285, 7.798816204071045, -4.461949348449707, 6.854557037353516, -2.6222457885742188, 6.451641082763672, -1.6453604698181152, 5.889854431152344, -0.0193962249904871, -4.310880184173584, 1.809415340423584, 2.558906078338623, 7.2524189949035645, 4.539938449859619, -3.6899023056030273, -1.4256511926651, 4.606818199157715, 1.1367061138153076, 1.8686858415603638, 2.5250275135040283, 8.69483757019043, 7.636582851409912, -0.23315030336380005, -1.601326584815979, 8.300495147705078, -6.032224655151367, -2.1162731647491455, 0.44455525279045105, 1.592106819152832, -2.199878454208374, -4.586384296417236, 5.118027687072754, 3.868716239929199], \"y\": [-2.048349142074585, -0.9836647510528564, 0.7961220741271973, 0.19175218045711517, -9.164121627807617, -9.142658233642578, -13.013760566711426, -1.7387034893035889, -3.2740721702575684, -8.225069999694824, 0.4053941071033478, -13.498041152954102, -0.25693774223327637, 2.119396686553955, -7.805835723876953, -3.031165599822998, 2.809072971343994, -4.559661388397217, -10.966514587402344, -12.354330062866211, -2.4841134548187256, 0.1362496316432953, -5.402071475982666, 1.6764897108078003, -8.120307922363281, 7.064133644104004, 3.2678632736206055, -11.745299339294434, -12.27599048614502, -15.294116020202637, -0.8933811783790588, -7.694225788116455, -9.195490837097168, -7.836090564727783, -12.697412490844727, -14.62856674194336, -4.131103038787842, -4.043550968170166, -0.060176827013492584, -5.782987117767334, -5.729369163513184, -4.970260143280029, -0.4503687620162964, -2.9783222675323486, -3.448242425918579, -9.709588050842285, -3.316803216934204, -0.8876751661300659, -2.8844797611236572, -6.37139892578125, -5.857029914855957, -4.5542311668396, -5.932896137237549, -1.7813646793365479, -10.581936836242676, -7.433972358703613, -3.9422922134399414, 0.18623974919319153, 3.405762195587158, -2.771448850631714, 0.38297557830810547, -10.442364692687988, -4.608370304107666, 6.2382073402404785, -5.271902084350586, -5.3031840324401855, -2.0216939449310303, 2.1191060543060303, 1.2934272289276123, -12.55992317199707, -7.362461090087891, 2.9027161598205566, -6.156698226928711, 2.8564367294311523, -13.750709533691406, -4.067708969116211, -12.147708892822266, -2.9196627140045166, 0.6557514071464539, -6.608390808105469, -3.488497257232666, -3.110257387161255, -9.196675300598145, 1.2933458089828491, -10.938098907470703, -12.922310829162598, -2.8986661434173584, -7.142775058746338, -5.155182361602783, -3.351564645767212, -8.173554420471191, -3.0395267009735107, -10.870967864990234, -2.3576300144195557, -9.231070518493652, -14.615535736083984, -11.403382301330566, -3.2658889293670654, -6.602109909057617, -3.9132485389709473, -7.906358242034912, -9.129863739013672, -7.151507377624512]}, {\"hovertext\": [\" ruin a comedian charlie lap dance\", \" charlie baker about to make his final election eve campaign stop here \", \"former towie star charlie king comes out inspiring congrats and welcome to the family \", \" rivers charlie sheen will star in a new sitcom as an anger management therapist so what is next casey anthony as the owner of \", \" fear mongering by the left is dying wake up who are you going believe charlie rangel and hussein or mia love and \", \" charlie have a great day\", \"i cannot watch charlie cloud  because i cry like a little baby every single time \", \"charlie crist i rumored to demand a recount sayfie\", \" forget your typical graduation speech charlie day manages to be hilarious and inspirational in today \", \" you hit no lights no line for toco bell at in he morning and diana back in her house it a miracle charlie \"], \"marker\": {\"color\": \"#3DC604\", \"size\": 10}, \"mode\": \"markers\", \"name\": \"cluster 19\", \"text\": [\" ruin a comedian charlie lap dance\", \" charlie baker about to make his final election eve campaign stop here \", \"former towie star charlie king comes out inspiring congrats and welcome to the family \", \" rivers charlie sheen will star in a new sitcom as an anger management therapist so what is next casey anthony as the owner of \", \" fear mongering by the left is dying wake up who are you going believe charlie rangel and hussein or mia love and \", \" charlie have a great day\", \"i cannot watch charlie cloud  because i cry like a little baby every single time \", \"charlie crist i rumored to demand a recount sayfie\", \" forget your typical graduation speech charlie day manages to be hilarious and inspirational in today \", \" you hit no lights no line for toco bell at in he morning and diana back in her house it a miracle charlie \"], \"textposition\": \"middle right\", \"type\": \"scatter\", \"x\": [18.629758834838867, 19.612648010253906, 18.0565185546875, 17.549196243286133, 18.249483108520508, 18.973121643066406, 18.403579711914062, 18.71321678161621, 17.615859985351562, 18.44554901123047], \"y\": [5.285330772399902, 5.184451580047607, 4.8188652992248535, 4.669118881225586, 4.196522235870361, 6.607059478759766, 5.238092422485352, 5.430723190307617, 5.535498142242432, 3.801370143890381]}, {\"hovertext\": [\"you have a new boyfriend every week you had hoe \", \" you like you needs to you a hoe i breaking suck my dick \", \"fat ass hoe holding up the machine\"], \"marker\": {\"color\": \"#5CB106\", \"size\": 10}, \"mode\": \"markers\", \"name\": \"cluster 20\", \"text\": [\"you have a new boyfriend every week you had hoe \", \" you like you needs to you a hoe i breaking suck my dick \", \"fat ass hoe holding up the machine\"], \"textposition\": \"middle right\", \"type\": \"scatter\", \"x\": [8.822616577148438, 8.72446060180664, 9.175572395324707], \"y\": [-14.144968032836914, -14.33581256866455, -13.449519157409668]}, {\"hovertext\": [\"hood niggas and bitches love emojis \"], \"marker\": {\"color\": \"#E553CC\", \"size\": 10}, \"mode\": \"markers\", \"name\": \"cluster 21\", \"text\": [\"hood niggas and bitches love emojis \"], \"textposition\": \"middle right\", \"type\": \"scatter\", \"x\": [5.093965530395508], \"y\": [-13.070073127746582]}, {\"hovertext\": [\" madonnas music sucks yes you are fucking stupid if you think gaga is better retard\", \"anybody who trashes their own neighborhood after a perceived injustice is a fucking moron ferguson\", \"boyden fucking james tried to tell me jawga boys sucked i went ape shit \", \"none of us went to these prestigious establishments so we are clearly not as superior as these fucking retards \"], \"marker\": {\"color\": \"#727A7F\", \"size\": 10}, \"mode\": \"markers\", \"name\": \"cluster 22\", \"text\": [\" madonnas music sucks yes you are fucking stupid if you think gaga is better retard\", \"anybody who trashes their own neighborhood after a perceived injustice is a fucking moron ferguson\", \"boyden fucking james tried to tell me jawga boys sucked i went ape shit \", \"none of us went to these prestigious establishments so we are clearly not as superior as these fucking retards \"], \"textposition\": \"middle right\", \"type\": \"scatter\", \"x\": [-8.147749900817871, -7.896304607391357, -8.048599243164062, -7.397397994995117], \"y\": [-4.705575942993164, -3.7579457759857178, -3.687373161315918, -3.3853096961975098]}, {\"hovertext\": [\"that peach my niggas hot boys so do not bring no ice in this bitch \", \"i cannot fuck any old bitch niggas be desert dicks out here \"], \"marker\": {\"color\": \"#953395\", \"size\": 10}, \"mode\": \"markers\", \"name\": \"cluster 23\", \"text\": [\"that peach my niggas hot boys so do not bring no ice in this bitch \", \"i cannot fuck any old bitch niggas be desert dicks out here \"], \"textposition\": \"middle right\", \"type\": \"scatter\", \"x\": [-9.87957763671875, -10.067456245422363], \"y\": [-9.04074764251709, -8.907785415649414]}, {\"hovertext\": [\" do not my nigga me honkie\"], \"marker\": {\"color\": \"#2205F3\", \"size\": 10}, \"mode\": \"markers\", \"name\": \"cluster 24\", \"text\": [\" do not my nigga me honkie\"], \"textposition\": \"middle right\", \"type\": \"scatter\", \"x\": [2.0686099529266357], \"y\": [-15.811494827270508]}],\n",
       "                        {\"hoverlabel\": {\"bgcolor\": \"white\", \"font\": {\"size\": 20}}, \"template\": {\"data\": {\"bar\": [{\"error_x\": {\"color\": \"#2a3f5f\"}, \"error_y\": {\"color\": \"#2a3f5f\"}, \"marker\": {\"line\": {\"color\": \"#E5ECF6\", \"width\": 0.5}}, \"type\": \"bar\"}], \"barpolar\": [{\"marker\": {\"line\": {\"color\": \"#E5ECF6\", \"width\": 0.5}}, \"type\": \"barpolar\"}], \"carpet\": [{\"aaxis\": {\"endlinecolor\": \"#2a3f5f\", \"gridcolor\": \"white\", \"linecolor\": \"white\", \"minorgridcolor\": \"white\", \"startlinecolor\": \"#2a3f5f\"}, \"baxis\": {\"endlinecolor\": \"#2a3f5f\", \"gridcolor\": \"white\", \"linecolor\": \"white\", \"minorgridcolor\": \"white\", \"startlinecolor\": \"#2a3f5f\"}, \"type\": \"carpet\"}], \"choropleth\": [{\"colorbar\": {\"outlinewidth\": 0, \"ticks\": \"\"}, \"type\": \"choropleth\"}], \"contour\": [{\"colorbar\": {\"outlinewidth\": 0, \"ticks\": \"\"}, \"colorscale\": [[0.0, \"#0d0887\"], [0.1111111111111111, \"#46039f\"], [0.2222222222222222, \"#7201a8\"], [0.3333333333333333, \"#9c179e\"], [0.4444444444444444, \"#bd3786\"], [0.5555555555555556, \"#d8576b\"], [0.6666666666666666, \"#ed7953\"], [0.7777777777777778, \"#fb9f3a\"], [0.8888888888888888, \"#fdca26\"], [1.0, \"#f0f921\"]], \"type\": \"contour\"}], \"contourcarpet\": [{\"colorbar\": {\"outlinewidth\": 0, \"ticks\": \"\"}, \"type\": \"contourcarpet\"}], \"heatmap\": [{\"colorbar\": {\"outlinewidth\": 0, \"ticks\": \"\"}, \"colorscale\": [[0.0, \"#0d0887\"], [0.1111111111111111, \"#46039f\"], [0.2222222222222222, \"#7201a8\"], [0.3333333333333333, \"#9c179e\"], [0.4444444444444444, \"#bd3786\"], [0.5555555555555556, \"#d8576b\"], [0.6666666666666666, \"#ed7953\"], [0.7777777777777778, \"#fb9f3a\"], [0.8888888888888888, \"#fdca26\"], [1.0, \"#f0f921\"]], \"type\": \"heatmap\"}], \"heatmapgl\": [{\"colorbar\": {\"outlinewidth\": 0, \"ticks\": \"\"}, \"colorscale\": [[0.0, \"#0d0887\"], [0.1111111111111111, \"#46039f\"], [0.2222222222222222, \"#7201a8\"], [0.3333333333333333, \"#9c179e\"], [0.4444444444444444, \"#bd3786\"], [0.5555555555555556, \"#d8576b\"], [0.6666666666666666, \"#ed7953\"], [0.7777777777777778, \"#fb9f3a\"], [0.8888888888888888, \"#fdca26\"], [1.0, \"#f0f921\"]], \"type\": \"heatmapgl\"}], \"histogram\": [{\"marker\": {\"colorbar\": {\"outlinewidth\": 0, \"ticks\": \"\"}}, \"type\": \"histogram\"}], \"histogram2d\": [{\"colorbar\": {\"outlinewidth\": 0, \"ticks\": \"\"}, \"colorscale\": [[0.0, \"#0d0887\"], [0.1111111111111111, \"#46039f\"], [0.2222222222222222, \"#7201a8\"], [0.3333333333333333, \"#9c179e\"], [0.4444444444444444, \"#bd3786\"], [0.5555555555555556, \"#d8576b\"], [0.6666666666666666, \"#ed7953\"], [0.7777777777777778, \"#fb9f3a\"], [0.8888888888888888, \"#fdca26\"], [1.0, \"#f0f921\"]], \"type\": \"histogram2d\"}], \"histogram2dcontour\": [{\"colorbar\": {\"outlinewidth\": 0, \"ticks\": \"\"}, \"colorscale\": [[0.0, \"#0d0887\"], [0.1111111111111111, \"#46039f\"], [0.2222222222222222, \"#7201a8\"], [0.3333333333333333, \"#9c179e\"], [0.4444444444444444, \"#bd3786\"], [0.5555555555555556, \"#d8576b\"], [0.6666666666666666, \"#ed7953\"], [0.7777777777777778, \"#fb9f3a\"], [0.8888888888888888, \"#fdca26\"], [1.0, \"#f0f921\"]], \"type\": \"histogram2dcontour\"}], \"mesh3d\": [{\"colorbar\": {\"outlinewidth\": 0, \"ticks\": \"\"}, \"type\": \"mesh3d\"}], \"parcoords\": [{\"line\": {\"colorbar\": {\"outlinewidth\": 0, \"ticks\": \"\"}}, \"type\": \"parcoords\"}], \"scatter\": [{\"marker\": {\"colorbar\": {\"outlinewidth\": 0, \"ticks\": \"\"}}, \"type\": \"scatter\"}], \"scatter3d\": [{\"line\": {\"colorbar\": {\"outlinewidth\": 0, \"ticks\": \"\"}}, \"marker\": {\"colorbar\": {\"outlinewidth\": 0, \"ticks\": \"\"}}, \"type\": \"scatter3d\"}], \"scattercarpet\": [{\"marker\": {\"colorbar\": {\"outlinewidth\": 0, \"ticks\": \"\"}}, \"type\": \"scattercarpet\"}], \"scattergeo\": [{\"marker\": {\"colorbar\": {\"outlinewidth\": 0, \"ticks\": \"\"}}, \"type\": \"scattergeo\"}], \"scattergl\": [{\"marker\": {\"colorbar\": {\"outlinewidth\": 0, \"ticks\": \"\"}}, \"type\": \"scattergl\"}], \"scattermapbox\": [{\"marker\": {\"colorbar\": {\"outlinewidth\": 0, \"ticks\": \"\"}}, \"type\": \"scattermapbox\"}], \"scatterpolar\": [{\"marker\": {\"colorbar\": {\"outlinewidth\": 0, \"ticks\": \"\"}}, \"type\": \"scatterpolar\"}], \"scatterpolargl\": [{\"marker\": {\"colorbar\": {\"outlinewidth\": 0, \"ticks\": \"\"}}, \"type\": \"scatterpolargl\"}], \"scatterternary\": [{\"marker\": {\"colorbar\": {\"outlinewidth\": 0, \"ticks\": \"\"}}, \"type\": \"scatterternary\"}], \"surface\": [{\"colorbar\": {\"outlinewidth\": 0, \"ticks\": \"\"}, \"colorscale\": [[0.0, \"#0d0887\"], [0.1111111111111111, \"#46039f\"], [0.2222222222222222, \"#7201a8\"], [0.3333333333333333, \"#9c179e\"], [0.4444444444444444, \"#bd3786\"], [0.5555555555555556, \"#d8576b\"], [0.6666666666666666, \"#ed7953\"], [0.7777777777777778, \"#fb9f3a\"], [0.8888888888888888, \"#fdca26\"], [1.0, \"#f0f921\"]], \"type\": \"surface\"}], \"table\": [{\"cells\": {\"fill\": {\"color\": \"#EBF0F8\"}, \"line\": {\"color\": \"white\"}}, \"header\": {\"fill\": {\"color\": \"#C8D4E3\"}, \"line\": {\"color\": \"white\"}}, \"type\": \"table\"}]}, \"layout\": {\"annotationdefaults\": {\"arrowcolor\": \"#2a3f5f\", \"arrowhead\": 0, \"arrowwidth\": 1}, \"colorscale\": {\"diverging\": [[0, \"#8e0152\"], [0.1, \"#c51b7d\"], [0.2, \"#de77ae\"], [0.3, \"#f1b6da\"], [0.4, \"#fde0ef\"], [0.5, \"#f7f7f7\"], [0.6, \"#e6f5d0\"], [0.7, \"#b8e186\"], [0.8, \"#7fbc41\"], [0.9, \"#4d9221\"], [1, \"#276419\"]], \"sequential\": [[0.0, \"#0d0887\"], [0.1111111111111111, \"#46039f\"], [0.2222222222222222, \"#7201a8\"], [0.3333333333333333, \"#9c179e\"], [0.4444444444444444, \"#bd3786\"], [0.5555555555555556, \"#d8576b\"], [0.6666666666666666, \"#ed7953\"], [0.7777777777777778, \"#fb9f3a\"], [0.8888888888888888, \"#fdca26\"], [1.0, \"#f0f921\"]], \"sequentialminus\": [[0.0, \"#0d0887\"], [0.1111111111111111, \"#46039f\"], [0.2222222222222222, \"#7201a8\"], [0.3333333333333333, \"#9c179e\"], [0.4444444444444444, \"#bd3786\"], [0.5555555555555556, \"#d8576b\"], [0.6666666666666666, \"#ed7953\"], [0.7777777777777778, \"#fb9f3a\"], [0.8888888888888888, \"#fdca26\"], [1.0, \"#f0f921\"]]}, \"colorway\": [\"#636efa\", \"#EF553B\", \"#00cc96\", \"#ab63fa\", \"#FFA15A\", \"#19d3f3\", \"#FF6692\", \"#B6E880\", \"#FF97FF\", \"#FECB52\"], \"font\": {\"color\": \"#2a3f5f\"}, \"geo\": {\"bgcolor\": \"white\", \"lakecolor\": \"white\", \"landcolor\": \"#E5ECF6\", \"showlakes\": true, \"showland\": true, \"subunitcolor\": \"white\"}, \"hoverlabel\": {\"align\": \"left\"}, \"hovermode\": \"closest\", \"mapbox\": {\"style\": \"light\"}, \"paper_bgcolor\": \"white\", \"plot_bgcolor\": \"#E5ECF6\", \"polar\": {\"angularaxis\": {\"gridcolor\": \"white\", \"linecolor\": \"white\", \"ticks\": \"\"}, \"bgcolor\": \"#E5ECF6\", \"radialaxis\": {\"gridcolor\": \"white\", \"linecolor\": \"white\", \"ticks\": \"\"}}, \"scene\": {\"xaxis\": {\"backgroundcolor\": \"#E5ECF6\", \"gridcolor\": \"white\", \"gridwidth\": 2, \"linecolor\": \"white\", \"showbackground\": true, \"ticks\": \"\", \"zerolinecolor\": \"white\"}, \"yaxis\": {\"backgroundcolor\": \"#E5ECF6\", \"gridcolor\": \"white\", \"gridwidth\": 2, \"linecolor\": \"white\", \"showbackground\": true, \"ticks\": \"\", \"zerolinecolor\": \"white\"}, \"zaxis\": {\"backgroundcolor\": \"#E5ECF6\", \"gridcolor\": \"white\", \"gridwidth\": 2, \"linecolor\": \"white\", \"showbackground\": true, \"ticks\": \"\", \"zerolinecolor\": \"white\"}}, \"shapedefaults\": {\"line\": {\"color\": \"#2a3f5f\"}}, \"ternary\": {\"aaxis\": {\"gridcolor\": \"white\", \"linecolor\": \"white\", \"ticks\": \"\"}, \"baxis\": {\"gridcolor\": \"white\", \"linecolor\": \"white\", \"ticks\": \"\"}, \"bgcolor\": \"#E5ECF6\", \"caxis\": {\"gridcolor\": \"white\", \"linecolor\": \"white\", \"ticks\": \"\"}}, \"title\": {\"x\": 0.05}, \"xaxis\": {\"automargin\": true, \"gridcolor\": \"white\", \"linecolor\": \"white\", \"ticks\": \"\", \"zerolinecolor\": \"white\", \"zerolinewidth\": 2}, \"yaxis\": {\"automargin\": true, \"gridcolor\": \"white\", \"linecolor\": \"white\", \"ticks\": \"\", \"zerolinecolor\": \"white\", \"zerolinewidth\": 2}}}},\n",
       "                        {\"responsive\": true}\n",
       "                    ).then(function(){\n",
       "                            \n",
       "var gd = document.getElementById('b10b3966-4d88-43ff-b520-8c955d7c211d');\n",
       "var x = new MutationObserver(function (mutations, observer) {{\n",
       "        var display = window.getComputedStyle(gd).display;\n",
       "        if (!display || display === 'none') {{\n",
       "            console.log([gd, 'removed!']);\n",
       "            Plotly.purge(gd);\n",
       "            observer.disconnect();\n",
       "        }}\n",
       "}});\n",
       "\n",
       "// Listen for the removal of the full notebook cells\n",
       "var notebookContainer = gd.closest('#notebook-container');\n",
       "if (notebookContainer) {{\n",
       "    x.observe(notebookContainer, {childList: true});\n",
       "}}\n",
       "\n",
       "// Listen for the clearing of the current output cell\n",
       "var outputEl = gd.closest('.output');\n",
       "if (outputEl) {{\n",
       "    x.observe(outputEl, {childList: true});\n",
       "}}\n",
       "\n",
       "                        })\n",
       "                };\n",
       "                });\n",
       "            </script>\n",
       "        </div>"
      ]
     },
     "metadata": {},
     "output_type": "display_data"
    }
   ],
   "source": [
    "data = []\n",
    "collect = dict()\n",
    "#color = ['hsl(' + str(h) + ',80%' + ',50%)' for h in np.linspace(0, 255, n_clusters)]\n",
    "color = [\"#\"+''.join([random.choice('0123456789ABCDEF') for j in range(6)])\n",
    "             for i in range(n_clusters)]\n",
    "for cluster_id in np.unique(kmeans.labels_):\n",
    "    cluster_indices = np.where(kmeans.labels_ == cluster_id)    \n",
    "    cluster_text = df_pool[cluster_indices]\n",
    "    center_index = centroid_indices[cluster_id]\n",
    "\n",
    "    cp = principals[cluster_indices]\n",
    "    data.append(go.Scatter(x = cp[:,0],\n",
    "                   y = cp[:,1],\n",
    "                   mode='markers',                    \n",
    "                hovertext=cluster_text,\n",
    "                           text = cluster_text,\n",
    "                           textposition = 'middle right',\n",
    "                            marker=dict(color=color[cluster_id],\n",
    "                                                   size=10),\n",
    "                           name = 'cluster '+ str(cluster_id)\n",
    "                          ))\n",
    "#     data.append(go.Scatter(x = [principals[center_index, 0]],\n",
    "#                    y = [principals[center_index, 1]],\n",
    "#                            visible=True,\n",
    "#                    mode='markers',  \n",
    "#                            marker=dict(color=color[cluster_id],\n",
    "#                                                    size=15,\n",
    "#                                                    line=dict(color='black', width=5)),\n",
    "#                            name = 'centroid cluster '+ str(cluster_id)\n",
    "#                           ))\n",
    "    collect[cluster_id] = df_pool[cluster_indices]\n",
    "    \n",
    "fig = go.Figure(data=data)\n",
    "\n",
    "fig.update_layout(\n",
    "    hoverlabel=dict(\n",
    "        bgcolor=\"white\",\n",
    "        font_size=20,\n",
    "\n",
    "    )\n",
    ")\n",
    "fig.show()\n",
    "#plotly.offline.plot(fig)"
   ]
  },
  {
   "cell_type": "code",
   "execution_count": 65,
   "metadata": {},
   "outputs": [
    {
     "ename": "PlotlyRequestError",
     "evalue": "Authentication credentials were not provided.",
     "output_type": "error",
     "traceback": [
      "\u001b[1;31m---------------------------------------------------------------------------\u001b[0m",
      "\u001b[1;31mPlotlyRequestError\u001b[0m                        Traceback (most recent call last)",
      "\u001b[1;32m<ipython-input-65-682cda589801>\u001b[0m in \u001b[0;36m<module>\u001b[1;34m\u001b[0m\n\u001b[1;32m----> 1\u001b[1;33m \u001b[0murl\u001b[0m\u001b[1;33m=\u001b[0m\u001b[0mpy\u001b[0m\u001b[1;33m.\u001b[0m\u001b[0mplot\u001b[0m\u001b[1;33m(\u001b[0m\u001b[0mfig\u001b[0m\u001b[1;33m,\u001b[0m \u001b[0mfilename\u001b[0m\u001b[1;33m=\u001b[0m\u001b[1;34m'clusters'\u001b[0m\u001b[1;33m,\u001b[0m \u001b[0msharing\u001b[0m\u001b[1;33m=\u001b[0m\u001b[1;34m'public'\u001b[0m\u001b[1;33m)\u001b[0m\u001b[1;33m\u001b[0m\u001b[1;33m\u001b[0m\u001b[0m\n\u001b[0m",
      "\u001b[1;32m~\\anaconda3\\lib\\site-packages\\chart_studio\\plotly\\plotly.py\u001b[0m in \u001b[0;36mplot\u001b[1;34m(figure_or_data, validate, **plot_options)\u001b[0m\n\u001b[0;32m    278\u001b[0m             \u001b[0mfilename\u001b[0m\u001b[1;33m=\u001b[0m\u001b[0mgrid_filename\u001b[0m\u001b[1;33m,\u001b[0m\u001b[1;33m\u001b[0m\u001b[1;33m\u001b[0m\u001b[0m\n\u001b[0;32m    279\u001b[0m             \u001b[0mworld_readable\u001b[0m\u001b[1;33m=\u001b[0m\u001b[0mpayload\u001b[0m\u001b[1;33m[\u001b[0m\u001b[1;34m\"world_readable\"\u001b[0m\u001b[1;33m]\u001b[0m\u001b[1;33m,\u001b[0m\u001b[1;33m\u001b[0m\u001b[1;33m\u001b[0m\u001b[0m\n\u001b[1;32m--> 280\u001b[1;33m             \u001b[0mauto_open\u001b[0m\u001b[1;33m=\u001b[0m\u001b[1;32mFalse\u001b[0m\u001b[1;33m,\u001b[0m\u001b[1;33m\u001b[0m\u001b[1;33m\u001b[0m\u001b[0m\n\u001b[0m\u001b[0;32m    281\u001b[0m         )\n\u001b[0;32m    282\u001b[0m \u001b[1;33m\u001b[0m\u001b[0m\n",
      "\u001b[1;32m~\\anaconda3\\lib\\site-packages\\chart_studio\\plotly\\plotly.py\u001b[0m in \u001b[0;36mupload\u001b[1;34m(cls, grid, filename, world_readable, auto_open, meta)\u001b[0m\n\u001b[0;32m   1085\u001b[0m                 \u001b[0mpayload\u001b[0m\u001b[1;33m[\u001b[0m\u001b[1;34m\"parent_path\"\u001b[0m\u001b[1;33m]\u001b[0m \u001b[1;33m=\u001b[0m \u001b[0mparent_path\u001b[0m\u001b[1;33m\u001b[0m\u001b[1;33m\u001b[0m\u001b[0m\n\u001b[0;32m   1086\u001b[0m \u001b[1;33m\u001b[0m\u001b[0m\n\u001b[1;32m-> 1087\u001b[1;33m         \u001b[0mfile_info\u001b[0m \u001b[1;33m=\u001b[0m \u001b[0m_create_or_overwrite_grid\u001b[0m\u001b[1;33m(\u001b[0m\u001b[0mpayload\u001b[0m\u001b[1;33m)\u001b[0m\u001b[1;33m\u001b[0m\u001b[1;33m\u001b[0m\u001b[0m\n\u001b[0m\u001b[0;32m   1088\u001b[0m \u001b[1;33m\u001b[0m\u001b[0m\n\u001b[0;32m   1089\u001b[0m         \u001b[0mcols\u001b[0m \u001b[1;33m=\u001b[0m \u001b[0mfile_info\u001b[0m\u001b[1;33m[\u001b[0m\u001b[1;34m\"cols\"\u001b[0m\u001b[1;33m]\u001b[0m\u001b[1;33m\u001b[0m\u001b[1;33m\u001b[0m\u001b[0m\n",
      "\u001b[1;32m~\\anaconda3\\lib\\site-packages\\chart_studio\\plotly\\plotly.py\u001b[0m in \u001b[0;36m_create_or_overwrite_grid\u001b[1;34m(data, max_retries)\u001b[0m\n\u001b[0;32m   1548\u001b[0m     \u001b[1;31m# Create file\u001b[0m\u001b[1;33m\u001b[0m\u001b[1;33m\u001b[0m\u001b[1;33m\u001b[0m\u001b[0m\n\u001b[0;32m   1549\u001b[0m     \u001b[1;32mtry\u001b[0m\u001b[1;33m:\u001b[0m\u001b[1;33m\u001b[0m\u001b[1;33m\u001b[0m\u001b[0m\n\u001b[1;32m-> 1550\u001b[1;33m         \u001b[0mres\u001b[0m \u001b[1;33m=\u001b[0m \u001b[0mapi_module\u001b[0m\u001b[1;33m.\u001b[0m\u001b[0mcreate\u001b[0m\u001b[1;33m(\u001b[0m\u001b[0mdata\u001b[0m\u001b[1;33m)\u001b[0m\u001b[1;33m\u001b[0m\u001b[1;33m\u001b[0m\u001b[0m\n\u001b[0m\u001b[0;32m   1551\u001b[0m     \u001b[1;32mexcept\u001b[0m \u001b[0mexceptions\u001b[0m\u001b[1;33m.\u001b[0m\u001b[0mPlotlyRequestError\u001b[0m \u001b[1;32mas\u001b[0m \u001b[0me\u001b[0m\u001b[1;33m:\u001b[0m\u001b[1;33m\u001b[0m\u001b[1;33m\u001b[0m\u001b[0m\n\u001b[0;32m   1552\u001b[0m         \u001b[1;32mif\u001b[0m \u001b[0mmax_retries\u001b[0m \u001b[1;33m>\u001b[0m \u001b[1;36m0\u001b[0m \u001b[1;32mand\u001b[0m \u001b[1;34m\"already exists\"\u001b[0m \u001b[1;32min\u001b[0m \u001b[0me\u001b[0m\u001b[1;33m.\u001b[0m\u001b[0mmessage\u001b[0m\u001b[1;33m:\u001b[0m\u001b[1;33m\u001b[0m\u001b[1;33m\u001b[0m\u001b[0m\n",
      "\u001b[1;32m~\\anaconda3\\lib\\site-packages\\chart_studio\\api\\v2\\grids.py\u001b[0m in \u001b[0;36mcreate\u001b[1;34m(body)\u001b[0m\n\u001b[0;32m     16\u001b[0m     \"\"\"\n\u001b[0;32m     17\u001b[0m     \u001b[0murl\u001b[0m \u001b[1;33m=\u001b[0m \u001b[0mbuild_url\u001b[0m\u001b[1;33m(\u001b[0m\u001b[0mRESOURCE\u001b[0m\u001b[1;33m)\u001b[0m\u001b[1;33m\u001b[0m\u001b[1;33m\u001b[0m\u001b[0m\n\u001b[1;32m---> 18\u001b[1;33m     \u001b[1;32mreturn\u001b[0m \u001b[0mrequest\u001b[0m\u001b[1;33m(\u001b[0m\u001b[1;34m\"post\"\u001b[0m\u001b[1;33m,\u001b[0m \u001b[0murl\u001b[0m\u001b[1;33m,\u001b[0m \u001b[0mjson\u001b[0m\u001b[1;33m=\u001b[0m\u001b[0mbody\u001b[0m\u001b[1;33m)\u001b[0m\u001b[1;33m\u001b[0m\u001b[1;33m\u001b[0m\u001b[0m\n\u001b[0m\u001b[0;32m     19\u001b[0m \u001b[1;33m\u001b[0m\u001b[0m\n\u001b[0;32m     20\u001b[0m \u001b[1;33m\u001b[0m\u001b[0m\n",
      "\u001b[1;32m~\\anaconda3\\lib\\site-packages\\retrying.py\u001b[0m in \u001b[0;36mwrapped_f\u001b[1;34m(*args, **kw)\u001b[0m\n\u001b[0;32m     47\u001b[0m             \u001b[1;33m@\u001b[0m\u001b[0msix\u001b[0m\u001b[1;33m.\u001b[0m\u001b[0mwraps\u001b[0m\u001b[1;33m(\u001b[0m\u001b[0mf\u001b[0m\u001b[1;33m)\u001b[0m\u001b[1;33m\u001b[0m\u001b[1;33m\u001b[0m\u001b[0m\n\u001b[0;32m     48\u001b[0m             \u001b[1;32mdef\u001b[0m \u001b[0mwrapped_f\u001b[0m\u001b[1;33m(\u001b[0m\u001b[1;33m*\u001b[0m\u001b[0margs\u001b[0m\u001b[1;33m,\u001b[0m \u001b[1;33m**\u001b[0m\u001b[0mkw\u001b[0m\u001b[1;33m)\u001b[0m\u001b[1;33m:\u001b[0m\u001b[1;33m\u001b[0m\u001b[1;33m\u001b[0m\u001b[0m\n\u001b[1;32m---> 49\u001b[1;33m                 \u001b[1;32mreturn\u001b[0m \u001b[0mRetrying\u001b[0m\u001b[1;33m(\u001b[0m\u001b[1;33m*\u001b[0m\u001b[0mdargs\u001b[0m\u001b[1;33m,\u001b[0m \u001b[1;33m**\u001b[0m\u001b[0mdkw\u001b[0m\u001b[1;33m)\u001b[0m\u001b[1;33m.\u001b[0m\u001b[0mcall\u001b[0m\u001b[1;33m(\u001b[0m\u001b[0mf\u001b[0m\u001b[1;33m,\u001b[0m \u001b[1;33m*\u001b[0m\u001b[0margs\u001b[0m\u001b[1;33m,\u001b[0m \u001b[1;33m**\u001b[0m\u001b[0mkw\u001b[0m\u001b[1;33m)\u001b[0m\u001b[1;33m\u001b[0m\u001b[1;33m\u001b[0m\u001b[0m\n\u001b[0m\u001b[0;32m     50\u001b[0m \u001b[1;33m\u001b[0m\u001b[0m\n\u001b[0;32m     51\u001b[0m             \u001b[1;32mreturn\u001b[0m \u001b[0mwrapped_f\u001b[0m\u001b[1;33m\u001b[0m\u001b[1;33m\u001b[0m\u001b[0m\n",
      "\u001b[1;32m~\\anaconda3\\lib\\site-packages\\retrying.py\u001b[0m in \u001b[0;36mcall\u001b[1;34m(self, fn, *args, **kwargs)\u001b[0m\n\u001b[0;32m    204\u001b[0m \u001b[1;33m\u001b[0m\u001b[0m\n\u001b[0;32m    205\u001b[0m             \u001b[1;32mif\u001b[0m \u001b[1;32mnot\u001b[0m \u001b[0mself\u001b[0m\u001b[1;33m.\u001b[0m\u001b[0mshould_reject\u001b[0m\u001b[1;33m(\u001b[0m\u001b[0mattempt\u001b[0m\u001b[1;33m)\u001b[0m\u001b[1;33m:\u001b[0m\u001b[1;33m\u001b[0m\u001b[1;33m\u001b[0m\u001b[0m\n\u001b[1;32m--> 206\u001b[1;33m                 \u001b[1;32mreturn\u001b[0m \u001b[0mattempt\u001b[0m\u001b[1;33m.\u001b[0m\u001b[0mget\u001b[0m\u001b[1;33m(\u001b[0m\u001b[0mself\u001b[0m\u001b[1;33m.\u001b[0m\u001b[0m_wrap_exception\u001b[0m\u001b[1;33m)\u001b[0m\u001b[1;33m\u001b[0m\u001b[1;33m\u001b[0m\u001b[0m\n\u001b[0m\u001b[0;32m    207\u001b[0m \u001b[1;33m\u001b[0m\u001b[0m\n\u001b[0;32m    208\u001b[0m             \u001b[0mdelay_since_first_attempt_ms\u001b[0m \u001b[1;33m=\u001b[0m \u001b[0mint\u001b[0m\u001b[1;33m(\u001b[0m\u001b[0mround\u001b[0m\u001b[1;33m(\u001b[0m\u001b[0mtime\u001b[0m\u001b[1;33m.\u001b[0m\u001b[0mtime\u001b[0m\u001b[1;33m(\u001b[0m\u001b[1;33m)\u001b[0m \u001b[1;33m*\u001b[0m \u001b[1;36m1000\u001b[0m\u001b[1;33m)\u001b[0m\u001b[1;33m)\u001b[0m \u001b[1;33m-\u001b[0m \u001b[0mstart_time\u001b[0m\u001b[1;33m\u001b[0m\u001b[1;33m\u001b[0m\u001b[0m\n",
      "\u001b[1;32m~\\anaconda3\\lib\\site-packages\\retrying.py\u001b[0m in \u001b[0;36mget\u001b[1;34m(self, wrap_exception)\u001b[0m\n\u001b[0;32m    245\u001b[0m                 \u001b[1;32mraise\u001b[0m \u001b[0mRetryError\u001b[0m\u001b[1;33m(\u001b[0m\u001b[0mself\u001b[0m\u001b[1;33m)\u001b[0m\u001b[1;33m\u001b[0m\u001b[1;33m\u001b[0m\u001b[0m\n\u001b[0;32m    246\u001b[0m             \u001b[1;32melse\u001b[0m\u001b[1;33m:\u001b[0m\u001b[1;33m\u001b[0m\u001b[1;33m\u001b[0m\u001b[0m\n\u001b[1;32m--> 247\u001b[1;33m                 \u001b[0msix\u001b[0m\u001b[1;33m.\u001b[0m\u001b[0mreraise\u001b[0m\u001b[1;33m(\u001b[0m\u001b[0mself\u001b[0m\u001b[1;33m.\u001b[0m\u001b[0mvalue\u001b[0m\u001b[1;33m[\u001b[0m\u001b[1;36m0\u001b[0m\u001b[1;33m]\u001b[0m\u001b[1;33m,\u001b[0m \u001b[0mself\u001b[0m\u001b[1;33m.\u001b[0m\u001b[0mvalue\u001b[0m\u001b[1;33m[\u001b[0m\u001b[1;36m1\u001b[0m\u001b[1;33m]\u001b[0m\u001b[1;33m,\u001b[0m \u001b[0mself\u001b[0m\u001b[1;33m.\u001b[0m\u001b[0mvalue\u001b[0m\u001b[1;33m[\u001b[0m\u001b[1;36m2\u001b[0m\u001b[1;33m]\u001b[0m\u001b[1;33m)\u001b[0m\u001b[1;33m\u001b[0m\u001b[1;33m\u001b[0m\u001b[0m\n\u001b[0m\u001b[0;32m    248\u001b[0m         \u001b[1;32melse\u001b[0m\u001b[1;33m:\u001b[0m\u001b[1;33m\u001b[0m\u001b[1;33m\u001b[0m\u001b[0m\n\u001b[0;32m    249\u001b[0m             \u001b[1;32mreturn\u001b[0m \u001b[0mself\u001b[0m\u001b[1;33m.\u001b[0m\u001b[0mvalue\u001b[0m\u001b[1;33m\u001b[0m\u001b[1;33m\u001b[0m\u001b[0m\n",
      "\u001b[1;32m~\\anaconda3\\lib\\site-packages\\six.py\u001b[0m in \u001b[0;36mreraise\u001b[1;34m(tp, value, tb)\u001b[0m\n\u001b[0;32m    691\u001b[0m             \u001b[1;32mif\u001b[0m \u001b[0mvalue\u001b[0m\u001b[1;33m.\u001b[0m\u001b[0m__traceback__\u001b[0m \u001b[1;32mis\u001b[0m \u001b[1;32mnot\u001b[0m \u001b[0mtb\u001b[0m\u001b[1;33m:\u001b[0m\u001b[1;33m\u001b[0m\u001b[1;33m\u001b[0m\u001b[0m\n\u001b[0;32m    692\u001b[0m                 \u001b[1;32mraise\u001b[0m \u001b[0mvalue\u001b[0m\u001b[1;33m.\u001b[0m\u001b[0mwith_traceback\u001b[0m\u001b[1;33m(\u001b[0m\u001b[0mtb\u001b[0m\u001b[1;33m)\u001b[0m\u001b[1;33m\u001b[0m\u001b[1;33m\u001b[0m\u001b[0m\n\u001b[1;32m--> 693\u001b[1;33m             \u001b[1;32mraise\u001b[0m \u001b[0mvalue\u001b[0m\u001b[1;33m\u001b[0m\u001b[1;33m\u001b[0m\u001b[0m\n\u001b[0m\u001b[0;32m    694\u001b[0m         \u001b[1;32mfinally\u001b[0m\u001b[1;33m:\u001b[0m\u001b[1;33m\u001b[0m\u001b[1;33m\u001b[0m\u001b[0m\n\u001b[0;32m    695\u001b[0m             \u001b[0mvalue\u001b[0m \u001b[1;33m=\u001b[0m \u001b[1;32mNone\u001b[0m\u001b[1;33m\u001b[0m\u001b[1;33m\u001b[0m\u001b[0m\n",
      "\u001b[1;32m~\\anaconda3\\lib\\site-packages\\retrying.py\u001b[0m in \u001b[0;36mcall\u001b[1;34m(self, fn, *args, **kwargs)\u001b[0m\n\u001b[0;32m    198\u001b[0m         \u001b[1;32mwhile\u001b[0m \u001b[1;32mTrue\u001b[0m\u001b[1;33m:\u001b[0m\u001b[1;33m\u001b[0m\u001b[1;33m\u001b[0m\u001b[0m\n\u001b[0;32m    199\u001b[0m             \u001b[1;32mtry\u001b[0m\u001b[1;33m:\u001b[0m\u001b[1;33m\u001b[0m\u001b[1;33m\u001b[0m\u001b[0m\n\u001b[1;32m--> 200\u001b[1;33m                 \u001b[0mattempt\u001b[0m \u001b[1;33m=\u001b[0m \u001b[0mAttempt\u001b[0m\u001b[1;33m(\u001b[0m\u001b[0mfn\u001b[0m\u001b[1;33m(\u001b[0m\u001b[1;33m*\u001b[0m\u001b[0margs\u001b[0m\u001b[1;33m,\u001b[0m \u001b[1;33m**\u001b[0m\u001b[0mkwargs\u001b[0m\u001b[1;33m)\u001b[0m\u001b[1;33m,\u001b[0m \u001b[0mattempt_number\u001b[0m\u001b[1;33m,\u001b[0m \u001b[1;32mFalse\u001b[0m\u001b[1;33m)\u001b[0m\u001b[1;33m\u001b[0m\u001b[1;33m\u001b[0m\u001b[0m\n\u001b[0m\u001b[0;32m    201\u001b[0m             \u001b[1;32mexcept\u001b[0m\u001b[1;33m:\u001b[0m\u001b[1;33m\u001b[0m\u001b[1;33m\u001b[0m\u001b[0m\n\u001b[0;32m    202\u001b[0m                 \u001b[0mtb\u001b[0m \u001b[1;33m=\u001b[0m \u001b[0msys\u001b[0m\u001b[1;33m.\u001b[0m\u001b[0mexc_info\u001b[0m\u001b[1;33m(\u001b[0m\u001b[1;33m)\u001b[0m\u001b[1;33m\u001b[0m\u001b[1;33m\u001b[0m\u001b[0m\n",
      "\u001b[1;32m~\\anaconda3\\lib\\site-packages\\chart_studio\\api\\v2\\utils.py\u001b[0m in \u001b[0;36mrequest\u001b[1;34m(method, url, **kwargs)\u001b[0m\n\u001b[0;32m    178\u001b[0m         \u001b[0mcontent\u001b[0m \u001b[1;33m=\u001b[0m \u001b[0mresponse\u001b[0m\u001b[1;33m.\u001b[0m\u001b[0mcontent\u001b[0m \u001b[1;32mif\u001b[0m \u001b[0mresponse\u001b[0m \u001b[1;32melse\u001b[0m \u001b[1;34m\"No content\"\u001b[0m\u001b[1;33m\u001b[0m\u001b[1;33m\u001b[0m\u001b[0m\n\u001b[0;32m    179\u001b[0m         \u001b[1;32mraise\u001b[0m \u001b[0mexceptions\u001b[0m\u001b[1;33m.\u001b[0m\u001b[0mPlotlyRequestError\u001b[0m\u001b[1;33m(\u001b[0m\u001b[0mmessage\u001b[0m\u001b[1;33m,\u001b[0m \u001b[0mstatus_code\u001b[0m\u001b[1;33m,\u001b[0m \u001b[0mcontent\u001b[0m\u001b[1;33m)\u001b[0m\u001b[1;33m\u001b[0m\u001b[1;33m\u001b[0m\u001b[0m\n\u001b[1;32m--> 180\u001b[1;33m     \u001b[0mvalidate_response\u001b[0m\u001b[1;33m(\u001b[0m\u001b[0mresponse\u001b[0m\u001b[1;33m)\u001b[0m\u001b[1;33m\u001b[0m\u001b[1;33m\u001b[0m\u001b[0m\n\u001b[0m\u001b[0;32m    181\u001b[0m     \u001b[1;32mreturn\u001b[0m \u001b[0mresponse\u001b[0m\u001b[1;33m\u001b[0m\u001b[1;33m\u001b[0m\u001b[0m\n",
      "\u001b[1;32m~\\anaconda3\\lib\\site-packages\\chart_studio\\api\\v2\\utils.py\u001b[0m in \u001b[0;36mvalidate_response\u001b[1;34m(response)\u001b[0m\n\u001b[0;32m     80\u001b[0m         \u001b[0mmessage\u001b[0m \u001b[1;33m=\u001b[0m \u001b[0mcontent\u001b[0m \u001b[1;32mif\u001b[0m \u001b[0mcontent\u001b[0m \u001b[1;32melse\u001b[0m \u001b[1;34m\"No Content\"\u001b[0m\u001b[1;33m\u001b[0m\u001b[1;33m\u001b[0m\u001b[0m\n\u001b[0;32m     81\u001b[0m \u001b[1;33m\u001b[0m\u001b[0m\n\u001b[1;32m---> 82\u001b[1;33m     \u001b[1;32mraise\u001b[0m \u001b[0mexceptions\u001b[0m\u001b[1;33m.\u001b[0m\u001b[0mPlotlyRequestError\u001b[0m\u001b[1;33m(\u001b[0m\u001b[0mmessage\u001b[0m\u001b[1;33m,\u001b[0m \u001b[0mstatus_code\u001b[0m\u001b[1;33m,\u001b[0m \u001b[0mcontent\u001b[0m\u001b[1;33m)\u001b[0m\u001b[1;33m\u001b[0m\u001b[1;33m\u001b[0m\u001b[0m\n\u001b[0m\u001b[0;32m     83\u001b[0m \u001b[1;33m\u001b[0m\u001b[0m\n\u001b[0;32m     84\u001b[0m \u001b[1;33m\u001b[0m\u001b[0m\n",
      "\u001b[1;31mPlotlyRequestError\u001b[0m: Authentication credentials were not provided."
     ]
    }
   ],
   "source": [
    "url=py.plot(fig, filename='clusters', sharing='public')"
   ]
  },
  {
   "cell_type": "code",
   "execution_count": null,
   "metadata": {},
   "outputs": [],
   "source": [
    "centroid_indices"
   ]
  },
  {
   "cell_type": "code",
   "execution_count": 86,
   "metadata": {},
   "outputs": [],
   "source": [
    "# for item in collect[11]:\n",
    "#     print(item)"
   ]
  },
  {
   "cell_type": "markdown",
   "metadata": {},
   "source": [
    "#### Propagate label of centroid to entire cluster"
   ]
  },
  {
   "cell_type": "code",
   "execution_count": null,
   "metadata": {},
   "outputs": [],
   "source": [
    "y_pool_new = np.zeros(shape=y_pool.shape)\n",
    "for cluster_id in np.unique(kmeans.labels_):\n",
    "    cluster_indices = np.where(kmeans.labels_ == cluster_id)    \n",
    "    center_index = centroid_indices[cluster_id]\n",
    "    center_label = y_pool[center_index]\n",
    "    print(center_label)\n",
    "    y_pool_new[cluster_indices] = center_label\n",
    "    print(y_pool_new[cluster_indices])\n",
    "y_new = np.zeros(shape=y.shape)\n",
    "y_new[pool_indices] = y_pool_new"
   ]
  },
  {
   "cell_type": "code",
   "execution_count": null,
   "metadata": {},
   "outputs": [],
   "source": [
    "compare = (y_pool_new == y_pool)\n",
    "np.where(compare==True)[0].shape"
   ]
  },
  {
   "cell_type": "code",
   "execution_count": null,
   "metadata": {},
   "outputs": [],
   "source": [
    "compare = (y_pool_new != y_pool)\n",
    "np.where(compare==True)[0].shape"
   ]
  },
  {
   "cell_type": "code",
   "execution_count": null,
   "metadata": {},
   "outputs": [],
   "source": [
    "train_indices_new = np.append(pool_indices, centroid_indices)\n"
   ]
  },
  {
   "cell_type": "code",
   "execution_count": null,
   "metadata": {},
   "outputs": [],
   "source": [
    "model1 = LogisticRegression(penalty=PENALTY, C=C, max_iter=max_iter)\n",
    "x_train_new = x[train_indices_new]\n",
    "y_train_new = y[train_indices_new]\n",
    "model1.fit(x_train_new, y_train_new)"
   ]
  },
  {
   "cell_type": "code",
   "execution_count": null,
   "metadata": {},
   "outputs": [],
   "source": [
    "model1.score(x_train_new, y_train_new), model1.score(x_test, y_test)"
   ]
  },
  {
   "cell_type": "code",
   "execution_count": null,
   "metadata": {},
   "outputs": [],
   "source": [
    "predictions1 = model1.predict(x_test)\n",
    "f1_score(y_test, predictions1)"
   ]
  },
  {
   "cell_type": "code",
   "execution_count": null,
   "metadata": {},
   "outputs": [],
   "source": [
    "accuracy_score(y_test, predictions1)"
   ]
  },
  {
   "cell_type": "markdown",
   "metadata": {},
   "source": [
    "#### Add entire x_pool back to training instead of just centroids"
   ]
  },
  {
   "cell_type": "code",
   "execution_count": null,
   "metadata": {},
   "outputs": [],
   "source": [
    "train_indices_full = np.append(train_indices, pool_indices)"
   ]
  },
  {
   "cell_type": "code",
   "execution_count": null,
   "metadata": {},
   "outputs": [],
   "source": [
    "model2 = LogisticRegression(penalty=PENALTY, C=C, max_iter=max_iter)\n",
    "x_train_full = x[train_indices_full]\n",
    "y_train_full = y[train_indices_full]\n",
    "model2.fit(x_train_full, y_train_full)\n",
    "model2.score(x_train_full, y_train_full), model2.score(x_test, y_test)"
   ]
  },
  {
   "cell_type": "code",
   "execution_count": null,
   "metadata": {},
   "outputs": [],
   "source": [
    "predictions2 = model2.predict(x_test)\n",
    "f1_score(y_test, predictions2)"
   ]
  },
  {
   "cell_type": "code",
   "execution_count": null,
   "metadata": {},
   "outputs": [],
   "source": [
    "accuracy_score(y_test, predictions2)"
   ]
  },
  {
   "cell_type": "markdown",
   "metadata": {},
   "source": [
    "#### Compare"
   ]
  },
  {
   "cell_type": "code",
   "execution_count": null,
   "metadata": {},
   "outputs": [],
   "source": [
    "print(\"Model with 20% train \", f1_score(y_test, predictions))\n",
    "print(\"Model with 20% train + propagate center \", f1_score(y_test, predictions1))\n",
    "print(\"Model with 20% train + 60% pool \", f1_score(y_test, predictions2))"
   ]
  },
  {
   "cell_type": "code",
   "execution_count": null,
   "metadata": {},
   "outputs": [],
   "source": [
    "print(\"Model with 20% train \", accuracy_score(y_test, predictions))\n",
    "print(\"Model with 20% train + propagate center \", accuracy_score(y_test, predictions1))\n",
    "print(\"Model with 20% train + 60% pool \", accuracy_score(y_test, predictions2))"
   ]
  },
  {
   "cell_type": "code",
   "execution_count": null,
   "metadata": {},
   "outputs": [],
   "source": [
    "  "
   ]
  }
 ],
 "metadata": {
  "kernelspec": {
   "display_name": "Python 3",
   "language": "python",
   "name": "python3"
  },
  "language_info": {
   "codemirror_mode": {
    "name": "ipython",
    "version": 3
   },
   "file_extension": ".py",
   "mimetype": "text/x-python",
   "name": "python",
   "nbconvert_exporter": "python",
   "pygments_lexer": "ipython3",
   "version": "3.7.3"
  }
 },
 "nbformat": 4,
 "nbformat_minor": 2
}

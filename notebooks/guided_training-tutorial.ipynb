{
 "cells": [
  {
   "cell_type": "markdown",
   "metadata": {},
   "source": [
    "### Guided Annotation tool\n",
    "This notebook shows you the whole process of preparing the data which is used as input in the guided annotation tool.\n",
    "The tool basically shows unlabelled data in the form of explainable clusters to label.\n",
    "It will show you the following steps:\n",
    "\n",
    "    1. Load dataset\n",
    "    2. Train a model and explain it\n",
    "    3. Perform shap clustering\n",
    "    4. Save the clusters to database with keywords to be highlighted by the annotation tool"
   ]
  },
  {
   "cell_type": "markdown",
   "metadata": {},
   "source": [
    "#### Imports"
   ]
  },
  {
   "cell_type": "code",
   "execution_count": 10,
   "metadata": {},
   "outputs": [],
   "source": [
    "import pandas as pd\n",
    "import numpy as np\n",
    "from scipy.spatial.distance import euclidean, cosine\n",
    "\n",
    "import nltk\n",
    "from nltk.corpus import stopwords\n",
    "\n",
    "from sklearn.feature_extraction.text import TfidfVectorizer\n",
    "from sklearn.linear_model import LogisticRegression\n",
    "from sklearn.svm import SVC\n",
    "from sklearn.cluster import KMeans\n",
    "from sklearn.decomposition import PCA\n",
    "from sklearn.metrics import f1_score, confusion_matrix, accuracy_score, homogeneity_score, v_measure_score, completeness_score\n",
    "from sklearn.preprocessing import StandardScaler\n",
    "\n",
    "import matplotlib.pyplot as plt\n",
    "import plotly\n",
    "import plotly.graph_objs as go\n",
    "# import chart_studio.plotly as py\n",
    "import seaborn as sns\n",
    "import shap"
   ]
  },
  {
   "cell_type": "markdown",
   "metadata": {},
   "source": [
    "### Built-in function usage\n",
    "To avoid re-writing a lot of stuff for each dataset/model, I have created some functions in the models module/folder.\n",
    "We are going to use this python module in this tutorial."
   ]
  },
  {
   "cell_type": "code",
   "execution_count": 11,
   "metadata": {},
   "outputs": [],
   "source": [
    "import os\n",
    "os.getcwd()\n",
    "os.chdir('../')\n",
    "from models.trainers import Trainer\n",
    "from app.utils import clear_labels\n",
    "from models.guided_learning import GuidedLearner\n",
    "pd.set_option('display.max_colwidth', 1000)"
   ]
  },
  {
   "cell_type": "markdown",
   "metadata": {},
   "source": [
    "#### View dataset"
   ]
  },
  {
   "cell_type": "code",
   "execution_count": 12,
   "metadata": {},
   "outputs": [
    {
     "ename": "FileNotFoundError",
     "evalue": "[Errno 2] No such file or directory: 'datasets/davidson_dataset.csv'",
     "output_type": "error",
     "traceback": [
      "\u001b[1;31m---------------------------------------------------------------------------\u001b[0m",
      "\u001b[1;31mFileNotFoundError\u001b[0m                         Traceback (most recent call last)",
      "\u001b[1;32m<ipython-input-12-fc0a42b5d97a>\u001b[0m in \u001b[0;36m<module>\u001b[1;34m\u001b[0m\n\u001b[1;32m----> 1\u001b[1;33m \u001b[0mdf\u001b[0m \u001b[1;33m=\u001b[0m \u001b[0mpd\u001b[0m\u001b[1;33m.\u001b[0m\u001b[0mread_csv\u001b[0m\u001b[1;33m(\u001b[0m\u001b[1;34m'datasets/davidson_dataset.csv'\u001b[0m\u001b[1;33m)\u001b[0m \u001b[1;31m# substitute other datasets in similar format\u001b[0m\u001b[1;33m\u001b[0m\u001b[1;33m\u001b[0m\u001b[0m\n\u001b[0m\u001b[0;32m      2\u001b[0m \u001b[0mprint\u001b[0m\u001b[1;33m(\u001b[0m\u001b[0mdf\u001b[0m\u001b[1;33m.\u001b[0m\u001b[0mshape\u001b[0m\u001b[1;33m)\u001b[0m\u001b[1;33m\u001b[0m\u001b[1;33m\u001b[0m\u001b[0m\n\u001b[0;32m      3\u001b[0m \u001b[0mdf\u001b[0m\u001b[1;33m.\u001b[0m\u001b[0mhead\u001b[0m\u001b[1;33m(\u001b[0m\u001b[1;36m10\u001b[0m\u001b[1;33m)\u001b[0m\u001b[1;33m\u001b[0m\u001b[1;33m\u001b[0m\u001b[0m\n",
      "\u001b[1;32mc:\\users\\s164255\\anaconda3\\envs\\explainableml\\lib\\site-packages\\pandas\\io\\parsers.py\u001b[0m in \u001b[0;36mread_csv\u001b[1;34m(filepath_or_buffer, sep, delimiter, header, names, index_col, usecols, squeeze, prefix, mangle_dupe_cols, dtype, engine, converters, true_values, false_values, skipinitialspace, skiprows, skipfooter, nrows, na_values, keep_default_na, na_filter, verbose, skip_blank_lines, parse_dates, infer_datetime_format, keep_date_col, date_parser, dayfirst, cache_dates, iterator, chunksize, compression, thousands, decimal, lineterminator, quotechar, quoting, doublequote, escapechar, comment, encoding, dialect, error_bad_lines, warn_bad_lines, delim_whitespace, low_memory, memory_map, float_precision, storage_options)\u001b[0m\n\u001b[0;32m    608\u001b[0m     \u001b[0mkwds\u001b[0m\u001b[1;33m.\u001b[0m\u001b[0mupdate\u001b[0m\u001b[1;33m(\u001b[0m\u001b[0mkwds_defaults\u001b[0m\u001b[1;33m)\u001b[0m\u001b[1;33m\u001b[0m\u001b[1;33m\u001b[0m\u001b[0m\n\u001b[0;32m    609\u001b[0m \u001b[1;33m\u001b[0m\u001b[0m\n\u001b[1;32m--> 610\u001b[1;33m     \u001b[1;32mreturn\u001b[0m \u001b[0m_read\u001b[0m\u001b[1;33m(\u001b[0m\u001b[0mfilepath_or_buffer\u001b[0m\u001b[1;33m,\u001b[0m \u001b[0mkwds\u001b[0m\u001b[1;33m)\u001b[0m\u001b[1;33m\u001b[0m\u001b[1;33m\u001b[0m\u001b[0m\n\u001b[0m\u001b[0;32m    611\u001b[0m \u001b[1;33m\u001b[0m\u001b[0m\n\u001b[0;32m    612\u001b[0m \u001b[1;33m\u001b[0m\u001b[0m\n",
      "\u001b[1;32mc:\\users\\s164255\\anaconda3\\envs\\explainableml\\lib\\site-packages\\pandas\\io\\parsers.py\u001b[0m in \u001b[0;36m_read\u001b[1;34m(filepath_or_buffer, kwds)\u001b[0m\n\u001b[0;32m    460\u001b[0m \u001b[1;33m\u001b[0m\u001b[0m\n\u001b[0;32m    461\u001b[0m     \u001b[1;31m# Create the parser.\u001b[0m\u001b[1;33m\u001b[0m\u001b[1;33m\u001b[0m\u001b[1;33m\u001b[0m\u001b[0m\n\u001b[1;32m--> 462\u001b[1;33m     \u001b[0mparser\u001b[0m \u001b[1;33m=\u001b[0m \u001b[0mTextFileReader\u001b[0m\u001b[1;33m(\u001b[0m\u001b[0mfilepath_or_buffer\u001b[0m\u001b[1;33m,\u001b[0m \u001b[1;33m**\u001b[0m\u001b[0mkwds\u001b[0m\u001b[1;33m)\u001b[0m\u001b[1;33m\u001b[0m\u001b[1;33m\u001b[0m\u001b[0m\n\u001b[0m\u001b[0;32m    463\u001b[0m \u001b[1;33m\u001b[0m\u001b[0m\n\u001b[0;32m    464\u001b[0m     \u001b[1;32mif\u001b[0m \u001b[0mchunksize\u001b[0m \u001b[1;32mor\u001b[0m \u001b[0miterator\u001b[0m\u001b[1;33m:\u001b[0m\u001b[1;33m\u001b[0m\u001b[1;33m\u001b[0m\u001b[0m\n",
      "\u001b[1;32mc:\\users\\s164255\\anaconda3\\envs\\explainableml\\lib\\site-packages\\pandas\\io\\parsers.py\u001b[0m in \u001b[0;36m__init__\u001b[1;34m(self, f, engine, **kwds)\u001b[0m\n\u001b[0;32m    817\u001b[0m             \u001b[0mself\u001b[0m\u001b[1;33m.\u001b[0m\u001b[0moptions\u001b[0m\u001b[1;33m[\u001b[0m\u001b[1;34m\"has_index_names\"\u001b[0m\u001b[1;33m]\u001b[0m \u001b[1;33m=\u001b[0m \u001b[0mkwds\u001b[0m\u001b[1;33m[\u001b[0m\u001b[1;34m\"has_index_names\"\u001b[0m\u001b[1;33m]\u001b[0m\u001b[1;33m\u001b[0m\u001b[1;33m\u001b[0m\u001b[0m\n\u001b[0;32m    818\u001b[0m \u001b[1;33m\u001b[0m\u001b[0m\n\u001b[1;32m--> 819\u001b[1;33m         \u001b[0mself\u001b[0m\u001b[1;33m.\u001b[0m\u001b[0m_engine\u001b[0m \u001b[1;33m=\u001b[0m \u001b[0mself\u001b[0m\u001b[1;33m.\u001b[0m\u001b[0m_make_engine\u001b[0m\u001b[1;33m(\u001b[0m\u001b[0mself\u001b[0m\u001b[1;33m.\u001b[0m\u001b[0mengine\u001b[0m\u001b[1;33m)\u001b[0m\u001b[1;33m\u001b[0m\u001b[1;33m\u001b[0m\u001b[0m\n\u001b[0m\u001b[0;32m    820\u001b[0m \u001b[1;33m\u001b[0m\u001b[0m\n\u001b[0;32m    821\u001b[0m     \u001b[1;32mdef\u001b[0m \u001b[0mclose\u001b[0m\u001b[1;33m(\u001b[0m\u001b[0mself\u001b[0m\u001b[1;33m)\u001b[0m\u001b[1;33m:\u001b[0m\u001b[1;33m\u001b[0m\u001b[1;33m\u001b[0m\u001b[0m\n",
      "\u001b[1;32mc:\\users\\s164255\\anaconda3\\envs\\explainableml\\lib\\site-packages\\pandas\\io\\parsers.py\u001b[0m in \u001b[0;36m_make_engine\u001b[1;34m(self, engine)\u001b[0m\n\u001b[0;32m   1048\u001b[0m             )\n\u001b[0;32m   1049\u001b[0m         \u001b[1;31m# error: Too many arguments for \"ParserBase\"\u001b[0m\u001b[1;33m\u001b[0m\u001b[1;33m\u001b[0m\u001b[1;33m\u001b[0m\u001b[0m\n\u001b[1;32m-> 1050\u001b[1;33m         \u001b[1;32mreturn\u001b[0m \u001b[0mmapping\u001b[0m\u001b[1;33m[\u001b[0m\u001b[0mengine\u001b[0m\u001b[1;33m]\u001b[0m\u001b[1;33m(\u001b[0m\u001b[0mself\u001b[0m\u001b[1;33m.\u001b[0m\u001b[0mf\u001b[0m\u001b[1;33m,\u001b[0m \u001b[1;33m**\u001b[0m\u001b[0mself\u001b[0m\u001b[1;33m.\u001b[0m\u001b[0moptions\u001b[0m\u001b[1;33m)\u001b[0m  \u001b[1;31m# type: ignore[call-arg]\u001b[0m\u001b[1;33m\u001b[0m\u001b[1;33m\u001b[0m\u001b[0m\n\u001b[0m\u001b[0;32m   1051\u001b[0m \u001b[1;33m\u001b[0m\u001b[0m\n\u001b[0;32m   1052\u001b[0m     \u001b[1;32mdef\u001b[0m \u001b[0m_failover_to_python\u001b[0m\u001b[1;33m(\u001b[0m\u001b[0mself\u001b[0m\u001b[1;33m)\u001b[0m\u001b[1;33m:\u001b[0m\u001b[1;33m\u001b[0m\u001b[1;33m\u001b[0m\u001b[0m\n",
      "\u001b[1;32mc:\\users\\s164255\\anaconda3\\envs\\explainableml\\lib\\site-packages\\pandas\\io\\parsers.py\u001b[0m in \u001b[0;36m__init__\u001b[1;34m(self, src, **kwds)\u001b[0m\n\u001b[0;32m   1865\u001b[0m \u001b[1;33m\u001b[0m\u001b[0m\n\u001b[0;32m   1866\u001b[0m         \u001b[1;31m# open handles\u001b[0m\u001b[1;33m\u001b[0m\u001b[1;33m\u001b[0m\u001b[1;33m\u001b[0m\u001b[0m\n\u001b[1;32m-> 1867\u001b[1;33m         \u001b[0mself\u001b[0m\u001b[1;33m.\u001b[0m\u001b[0m_open_handles\u001b[0m\u001b[1;33m(\u001b[0m\u001b[0msrc\u001b[0m\u001b[1;33m,\u001b[0m \u001b[0mkwds\u001b[0m\u001b[1;33m)\u001b[0m\u001b[1;33m\u001b[0m\u001b[1;33m\u001b[0m\u001b[0m\n\u001b[0m\u001b[0;32m   1868\u001b[0m         \u001b[1;32massert\u001b[0m \u001b[0mself\u001b[0m\u001b[1;33m.\u001b[0m\u001b[0mhandles\u001b[0m \u001b[1;32mis\u001b[0m \u001b[1;32mnot\u001b[0m \u001b[1;32mNone\u001b[0m\u001b[1;33m\u001b[0m\u001b[1;33m\u001b[0m\u001b[0m\n\u001b[0;32m   1869\u001b[0m         \u001b[1;32mfor\u001b[0m \u001b[0mkey\u001b[0m \u001b[1;32min\u001b[0m \u001b[1;33m(\u001b[0m\u001b[1;34m\"storage_options\"\u001b[0m\u001b[1;33m,\u001b[0m \u001b[1;34m\"encoding\"\u001b[0m\u001b[1;33m,\u001b[0m \u001b[1;34m\"memory_map\"\u001b[0m\u001b[1;33m,\u001b[0m \u001b[1;34m\"compression\"\u001b[0m\u001b[1;33m)\u001b[0m\u001b[1;33m:\u001b[0m\u001b[1;33m\u001b[0m\u001b[1;33m\u001b[0m\u001b[0m\n",
      "\u001b[1;32mc:\\users\\s164255\\anaconda3\\envs\\explainableml\\lib\\site-packages\\pandas\\io\\parsers.py\u001b[0m in \u001b[0;36m_open_handles\u001b[1;34m(self, src, kwds)\u001b[0m\n\u001b[0;32m   1366\u001b[0m             \u001b[0mcompression\u001b[0m\u001b[1;33m=\u001b[0m\u001b[0mkwds\u001b[0m\u001b[1;33m.\u001b[0m\u001b[0mget\u001b[0m\u001b[1;33m(\u001b[0m\u001b[1;34m\"compression\"\u001b[0m\u001b[1;33m,\u001b[0m \u001b[1;32mNone\u001b[0m\u001b[1;33m)\u001b[0m\u001b[1;33m,\u001b[0m\u001b[1;33m\u001b[0m\u001b[1;33m\u001b[0m\u001b[0m\n\u001b[0;32m   1367\u001b[0m             \u001b[0mmemory_map\u001b[0m\u001b[1;33m=\u001b[0m\u001b[0mkwds\u001b[0m\u001b[1;33m.\u001b[0m\u001b[0mget\u001b[0m\u001b[1;33m(\u001b[0m\u001b[1;34m\"memory_map\"\u001b[0m\u001b[1;33m,\u001b[0m \u001b[1;32mFalse\u001b[0m\u001b[1;33m)\u001b[0m\u001b[1;33m,\u001b[0m\u001b[1;33m\u001b[0m\u001b[1;33m\u001b[0m\u001b[0m\n\u001b[1;32m-> 1368\u001b[1;33m             \u001b[0mstorage_options\u001b[0m\u001b[1;33m=\u001b[0m\u001b[0mkwds\u001b[0m\u001b[1;33m.\u001b[0m\u001b[0mget\u001b[0m\u001b[1;33m(\u001b[0m\u001b[1;34m\"storage_options\"\u001b[0m\u001b[1;33m,\u001b[0m \u001b[1;32mNone\u001b[0m\u001b[1;33m)\u001b[0m\u001b[1;33m,\u001b[0m\u001b[1;33m\u001b[0m\u001b[1;33m\u001b[0m\u001b[0m\n\u001b[0m\u001b[0;32m   1369\u001b[0m         )\n\u001b[0;32m   1370\u001b[0m \u001b[1;33m\u001b[0m\u001b[0m\n",
      "\u001b[1;32mc:\\users\\s164255\\anaconda3\\envs\\explainableml\\lib\\site-packages\\pandas\\io\\common.py\u001b[0m in \u001b[0;36mget_handle\u001b[1;34m(path_or_buf, mode, encoding, compression, memory_map, is_text, errors, storage_options)\u001b[0m\n\u001b[0;32m    650\u001b[0m                 \u001b[0mencoding\u001b[0m\u001b[1;33m=\u001b[0m\u001b[0mioargs\u001b[0m\u001b[1;33m.\u001b[0m\u001b[0mencoding\u001b[0m\u001b[1;33m,\u001b[0m\u001b[1;33m\u001b[0m\u001b[1;33m\u001b[0m\u001b[0m\n\u001b[0;32m    651\u001b[0m                 \u001b[0merrors\u001b[0m\u001b[1;33m=\u001b[0m\u001b[0merrors\u001b[0m\u001b[1;33m,\u001b[0m\u001b[1;33m\u001b[0m\u001b[1;33m\u001b[0m\u001b[0m\n\u001b[1;32m--> 652\u001b[1;33m                 \u001b[0mnewline\u001b[0m\u001b[1;33m=\u001b[0m\u001b[1;34m\"\"\u001b[0m\u001b[1;33m,\u001b[0m\u001b[1;33m\u001b[0m\u001b[1;33m\u001b[0m\u001b[0m\n\u001b[0m\u001b[0;32m    653\u001b[0m             )\n\u001b[0;32m    654\u001b[0m         \u001b[1;32melse\u001b[0m\u001b[1;33m:\u001b[0m\u001b[1;33m\u001b[0m\u001b[1;33m\u001b[0m\u001b[0m\n",
      "\u001b[1;31mFileNotFoundError\u001b[0m: [Errno 2] No such file or directory: 'datasets/davidson_dataset.csv'"
     ]
    }
   ],
   "source": [
    "df = pd.read_csv('datasets/davidson_dataset.csv') # substitute other datasets in similar format\n",
    "print(df.shape)\n",
    "df.head(10)"
   ]
  },
  {
   "cell_type": "code",
   "execution_count": null,
   "metadata": {},
   "outputs": [],
   "source": []
  },
  {
   "cell_type": "code",
   "execution_count": null,
   "metadata": {},
   "outputs": [],
   "source": [
    "df[\"label\"].hist()"
   ]
  },
  {
   "cell_type": "markdown",
   "metadata": {},
   "source": [
    "#### Splitting data\n",
    "  We split data into training, test, pool and individual. Pool is the unlabelled pool we want to generate SHAP clusters for.\n",
    "  Individual is the bunch of labels we want to get from the user without any guidance\n",
    "  \n",
    "  We split as follows: (can be altered)\n",
    "  70% train\n",
    "  10% test\n",
    "  10% pool\n",
    "  10% individual"
   ]
  },
  {
   "cell_type": "code",
   "execution_count": null,
   "metadata": {},
   "outputs": [],
   "source": [
    "dataset = 'gao_dataset'\n",
    "t = Trainer(dataset_name=dataset) # the name which you want for the tables in the database\n",
    "df_train, df_test, df_pool, df_individual = t.train_test_pool_split(df,\n",
    "                                                                    train_frac=0.4,\n",
    "                                                                    test_frac=0.1,\n",
    "                                                                    pool_frac=0.5,\n",
    "                                                                    unguided='different',\n",
    "                                                                    stratify=False,\n",
    "                                                                    )\n",
    "df_train.shape, df_test.shape, df_pool.shape, df_individual.shape\n"
   ]
  },
  {
   "cell_type": "markdown",
   "metadata": {},
   "source": [
    "#### Model fitting\n"
   ]
  },
  {
   "cell_type": "code",
   "execution_count": null,
   "metadata": {},
   "outputs": [],
   "source": [
    "learner = GuidedLearner(df_train, df_test, df_pool, df_individual, dataset, 1)\n",
    "tfid, x_train, x_test, x_pool, y_train, y_test, y_pool = learner.tfid_fit()"
   ]
  },
  {
   "cell_type": "code",
   "execution_count": null,
   "metadata": {},
   "outputs": [],
   "source": [
    "model, explainer = learner.grid_search_fit_svc(c=[0.8, 1])"
   ]
  },
  {
   "cell_type": "markdown",
   "metadata": {},
   "source": [
    "#### Perform shap clustering\n",
    "We are going to cluster the training data using SHAP explanations (shapely space)\n",
    "SHAP clustering works by clustering on Shapley values of each instance. \n",
    "This means that you cluster instances by explanation similarity."
   ]
  },
  {
   "cell_type": "code",
   "execution_count": null,
   "metadata": {},
   "outputs": [],
   "source": [
    "df_final_labels, uncertainty, _ = learner.cluster_data_pool(pca=True,\n",
    "                                                            pca_components=100,\n",
    "                                                            cluster_sizes=[30],\n",
    "                                                            cluster_space='shap')"
   ]
  },
  {
   "cell_type": "markdown",
   "metadata": {},
   "source": [
    "Convert predict probability to uncertainty. In binary classification this would be the same as 1-P"
   ]
  },
  {
   "cell_type": "code",
   "execution_count": 10,
   "metadata": {},
   "outputs": [
    {
     "data": {
      "text/html": [
       "<div>\n",
       "<style scoped>\n",
       "    .dataframe tbody tr th:only-of-type {\n",
       "        vertical-align: middle;\n",
       "    }\n",
       "\n",
       "    .dataframe tbody tr th {\n",
       "        vertical-align: top;\n",
       "    }\n",
       "\n",
       "    .dataframe thead th {\n",
       "        text-align: right;\n",
       "    }\n",
       "</style>\n",
       "<table border=\"1\" class=\"dataframe\">\n",
       "  <thead>\n",
       "    <tr style=\"text-align: right;\">\n",
       "      <th></th>\n",
       "      <th>text</th>\n",
       "      <th>cluster_id</th>\n",
       "      <th>truth</th>\n",
       "      <th>index1</th>\n",
       "      <th>shaps</th>\n",
       "      <th>keywords</th>\n",
       "    </tr>\n",
       "  </thead>\n",
       "  <tbody>\n",
       "    <tr>\n",
       "      <th>0</th>\n",
       "      <td>I case you havent noticed fucking nothing works under Dim  control  What is it about the word  illegal  Dim s do not understand  Why do we write laws that are not enforced  Vote Trump</td>\n",
       "      <td>0</td>\n",
       "      <td>1.0</td>\n",
       "      <td>0</td>\n",
       "      <td>[0.025561934042302725, 0.0015624788909411407, 0.04244238985511344, 0.0001428591877955147, 0.00018410706218377446, 0.801618270771222, -0.002131295082275247, -6.889983863246423e-05, 0.0008098406356199507, 0.025561934042302725, 0.0, 0.025561934042302725, -0.013855284720528589, 0.002414084598361779, -0.005153863822996208, 0.025561934042302725, -0.0005331489674924961, -0.0021509539088462684, 0.025561934042302725, 0.025561934042302725, 7.321631826287681e-05, -0.0007392405015900389, 0.0, 0.025561934042302725, 7.321631826287681e-05, -0.016930433902921354, 0.0, -0.0011136766818381713, 0.05321729564323777, 0.046322425899248974, -0.0007392405015900389, 0.0, 0.025561934042302725, 0.025561934042302725]</td>\n",
       "      <td>fucking</td>\n",
       "    </tr>\n",
       "    <tr>\n",
       "      <th>1</th>\n",
       "      <td>Democrats sure cant fix anything and they fucking sure can keep information secure but they sure can empty a liquor store and burn it to the ground completely easy enough</td>\n",
       "      <td>0</td>\n",
       "      <td>1.0</td>\n",
       "      <td>1</td>\n",
       "      <td>[-0.06674844281816691, -0.006279930276354401, -0.008775676552287759, -0.0003640730763545483, 0.0017365377031160385, -0.0321565360360371, 0.0032049335765002005, -0.20897310484469928, -0.006279930276354401, 0.0014379401382795438, -0.0007465188343871047, -0.0008301015012073359, -0.0002729770118849267, -0.003820680546681712, 0.0032049335765002005, -0.006279930276354401, 0.0014379401382795438, -0.000591825174416432, -0.06674844281816691, -0.0015685591112758555, -0.0010150217977590052, -0.0321565360360371, -0.0010008394480514758, 0.002414084598361779, -0.0009046811817901585, -0.06674844281816691, -0.000931762201866621, -0.000591825174416432, -0.0007243104446593688, 0.00028175068881544846]</td>\n",
       "      <td>fucking</td>\n",
       "    </tr>\n",
       "    <tr>\n",
       "      <th>2</th>\n",
       "      <td>BLM is a terrorist organization funded by the left  As a prominent fucking member of the left Alan  you should know this  So call all your Jewish friends like Soros and tell them to stop sending the checks  Good luck with that</td>\n",
       "      <td>0</td>\n",
       "      <td>1.0</td>\n",
       "      <td>2</td>\n",
       "      <td>[-0.06674844281816691, -0.013855284720528589, -0.06674844281816691, 0.0, 0.0, -0.0, -0.005396891603861549, -0.06674844281816691, -0.0005000791276146221, -0.06674844281816691, -0.06674844281816691, 0.0, -0.20897310484469928, 0.0, -0.01238680917820576, -0.06674844281816691, -0.0005000791276146221, -0.06674844281816691, 0.04244238985511344, 0.0023131471211720236, -0.002235814157358202, -0.015847205636599474, -0.06674844281816691, -0.0, -0.0015623002595957947, 0.017325383709436402, -0.06674844281816691, 0.0, 0.002744542544562691, -0.06674844281816691, -0.0321565360360371, 0.0, -0.005996197785446594, -0.0009046811817901585, -0.001702026378475969, 0.0, -0.06674844281816691, 0.0, -0.06674844281816691, 0.0, -0.005697247230425401, -0.013257151220139277]</td>\n",
       "      <td>fucking</td>\n",
       "    </tr>\n",
       "    <tr>\n",
       "      <th>3</th>\n",
       "      <td>DemocRats love illegals   fucking    why you may ask    because they can round them up and have them vote in elections  Only Grubers believe there is no voter fraud  yes the dead do vote in Chicago</td>\n",
       "      <td>0</td>\n",
       "      <td>1.0</td>\n",
       "      <td>3</td>\n",
       "      <td>[-0.06674844281816691, 0.0, -0.001878374217087795, -0.20897310484469928, 0.0008870276662114992, 0.04244238985511344, 0.0, 0.0, -0.007779041189880864, 0.0032049335765002005, 0.0014379401382795438, 0.0, -0.005996197785446594, -0.000559273420749531, 0.0743833278709958, 0.013893313267151743, -0.005996197785446594, -0.0036862372669794943, -0.016271174384082588, -2.069240178752307e-05, -0.06674844281816691, -0.06674844281816691, -0.0, 0.0029675404063010994, -0.013855284720528589, -0.015432847247681814, 0.0, -0.00018595537433312566, 0.0, -0.06674844281816691, -0.0, 7.321631826287681e-05, -0.0036862372669794943, -0.016271174384082588, -0.06674844281816691]</td>\n",
       "      <td>fucking</td>\n",
       "    </tr>\n",
       "    <tr>\n",
       "      <th>4</th>\n",
       "      <td>How embarrassing for the fucking Navy     and America  Liberals have gleefully embraced every known perversion and deviance and are angry that sane people refuse to accept their sickness as  normal   Liberals   the very worst among us  Liberalism   America s greatest enemy</td>\n",
       "      <td>0</td>\n",
       "      <td>1.0</td>\n",
       "      <td>4</td>\n",
       "      <td>[0.0472217680777639, 0.0472217680777639, -0.00010743265438073048, 0.0472217680777639, 1.0387448237978185, 0.0472217680777639, 0.06480516979986485, 0.0472217680777639, 0.0472217680777639, 0.013893313267151743, 0.0472217680777639, 0.0472217680777639, -0.0009021502264030002, -0.0, 0.0, 0.06480516979986485, 0.0, 0.06480516979986485, -0.009270359531529541, 0.0, -0.013257151220139277, 0.00011618389254283056, 0.018191462745139123, 0.0, -0.0009046811817901585, 0.0472217680777639, -0.0021799650253116645, 8.744966998804925e-05, 0.0003301274601577872, 0.0, 0.0472217680777639, 0.0472217680777639, -0.0003855994186331382, 0.0001737079246389112, -0.00022375330765714212, -0.0005770463149805672, 0.0472217680777639, 0.0472217680777639, 0.0472217680777639, 1.9300880515434584e-05, 0.0]</td>\n",
       "      <td>fucking</td>\n",
       "    </tr>\n",
       "  </tbody>\n",
       "</table>\n",
       "</div>"
      ],
      "text/plain": [
       "                                                                                                                                                                                                                                                                                 text  cluster_id  truth  index1                                                                                                                                                                                                                                                                                                                                                                                                                                                                                                                                                                                                                                                                                                                                                                                                     shaps keywords\n",
       "0                                                                                            I case you havent noticed fucking nothing works under Dim  control  What is it about the word  illegal  Dim s do not understand  Why do we write laws that are not enforced  Vote Trump            0    1.0       0                                                                                [0.025561934042302725, 0.0015624788909411407, 0.04244238985511344, 0.0001428591877955147, 0.00018410706218377446, 0.801618270771222, -0.002131295082275247, -6.889983863246423e-05, 0.0008098406356199507, 0.025561934042302725, 0.0, 0.025561934042302725, -0.013855284720528589, 0.002414084598361779, -0.005153863822996208, 0.025561934042302725, -0.0005331489674924961, -0.0021509539088462684, 0.025561934042302725, 0.025561934042302725, 7.321631826287681e-05, -0.0007392405015900389, 0.0, 0.025561934042302725, 7.321631826287681e-05, -0.016930433902921354, 0.0, -0.0011136766818381713, 0.05321729564323777, 0.046322425899248974, -0.0007392405015900389, 0.0, 0.025561934042302725, 0.025561934042302725]  fucking\n",
       "1                                                                                                         Democrats sure cant fix anything and they fucking sure can keep information secure but they sure can empty a liquor store and burn it to the ground completely easy enough            0    1.0       1                                                                                       [-0.06674844281816691, -0.006279930276354401, -0.008775676552287759, -0.0003640730763545483, 0.0017365377031160385, -0.0321565360360371, 0.0032049335765002005, -0.20897310484469928, -0.006279930276354401, 0.0014379401382795438, -0.0007465188343871047, -0.0008301015012073359, -0.0002729770118849267, -0.003820680546681712, 0.0032049335765002005, -0.006279930276354401, 0.0014379401382795438, -0.000591825174416432, -0.06674844281816691, -0.0015685591112758555, -0.0010150217977590052, -0.0321565360360371, -0.0010008394480514758, 0.002414084598361779, -0.0009046811817901585, -0.06674844281816691, -0.000931762201866621, -0.000591825174416432, -0.0007243104446593688, 0.00028175068881544846]  fucking\n",
       "2                                                 BLM is a terrorist organization funded by the left  As a prominent fucking member of the left Alan  you should know this  So call all your Jewish friends like Soros and tell them to stop sending the checks  Good luck with that            0    1.0       2                        [-0.06674844281816691, -0.013855284720528589, -0.06674844281816691, 0.0, 0.0, -0.0, -0.005396891603861549, -0.06674844281816691, -0.0005000791276146221, -0.06674844281816691, -0.06674844281816691, 0.0, -0.20897310484469928, 0.0, -0.01238680917820576, -0.06674844281816691, -0.0005000791276146221, -0.06674844281816691, 0.04244238985511344, 0.0023131471211720236, -0.002235814157358202, -0.015847205636599474, -0.06674844281816691, -0.0, -0.0015623002595957947, 0.017325383709436402, -0.06674844281816691, 0.0, 0.002744542544562691, -0.06674844281816691, -0.0321565360360371, 0.0, -0.005996197785446594, -0.0009046811817901585, -0.001702026378475969, 0.0, -0.06674844281816691, 0.0, -0.06674844281816691, 0.0, -0.005697247230425401, -0.013257151220139277]  fucking\n",
       "3                                                                             DemocRats love illegals   fucking    why you may ask    because they can round them up and have them vote in elections  Only Grubers believe there is no voter fraud  yes the dead do vote in Chicago             0    1.0       3                                                                                                                          [-0.06674844281816691, 0.0, -0.001878374217087795, -0.20897310484469928, 0.0008870276662114992, 0.04244238985511344, 0.0, 0.0, -0.007779041189880864, 0.0032049335765002005, 0.0014379401382795438, 0.0, -0.005996197785446594, -0.000559273420749531, 0.0743833278709958, 0.013893313267151743, -0.005996197785446594, -0.0036862372669794943, -0.016271174384082588, -2.069240178752307e-05, -0.06674844281816691, -0.06674844281816691, -0.0, 0.0029675404063010994, -0.013855284720528589, -0.015432847247681814, 0.0, -0.00018595537433312566, 0.0, -0.06674844281816691, -0.0, 7.321631826287681e-05, -0.0036862372669794943, -0.016271174384082588, -0.06674844281816691]  fucking\n",
       "4  How embarrassing for the fucking Navy     and America  Liberals have gleefully embraced every known perversion and deviance and are angry that sane people refuse to accept their sickness as  normal   Liberals   the very worst among us  Liberalism   America s greatest enemy            0    1.0       4  [0.0472217680777639, 0.0472217680777639, -0.00010743265438073048, 0.0472217680777639, 1.0387448237978185, 0.0472217680777639, 0.06480516979986485, 0.0472217680777639, 0.0472217680777639, 0.013893313267151743, 0.0472217680777639, 0.0472217680777639, -0.0009021502264030002, -0.0, 0.0, 0.06480516979986485, 0.0, 0.06480516979986485, -0.009270359531529541, 0.0, -0.013257151220139277, 0.00011618389254283056, 0.018191462745139123, 0.0, -0.0009046811817901585, 0.0472217680777639, -0.0021799650253116645, 8.744966998804925e-05, 0.0003301274601577872, 0.0, 0.0472217680777639, 0.0472217680777639, -0.0003855994186331382, 0.0001737079246389112, -0.00022375330765714212, -0.0005770463149805672, 0.0472217680777639, 0.0472217680777639, 0.0472217680777639, 1.9300880515434584e-05, 0.0]  fucking"
      ]
     },
     "execution_count": 10,
     "metadata": {},
     "output_type": "execute_result"
    }
   ],
   "source": [
    "df_final_labels.head()"
   ]
  },
  {
   "cell_type": "code",
   "execution_count": 10,
   "metadata": {},
   "outputs": [],
   "source": [
    "learner.save_to_db(df_final_labels)"
   ]
  },
  {
   "cell_type": "code",
   "execution_count": 11,
   "metadata": {},
   "outputs": [
    {
     "data": {
      "image/png": "[encoded data removed]",
      "text/plain": [
       "<Figure size 432x288 with 1 Axes>"
      ]
     },
     "metadata": {
      "needs_background": "light"
     },
     "output_type": "display_data"
    }
   ],
   "source": [
    "plt.hist(uncertainty)\n",
    "plt.show()"
   ]
  },
  {
   "cell_type": "markdown",
   "metadata": {},
   "source": [
    "#### Additional explanations\n",
    "\n",
    "With saving to database, all your steps for the guided annotations are complete.\n",
    "In this section, we show you how to look at explanations of a single instance"
   ]
  },
  {
   "cell_type": "code",
   "execution_count": 12,
   "metadata": {},
   "outputs": [],
   "source": [
    "predictions = model.predict(x_pool)"
   ]
  },
  {
   "cell_type": "code",
   "execution_count": 13,
   "metadata": {},
   "outputs": [],
   "source": [
    "shap_values_train = explainer.shap_values(x_train)\n",
    "shap_values_pool = explainer.shap_values(x_pool)"
   ]
  },
  {
   "cell_type": "code",
   "execution_count": 14,
   "metadata": {},
   "outputs": [
    {
     "data": {
      "text/plain": [
       "(151, 2855)"
      ]
     },
     "execution_count": 14,
     "metadata": {},
     "output_type": "execute_result"
    }
   ],
   "source": [
    "shap_values_pool.shape"
   ]
  },
  {
   "cell_type": "code",
   "execution_count": 15,
   "metadata": {},
   "outputs": [
    {
     "data": {
      "text/html": [
       "<div>\n",
       "<style scoped>\n",
       "    .dataframe tbody tr th:only-of-type {\n",
       "        vertical-align: middle;\n",
       "    }\n",
       "\n",
       "    .dataframe tbody tr th {\n",
       "        vertical-align: top;\n",
       "    }\n",
       "\n",
       "    .dataframe thead th {\n",
       "        text-align: right;\n",
       "    }\n",
       "</style>\n",
       "<table border=\"1\" class=\"dataframe\">\n",
       "  <thead>\n",
       "    <tr style=\"text-align: right;\">\n",
       "      <th></th>\n",
       "      <th>index</th>\n",
       "      <th>label</th>\n",
       "      <th>text</th>\n",
       "      <th>processed</th>\n",
       "    </tr>\n",
       "  </thead>\n",
       "  <tbody>\n",
       "    <tr>\n",
       "      <th>681</th>\n",
       "      <td>1417.0</td>\n",
       "      <td>0.0</td>\n",
       "      <td>There you go thinking again  Please  leave it to people equipped and qualified to do it correctly</td>\n",
       "      <td>There you go thinking again  Please  leave it to people equipped and qualified to do it correctly</td>\n",
       "    </tr>\n",
       "    <tr>\n",
       "      <th>1065</th>\n",
       "      <td>1252.0</td>\n",
       "      <td>1.0</td>\n",
       "      <td>Unfortunately being too fat from eating like fucking a pig is considered a disability especially in the black community  I have never seen a skinny person using an EBT card  Not saying skinny ones dont exist I just have never seen one</td>\n",
       "      <td>Unfortunately being too fat from eating like fucking a pig is considered a disability especially in the black community  I have never seen a skinny person using an EBT card  Not saying skinny ones dont exist I just have never seen one</td>\n",
       "    </tr>\n",
       "    <tr>\n",
       "      <th>265</th>\n",
       "      <td>861.0</td>\n",
       "      <td>0.0</td>\n",
       "      <td>Lots of laughs</td>\n",
       "      <td>Lots of laughs</td>\n",
       "    </tr>\n",
       "    <tr>\n",
       "      <th>572</th>\n",
       "      <td>1271.0</td>\n",
       "      <td>0.0</td>\n",
       "      <td>I get the impression that the German people really didnt have much of a say in it  Just another of example of Merkel Obama progressivness</td>\n",
       "      <td>I get the impression that the German people really didnt have much of a say in it  Just another of example of Merkel Obama progressivness</td>\n",
       "    </tr>\n",
       "    <tr>\n",
       "      <th>728</th>\n",
       "      <td>79.0</td>\n",
       "      <td>1.0</td>\n",
       "      <td>The socialists want to increase income diversity  political fucking speak for steal from whites and give to non whites  I have a better idea  All whites boycott the schools who feel they have to discriminate against whites  See how long all minority schools stay in business</td>\n",
       "      <td>The socialists want to increase income diversity  political fucking speak for steal from whites and give to non whites  I have a better idea  All whites boycott the schools who feel they have to discriminate against whites  See how long all minority schools stay in business</td>\n",
       "    </tr>\n",
       "  </tbody>\n",
       "</table>\n",
       "</div>"
      ],
      "text/plain": [
       "       index  label                                                                                                                                                                                                                                                                                  text                                                                                                                                                                                                                                                                             processed\n",
       "681   1417.0    0.0                                                                                                                                                                                    There you go thinking again  Please  leave it to people equipped and qualified to do it correctly                                                                                                                                                                                     There you go thinking again  Please  leave it to people equipped and qualified to do it correctly \n",
       "1065  1252.0    1.0                                           Unfortunately being too fat from eating like fucking a pig is considered a disability especially in the black community  I have never seen a skinny person using an EBT card  Not saying skinny ones dont exist I just have never seen one                                            Unfortunately being too fat from eating like fucking a pig is considered a disability especially in the black community  I have never seen a skinny person using an EBT card  Not saying skinny ones dont exist I just have never seen one \n",
       "265    861.0    0.0                                                                                                                                                                                                                                                                        Lots of laughs                                                                                                                                                                                                                                                                        Lots of laughs\n",
       "572   1271.0    0.0                                                                                                                                            I get the impression that the German people really didnt have much of a say in it  Just another of example of Merkel Obama progressivness                                                                                                                                             I get the impression that the German people really didnt have much of a say in it  Just another of example of Merkel Obama progressivness \n",
       "728     79.0    1.0  The socialists want to increase income diversity  political fucking speak for steal from whites and give to non whites  I have a better idea  All whites boycott the schools who feel they have to discriminate against whites  See how long all minority schools stay in business    The socialists want to increase income diversity  political fucking speak for steal from whites and give to non whites  I have a better idea  All whites boycott the schools who feel they have to discriminate against whites  See how long all minority schools stay in business  "
      ]
     },
     "execution_count": 15,
     "metadata": {},
     "output_type": "execute_result"
    }
   ],
   "source": [
    "df_test.head()"
   ]
  },
  {
   "cell_type": "markdown",
   "metadata": {},
   "source": [
    "Explain a single positive prediction at 'index'"
   ]
  },
  {
   "cell_type": "code",
   "execution_count": 16,
   "metadata": {},
   "outputs": [
    {
     "name": "stdout",
     "output_type": "stream",
     "text": [
      "text  Unfortunately being too fat from eating like fucking a pig is considered a disability especially in the black community  I have never seen a skinny person using an EBT card  Not saying skinny ones dont exist I just have never seen one   prediction:  1.0 actual  1.0\n"
     ]
    },
    {
     "data": {
      "image/png": "[encoded data removed]",
      "text/plain": [
       "<Figure size 1440x216 with 1 Axes>"
      ]
     },
     "metadata": {
      "needs_background": "light"
     },
     "output_type": "display_data"
    }
   ],
   "source": [
    "postive_index = 0\n",
    "index = np.where(predictions==1)[0][postive_index]\n",
    "print(\"text \", df_test[\"text\"].values[index], \" prediction: \", predictions[index], \"actual \", y_test[index])\n",
    "shap.force_plot(explainer.expected_value, \n",
    "                               shap_values_pool[index,:], \n",
    "                               x_test[index,:], feature_names = tfid.get_feature_names(),\n",
    "               matplotlib=True)"
   ]
  },
  {
   "cell_type": "code",
   "execution_count": 23,
   "metadata": {},
   "outputs": [
    {
     "data": {
      "text/html": [
       "<div>\n",
       "<style scoped>\n",
       "    .dataframe tbody tr th:only-of-type {\n",
       "        vertical-align: middle;\n",
       "    }\n",
       "\n",
       "    .dataframe tbody tr th {\n",
       "        vertical-align: top;\n",
       "    }\n",
       "\n",
       "    .dataframe thead th {\n",
       "        text-align: right;\n",
       "    }\n",
       "</style>\n",
       "<table border=\"1\" class=\"dataframe\">\n",
       "  <thead>\n",
       "    <tr style=\"text-align: right;\">\n",
       "      <th></th>\n",
       "      <th>text</th>\n",
       "      <th>cluster_id</th>\n",
       "      <th>positive</th>\n",
       "      <th>negative</th>\n",
       "      <th>keywords</th>\n",
       "      <th>truth</th>\n",
       "      <th>round</th>\n",
       "    </tr>\n",
       "  </thead>\n",
       "  <tbody>\n",
       "    <tr>\n",
       "      <th>0</th>\n",
       "      <td>doesnt work  i cant even fucking count the number of times i ve heard people say they dont care if they get fucking pregnant again or have another kid  thats just a pay raise to them</td>\n",
       "      <td>0</td>\n",
       "      <td>fucking</td>\n",
       "      <td>another</td>\n",
       "      <td>fucking</td>\n",
       "      <td>1.0</td>\n",
       "      <td>1</td>\n",
       "    </tr>\n",
       "    <tr>\n",
       "      <th>1</th>\n",
       "      <td>Methuen Feminism is fucking cancer</td>\n",
       "      <td>0</td>\n",
       "      <td>fucking</td>\n",
       "      <td>the</td>\n",
       "      <td>fucking</td>\n",
       "      <td>1.0</td>\n",
       "      <td>1</td>\n",
       "    </tr>\n",
       "    <tr>\n",
       "      <th>2</th>\n",
       "      <td>Water buffalo  LOL  fucking Perfect</td>\n",
       "      <td>0</td>\n",
       "      <td>fucking</td>\n",
       "      <td>lol</td>\n",
       "      <td>fucking</td>\n",
       "      <td>1.0</td>\n",
       "      <td>1</td>\n",
       "    </tr>\n",
       "    <tr>\n",
       "      <th>3</th>\n",
       "      <td>Spoken like a true fucking Wookie</td>\n",
       "      <td>0</td>\n",
       "      <td>fucking</td>\n",
       "      <td>like</td>\n",
       "      <td>fucking</td>\n",
       "      <td>1.0</td>\n",
       "      <td>1</td>\n",
       "    </tr>\n",
       "    <tr>\n",
       "      <th>4</th>\n",
       "      <td>Just mowing down future terrorist   Keep it up  fucking Israel</td>\n",
       "      <td>0</td>\n",
       "      <td>fucking</td>\n",
       "      <td>israel</td>\n",
       "      <td>fucking</td>\n",
       "      <td>1.0</td>\n",
       "      <td>1</td>\n",
       "    </tr>\n",
       "  </tbody>\n",
       "</table>\n",
       "</div>"
      ],
      "text/plain": [
       "                                                                                                                                                                                      text  cluster_id positive negative keywords  truth  round\n",
       "0  doesnt work  i cant even fucking count the number of times i ve heard people say they dont care if they get fucking pregnant again or have another kid  thats just a pay raise to them            0  fucking  another  fucking    1.0      1\n",
       "1                                                                                                                                                       Methuen Feminism is fucking cancer           0  fucking      the  fucking    1.0      1\n",
       "2                                                                                                                                                     Water buffalo  LOL  fucking Perfect            0  fucking      lol  fucking    1.0      1\n",
       "3                                                                                                                                                       Spoken like a true fucking Wookie            0  fucking     like  fucking    1.0      1\n",
       "4                                                                                                                         Just mowing down future terrorist   Keep it up  fucking Israel             0  fucking   israel  fucking    1.0      1"
      ]
     },
     "execution_count": 23,
     "metadata": {},
     "output_type": "execute_result"
    }
   ],
   "source": [
    "df_final_labels.head()"
   ]
  },
  {
   "cell_type": "code",
   "execution_count": 26,
   "metadata": {},
   "outputs": [],
   "source": [
    "learner.save_to_db(df_final_labels)"
   ]
  },
  {
   "cell_type": "code",
   "execution_count": null,
   "metadata": {},
   "outputs": [],
   "source": []
  }
 ],
 "metadata": {
  "kernelspec": {
   "display_name": "Python 3",
   "language": "python",
   "name": "python3"
  },
  "language_info": {
   "codemirror_mode": {
    "name": "ipython",
    "version": 3
   },
   "file_extension": ".py",
   "mimetype": "text/x-python",
   "name": "python",
   "nbconvert_exporter": "python",
   "pygments_lexer": "ipython3",
   "version": "3.7.10"
  }
 },
 "nbformat": 4,
 "nbformat_minor": 2
}

{
 "cells": [
  {
   "cell_type": "markdown",
   "metadata": {},
   "source": [
    "#### Imports"
   ]
  },
  {
   "cell_type": "code",
   "execution_count": 1,
   "metadata": {},
   "outputs": [
    {
     "name": "stdout",
     "output_type": "stream",
     "text": [
      "Collecting shap\n",
      "  Using cached shap-0.39.0-cp37-cp37m-win_amd64.whl (414 kB)\n",
      "Collecting scikit-learn\n",
      "  Using cached scikit_learn-0.24.2-cp37-cp37m-win_amd64.whl (6.8 MB)\n",
      "Collecting pandas\n",
      "  Using cached pandas-1.2.4-cp37-cp37m-win_amd64.whl (9.1 MB)\n",
      "Collecting numpy\n",
      "  Using cached numpy-1.20.3-cp37-cp37m-win_amd64.whl (13.6 MB)\n",
      "Collecting tqdm>4.25.0\n",
      "  Using cached tqdm-4.61.0-py2.py3-none-any.whl (75 kB)\n",
      "Collecting cloudpickle\n",
      "  Using cached cloudpickle-1.6.0-py3-none-any.whl (23 kB)\n",
      "Collecting slicer==0.0.7\n",
      "  Using cached slicer-0.0.7-py3-none-any.whl (14 kB)\n",
      "Collecting numba\n",
      "  Using cached numba-0.53.1-cp37-cp37m-win_amd64.whl (2.3 MB)\n",
      "Collecting scipy\n",
      "  Using cached scipy-1.6.3-cp37-cp37m-win_amd64.whl (32.6 MB)\n",
      "Collecting threadpoolctl>=2.0.0\n",
      "  Using cached threadpoolctl-2.1.0-py3-none-any.whl (12 kB)\n",
      "Collecting joblib>=0.11\n",
      "  Using cached joblib-1.0.1-py3-none-any.whl (303 kB)\n",
      "Collecting python-dateutil>=2.7.3\n",
      "  Using cached python_dateutil-2.8.1-py2.py3-none-any.whl (227 kB)\n",
      "Collecting pytz>=2017.3\n",
      "  Using cached pytz-2021.1-py2.py3-none-any.whl (510 kB)\n",
      "Collecting llvmlite<0.37,>=0.36.0rc1\n",
      "  Using cached llvmlite-0.36.0-cp37-cp37m-win_amd64.whl (16.0 MB)\n",
      "Collecting setuptools\n",
      "  Downloading setuptools-57.0.0-py3-none-any.whl (821 kB)\n",
      "Collecting six>=1.5\n",
      "  Using cached six-1.16.0-py2.py3-none-any.whl (11 kB)\n",
      "Installing collected packages: numpy, scipy, threadpoolctl, joblib, scikit-learn, six, python-dateutil, pytz, pandas, tqdm, cloudpickle, slicer, llvmlite, setuptools, numba, shap\n",
      "  Attempting uninstall: numpy\n",
      "    Found existing installation: numpy 1.19.5\n",
      "    Uninstalling numpy-1.19.5:\n",
      "      Successfully uninstalled numpy-1.19.5\n",
      "  Attempting uninstall: scipy\n",
      "    Found existing installation: scipy 1.4.1\n",
      "    Uninstalling scipy-1.4.1:\n",
      "      Successfully uninstalled scipy-1.4.1\n",
      "  Attempting uninstall: joblib\n",
      "    Found existing installation: joblib 0.14.1\n",
      "    Uninstalling joblib-0.14.1:\n",
      "      Successfully uninstalled joblib-0.14.1\n",
      "  Attempting uninstall: scikit-learn\n",
      "    Found existing installation: scikit-learn 0.22.1"
     ]
    },
    {
     "name": "stderr",
     "output_type": "stream",
     "text": [
      "WARNING: pip is being invoked by an old script wrapper. This will fail in a future version of pip.\n",
      "Please see https://github.com/pypa/pip/issues/5599 for advice on fixing the underlying issue.\n",
      "To avoid this problem you can invoke Python with '-m pip' instead of running pip directly.\n",
      "ERROR: tensorflow 2.3.0 has requirement gast==0.3.3, but you'll have gast 0.2.2 which is incompatible.\n",
      "ERROR: tensorflow 2.3.0 has requirement h5py<2.11.0,>=2.10.0, but you'll have h5py 3.1.0 which is incompatible.\n",
      "ERROR: tensorflow 2.3.0 has requirement numpy<1.19.0,>=1.16.0, but you'll have numpy 1.20.3 which is incompatible.\n",
      "ERROR: tensorflow 2.3.0 has requirement scipy==1.4.1, but you'll have scipy 1.6.3 which is incompatible.\n",
      "ERROR: tensorflow 2.3.0 has requirement tensorboard<3,>=2.3.0, but you'll have tensorboard 1.15.0 which is incompatible.\n",
      "ERROR: tensorflow 2.3.0 has requirement tensorflow-estimator<2.4.0,>=2.3.0, but you'll have tensorflow-estimator 1.15.1 which is incompatible.\n"
     ]
    },
    {
     "name": "stdout",
     "output_type": "stream",
     "text": [
      "\n",
      "    Uninstalling scikit-learn-0.22.1:\n",
      "      Successfully uninstalled scikit-learn-0.22.1\n",
      "  Attempting uninstall: six\n",
      "    Found existing installation: six 1.15.0\n",
      "    Uninstalling six-1.15.0:\n",
      "      Successfully uninstalled six-1.15.0\n",
      "  Attempting uninstall: python-dateutil\n",
      "    Found existing installation: python-dateutil 2.8.1\n",
      "    Uninstalling python-dateutil-2.8.1:\n",
      "      Successfully uninstalled python-dateutil-2.8.1\n",
      "  Attempting uninstall: pytz\n",
      "    Found existing installation: pytz 2019.3\n",
      "    Uninstalling pytz-2019.3:\n",
      "      Successfully uninstalled pytz-2019.3\n",
      "  Attempting uninstall: pandas\n",
      "    Found existing installation: pandas 0.25.3\n",
      "    Uninstalling pandas-0.25.3:\n",
      "      Successfully uninstalled pandas-0.25.3\n",
      "  Attempting uninstall: tqdm\n",
      "    Found existing installation: tqdm 4.42.1\n",
      "    Uninstalling tqdm-4.42.1:\n",
      "      Successfully uninstalled tqdm-4.42.1\n",
      "  Attempting uninstall: cloudpickle\n",
      "    Found existing installation: cloudpickle 1.6.0\n",
      "    Uninstalling cloudpickle-1.6.0:\n",
      "      Successfully uninstalled cloudpickle-1.6.0\n",
      "  Attempting uninstall: slicer\n",
      "    Found existing installation: slicer 0.0.7\n",
      "    Uninstalling slicer-0.0.7:\n",
      "      Successfully uninstalled slicer-0.0.7\n",
      "  Attempting uninstall: llvmlite\n",
      "    Found existing installation: llvmlite 0.36.0\n",
      "    Uninstalling llvmlite-0.36.0:\n",
      "      Successfully uninstalled llvmlite-0.36.0\n",
      "  Attempting uninstall: setuptools\n",
      "    Found existing installation: setuptools 53.0.0\n",
      "    Uninstalling setuptools-53.0.0:\n",
      "      Successfully uninstalled setuptools-53.0.0\n",
      "  Attempting uninstall: numba\n",
      "    Found existing installation: numba 0.53.1\n",
      "    Uninstalling numba-0.53.1:\n",
      "      Successfully uninstalled numba-0.53.1\n",
      "  Attempting uninstall: shap\n",
      "    Found existing installation: shap 0.39.0\n",
      "    Uninstalling shap-0.39.0:\n",
      "      Successfully uninstalled shap-0.39.0\n",
      "Successfully installed cloudpickle-1.6.0 joblib-1.0.1 llvmlite-0.36.0 numba-0.53.1 numpy-1.20.3 pandas-1.2.4 python-dateutil-2.8.1 pytz-2021.1 scikit-learn-0.24.2 scipy-1.6.3 setuptools-57.0.0 shap-0.39.0 six-1.16.0 slicer-0.0.7 threadpoolctl-2.1.0 tqdm-4.61.0\n"
     ]
    }
   ],
   "source": [
    "!pip install --upgrade --force-reinstall shap"
   ]
  },
  {
   "cell_type": "code",
   "execution_count": 2,
   "metadata": {},
   "outputs": [],
   "source": [
    "import pandas as pd\n",
    "import numpy as np\n",
    "from scipy.spatial.distance import euclidean, cosine\n",
    "\n",
    "import nltk\n",
    "from nltk.corpus import stopwords\n",
    "\n",
    "from sklearn.feature_extraction.text import TfidfVectorizer\n",
    "from sklearn.linear_model import LogisticRegression\n",
    "from sklearn.svm import SVC\n",
    "from sklearn.cluster import KMeans\n",
    "from sklearn.decomposition import PCA\n",
    "from sklearn.metrics import f1_score, confusion_matrix, accuracy_score, homogeneity_score, v_measure_score, completeness_score\n",
    "from sklearn.preprocessing import StandardScaler\n",
    "\n",
    "import matplotlib.pyplot as plt\n",
    "import plotly\n",
    "import plotly.graph_objs as go\n",
    "import chart_studio.plotly as py\n",
    "import seaborn as sns\n",
    "import shap\n",
    "\n",
    "pd.set_option('display.max_colwidth', 1000)"
   ]
  },
  {
   "cell_type": "code",
   "execution_count": 7,
   "metadata": {},
   "outputs": [
    {
     "data": {
      "text/plain": [
       "<function shap.plots._text.text(shap_values, num_starting_labels=0, group_threshold=1, separator='', xmin=None, xmax=None, cmax=None)>"
      ]
     },
     "execution_count": 7,
     "metadata": {},
     "output_type": "execute_result"
    }
   ],
   "source": [
    "shap.plots.text"
   ]
  },
  {
   "cell_type": "markdown",
   "metadata": {},
   "source": [
    "#### View dataset"
   ]
  },
  {
   "cell_type": "code",
   "execution_count": 3,
   "metadata": {},
   "outputs": [
    {
     "name": "stdout",
     "output_type": "stream",
     "text": [
      "(1127, 3)\n"
     ]
    },
    {
     "data": {
      "text/html": [
       "<div>\n",
       "<style scoped>\n",
       "    .dataframe tbody tr th:only-of-type {\n",
       "        vertical-align: middle;\n",
       "    }\n",
       "\n",
       "    .dataframe tbody tr th {\n",
       "        vertical-align: top;\n",
       "    }\n",
       "\n",
       "    .dataframe thead th {\n",
       "        text-align: right;\n",
       "    }\n",
       "</style>\n",
       "<table border=\"1\" class=\"dataframe\">\n",
       "  <thead>\n",
       "    <tr style=\"text-align: right;\">\n",
       "      <th></th>\n",
       "      <th>index</th>\n",
       "      <th>label</th>\n",
       "      <th>text</th>\n",
       "    </tr>\n",
       "  </thead>\n",
       "  <tbody>\n",
       "    <tr>\n",
       "      <th>0</th>\n",
       "      <td>481</td>\n",
       "      <td>0</td>\n",
       "      <td>The Supemes have decide discrimination is just fine     as long as it is reversed</td>\n",
       "    </tr>\n",
       "    <tr>\n",
       "      <th>1</th>\n",
       "      <td>482</td>\n",
       "      <td>0</td>\n",
       "      <td>If you dont understand what transgender is  go talk to your family doctor  They cover it in medical school</td>\n",
       "    </tr>\n",
       "    <tr>\n",
       "      <th>2</th>\n",
       "      <td>483</td>\n",
       "      <td>0</td>\n",
       "      <td>im not understanding this kidnapping point  Be real  Other countries took by force their own people and sold them for a coin  Stop attempting to portray this country as being the only one that participated in this evil trade</td>\n",
       "    </tr>\n",
       "    <tr>\n",
       "      <th>3</th>\n",
       "      <td>484</td>\n",
       "      <td>0</td>\n",
       "      <td>Cut off Federal funding and arrest anyone getting in the way for aiding and abetting  obstruction of justice and everything else that might stick</td>\n",
       "    </tr>\n",
       "    <tr>\n",
       "      <th>4</th>\n",
       "      <td>485</td>\n",
       "      <td>0</td>\n",
       "      <td>Question  hasnt any other First Lady taken swipes at their opponent Party s presidential candidates  For goodness sake  this is a College Commencement speech show just a little class Michele  This again reveals her lack of grace and integrity as our nation s First Lady</td>\n",
       "    </tr>\n",
       "    <tr>\n",
       "      <th>5</th>\n",
       "      <td>486</td>\n",
       "      <td>0</td>\n",
       "      <td>Couldn t agree more  Great comment</td>\n",
       "    </tr>\n",
       "    <tr>\n",
       "      <th>6</th>\n",
       "      <td>488</td>\n",
       "      <td>0</td>\n",
       "      <td>There are many people who are mad at the white parents  They shrugged off the sign and decided to go into the water  The water could have had bacteria or amebas or some other danger  The gorilla enclosure was a clear hazard  and as every parent knows kids are quick</td>\n",
       "    </tr>\n",
       "    <tr>\n",
       "      <th>7</th>\n",
       "      <td>489</td>\n",
       "      <td>0</td>\n",
       "      <td>Funny  some people cannot see why Blacks are offended by the confederate flag  It just amazes me  The whole purpose of the confederacy and its constituiton was to allow the continued enslavement of Black people  No state could be apart of the confederacy unless they allowed the practice of slavery  If you do not believe that  then I strongly urge you to read both the US and confederate constitution  The whole purpose of the civil war was to continue the horrible act of slavery in the south  With that  I say now to take the rag down and put it in a museum</td>\n",
       "    </tr>\n",
       "    <tr>\n",
       "      <th>8</th>\n",
       "      <td>490</td>\n",
       "      <td>0</td>\n",
       "      <td>hard to have respect for someone who in a multi   figure a year job in an Chicago hospital    was on the committee that worked on a poor patient dumping scheme</td>\n",
       "    </tr>\n",
       "    <tr>\n",
       "      <th>9</th>\n",
       "      <td>491</td>\n",
       "      <td>0</td>\n",
       "      <td>Why the lies</td>\n",
       "    </tr>\n",
       "  </tbody>\n",
       "</table>\n",
       "</div>"
      ],
      "text/plain": [
       "   index  label  \\\n",
       "0    481      0   \n",
       "1    482      0   \n",
       "2    483      0   \n",
       "3    484      0   \n",
       "4    485      0   \n",
       "5    486      0   \n",
       "6    488      0   \n",
       "7    489      0   \n",
       "8    490      0   \n",
       "9    491      0   \n",
       "\n",
       "                                                                                                                                                                                                                                                                                                                                                                                                                                                                                                                                                                                text  \n",
       "0                                                                                                                                                                                                                                                                                                                                                                                                                                                                                                  The Supemes have decide discrimination is just fine     as long as it is reversed  \n",
       "1                                                                                                                                                                                                                                                                                                                                                                                                                                                                        If you dont understand what transgender is  go talk to your family doctor  They cover it in medical school   \n",
       "2                                                                                                                                                                                                                                                                                                                                                  im not understanding this kidnapping point  Be real  Other countries took by force their own people and sold them for a coin  Stop attempting to portray this country as being the only one that participated in this evil trade   \n",
       "3                                                                                                                                                                                                                                                                                                                                                                                                                                 Cut off Federal funding and arrest anyone getting in the way for aiding and abetting  obstruction of justice and everything else that might stick   \n",
       "4                                                                                                                                                                                                                                                                                                     Question  hasnt any other First Lady taken swipes at their opponent Party s presidential candidates  For goodness sake  this is a College Commencement speech show just a little class Michele  This again reveals her lack of grace and integrity as our nation s First Lady   \n",
       "5                                                                                                                                                                                                                                                                                                                                                                                                                                                                                                                                                Couldn t agree more  Great comment   \n",
       "6                                                                                                                                                                                                                                                                                                         There are many people who are mad at the white parents  They shrugged off the sign and decided to go into the water  The water could have had bacteria or amebas or some other danger  The gorilla enclosure was a clear hazard  and as every parent knows kids are quick   \n",
       "7  Funny  some people cannot see why Blacks are offended by the confederate flag  It just amazes me  The whole purpose of the confederacy and its constituiton was to allow the continued enslavement of Black people  No state could be apart of the confederacy unless they allowed the practice of slavery  If you do not believe that  then I strongly urge you to read both the US and confederate constitution  The whole purpose of the civil war was to continue the horrible act of slavery in the south  With that  I say now to take the rag down and put it in a museum   \n",
       "8                                                                                                                                                                                                                                                                                                                                                                                                                   hard to have respect for someone who in a multi   figure a year job in an Chicago hospital    was on the committee that worked on a poor patient dumping scheme   \n",
       "9                                                                                                                                                                                                                                                                                                                                                                                                                                                                                                                                                                      Why the lies   "
      ]
     },
     "execution_count": 3,
     "metadata": {},
     "output_type": "execute_result"
    }
   ],
   "source": [
    "df = pd.read_csv('../datasets/gao_dataset.csv')\n",
    "print(df.shape)\n",
    "df.head(10)"
   ]
  },
  {
   "cell_type": "code",
   "execution_count": 4,
   "metadata": {},
   "outputs": [
    {
     "data": {
      "text/plain": [
       "<matplotlib.axes._subplots.AxesSubplot at 0x1b8c8a4fc08>"
      ]
     },
     "execution_count": 4,
     "metadata": {},
     "output_type": "execute_result"
    },
    {
     "data": {
      "image/png": "[encoded data removed]",
      "text/plain": [
       "<Figure size 432x288 with 1 Axes>"
      ]
     },
     "metadata": {
      "needs_background": "light"
     },
     "output_type": "display_data"
    }
   ],
   "source": [
    "df[\"label\"].hist()"
   ]
  },
  {
   "cell_type": "code",
   "execution_count": 8,
   "metadata": {},
   "outputs": [],
   "source": [
    "x = df['text'].values\n",
    "y = df['label'].values"
   ]
  },
  {
   "cell_type": "markdown",
   "metadata": {},
   "source": [
    "#### Word representation\n",
    "We are going to use TF*IDF (Term frequency- Inverse document frequency) vectorizer to convert our text into numbers.\n",
    "\n",
    "TF = Frequency of term\n",
    "\n",
    "IDF = No of docs/ No of docs with the term"
   ]
  },
  {
   "cell_type": "code",
   "execution_count": 9,
   "metadata": {},
   "outputs": [
    {
     "data": {
      "text/plain": [
       "(1127, 4813)"
      ]
     },
     "execution_count": 9,
     "metadata": {},
     "output_type": "execute_result"
    }
   ],
   "source": [
    "tfid = TfidfVectorizer(max_features=5000)\n",
    "x = tfid.fit_transform(x).toarray()\n",
    "x.shape"
   ]
  },
  {
   "cell_type": "code",
   "execution_count": 10,
   "metadata": {},
   "outputs": [
    {
     "data": {
      "text/plain": [
       "['abeting',\n",
       " 'abetting',\n",
       " 'abhorrent',\n",
       " 'abiding',\n",
       " 'ability',\n",
       " 'able',\n",
       " 'aboard',\n",
       " 'abolish',\n",
       " 'abort',\n",
       " 'aborted',\n",
       " 'abortion',\n",
       " 'abortions',\n",
       " 'about',\n",
       " 'above',\n",
       " 'abraham',\n",
       " 'abridging',\n",
       " 'abroad',\n",
       " 'absence',\n",
       " 'absolutely',\n",
       " 'abuse',\n",
       " 'abused',\n",
       " 'abuses',\n",
       " 'abusing',\n",
       " 'abusive',\n",
       " 'academic',\n",
       " 'accentuated',\n",
       " 'accept',\n",
       " 'acceptable',\n",
       " 'accepted',\n",
       " 'access',\n",
       " 'accident',\n",
       " 'accidents',\n",
       " 'acclimate',\n",
       " 'accommodating',\n",
       " 'accompanied',\n",
       " 'accomplice',\n",
       " 'accorded',\n",
       " 'according',\n",
       " 'accordingly',\n",
       " 'accountable',\n",
       " 'accuracy',\n",
       " 'accurate',\n",
       " 'accusations',\n",
       " 'achieve',\n",
       " 'achieving',\n",
       " 'acknowledge',\n",
       " 'aclu',\n",
       " 'acronym',\n",
       " 'across',\n",
       " 'act',\n",
       " 'acting',\n",
       " 'action',\n",
       " 'actions',\n",
       " 'active',\n",
       " 'activist',\n",
       " 'activities',\n",
       " 'acts',\n",
       " 'actual',\n",
       " 'actually',\n",
       " 'ad',\n",
       " 'add',\n",
       " 'added',\n",
       " 'address',\n",
       " 'addresses',\n",
       " 'adjusted',\n",
       " 'admin',\n",
       " 'administration',\n",
       " 'admissions',\n",
       " 'admit',\n",
       " 'admitted',\n",
       " 'admitting',\n",
       " 'adolescents',\n",
       " 'adolph',\n",
       " 'adorable',\n",
       " 'adult',\n",
       " 'adults',\n",
       " 'advancing',\n",
       " 'advantage',\n",
       " 'adverse',\n",
       " 'advertisements',\n",
       " 'advice',\n",
       " 'advisable',\n",
       " 'advocates',\n",
       " 'afactor',\n",
       " 'afdi',\n",
       " 'affect',\n",
       " 'affected',\n",
       " 'affiliations',\n",
       " 'affirmative',\n",
       " 'affirmatively',\n",
       " 'affirmitive',\n",
       " 'afford',\n",
       " 'afraid',\n",
       " 'africa',\n",
       " 'african',\n",
       " 'africans',\n",
       " 'afro',\n",
       " 'aft',\n",
       " 'after',\n",
       " 'afterwards',\n",
       " 'ag',\n",
       " 'again',\n",
       " 'against',\n",
       " 'age',\n",
       " 'agencies',\n",
       " 'agency',\n",
       " 'agenda',\n",
       " 'aggressive',\n",
       " 'ago',\n",
       " 'agree',\n",
       " 'agreeing',\n",
       " 'agreement',\n",
       " 'agriculture',\n",
       " 'ah',\n",
       " 'ahead',\n",
       " 'aid',\n",
       " 'aiding',\n",
       " 'aim',\n",
       " 'aintgonna',\n",
       " 'air',\n",
       " 'airplanes',\n",
       " 'aka',\n",
       " 'al',\n",
       " 'alabama',\n",
       " 'alabaster',\n",
       " 'alan',\n",
       " 'alcohol',\n",
       " 'alex',\n",
       " 'algerian',\n",
       " 'alien',\n",
       " 'aliens',\n",
       " 'align',\n",
       " 'alike',\n",
       " 'alinsky',\n",
       " 'alive',\n",
       " 'all',\n",
       " 'allah',\n",
       " 'allegedly',\n",
       " 'alleviated',\n",
       " 'alligator',\n",
       " 'alligators',\n",
       " 'allow',\n",
       " 'allowed',\n",
       " 'allowing',\n",
       " 'allows',\n",
       " 'almost',\n",
       " 'alone',\n",
       " 'along',\n",
       " 'already',\n",
       " 'also',\n",
       " 'alter',\n",
       " 'altered',\n",
       " 'alternative',\n",
       " 'although',\n",
       " 'altogether',\n",
       " 'always',\n",
       " 'am',\n",
       " 'amado',\n",
       " 'amazes',\n",
       " 'amazing',\n",
       " 'ambivalent',\n",
       " 'amebas',\n",
       " 'amen',\n",
       " 'amendment',\n",
       " 'america',\n",
       " 'american',\n",
       " 'americans',\n",
       " 'americas',\n",
       " 'amok',\n",
       " 'among',\n",
       " 'amoral',\n",
       " 'amount',\n",
       " 'amtrak',\n",
       " 'an',\n",
       " 'anarchary',\n",
       " 'anarchy',\n",
       " 'ancestor',\n",
       " 'ancestors',\n",
       " 'ancient',\n",
       " 'and',\n",
       " 'angeles',\n",
       " 'anger',\n",
       " 'angle',\n",
       " 'angry',\n",
       " 'animal',\n",
       " 'animals',\n",
       " 'ankles',\n",
       " 'annoyance',\n",
       " 'anonymity',\n",
       " 'another',\n",
       " 'answer',\n",
       " 'answered',\n",
       " 'answers',\n",
       " 'ante',\n",
       " 'anti',\n",
       " 'any',\n",
       " 'anybody',\n",
       " 'anymore',\n",
       " 'anyone',\n",
       " 'anything',\n",
       " 'anyway',\n",
       " 'ap',\n",
       " 'apart',\n",
       " 'ape',\n",
       " 'apes',\n",
       " 'apologists',\n",
       " 'apologize',\n",
       " 'apologizes',\n",
       " 'apparently',\n",
       " 'appealing',\n",
       " 'appear',\n",
       " 'appears',\n",
       " 'applauds',\n",
       " 'applications',\n",
       " 'applied',\n",
       " 'applies',\n",
       " 'apply',\n",
       " 'appreciate',\n",
       " 'appreciation',\n",
       " 'apprehension',\n",
       " 'appropriate',\n",
       " 'approved',\n",
       " 'approximately',\n",
       " 'april',\n",
       " 'ar',\n",
       " 'arab',\n",
       " 'arabic',\n",
       " 'architect',\n",
       " 'are',\n",
       " 'area',\n",
       " 'areas',\n",
       " 'arent',\n",
       " 'argue',\n",
       " 'argumebt',\n",
       " 'argument',\n",
       " 'arguments',\n",
       " 'arises',\n",
       " 'arizona',\n",
       " 'arkansas',\n",
       " 'armed',\n",
       " 'armies',\n",
       " 'arming',\n",
       " 'arms',\n",
       " 'army',\n",
       " 'around',\n",
       " 'arpaio',\n",
       " 'arrest',\n",
       " 'arrested',\n",
       " 'arrived',\n",
       " 'article',\n",
       " 'articles',\n",
       " 'artificially',\n",
       " 'arts',\n",
       " 'as',\n",
       " 'asault',\n",
       " 'ascertain',\n",
       " 'asian',\n",
       " 'asians',\n",
       " 'aside',\n",
       " 'ask',\n",
       " 'asked',\n",
       " 'asking',\n",
       " 'asks',\n",
       " 'assault',\n",
       " 'assaults',\n",
       " 'assinine',\n",
       " 'assistance',\n",
       " 'associated',\n",
       " 'assorted',\n",
       " 'assume',\n",
       " 'assuming',\n",
       " 'astounding',\n",
       " 'asylum',\n",
       " 'at',\n",
       " 'athiest',\n",
       " 'athletic',\n",
       " 'atlantic',\n",
       " 'atomic',\n",
       " 'atrocities',\n",
       " 'attack',\n",
       " 'attacking',\n",
       " 'attacks',\n",
       " 'attempt',\n",
       " 'attempted',\n",
       " 'attempting',\n",
       " 'attend',\n",
       " 'attended',\n",
       " 'attendees',\n",
       " 'attending',\n",
       " 'attends',\n",
       " 'attention',\n",
       " 'attitude',\n",
       " 'attitudes',\n",
       " 'attorney',\n",
       " 'attributed',\n",
       " 'attrocities',\n",
       " 'audacity',\n",
       " 'audience',\n",
       " 'aunt',\n",
       " 'aureliano',\n",
       " 'author',\n",
       " 'authorities',\n",
       " 'authority',\n",
       " 'auto',\n",
       " 'automatically',\n",
       " 'autonomously',\n",
       " 'auxiliary',\n",
       " 'available',\n",
       " 'ave',\n",
       " 'average',\n",
       " 'avoid',\n",
       " 'award',\n",
       " 'awarded',\n",
       " 'awards',\n",
       " 'awareness',\n",
       " 'away',\n",
       " 'awsome',\n",
       " 'aww',\n",
       " 'azzkicking',\n",
       " 'babies',\n",
       " 'baby',\n",
       " 'babylonians',\n",
       " 'bachelors',\n",
       " 'back',\n",
       " 'backfired',\n",
       " 'background',\n",
       " 'backhoe',\n",
       " 'backing',\n",
       " 'backs',\n",
       " 'bacteria',\n",
       " 'bad',\n",
       " 'badly',\n",
       " 'bail',\n",
       " 'baiting',\n",
       " 'bald',\n",
       " 'baltimore',\n",
       " 'ban',\n",
       " 'banana',\n",
       " 'bandits',\n",
       " 'bangee',\n",
       " 'bank',\n",
       " 'bankrupt',\n",
       " 'banned',\n",
       " 'banner',\n",
       " 'banning',\n",
       " 'bar',\n",
       " 'barack',\n",
       " 'barak',\n",
       " 'barbarians',\n",
       " 'barbaric',\n",
       " 'barbarism',\n",
       " 'bare',\n",
       " 'bargaining',\n",
       " 'barker',\n",
       " 'barok',\n",
       " 'barrack',\n",
       " 'barracks',\n",
       " 'barred',\n",
       " 'barriers',\n",
       " 'barry',\n",
       " 'bars',\n",
       " 'base',\n",
       " 'based',\n",
       " 'baseless',\n",
       " 'basically',\n",
       " 'basilone',\n",
       " 'basis',\n",
       " 'bastion',\n",
       " 'bat',\n",
       " 'bataan',\n",
       " 'bathroom',\n",
       " 'bathrooms',\n",
       " 'batock',\n",
       " 'battle',\n",
       " 'bay',\n",
       " 'bc',\n",
       " 'be',\n",
       " 'beach',\n",
       " 'beacon',\n",
       " 'beans',\n",
       " 'bear',\n",
       " 'bears',\n",
       " 'beast',\n",
       " 'beastity',\n",
       " 'beat',\n",
       " 'beatings',\n",
       " 'beautiful',\n",
       " 'beauty',\n",
       " 'became',\n",
       " 'because',\n",
       " 'become',\n",
       " 'becomes',\n",
       " 'becoming',\n",
       " 'bedrooms',\n",
       " 'beef',\n",
       " 'been',\n",
       " 'befall',\n",
       " 'befell',\n",
       " 'before',\n",
       " 'beg',\n",
       " 'begin',\n",
       " 'beginning',\n",
       " 'begins',\n",
       " 'behave',\n",
       " 'behavior',\n",
       " 'behaviors',\n",
       " 'beheading',\n",
       " 'behind',\n",
       " 'being',\n",
       " 'beings',\n",
       " 'belief',\n",
       " 'beliefs',\n",
       " 'believe',\n",
       " 'believed',\n",
       " 'believes',\n",
       " 'bellingham',\n",
       " 'belly',\n",
       " 'belong',\n",
       " 'belongs',\n",
       " 'below',\n",
       " 'beneath',\n",
       " 'benefit',\n",
       " 'benefiting',\n",
       " 'benefits',\n",
       " 'bequeath',\n",
       " 'bernie',\n",
       " 'beside',\n",
       " 'best',\n",
       " 'bet',\n",
       " 'beter',\n",
       " 'betray',\n",
       " 'better',\n",
       " 'between',\n",
       " 'beyond',\n",
       " 'bias',\n",
       " 'biased',\n",
       " 'bible',\n",
       " 'biden',\n",
       " 'big',\n",
       " 'bigger',\n",
       " 'biggest',\n",
       " 'bike',\n",
       " 'bill',\n",
       " 'billions',\n",
       " 'bills',\n",
       " 'billy',\n",
       " 'biography',\n",
       " 'birth',\n",
       " 'birthday',\n",
       " 'bit',\n",
       " 'bitch',\n",
       " 'bitter',\n",
       " 'bizarre',\n",
       " 'bj',\n",
       " 'black',\n",
       " 'blackasses',\n",
       " 'blacklivesmatter',\n",
       " 'blacks',\n",
       " 'blah',\n",
       " 'blame',\n",
       " 'blamed',\n",
       " 'blankets',\n",
       " 'blast',\n",
       " 'blatant',\n",
       " 'blessed',\n",
       " 'blew',\n",
       " 'blight',\n",
       " 'blm',\n",
       " 'block',\n",
       " 'blocked',\n",
       " 'blocking',\n",
       " 'blood',\n",
       " 'bloodshed',\n",
       " 'bloody',\n",
       " 'blow',\n",
       " 'blowing',\n",
       " 'bludgeoned',\n",
       " 'blue',\n",
       " 'board',\n",
       " 'boarder',\n",
       " 'boarders',\n",
       " 'boarding',\n",
       " 'boat',\n",
       " 'boats',\n",
       " 'bob',\n",
       " 'bodied',\n",
       " 'bodies',\n",
       " 'body',\n",
       " 'boiling',\n",
       " 'bolster',\n",
       " 'bolt',\n",
       " 'bomb',\n",
       " 'bombing',\n",
       " 'bon',\n",
       " 'bone',\n",
       " 'bong',\n",
       " 'book',\n",
       " 'books',\n",
       " 'boot',\n",
       " 'booted',\n",
       " 'booths',\n",
       " 'boots',\n",
       " 'border',\n",
       " 'borders',\n",
       " 'born',\n",
       " 'boston',\n",
       " 'both',\n",
       " 'bother',\n",
       " 'bottom',\n",
       " 'bought',\n",
       " 'boundary',\n",
       " 'bounty',\n",
       " 'box',\n",
       " 'boxes',\n",
       " 'boy',\n",
       " 'boycott',\n",
       " 'boycotted',\n",
       " 'boys',\n",
       " 'bracelets',\n",
       " 'brag',\n",
       " 'bragg',\n",
       " 'brain',\n",
       " 'brake',\n",
       " 'branch',\n",
       " 'branches',\n",
       " 'brave',\n",
       " 'break',\n",
       " 'breaking',\n",
       " 'breath',\n",
       " 'breeding',\n",
       " 'breeze',\n",
       " 'brexit',\n",
       " 'brianne',\n",
       " 'brienne',\n",
       " 'bright',\n",
       " 'brightess',\n",
       " 'bring',\n",
       " 'bringing',\n",
       " 'brings',\n",
       " 'britannica',\n",
       " 'british',\n",
       " 'brits',\n",
       " 'bro',\n",
       " 'brobama',\n",
       " 'broke',\n",
       " 'broken',\n",
       " 'broom',\n",
       " 'brother',\n",
       " 'brothers',\n",
       " 'brough',\n",
       " 'brought',\n",
       " 'brown',\n",
       " 'browning',\n",
       " 'bruce',\n",
       " 'brushes',\n",
       " 'brussels',\n",
       " 'brutally',\n",
       " 'btw',\n",
       " 'buck',\n",
       " 'bucket',\n",
       " 'bucks',\n",
       " 'buckwheat',\n",
       " 'buddy',\n",
       " 'bueller',\n",
       " 'buffalo',\n",
       " 'buggy',\n",
       " 'build',\n",
       " 'building',\n",
       " 'buildings',\n",
       " 'built',\n",
       " 'bullets',\n",
       " 'bumper',\n",
       " 'bunch',\n",
       " 'bunnies',\n",
       " 'burden',\n",
       " 'burdensome',\n",
       " 'bureaucrats',\n",
       " 'burger',\n",
       " 'burglar',\n",
       " 'burglarized',\n",
       " 'burn',\n",
       " 'burned',\n",
       " 'burning',\n",
       " 'bury',\n",
       " 'bus',\n",
       " 'bush',\n",
       " 'business',\n",
       " 'businesses',\n",
       " 'busses',\n",
       " 'but',\n",
       " 'buttsex',\n",
       " 'buy',\n",
       " 'buying',\n",
       " 'bwaa',\n",
       " 'bwaaaaa',\n",
       " 'by',\n",
       " 'ca',\n",
       " 'cage',\n",
       " 'caiiing',\n",
       " 'cake',\n",
       " 'cali',\n",
       " 'california',\n",
       " 'caliphate',\n",
       " 'call',\n",
       " 'called',\n",
       " 'calling',\n",
       " 'calls',\n",
       " 'came',\n",
       " 'camp',\n",
       " 'cams',\n",
       " 'can',\n",
       " 'cancer',\n",
       " 'candidate',\n",
       " 'candidates',\n",
       " 'candy',\n",
       " 'canidate',\n",
       " 'cannot',\n",
       " 'canopy',\n",
       " 'cans',\n",
       " 'cant',\n",
       " 'cap',\n",
       " 'capable',\n",
       " 'capital',\n",
       " 'capsize',\n",
       " 'capture',\n",
       " 'captured',\n",
       " 'car',\n",
       " 'card',\n",
       " 'cards',\n",
       " 'care',\n",
       " 'career',\n",
       " 'caregiver',\n",
       " 'cares',\n",
       " 'caring',\n",
       " 'carnage',\n",
       " 'carolina',\n",
       " 'carroll',\n",
       " 'carry',\n",
       " 'carrying',\n",
       " 'cars',\n",
       " 'cart',\n",
       " 'carter',\n",
       " 'carve',\n",
       " 'case',\n",
       " 'cases',\n",
       " 'cash',\n",
       " 'casseroles',\n",
       " 'castrate',\n",
       " 'cataracts',\n",
       " 'catch',\n",
       " 'catcher',\n",
       " 'categorizes',\n",
       " 'catholic',\n",
       " 'cau',\n",
       " 'caucasian',\n",
       " 'caucasians',\n",
       " 'caught',\n",
       " 'cause',\n",
       " 'caused',\n",
       " 'causes',\n",
       " 'caveat',\n",
       " 'ceased',\n",
       " 'celebrated',\n",
       " 'celebrities',\n",
       " 'cell',\n",
       " 'cellmate',\n",
       " 'cellphones',\n",
       " 'cells',\n",
       " 'center',\n",
       " 'centeredness',\n",
       " 'centers',\n",
       " 'central',\n",
       " 'cents',\n",
       " 'century',\n",
       " 'ceremony',\n",
       " 'certain',\n",
       " 'certainly',\n",
       " 'certificate',\n",
       " 'certificates',\n",
       " 'cervesa',\n",
       " 'cess',\n",
       " 'cesspool',\n",
       " 'chain',\n",
       " 'chair',\n",
       " 'challenge',\n",
       " 'chambering',\n",
       " 'chambers',\n",
       " 'chance',\n",
       " 'chances',\n",
       " 'change',\n",
       " 'changed',\n",
       " 'changes',\n",
       " 'changing',\n",
       " 'channel',\n",
       " 'channeling',\n",
       " 'channels',\n",
       " 'chapter',\n",
       " 'character',\n",
       " 'characters',\n",
       " 'charge',\n",
       " 'charged',\n",
       " 'charges',\n",
       " 'charity',\n",
       " 'charlatans',\n",
       " 'charles',\n",
       " 'charlie',\n",
       " 'charter',\n",
       " 'chattel',\n",
       " 'cheap',\n",
       " 'check',\n",
       " 'checked',\n",
       " 'checkers',\n",
       " 'checking',\n",
       " 'checks',\n",
       " 'cheering',\n",
       " 'cheese',\n",
       " 'cherokee',\n",
       " 'cherrypicking',\n",
       " 'chevrolet',\n",
       " 'chicago',\n",
       " 'chicken',\n",
       " 'chickensh',\n",
       " 'chicks',\n",
       " 'chico',\n",
       " 'chicongo',\n",
       " 'chief',\n",
       " 'chiefs',\n",
       " 'child',\n",
       " 'children',\n",
       " 'childs',\n",
       " 'chimp',\n",
       " 'chimps',\n",
       " 'china',\n",
       " 'choice',\n",
       " 'choices',\n",
       " 'choose',\n",
       " 'chop',\n",
       " 'chops',\n",
       " 'chose',\n",
       " 'chosen',\n",
       " 'christ',\n",
       " 'christian',\n",
       " 'christianity',\n",
       " 'christians',\n",
       " 'christmas',\n",
       " 'christopher',\n",
       " 'church',\n",
       " 'churches',\n",
       " 'cicero',\n",
       " 'cigarettes',\n",
       " 'cincyman',\n",
       " 'circumstances',\n",
       " 'circumvents',\n",
       " 'cited',\n",
       " 'cities',\n",
       " 'citizen',\n",
       " 'citizens',\n",
       " 'citizenship',\n",
       " 'city',\n",
       " 'civics',\n",
       " 'civil',\n",
       " 'civilian',\n",
       " 'civilize',\n",
       " 'civilized',\n",
       " 'claim',\n",
       " 'claimed',\n",
       " 'claiming',\n",
       " 'claims',\n",
       " 'clair',\n",
       " 'clans',\n",
       " 'class',\n",
       " 'classes',\n",
       " 'claw',\n",
       " 'clean',\n",
       " 'cleaning',\n",
       " 'cleansing',\n",
       " 'clear',\n",
       " 'clearly',\n",
       " 'cleo',\n",
       " 'clicked',\n",
       " 'clicking',\n",
       " 'climb',\n",
       " 'climbed',\n",
       " 'climbing',\n",
       " 'clinton',\n",
       " 'clintons',\n",
       " 'clips',\n",
       " 'closely',\n",
       " 'closer',\n",
       " 'clothing',\n",
       " 'clout',\n",
       " 'cloward',\n",
       " 'clue',\n",
       " 'clueless',\n",
       " 'co',\n",
       " 'coast',\n",
       " 'coasts',\n",
       " 'coddling',\n",
       " 'code',\n",
       " 'coercion',\n",
       " 'coffee',\n",
       " 'coin',\n",
       " 'cold',\n",
       " 'collage',\n",
       " 'collateral',\n",
       " 'collected',\n",
       " 'collecting',\n",
       " 'collection',\n",
       " 'college',\n",
       " 'colleges',\n",
       " 'colonel',\n",
       " 'colonies',\n",
       " 'color',\n",
       " 'colors',\n",
       " 'colour',\n",
       " 'colt',\n",
       " 'columbia',\n",
       " 'com',\n",
       " 'combination',\n",
       " 'come',\n",
       " 'comeback',\n",
       " 'comedy',\n",
       " 'comes',\n",
       " 'coming',\n",
       " 'command',\n",
       " 'commander',\n",
       " 'commemorate',\n",
       " 'commencement',\n",
       " 'commended',\n",
       " 'comment',\n",
       " 'commenting',\n",
       " 'comments',\n",
       " 'commission',\n",
       " 'commit',\n",
       " 'commitment',\n",
       " 'committed',\n",
       " 'committee',\n",
       " 'common',\n",
       " 'commoners',\n",
       " 'commonly',\n",
       " 'communism',\n",
       " 'communist',\n",
       " 'communists',\n",
       " 'community',\n",
       " 'companies',\n",
       " 'company',\n",
       " 'compare',\n",
       " 'comparison',\n",
       " 'compass',\n",
       " 'compassion',\n",
       " 'compete',\n",
       " 'complete',\n",
       " 'completely',\n",
       " 'compliance',\n",
       " 'complicity',\n",
       " 'comply',\n",
       " 'complying',\n",
       " 'compounded',\n",
       " 'comprehension',\n",
       " 'comunities',\n",
       " 'concede',\n",
       " 'conceive',\n",
       " 'concepts',\n",
       " 'concerned',\n",
       " 'concerning',\n",
       " 'concerns',\n",
       " 'condemn',\n",
       " 'condemnation',\n",
       " 'condemned',\n",
       " 'condition',\n",
       " 'conditions',\n",
       " 'condom',\n",
       " 'condones',\n",
       " 'conduct',\n",
       " 'confederacy',\n",
       " 'confederate',\n",
       " 'confederated',\n",
       " 'confederates',\n",
       " 'confirming',\n",
       " 'conflict',\n",
       " 'confuse',\n",
       " 'confused',\n",
       " 'confusion',\n",
       " 'confusions',\n",
       " 'confussed',\n",
       " 'congo',\n",
       " 'congress',\n",
       " 'connectcut',\n",
       " 'connected',\n",
       " 'connection',\n",
       " 'cons',\n",
       " 'consequences',\n",
       " 'conservative',\n",
       " 'conservatives',\n",
       " 'consider',\n",
       " 'considered',\n",
       " 'considering',\n",
       " 'conspiracy',\n",
       " 'constant',\n",
       " 'constituency',\n",
       " 'constituiton',\n",
       " 'constitution',\n",
       " 'constitutional',\n",
       " 'construct',\n",
       " 'construction',\n",
       " 'consultant',\n",
       " 'consume',\n",
       " 'consumption',\n",
       " 'contact',\n",
       " 'contacting',\n",
       " 'contained',\n",
       " 'contemporary',\n",
       " 'contend',\n",
       " 'contends',\n",
       " 'context',\n",
       " 'continent',\n",
       " 'continents',\n",
       " 'continually',\n",
       " 'continue',\n",
       " 'continued',\n",
       " 'continues',\n",
       " 'contraceptives',\n",
       " 'contract',\n",
       " 'contracts',\n",
       " 'contractual',\n",
       " 'contrary',\n",
       " 'contrast',\n",
       " 'contribute',\n",
       " 'contributed',\n",
       " 'contribution',\n",
       " 'contributions',\n",
       " 'contrived',\n",
       " 'control',\n",
       " 'controlled',\n",
       " 'controlling',\n",
       " 'controls',\n",
       " 'controversial',\n",
       " 'convention',\n",
       " 'conversation',\n",
       " 'conversations',\n",
       " 'convicted',\n",
       " 'conviction',\n",
       " 'convinced',\n",
       " 'cookbook',\n",
       " 'cooke',\n",
       " 'cookies',\n",
       " 'cooking',\n",
       " 'cooperate',\n",
       " 'cop',\n",
       " 'cops',\n",
       " 'core',\n",
       " 'corporations',\n",
       " 'correct',\n",
       " 'correction',\n",
       " 'correctly',\n",
       " 'correctness',\n",
       " 'corvette',\n",
       " 'cost',\n",
       " 'costs',\n",
       " 'cotton',\n",
       " 'could',\n",
       " 'couldn',\n",
       " 'counseling',\n",
       " 'counselling',\n",
       " 'counselor',\n",
       " 'counselors',\n",
       " 'count',\n",
       " 'counted',\n",
       " 'counter',\n",
       " 'counties',\n",
       " 'countries',\n",
       " 'country',\n",
       " 'counts',\n",
       " 'county',\n",
       " 'coupe',\n",
       " 'couple',\n",
       " 'coupons',\n",
       " 'courage',\n",
       " 'course',\n",
       " 'courses',\n",
       " 'court',\n",
       " 'cousins',\n",
       " 'cover',\n",
       " 'covered',\n",
       " 'cow',\n",
       " 'coward',\n",
       " 'coyote',\n",
       " 'cr',\n",
       " 'craig',\n",
       " 'crap',\n",
       " 'crappy',\n",
       " 'crash',\n",
       " 'crawl',\n",
       " 'crawlin',\n",
       " 'crazy',\n",
       " 'cream',\n",
       " 'create',\n",
       " 'created',\n",
       " 'creates',\n",
       " 'creating',\n",
       " ...]"
      ]
     },
     "execution_count": 10,
     "metadata": {},
     "output_type": "execute_result"
    }
   ],
   "source": [
    "tfid.get_feature_names()"
   ]
  },
  {
   "cell_type": "markdown",
   "metadata": {},
   "source": [
    "#### Splitting data\n",
    "  We split data into training, test and pool. Pool is the unlabelled pool we want to generate SHAP clusters for."
   ]
  },
  {
   "cell_type": "code",
   "execution_count": 11,
   "metadata": {},
   "outputs": [],
   "source": [
    "np.random.seed(100)\n",
    "indices =  np.random.randint(low=0, high=x.shape[0], size=x.shape[0])\n",
    "train_indices = indices[0:round(0.7*x.shape[0])]\n",
    "test_indices = indices[round(0.7*x.shape[0]): round(0.8*x.shape[0])]\n",
    "pool_indices = indices[round(0.8*x.shape[0]):]\n",
    "df_train = df.iloc[train_indices]['text'].values\n",
    "df_test = df.iloc[test_indices]['text'].values\n",
    "df_pool = df.iloc[pool_indices]['text'].values\n",
    "x_train = x[train_indices]\n",
    "y_train = y[train_indices]\n",
    "x_test = x[test_indices]\n",
    "y_test = y[test_indices]\n",
    "x_pool = x[pool_indices]\n",
    "y_pool = y[pool_indices]"
   ]
  },
  {
   "cell_type": "markdown",
   "metadata": {},
   "source": [
    "#### Model fitting\n",
    "We do a simple grid search to find the best SVM model."
   ]
  },
  {
   "cell_type": "code",
   "execution_count": 12,
   "metadata": {},
   "outputs": [],
   "source": [
    "\n",
    "max_iter=1000\n",
    "C= [1]\n",
    "best_f1 = 0\n",
    "model = None\n",
    "for c in C:\n",
    "    m = SVC( max_iter=max_iter, C=c, kernel='linear', class_weight='balanced', probability=True)\n",
    "    m.fit(x_train, y_train)\n",
    "    m.score(x_train,y_train)\n",
    "    predictions = m.predict(x_test)\n",
    "    f1 = f1_score(predictions, y_test)\n",
    "    if  f1 > best_f1:\n",
    "        model = m\n",
    "        best_f1 = f1\n"
   ]
  },
  {
   "cell_type": "markdown",
   "metadata": {},
   "source": [
    "We measure the f1_score and plot confusion matrix. Recall:\n",
    "- f1 score = 2PR/ (P+R)\n",
    "- Precision = actual positives/ predicted positives\n",
    "- Recall = predicted positives/ total actual positives"
   ]
  },
  {
   "cell_type": "code",
   "execution_count": 13,
   "metadata": {},
   "outputs": [
    {
     "data": {
      "text/plain": [
       "(0.906832298136646, 0.9333333333333333)"
      ]
     },
     "execution_count": 13,
     "metadata": {},
     "output_type": "execute_result"
    }
   ],
   "source": [
    "predictions = model.predict(x_pool)\n",
    "f1_score(predictions, y_pool), accuracy_score(y_pool, predictions)\n"
   ]
  },
  {
   "cell_type": "markdown",
   "metadata": {},
   "source": [
    "Convert predict probability to uncertainty. In binary classification this would be the same as 1-P"
   ]
  },
  {
   "cell_type": "code",
   "execution_count": 14,
   "metadata": {},
   "outputs": [],
   "source": [
    "classwise_uncertainty = model.predict_proba(x_pool)\n",
    "uncertainty = 1 - np.max(classwise_uncertainty, axis=1)"
   ]
  },
  {
   "cell_type": "code",
   "execution_count": 15,
   "metadata": {},
   "outputs": [
    {
     "data": {
      "image/png": "[encoded data removed]",
      "text/plain": [
       "<Figure size 432x288 with 1 Axes>"
      ]
     },
     "metadata": {
      "needs_background": "light"
     },
     "output_type": "display_data"
    }
   ],
   "source": [
    "plt.hist(uncertainty)\n",
    "plt.show()"
   ]
  },
  {
   "cell_type": "code",
   "execution_count": 16,
   "metadata": {},
   "outputs": [
    {
     "data": {
      "text/plain": [
       "<matplotlib.axes._subplots.AxesSubplot at 0x1b8c8b56948>"
      ]
     },
     "execution_count": 16,
     "metadata": {},
     "output_type": "execute_result"
    },
    {
     "data": {
      "image/png": "[encoded data removed]",
      "text/plain": [
       "<Figure size 432x288 with 2 Axes>"
      ]
     },
     "metadata": {
      "needs_background": "light"
     },
     "output_type": "display_data"
    }
   ],
   "source": [
    "sns.heatmap(confusion_matrix(y_pool, predictions),annot=True)"
   ]
  },
  {
   "cell_type": "markdown",
   "metadata": {},
   "source": [
    "#### Explain model using SHAP\n",
    "\n",
    "Refer https://christophm.github.io/interpretable-ml-book/shap.html\n",
    "\n",
    "The goal of SHAP is to explain the prediction of an instance x by computing the contribution of each feature to the prediction. The SHAP explanation method computes Shapley values from coalitional game theory. The feature values of a data instance act as players in a coalition. Shapley values tell us how to fairly distribute the “payout” (= the prediction) among the features\n",
    "\n",
    "We call the SHAP explainer for linear models\n",
    "shapely values produced have same dimensions as data passed"
   ]
  },
  {
   "cell_type": "code",
   "execution_count": 38,
   "metadata": {},
   "outputs": [],
   "source": [
    "explainer = shap.Explainer(model, x_train,feature_dependence=\"independent\")\n",
    "shap_values_train = explainer.shap_values(x_train)\n",
    "shap_values_pool = explainer.shap_values(x_pool)"
   ]
  },
  {
   "cell_type": "code",
   "execution_count": 39,
   "metadata": {},
   "outputs": [
    {
     "data": {
      "text/plain": [
       "(225, 4813)"
      ]
     },
     "execution_count": 39,
     "metadata": {},
     "output_type": "execute_result"
    }
   ],
   "source": [
    "shap_values_pool.shape"
   ]
  },
  {
   "cell_type": "markdown",
   "metadata": {},
   "source": [
    "Explain a single positive prediction at 'index'"
   ]
  },
  {
   "cell_type": "code",
   "execution_count": 25,
   "metadata": {},
   "outputs": [
    {
     "name": "stdout",
     "output_type": "stream",
     "text": [
      "text   Congress shall make no law    abridging the freedom of speech     I believe the other   branches to clearly be implied  Why dont you   prediction:  1 actual  0\n"
     ]
    },
    {
     "data": {
      "image/png": "[encoded data removed]",
      "text/plain": [
       "<Figure size 1440x216 with 1 Axes>"
      ]
     },
     "metadata": {
      "needs_background": "light"
     },
     "output_type": "display_data"
    }
   ],
   "source": [
    "postive_index = 0\n",
    "index = np.where(predictions==1)[0][postive_index]\n",
    "print(\"text \", df_test[index], \" prediction: \", predictions[index], \"actual \", y_test[index])\n",
    "shap.force_plot(explainer.expected_value, \n",
    "                               shap_values_pool[index,:], \n",
    "                               x_test[index,:], feature_names = tfid.get_feature_names(),\n",
    "               matplotlib=True)"
   ]
  },
  {
   "cell_type": "markdown",
   "metadata": {},
   "source": [
    "Explain the overall feature importance using summary"
   ]
  },
  {
   "cell_type": "code",
   "execution_count": 26,
   "metadata": {},
   "outputs": [
    {
     "data": {
      "image/png": "[encoded data removed]",
      "text/plain": [
       "<Figure size 576x684 with 2 Axes>"
      ]
     },
     "metadata": {
      "needs_background": "light"
     },
     "output_type": "display_data"
    }
   ],
   "source": [
    "shap.summary_plot(shap_values_pool, x_pool, feature_names=tfid.get_feature_names())"
   ]
  },
  {
   "cell_type": "code",
   "execution_count": 44,
   "metadata": {},
   "outputs": [],
   "source": [
    "?shap.plots.text"
   ]
  },
  {
   "cell_type": "code",
   "execution_count": 40,
   "metadata": {},
   "outputs": [
    {
     "data": {
      "text/plain": [
       "array([[-0., -0.,  0., ...,  0.,  0., -0.],\n",
       "       [-0., -0.,  0., ...,  0.,  0., -0.],\n",
       "       [-0., -0.,  0., ...,  0.,  0., -0.],\n",
       "       ...,\n",
       "       [-0., -0.,  0., ...,  0.,  0., -0.],\n",
       "       [-0., -0.,  0., ...,  0.,  0., -0.],\n",
       "       [-0., -0.,  0., ...,  0.,  0., -0.]])"
      ]
     },
     "execution_count": 40,
     "metadata": {},
     "output_type": "execute_result"
    }
   ],
   "source": [
    "shap_values_pool"
   ]
  },
  {
   "cell_type": "code",
   "execution_count": 45,
   "metadata": {},
   "outputs": [
    {
     "data": {
      "text/plain": [
       "shap.explainers._linear.Linear"
      ]
     },
     "execution_count": 45,
     "metadata": {},
     "output_type": "execute_result"
    }
   ],
   "source": [
    "type(explainer)"
   ]
  },
  {
   "cell_type": "code",
   "execution_count": 46,
   "metadata": {},
   "outputs": [],
   "source": [
    "?shap._explanation.Explanation"
   ]
  },
  {
   "cell_type": "code",
   "execution_count": 66,
   "metadata": {},
   "outputs": [
    {
     "data": {
      "text/plain": [
       "((225, 4813), (225,))"
      ]
     },
     "execution_count": 66,
     "metadata": {},
     "output_type": "execute_result"
    }
   ],
   "source": [
    "shap_values_pool.shape, df_pool.shape"
   ]
  },
  {
   "cell_type": "code",
   "execution_count": 60,
   "metadata": {},
   "outputs": [],
   "source": [
    "values = np.array([ 1.72879273e-07, -5.93766391e-02,  1.51735127e-02, -3.43937099e-02,\n",
    "       -9.47782218e-02, -6.82953417e-02, -8.69272768e-02, -1.07482493e-02,\n",
    "       -2.64857828e-02, -2.38219221e-02, -2.89288481e-02,  4.90835113e-03,\n",
    "       -4.06696518e-02, -2.55540209e-03, -2.70076116e-02, -3.46219857e-02,\n",
    "       -5.99554377e-03, -6.91925903e-02, -9.71120792e-03,  1.57645325e-02,\n",
    "       -3.80367656e-02,  1.84232538e-07])\n",
    "\n",
    "base_values =-2.7718377113342285\n",
    "\n",
    "data = ['', 'If ', 'you ', 'don', 't ', 'understand ', 'what ', 'transgender ', 'is  ', 'go ', 'talk ', 'to ', 'your ', 'family ', 'doctor  ', 'They ', 'cover ', 'it ', 'in ', 'medical ', 'school', '']"
   ]
  },
  {
   "cell_type": "code",
   "execution_count": 61,
   "metadata": {},
   "outputs": [],
   "source": [
    "sample = shap._explanation.Explanation(values=values, data=data, base_values=base_values)"
   ]
  },
  {
   "cell_type": "code",
   "execution_count": 62,
   "metadata": {},
   "outputs": [
    {
     "data": {
      "text/html": [
       "<svg width=\"100%\" height=\"80px\"><line x1=\"0\" y1=\"33\" x2=\"100%\" y2=\"33\" style=\"stroke:rgb(150,150,150);stroke-width:1\" /><line x1=\"87.383246%\" y1=\"33\" x2=\"87.383246%\" y2=\"37\" style=\"stroke:rgb(150,150,150);stroke-width:1\" /><text x=\"87.383246%\" y=\"27\" font-size=\"12px\" fill=\"rgb(120,120,120)\" dominant-baseline=\"bottom\" text-anchor=\"middle\">-2.771838</text><text x=\"87.383246%\" y=\"10\" font-size=\"12px\" fill=\"rgb(120,120,120)\" dominant-baseline=\"bottom\" text-anchor=\"middle\">base value</text><line x1=\"73.097532%\" y1=\"33\" x2=\"73.097532%\" y2=\"37\" style=\"stroke:rgb(150,150,150);stroke-width:1\" /><text x=\"73.097532%\" y=\"27\" font-size=\"12px\" fill=\"rgb(120,120,120)\" dominant-baseline=\"bottom\" text-anchor=\"middle\">-2.891391</text><line x1=\"58.811818%\" y1=\"33\" x2=\"58.811818%\" y2=\"37\" style=\"stroke:rgb(150,150,150);stroke-width:1\" /><text x=\"58.811818%\" y=\"27\" font-size=\"12px\" fill=\"rgb(120,120,120)\" dominant-baseline=\"bottom\" text-anchor=\"middle\">-3.010944</text><line x1=\"44.526104%\" y1=\"33\" x2=\"44.526104%\" y2=\"37\" style=\"stroke:rgb(150,150,150);stroke-width:1\" /><text x=\"44.526104%\" y=\"27\" font-size=\"12px\" fill=\"rgb(120,120,120)\" dominant-baseline=\"bottom\" text-anchor=\"middle\">-3.130497</text><line x1=\"30.240389%\" y1=\"33\" x2=\"30.240389%\" y2=\"37\" style=\"stroke:rgb(150,150,150);stroke-width:1\" /><text x=\"30.240389%\" y=\"27\" font-size=\"12px\" fill=\"rgb(120,120,120)\" dominant-baseline=\"bottom\" text-anchor=\"middle\">-3.250050</text><line x1=\"15.954675%\" y1=\"33\" x2=\"15.954675%\" y2=\"37\" style=\"stroke:rgb(150,150,150);stroke-width:1\" /><text x=\"15.954675%\" y=\"27\" font-size=\"12px\" fill=\"rgb(120,120,120)\" dominant-baseline=\"bottom\" text-anchor=\"middle\">-3.369604</text><line x1=\"12.616754%\" y1=\"33\" x2=\"12.616754%\" y2=\"37\" style=\"stroke:rgb(150,150,150);stroke-width:1\" /><text x=\"12.616754%\" y=\"27\" font-size=\"13px\" style=\"stroke:#ffffff;stroke-width:8px;\" font-weight=\"bold\" fill=\"rgb(255,255,255)\" dominant-baseline=\"bottom\" text-anchor=\"middle\">-3.397538</text><text x=\"12.616754%\" y=\"27\" font-size=\"13px\" font-weight=\"bold\" fill=\"rgb(0,0,0)\" dominant-baseline=\"bottom\" text-anchor=\"middle\">-3.397538</text><text x=\"12.616754%\" y=\"10\" font-size=\"12px\" fill=\"rgb(120,120,120)\" dominant-baseline=\"bottom\" text-anchor=\"middle\">f(x)</text><rect x=\"8.333333333333352%\" width=\"4.283420245691746%\" y=\"40\" height=\"18\" style=\"fill:rgb(255.0, 0.0, 81.08083606031792); stroke-width:0; stroke:rgb(0,0,0)\" /><line x1=\"10.73300927331053%\" x2=\"12.616753579025096%\" y1=\"60\" y2=\"60\" id=\"_fb_qmutcfksfskfcibbuzrd_ind_19\" style=\"stroke:rgb(255.0, 0.0, 81.08083606031792);stroke-width:2; opacity: 0\"/><text x=\"11.674881426167813%\" y=\"71\" font-size=\"12px\" id=\"_fs_qmutcfksfskfcibbuzrd_ind_19\" fill=\"rgb(255.0, 0.0, 81.08083606031792)\" style=\"opacity: 0\" dominant-baseline=\"middle\" text-anchor=\"middle\">0.016</text><svg x=\"10.73300927331053%\" y=\"40\" height=\"20\" width=\"1.8837443057145649%\">  <svg x=\"0\" y=\"0\" width=\"100%\" height=\"100%\">    <text x=\"50%\" y=\"9\" font-size=\"12px\" fill=\"rgb(255,255,255)\" dominant-baseline=\"middle\" text-anchor=\"middle\">medical</text>  </svg></svg><line x1=\"8.919887435012257%\" x2=\"10.73300927331053%\" y1=\"60\" y2=\"60\" id=\"_fb_qmutcfksfskfcibbuzrd_ind_2\" style=\"stroke:rgb(255.0, 0.0, 81.08083606031792);stroke-width:2; opacity: 0\"/><text x=\"9.826448354161393%\" y=\"71\" font-size=\"12px\" id=\"_fs_qmutcfksfskfcibbuzrd_ind_2\" fill=\"rgb(255.0, 0.0, 81.08083606031792)\" style=\"opacity: 0\" dominant-baseline=\"middle\" text-anchor=\"middle\">0.015</text><svg x=\"8.919887435012257%\" y=\"40\" height=\"20\" width=\"1.8131218382982741%\">  <svg x=\"0\" y=\"0\" width=\"100%\" height=\"100%\">    <text x=\"50%\" y=\"9\" font-size=\"12px\" fill=\"rgb(255,255,255)\" dominant-baseline=\"middle\" text-anchor=\"middle\">you</text>  </svg></svg><line x1=\"8.333376005536925%\" x2=\"8.919887435012257%\" y1=\"60\" y2=\"60\" id=\"_fb_qmutcfksfskfcibbuzrd_ind_11\" style=\"stroke:rgb(255.0, 0.0, 81.08083606031792);stroke-width:2; opacity: 0\"/><text x=\"8.626631720274592%\" y=\"71\" font-size=\"12px\" id=\"_fs_qmutcfksfskfcibbuzrd_ind_11\" fill=\"rgb(255.0, 0.0, 81.08083606031792)\" style=\"opacity: 0\" dominant-baseline=\"middle\" text-anchor=\"middle\">0.005</text><svg x=\"8.333376005536925%\" y=\"40\" height=\"20\" width=\"0.5865114294753315%\">  <svg x=\"0\" y=\"0\" width=\"100%\" height=\"100%\">    <text x=\"50%\" y=\"9\" font-size=\"12px\" fill=\"rgb(255,255,255)\" dominant-baseline=\"middle\" text-anchor=\"middle\">to</text>  </svg></svg><line x1=\"8.333353991119775%\" x2=\"8.333376005536925%\" y1=\"60\" y2=\"60\" id=\"_fb_qmutcfksfskfcibbuzrd_ind_21\" style=\"stroke:rgb(255.0, 0.0, 81.08083606031792);stroke-width:2; opacity: 0\"/><text x=\"8.33336499832835%\" y=\"71\" font-size=\"12px\" id=\"_fs_qmutcfksfskfcibbuzrd_ind_21\" fill=\"rgb(255.0, 0.0, 81.08083606031792)\" style=\"opacity: 0\" dominant-baseline=\"middle\" text-anchor=\"middle\">0.0</text><svg x=\"8.333353991119775%\" y=\"40\" height=\"20\" width=\"2.201441714966279e-05%\">  <svg x=\"0\" y=\"0\" width=\"100%\" height=\"100%\">    <text x=\"50%\" y=\"9\" font-size=\"12px\" fill=\"rgb(255,255,255)\" dominant-baseline=\"middle\" text-anchor=\"middle\"></text>  </svg></svg><line x1=\"8.333333333333298%\" x2=\"8.333353991119775%\" y1=\"60\" y2=\"60\" id=\"_fb_qmutcfksfskfcibbuzrd_ind_0\" style=\"stroke:rgb(255.0, 0.0, 81.08083606031792);stroke-width:2; opacity: 0\"/><text x=\"8.333343662226536%\" y=\"71\" font-size=\"12px\" id=\"_fs_qmutcfksfskfcibbuzrd_ind_0\" fill=\"rgb(255.0, 0.0, 81.08083606031792)\" style=\"opacity: 0\" dominant-baseline=\"middle\" text-anchor=\"middle\">0.0</text><svg x=\"8.333333333333298%\" y=\"40\" height=\"20\" width=\"2.0657786476974138e-05%\">  <svg x=\"0\" y=\"0\" width=\"100%\" height=\"100%\">    <text x=\"50%\" y=\"9\" font-size=\"12px\" fill=\"rgb(255,255,255)\" dominant-baseline=\"middle\" text-anchor=\"middle\"></text>  </svg></svg><g transform=\"translate(0,0)\">  <svg x=\"10.73300927331053%\" y=\"40\" height=\"18\" overflow=\"visible\" width=\"30\">    <path d=\"M 0 -9 l 6 18 L 0 25\" fill=\"none\" style=\"stroke:rgb(255.0, 0.0, 81.08083606031792);stroke-width:2\" />  </svg></g><g transform=\"translate(2,0)\">  <svg x=\"10.73300927331053%\" y=\"40\" height=\"18\" overflow=\"visible\" width=\"30\">    <path d=\"M 0 -9 l 6 18 L 0 25\" fill=\"none\" style=\"stroke:rgb(255.0, 0.0, 81.08083606031792);stroke-width:2\" />  </svg></g><g transform=\"translate(4,0)\">  <svg x=\"10.73300927331053%\" y=\"40\" height=\"18\" overflow=\"visible\" width=\"30\">    <path d=\"M 0 -9 l 6 18 L 0 25\" fill=\"none\" style=\"stroke:rgb(255.0, 0.0, 81.08083606031792);stroke-width:2\" />  </svg></g><g transform=\"translate(6,0)\">  <svg x=\"10.73300927331053%\" y=\"40\" height=\"18\" overflow=\"visible\" width=\"30\">    <path d=\"M 0 -9 l 6 18 L 0 25\" fill=\"none\" style=\"stroke:rgb(255.0, 0.0, 81.08083606031792);stroke-width:2\" />  </svg></g><g transform=\"translate(-8,0)\">  <svg x=\"10.73300927331053%\" y=\"40\" height=\"18\" overflow=\"visible\" width=\"30\">    <path d=\"M 0 -9 l 6 18 L 0 25\" fill=\"none\" style=\"stroke:rgb(255.0, 0.0, 81.08083606031792);stroke-width:2\" />  </svg></g><g transform=\"translate(-6,0)\">  <svg x=\"10.73300927331053%\" y=\"40\" height=\"18\" overflow=\"visible\" width=\"30\">    <path d=\"M 0 -9 l 6 18 L 0 25\" fill=\"none\" style=\"stroke:rgb(255.0, 0.0, 81.08083606031792);stroke-width:2\" />  </svg></g><g transform=\"translate(-4,0)\">  <svg x=\"10.73300927331053%\" y=\"40\" height=\"18\" overflow=\"visible\" width=\"30\">    <path d=\"M 0 -9 l 6 18 L 0 25\" fill=\"none\" style=\"stroke:rgb(255.0, 0.0, 81.08083606031792);stroke-width:2\" />  </svg></g><g transform=\"translate(-2,0)\">  <svg x=\"10.73300927331053%\" y=\"40\" height=\"18\" overflow=\"visible\" width=\"30\">    <path d=\"M 0 -9 l 6 18 L 0 25\" fill=\"none\" style=\"stroke:rgb(255.0, 0.0, 81.08083606031792);stroke-width:2\" />  </svg></g><g transform=\"translate(0,0)\">  <svg x=\"8.919887435012257%\" y=\"40\" height=\"18\" overflow=\"visible\" width=\"30\">    <path d=\"M 0 -9 l 6 18 L 0 25\" fill=\"none\" style=\"stroke:rgb(255.0, 0.0, 81.08083606031792);stroke-width:2\" />  </svg></g><g transform=\"translate(2,0)\">  <svg x=\"8.919887435012257%\" y=\"40\" height=\"18\" overflow=\"visible\" width=\"30\">    <path d=\"M 0 -9 l 6 18 L 0 25\" fill=\"none\" style=\"stroke:rgb(255.0, 0.0, 81.08083606031792);stroke-width:2\" />  </svg></g><g transform=\"translate(4,0)\">  <svg x=\"8.919887435012257%\" y=\"40\" height=\"18\" overflow=\"visible\" width=\"30\">    <path d=\"M 0 -9 l 6 18 L 0 25\" fill=\"none\" style=\"stroke:rgb(255.0, 0.0, 81.08083606031792);stroke-width:2\" />  </svg></g><g transform=\"translate(6,0)\">  <svg x=\"8.919887435012257%\" y=\"40\" height=\"18\" overflow=\"visible\" width=\"30\">    <path d=\"M 0 -9 l 6 18 L 0 25\" fill=\"none\" style=\"stroke:rgb(255.0, 0.0, 81.08083606031792);stroke-width:2\" />  </svg></g><g transform=\"translate(-8,0)\">  <svg x=\"8.919887435012257%\" y=\"40\" height=\"18\" overflow=\"visible\" width=\"30\">    <path d=\"M 0 -9 l 6 18 L 0 25\" fill=\"none\" style=\"stroke:rgb(255.0, 0.0, 81.08083606031792);stroke-width:2\" />  </svg></g><g transform=\"translate(-6,0)\">  <svg x=\"8.919887435012257%\" y=\"40\" height=\"18\" overflow=\"visible\" width=\"30\">    <path d=\"M 0 -9 l 6 18 L 0 25\" fill=\"none\" style=\"stroke:rgb(255.0, 0.0, 81.08083606031792);stroke-width:2\" />  </svg></g><g transform=\"translate(-4,0)\">  <svg x=\"8.919887435012257%\" y=\"40\" height=\"18\" overflow=\"visible\" width=\"30\">    <path d=\"M 0 -9 l 6 18 L 0 25\" fill=\"none\" style=\"stroke:rgb(255.0, 0.0, 81.08083606031792);stroke-width:2\" />  </svg></g><g transform=\"translate(-2,0)\">  <svg x=\"8.919887435012257%\" y=\"40\" height=\"18\" overflow=\"visible\" width=\"30\">    <path d=\"M 0 -9 l 6 18 L 0 25\" fill=\"none\" style=\"stroke:rgb(255.0, 0.0, 81.08083606031792);stroke-width:2\" />  </svg></g><g transform=\"translate(0,0)\">  <svg x=\"8.333376005536925%\" y=\"40\" height=\"18\" overflow=\"visible\" width=\"30\">    <path d=\"M 0 -9 l 6 18 L 0 25\" fill=\"none\" style=\"stroke:rgb(255.0, 0.0, 81.08083606031792);stroke-width:2\" />  </svg></g><g transform=\"translate(2,0)\">  <svg x=\"8.333376005536925%\" y=\"40\" height=\"18\" overflow=\"visible\" width=\"30\">    <path d=\"M 0 -9 l 6 18 L 0 25\" fill=\"none\" style=\"stroke:rgb(255.0, 0.0, 81.08083606031792);stroke-width:2\" />  </svg></g><g transform=\"translate(4,0)\">  <svg x=\"8.333376005536925%\" y=\"40\" height=\"18\" overflow=\"visible\" width=\"30\">    <path d=\"M 0 -9 l 6 18 L 0 25\" fill=\"none\" style=\"stroke:rgb(255.0, 0.0, 81.08083606031792);stroke-width:2\" />  </svg></g><g transform=\"translate(6,0)\">  <svg x=\"8.333376005536925%\" y=\"40\" height=\"18\" overflow=\"visible\" width=\"30\">    <path d=\"M 0 -9 l 6 18 L 0 25\" fill=\"none\" style=\"stroke:rgb(255.0, 0.0, 81.08083606031792);stroke-width:2\" />  </svg></g><g transform=\"translate(-8,0)\">  <svg x=\"8.333376005536925%\" y=\"40\" height=\"18\" overflow=\"visible\" width=\"30\">    <path d=\"M 0 -9 l 6 18 L 0 25\" fill=\"none\" style=\"stroke:rgb(255.0, 0.0, 81.08083606031792);stroke-width:2\" />  </svg></g><g transform=\"translate(-6,0)\">  <svg x=\"8.333376005536925%\" y=\"40\" height=\"18\" overflow=\"visible\" width=\"30\">    <path d=\"M 0 -9 l 6 18 L 0 25\" fill=\"none\" style=\"stroke:rgb(255.0, 0.0, 81.08083606031792);stroke-width:2\" />  </svg></g><g transform=\"translate(-4,0)\">  <svg x=\"8.333376005536925%\" y=\"40\" height=\"18\" overflow=\"visible\" width=\"30\">    <path d=\"M 0 -9 l 6 18 L 0 25\" fill=\"none\" style=\"stroke:rgb(255.0, 0.0, 81.08083606031792);stroke-width:2\" />  </svg></g><g transform=\"translate(-2,0)\">  <svg x=\"8.333376005536925%\" y=\"40\" height=\"18\" overflow=\"visible\" width=\"30\">    <path d=\"M 0 -9 l 6 18 L 0 25\" fill=\"none\" style=\"stroke:rgb(255.0, 0.0, 81.08083606031792);stroke-width:2\" />  </svg></g><g transform=\"translate(0,0)\">  <svg x=\"8.333353991119775%\" y=\"40\" height=\"18\" overflow=\"visible\" width=\"30\">    <path d=\"M 0 -9 l 6 18 L 0 25\" fill=\"none\" style=\"stroke:rgb(255.0, 0.0, 81.08083606031792);stroke-width:2\" />  </svg></g><g transform=\"translate(2,0)\">  <svg x=\"8.333353991119775%\" y=\"40\" height=\"18\" overflow=\"visible\" width=\"30\">    <path d=\"M 0 -9 l 6 18 L 0 25\" fill=\"none\" style=\"stroke:rgb(255.0, 0.0, 81.08083606031792);stroke-width:2\" />  </svg></g><g transform=\"translate(4,0)\">  <svg x=\"8.333353991119775%\" y=\"40\" height=\"18\" overflow=\"visible\" width=\"30\">    <path d=\"M 0 -9 l 6 18 L 0 25\" fill=\"none\" style=\"stroke:rgb(255.0, 0.0, 81.08083606031792);stroke-width:2\" />  </svg></g><g transform=\"translate(6,0)\">  <svg x=\"8.333353991119775%\" y=\"40\" height=\"18\" overflow=\"visible\" width=\"30\">    <path d=\"M 0 -9 l 6 18 L 0 25\" fill=\"none\" style=\"stroke:rgb(255.0, 0.0, 81.08083606031792);stroke-width:2\" />  </svg></g><g transform=\"translate(-8,0)\">  <svg x=\"8.333353991119775%\" y=\"40\" height=\"18\" overflow=\"visible\" width=\"30\">    <path d=\"M 0 -9 l 6 18 L 0 25\" fill=\"none\" style=\"stroke:rgb(255.0, 0.0, 81.08083606031792);stroke-width:2\" />  </svg></g><g transform=\"translate(-6,0)\">  <svg x=\"8.333353991119775%\" y=\"40\" height=\"18\" overflow=\"visible\" width=\"30\">    <path d=\"M 0 -9 l 6 18 L 0 25\" fill=\"none\" style=\"stroke:rgb(255.0, 0.0, 81.08083606031792);stroke-width:2\" />  </svg></g><g transform=\"translate(-4,0)\">  <svg x=\"8.333353991119775%\" y=\"40\" height=\"18\" overflow=\"visible\" width=\"30\">    <path d=\"M 0 -9 l 6 18 L 0 25\" fill=\"none\" style=\"stroke:rgb(255.0, 0.0, 81.08083606031792);stroke-width:2\" />  </svg></g><g transform=\"translate(-2,0)\">  <svg x=\"8.333353991119775%\" y=\"40\" height=\"18\" overflow=\"visible\" width=\"30\">    <path d=\"M 0 -9 l 6 18 L 0 25\" fill=\"none\" style=\"stroke:rgb(255.0, 0.0, 81.08083606031792);stroke-width:2\" />  </svg></g><rect transform=\"translate(-8,0)\" x=\"12.616753579025096%\" y=\"40\" width=\"8\" height=\"18\" style=\"fill:rgb(255.0, 0.0, 81.08083606031792)\"/><g transform=\"translate(-11.5,0)\">  <svg x=\"8.333333333333352%\" y=\"40\" height=\"18\" overflow=\"visible\" width=\"30\">    <path d=\"M 10 -9 l 6 18 L 10 25 L 0 25 L 0 -9\" fill=\"#ffffff\" style=\"stroke:rgb(255,255,255);stroke-width:2\" />  </svg></g><g transform=\"translate(-1.5,0)\">  <svg x=\"12.616753579025096%\" y=\"40\" height=\"18\" overflow=\"visible\" width=\"30\">    <path d=\"M 0 -9 l 6 18 L 0 25\" fill=\"none\" style=\"stroke:rgb(255, 195, 213);stroke-width:2\" />  </svg></g><rect x=\"10.73300927331053%\" y=\"40\" height=\"20\" width=\"1.8837443057145649%\"      onmouseover=\"document.getElementById('_tp_qmutcfksfskfcibbuzrd_ind_19').style.textDecoration = 'underline';document.getElementById('_fs_qmutcfksfskfcibbuzrd_ind_19').style.opacity = 1;document.getElementById('_fb_qmutcfksfskfcibbuzrd_ind_19').style.opacity = 1;\"      onmouseout=\"document.getElementById('_tp_qmutcfksfskfcibbuzrd_ind_19').style.textDecoration = 'none';document.getElementById('_fs_qmutcfksfskfcibbuzrd_ind_19').style.opacity = 0;document.getElementById('_fb_qmutcfksfskfcibbuzrd_ind_19').style.opacity = 0;\" style=\"fill:rgb(0,0,0,0)\" /><g transform=\"translate(-1.5,0)\">  <svg x=\"10.73300927331053%\" y=\"40\" height=\"18\" overflow=\"visible\" width=\"30\">    <path d=\"M 0 -9 l 6 18 L 0 25\" fill=\"none\" style=\"stroke:rgb(255, 195, 213);stroke-width:2\" />  </svg></g><rect x=\"8.919887435012257%\" y=\"40\" height=\"20\" width=\"1.8131218382982741%\"      onmouseover=\"document.getElementById('_tp_qmutcfksfskfcibbuzrd_ind_2').style.textDecoration = 'underline';document.getElementById('_fs_qmutcfksfskfcibbuzrd_ind_2').style.opacity = 1;document.getElementById('_fb_qmutcfksfskfcibbuzrd_ind_2').style.opacity = 1;\"      onmouseout=\"document.getElementById('_tp_qmutcfksfskfcibbuzrd_ind_2').style.textDecoration = 'none';document.getElementById('_fs_qmutcfksfskfcibbuzrd_ind_2').style.opacity = 0;document.getElementById('_fb_qmutcfksfskfcibbuzrd_ind_2').style.opacity = 0;\" style=\"fill:rgb(0,0,0,0)\" /><g transform=\"translate(-1.5,0)\">  <svg x=\"8.919887435012257%\" y=\"40\" height=\"18\" overflow=\"visible\" width=\"30\">    <path d=\"M 0 -9 l 6 18 L 0 25\" fill=\"none\" style=\"stroke:rgb(255, 195, 213);stroke-width:2\" />  </svg></g><rect x=\"8.333376005536925%\" y=\"40\" height=\"20\" width=\"0.5865114294753315%\"      onmouseover=\"document.getElementById('_tp_qmutcfksfskfcibbuzrd_ind_11').style.textDecoration = 'underline';document.getElementById('_fs_qmutcfksfskfcibbuzrd_ind_11').style.opacity = 1;document.getElementById('_fb_qmutcfksfskfcibbuzrd_ind_11').style.opacity = 1;\"      onmouseout=\"document.getElementById('_tp_qmutcfksfskfcibbuzrd_ind_11').style.textDecoration = 'none';document.getElementById('_fs_qmutcfksfskfcibbuzrd_ind_11').style.opacity = 0;document.getElementById('_fb_qmutcfksfskfcibbuzrd_ind_11').style.opacity = 0;\" style=\"fill:rgb(0,0,0,0)\" /><g transform=\"translate(-1.5,0)\">  <svg x=\"8.333376005536925%\" y=\"40\" height=\"18\" overflow=\"visible\" width=\"30\">    <path d=\"M 0 -9 l 6 18 L 0 25\" fill=\"none\" style=\"stroke:rgb(255, 195, 213);stroke-width:2\" />  </svg></g><rect x=\"8.333353991119775%\" y=\"40\" height=\"20\" width=\"2.201441714966279e-05%\"      onmouseover=\"document.getElementById('_tp_qmutcfksfskfcibbuzrd_ind_21').style.textDecoration = 'underline';document.getElementById('_fs_qmutcfksfskfcibbuzrd_ind_21').style.opacity = 1;document.getElementById('_fb_qmutcfksfskfcibbuzrd_ind_21').style.opacity = 1;\"      onmouseout=\"document.getElementById('_tp_qmutcfksfskfcibbuzrd_ind_21').style.textDecoration = 'none';document.getElementById('_fs_qmutcfksfskfcibbuzrd_ind_21').style.opacity = 0;document.getElementById('_fb_qmutcfksfskfcibbuzrd_ind_21').style.opacity = 0;\" style=\"fill:rgb(0,0,0,0)\" /><rect x=\"8.333333333333298%\" y=\"40\" height=\"20\" width=\"2.0657786476974138e-05%\"      onmouseover=\"document.getElementById('_tp_qmutcfksfskfcibbuzrd_ind_0').style.textDecoration = 'underline';document.getElementById('_fs_qmutcfksfskfcibbuzrd_ind_0').style.opacity = 1;document.getElementById('_fb_qmutcfksfskfcibbuzrd_ind_0').style.opacity = 1;\"      onmouseout=\"document.getElementById('_tp_qmutcfksfskfcibbuzrd_ind_0').style.textDecoration = 'none';document.getElementById('_fs_qmutcfksfskfcibbuzrd_ind_0').style.opacity = 0;document.getElementById('_fb_qmutcfksfskfcibbuzrd_ind_0').style.opacity = 0;\" style=\"fill:rgb(0,0,0,0)\" /><rect x=\"12.616753579025096%\" width=\"79.04991308764156%\" y=\"40\" height=\"18\" style=\"fill:rgb(0.0, 138.56128015770727, 250.76166088685727); stroke-width:0; stroke:rgb(0,0,0)\" /><line x1=\"12.616753579025096%\" x2=\"23.942045694189442%\" y1=\"60\" y2=\"60\" id=\"_fb_qmutcfksfskfcibbuzrd_ind_4\" style=\"stroke:rgb(0.0, 138.56128015770727, 250.76166088685727);stroke-width:2; opacity: 0\"/><text x=\"18.27939963660727%\" y=\"71\" font-size=\"12px\" fill=\"rgb(0.0, 138.56128015770727, 250.76166088685727)\" id=\"_fs_qmutcfksfskfcibbuzrd_ind_4\" style=\"opacity: 0\" dominant-baseline=\"middle\" text-anchor=\"middle\">-0.095</text><svg x=\"12.616753579025096%\" y=\"40\" height=\"20\" width=\"11.325292115164347%\">  <svg x=\"0\" y=\"0\" width=\"100%\" height=\"100%\">    <text x=\"50%\" y=\"9\" font-size=\"12px\" fill=\"rgb(255,255,255)\" dominant-baseline=\"middle\" text-anchor=\"middle\">t</text>  </svg></svg><line x1=\"23.942045694189442%\" x2=\"34.32920831276211%\" y1=\"60\" y2=\"60\" id=\"_fb_qmutcfksfskfcibbuzrd_ind_6\" style=\"stroke:rgb(0.0, 138.56128015770727, 250.76166088685727);stroke-width:2; opacity: 0\"/><text x=\"29.135627003475776%\" y=\"71\" font-size=\"12px\" fill=\"rgb(0.0, 138.56128015770727, 250.76166088685727)\" id=\"_fs_qmutcfksfskfcibbuzrd_ind_6\" style=\"opacity: 0\" dominant-baseline=\"middle\" text-anchor=\"middle\">-0.087</text><svg x=\"23.942045694189442%\" y=\"40\" height=\"20\" width=\"10.38716261857267%\">  <svg x=\"0\" y=\"0\" width=\"100%\" height=\"100%\">    <text x=\"50%\" y=\"9\" font-size=\"12px\" fill=\"rgb(255,255,255)\" dominant-baseline=\"middle\" text-anchor=\"middle\">what</text>  </svg></svg><line x1=\"34.32920831276211%\" x2=\"42.597207885554155%\" y1=\"60\" y2=\"60\" id=\"_fb_qmutcfksfskfcibbuzrd_ind_17\" style=\"stroke:rgb(0.0, 138.56128015770727, 250.76166088685727);stroke-width:2; opacity: 0\"/><text x=\"38.46320809915814%\" y=\"71\" font-size=\"12px\" fill=\"rgb(0.0, 138.56128015770727, 250.76166088685727)\" id=\"_fs_qmutcfksfskfcibbuzrd_ind_17\" style=\"opacity: 0\" dominant-baseline=\"middle\" text-anchor=\"middle\">-0.069</text><svg x=\"34.32920831276211%\" y=\"40\" height=\"20\" width=\"8.267999572792043%\">  <svg x=\"0\" y=\"0\" width=\"100%\" height=\"100%\">    <text x=\"50%\" y=\"9\" font-size=\"12px\" fill=\"rgb(255,255,255)\" dominant-baseline=\"middle\" text-anchor=\"middle\">it</text>  </svg></svg><line x1=\"42.597207885554155%\" x2=\"50.75799292844745%\" y1=\"60\" y2=\"60\" id=\"_fb_qmutcfksfskfcibbuzrd_ind_5\" style=\"stroke:rgb(0.0, 138.56128015770727, 250.76166088685727);stroke-width:2; opacity: 0\"/><text x=\"46.6776004070008%\" y=\"71\" font-size=\"12px\" fill=\"rgb(0.0, 138.56128015770727, 250.76166088685727)\" id=\"_fs_qmutcfksfskfcibbuzrd_ind_5\" style=\"opacity: 0\" dominant-baseline=\"middle\" text-anchor=\"middle\">-0.068</text><svg x=\"42.597207885554155%\" y=\"40\" height=\"20\" width=\"8.160785042893295%\">  <svg x=\"0\" y=\"0\" width=\"100%\" height=\"100%\">    <text x=\"50%\" y=\"9\" font-size=\"12px\" fill=\"rgb(255,255,255)\" dominant-baseline=\"middle\" text-anchor=\"middle\">understand</text>  </svg></svg><line x1=\"50.75799292844745%\" x2=\"57.85305938836903%\" y1=\"60\" y2=\"60\" id=\"_fb_qmutcfksfskfcibbuzrd_ind_1\" style=\"stroke:rgb(0.0, 138.56128015770727, 250.76166088685727);stroke-width:2; opacity: 0\"/><text x=\"54.30552615840824%\" y=\"71\" font-size=\"12px\" fill=\"rgb(0.0, 138.56128015770727, 250.76166088685727)\" id=\"_fs_qmutcfksfskfcibbuzrd_ind_1\" style=\"opacity: 0\" dominant-baseline=\"middle\" text-anchor=\"middle\">-0.059</text><svg x=\"50.75799292844745%\" y=\"40\" height=\"20\" width=\"7.095066459921583%\">  <svg x=\"0\" y=\"0\" width=\"100%\" height=\"100%\">    <text x=\"50%\" y=\"9\" font-size=\"12px\" fill=\"rgb(255,255,255)\" dominant-baseline=\"middle\" text-anchor=\"middle\">If</text>  </svg></svg><line x1=\"57.85305938836903%\" x2=\"62.712780093289666%\" y1=\"60\" y2=\"60\" id=\"_fb_qmutcfksfskfcibbuzrd_ind_12\" style=\"stroke:rgb(0.0, 138.56128015770727, 250.76166088685727);stroke-width:2; opacity: 0\"/><text x=\"60.28291974082935%\" y=\"71\" font-size=\"12px\" fill=\"rgb(0.0, 138.56128015770727, 250.76166088685727)\" id=\"_fs_qmutcfksfskfcibbuzrd_ind_12\" style=\"opacity: 0\" dominant-baseline=\"middle\" text-anchor=\"middle\">-0.041</text><svg x=\"57.85305938836903%\" y=\"40\" height=\"20\" width=\"4.859720704920633%\">  <svg x=\"0\" y=\"0\" width=\"100%\" height=\"100%\">    <text x=\"50%\" y=\"9\" font-size=\"12px\" fill=\"rgb(255,255,255)\" dominant-baseline=\"middle\" text-anchor=\"middle\">your</text>  </svg></svg><line x1=\"62.712780093289666%\" x2=\"67.25789049264971%\" y1=\"60\" y2=\"60\" id=\"_fb_qmutcfksfskfcibbuzrd_ind_20\" style=\"stroke:rgb(0.0, 138.56128015770727, 250.76166088685727);stroke-width:2; opacity: 0\"/><text x=\"64.9853352929697%\" y=\"71\" font-size=\"12px\" fill=\"rgb(0.0, 138.56128015770727, 250.76166088685727)\" id=\"_fs_qmutcfksfskfcibbuzrd_ind_20\" style=\"opacity: 0\" dominant-baseline=\"middle\" text-anchor=\"middle\">-0.038</text><svg x=\"62.712780093289666%\" y=\"40\" height=\"20\" width=\"4.545110399360041%\">  <svg x=\"0\" y=\"0\" width=\"100%\" height=\"100%\">    <text x=\"50%\" y=\"9\" font-size=\"12px\" fill=\"rgb(255,255,255)\" dominant-baseline=\"middle\" text-anchor=\"middle\">school</text>  </svg></svg><line x1=\"67.25789049264971%\" x2=\"71.39496010856796%\" y1=\"60\" y2=\"60\" id=\"_fb_qmutcfksfskfcibbuzrd_ind_15\" style=\"stroke:rgb(0.0, 138.56128015770727, 250.76166088685727);stroke-width:2; opacity: 0\"/><text x=\"69.32642530060883%\" y=\"71\" font-size=\"12px\" fill=\"rgb(0.0, 138.56128015770727, 250.76166088685727)\" id=\"_fs_qmutcfksfskfcibbuzrd_ind_15\" style=\"opacity: 0\" dominant-baseline=\"middle\" text-anchor=\"middle\">-0.035</text><svg x=\"67.25789049264971%\" y=\"40\" height=\"20\" width=\"4.13706961591825%\">  <svg x=\"0\" y=\"0\" width=\"100%\" height=\"100%\">    <text x=\"50%\" y=\"9\" font-size=\"12px\" fill=\"rgb(255,255,255)\" dominant-baseline=\"middle\" text-anchor=\"middle\">They</text>  </svg></svg><line x1=\"71.39496010856796%\" x2=\"75.50475246533614%\" y1=\"60\" y2=\"60\" id=\"_fb_qmutcfksfskfcibbuzrd_ind_3\" style=\"stroke:rgb(0.0, 138.56128015770727, 250.76166088685727);stroke-width:2; opacity: 0\"/><text x=\"73.44985628695204%\" y=\"71\" font-size=\"12px\" fill=\"rgb(0.0, 138.56128015770727, 250.76166088685727)\" id=\"_fs_qmutcfksfskfcibbuzrd_ind_3\" style=\"opacity: 0\" dominant-baseline=\"middle\" text-anchor=\"middle\">-0.034</text><svg x=\"71.39496010856796%\" y=\"40\" height=\"20\" width=\"4.109792356768182%\">  <svg x=\"0\" y=\"0\" width=\"100%\" height=\"100%\">    <text x=\"50%\" y=\"9\" font-size=\"12px\" fill=\"rgb(255,255,255)\" dominant-baseline=\"middle\" text-anchor=\"middle\">don</text>  </svg></svg><line x1=\"75.50475246533614%\" x2=\"78.96153450941239%\" y1=\"60\" y2=\"60\" id=\"_fb_qmutcfksfskfcibbuzrd_ind_10\" style=\"stroke:rgb(0.0, 138.56128015770727, 250.76166088685727);stroke-width:2; opacity: 0\"/><text x=\"77.23314348737426%\" y=\"71\" font-size=\"12px\" fill=\"rgb(0.0, 138.56128015770727, 250.76166088685727)\" id=\"_fs_qmutcfksfskfcibbuzrd_ind_10\" style=\"opacity: 0\" dominant-baseline=\"middle\" text-anchor=\"middle\">-0.029</text><svg x=\"75.50475246533614%\" y=\"40\" height=\"20\" width=\"3.456782044076249%\">  <svg x=\"0\" y=\"0\" width=\"100%\" height=\"100%\">    <text x=\"50%\" y=\"9\" font-size=\"12px\" fill=\"rgb(255,255,255)\" dominant-baseline=\"middle\" text-anchor=\"middle\">talk</text>  </svg></svg><line x1=\"78.96153450941239%\" x2=\"82.18874309060256%\" y1=\"60\" y2=\"60\" id=\"_fb_qmutcfksfskfcibbuzrd_ind_14\" style=\"stroke:rgb(0.0, 138.56128015770727, 250.76166088685727);stroke-width:2; opacity: 0\"/><text x=\"80.57513880000747%\" y=\"71\" font-size=\"12px\" fill=\"rgb(0.0, 138.56128015770727, 250.76166088685727)\" id=\"_fs_qmutcfksfskfcibbuzrd_ind_14\" style=\"opacity: 0\" dominant-baseline=\"middle\" text-anchor=\"middle\">-0.027</text><svg x=\"78.96153450941239%\" y=\"40\" height=\"20\" width=\"3.227208581190169%\">  <svg x=\"0\" y=\"0\" width=\"100%\" height=\"100%\">    <text x=\"50%\" y=\"9\" font-size=\"12px\" fill=\"rgb(255,255,255)\" dominant-baseline=\"middle\" text-anchor=\"middle\">doctor</text>  </svg></svg><line x1=\"82.18874309060256%\" x2=\"85.35359701392015%\" y1=\"60\" y2=\"60\" id=\"_fb_qmutcfksfskfcibbuzrd_ind_8\" style=\"stroke:rgb(0.0, 138.56128015770727, 250.76166088685727);stroke-width:2; opacity: 0\"/><text x=\"83.77117005226135%\" y=\"71\" font-size=\"12px\" fill=\"rgb(0.0, 138.56128015770727, 250.76166088685727)\" id=\"_fs_qmutcfksfskfcibbuzrd_ind_8\" style=\"opacity: 0\" dominant-baseline=\"middle\" text-anchor=\"middle\">-0.026</text><svg x=\"82.18874309060256%\" y=\"40\" height=\"20\" width=\"3.164853923317594%\">  <svg x=\"0\" y=\"0\" width=\"100%\" height=\"100%\">    <text x=\"50%\" y=\"9\" font-size=\"12px\" fill=\"rgb(255,255,255)\" dominant-baseline=\"middle\" text-anchor=\"middle\">is</text>  </svg></svg><line x1=\"85.35359701392015%\" x2=\"88.20013940945587%\" y1=\"60\" y2=\"60\" id=\"_fb_qmutcfksfskfcibbuzrd_ind_9\" style=\"stroke:rgb(0.0, 138.56128015770727, 250.76166088685727);stroke-width:2; opacity: 0\"/><text x=\"86.77686821168801%\" y=\"71\" font-size=\"12px\" fill=\"rgb(0.0, 138.56128015770727, 250.76166088685727)\" id=\"_fs_qmutcfksfskfcibbuzrd_ind_9\" style=\"opacity: 0\" dominant-baseline=\"middle\" text-anchor=\"middle\">-0.024</text><svg x=\"85.35359701392015%\" y=\"40\" height=\"20\" width=\"2.846542395535721%\">  <svg x=\"0\" y=\"0\" width=\"100%\" height=\"100%\">    <text x=\"50%\" y=\"9\" font-size=\"12px\" fill=\"rgb(255,255,255)\" dominant-baseline=\"middle\" text-anchor=\"middle\">go</text>  </svg></svg><line x1=\"88.20013940945587%\" x2=\"89.48447520661801%\" y1=\"60\" y2=\"60\" id=\"_fb_qmutcfksfskfcibbuzrd_ind_7\" style=\"stroke:rgb(0.0, 138.56128015770727, 250.76166088685727);stroke-width:2; opacity: 0\"/><text x=\"88.84230730803694%\" y=\"71\" font-size=\"12px\" fill=\"rgb(0.0, 138.56128015770727, 250.76166088685727)\" id=\"_fs_qmutcfksfskfcibbuzrd_ind_7\" style=\"opacity: 0\" dominant-baseline=\"middle\" text-anchor=\"middle\">-0.011</text><svg x=\"88.20013940945587%\" y=\"40\" height=\"20\" width=\"1.284335797162143%\">  <svg x=\"0\" y=\"0\" width=\"100%\" height=\"100%\">    <text x=\"50%\" y=\"9\" font-size=\"12px\" fill=\"rgb(255,255,255)\" dominant-baseline=\"middle\" text-anchor=\"middle\">transgender</text>  </svg></svg><line x1=\"89.48447520661801%\" x2=\"90.64489227708364%\" y1=\"60\" y2=\"60\" id=\"_fb_qmutcfksfskfcibbuzrd_ind_18\" style=\"stroke:rgb(0.0, 138.56128015770727, 250.76166088685727);stroke-width:2; opacity: 0\"/><text x=\"90.06468374185083%\" y=\"71\" font-size=\"12px\" fill=\"rgb(0.0, 138.56128015770727, 250.76166088685727)\" id=\"_fs_qmutcfksfskfcibbuzrd_ind_18\" style=\"opacity: 0\" dominant-baseline=\"middle\" text-anchor=\"middle\">-0.01</text><svg x=\"89.48447520661801%\" y=\"40\" height=\"20\" width=\"1.160417070465627%\">  <svg x=\"0\" y=\"0\" width=\"100%\" height=\"100%\">    <text x=\"50%\" y=\"9\" font-size=\"12px\" fill=\"rgb(255,255,255)\" dominant-baseline=\"middle\" text-anchor=\"middle\">in</text>  </svg></svg><line x1=\"90.64489227708364%\" x2=\"91.36131513557312%\" y1=\"60\" y2=\"60\" id=\"_fb_qmutcfksfskfcibbuzrd_ind_16\" style=\"stroke:rgb(0.0, 138.56128015770727, 250.76166088685727);stroke-width:2; opacity: 0\"/><text x=\"91.00310370632837%\" y=\"71\" font-size=\"12px\" fill=\"rgb(0.0, 138.56128015770727, 250.76166088685727)\" id=\"_fs_qmutcfksfskfcibbuzrd_ind_16\" style=\"opacity: 0\" dominant-baseline=\"middle\" text-anchor=\"middle\">-0.006</text><svg x=\"90.64489227708364%\" y=\"40\" height=\"20\" width=\"0.7164228584894801%\">  <svg x=\"0\" y=\"0\" width=\"100%\" height=\"100%\">    <text x=\"50%\" y=\"9\" font-size=\"12px\" fill=\"rgb(255,255,255)\" dominant-baseline=\"middle\" text-anchor=\"middle\">cover</text>  </svg></svg><line x1=\"91.36131513557312%\" x2=\"91.66666666666666%\" y1=\"60\" y2=\"60\" id=\"_fb_qmutcfksfskfcibbuzrd_ind_13\" style=\"stroke:rgb(0.0, 138.56128015770727, 250.76166088685727);stroke-width:2; opacity: 0\"/><text x=\"91.51399090111988%\" y=\"71\" font-size=\"12px\" fill=\"rgb(0.0, 138.56128015770727, 250.76166088685727)\" id=\"_fs_qmutcfksfskfcibbuzrd_ind_13\" style=\"opacity: 0\" dominant-baseline=\"middle\" text-anchor=\"middle\">-0.003</text><svg x=\"91.36131513557312%\" y=\"40\" height=\"20\" width=\"0.3053515310935353%\">  <svg x=\"0\" y=\"0\" width=\"100%\" height=\"100%\">    <text x=\"50%\" y=\"9\" font-size=\"12px\" fill=\"rgb(255,255,255)\" dominant-baseline=\"middle\" text-anchor=\"middle\">family</text>  </svg></svg><g transform=\"translate(-8,0)\">  <svg x=\"23.942045694189442%\" y=\"40\" height=\"18\" overflow=\"visible\" width=\"30\">    <path d=\"M 8 -9 l -6 18 L 8 25\" fill=\"none\" style=\"stroke:rgb(0.0, 138.56128015770727, 250.76166088685727);stroke-width:2\" />  </svg></g><g transform=\"translate(-10,0)\">  <svg x=\"23.942045694189442%\" y=\"40\" height=\"18\" overflow=\"visible\" width=\"30\">    <path d=\"M 8 -9 l -6 18 L 8 25\" fill=\"none\" style=\"stroke:rgb(0.0, 138.56128015770727, 250.76166088685727);stroke-width:2\" />  </svg></g><g transform=\"translate(-12,0)\">  <svg x=\"23.942045694189442%\" y=\"40\" height=\"18\" overflow=\"visible\" width=\"30\">    <path d=\"M 8 -9 l -6 18 L 8 25\" fill=\"none\" style=\"stroke:rgb(0.0, 138.56128015770727, 250.76166088685727);stroke-width:2\" />  </svg></g><g transform=\"translate(-14,0)\">  <svg x=\"23.942045694189442%\" y=\"40\" height=\"18\" overflow=\"visible\" width=\"30\">    <path d=\"M 8 -9 l -6 18 L 8 25\" fill=\"none\" style=\"stroke:rgb(0.0, 138.56128015770727, 250.76166088685727);stroke-width:2\" />  </svg></g><g transform=\"translate(2,0)\">  <svg x=\"23.942045694189442%\" y=\"40\" height=\"18\" overflow=\"visible\" width=\"30\">    <path d=\"M 8 -9 l -6 18 L 8 25\" fill=\"none\" style=\"stroke:rgb(0.0, 138.56128015770727, 250.76166088685727);stroke-width:2\" />  </svg></g><g transform=\"translate(0,0)\">  <svg x=\"23.942045694189442%\" y=\"40\" height=\"18\" overflow=\"visible\" width=\"30\">    <path d=\"M 8 -9 l -6 18 L 8 25\" fill=\"none\" style=\"stroke:rgb(0.0, 138.56128015770727, 250.76166088685727);stroke-width:2\" />  </svg></g><g transform=\"translate(-2,0)\">  <svg x=\"23.942045694189442%\" y=\"40\" height=\"18\" overflow=\"visible\" width=\"30\">    <path d=\"M 8 -9 l -6 18 L 8 25\" fill=\"none\" style=\"stroke:rgb(0.0, 138.56128015770727, 250.76166088685727);stroke-width:2\" />  </svg></g><g transform=\"translate(-4,0)\">  <svg x=\"23.942045694189442%\" y=\"40\" height=\"18\" overflow=\"visible\" width=\"30\">    <path d=\"M 8 -9 l -6 18 L 8 25\" fill=\"none\" style=\"stroke:rgb(0.0, 138.56128015770727, 250.76166088685727);stroke-width:2\" />  </svg></g><g transform=\"translate(-8,0)\">  <svg x=\"34.32920831276211%\" y=\"40\" height=\"18\" overflow=\"visible\" width=\"30\">    <path d=\"M 8 -9 l -6 18 L 8 25\" fill=\"none\" style=\"stroke:rgb(0.0, 138.56128015770727, 250.76166088685727);stroke-width:2\" />  </svg></g><g transform=\"translate(-10,0)\">  <svg x=\"34.32920831276211%\" y=\"40\" height=\"18\" overflow=\"visible\" width=\"30\">    <path d=\"M 8 -9 l -6 18 L 8 25\" fill=\"none\" style=\"stroke:rgb(0.0, 138.56128015770727, 250.76166088685727);stroke-width:2\" />  </svg></g><g transform=\"translate(-12,0)\">  <svg x=\"34.32920831276211%\" y=\"40\" height=\"18\" overflow=\"visible\" width=\"30\">    <path d=\"M 8 -9 l -6 18 L 8 25\" fill=\"none\" style=\"stroke:rgb(0.0, 138.56128015770727, 250.76166088685727);stroke-width:2\" />  </svg></g><g transform=\"translate(-14,0)\">  <svg x=\"34.32920831276211%\" y=\"40\" height=\"18\" overflow=\"visible\" width=\"30\">    <path d=\"M 8 -9 l -6 18 L 8 25\" fill=\"none\" style=\"stroke:rgb(0.0, 138.56128015770727, 250.76166088685727);stroke-width:2\" />  </svg></g><g transform=\"translate(2,0)\">  <svg x=\"34.32920831276211%\" y=\"40\" height=\"18\" overflow=\"visible\" width=\"30\">    <path d=\"M 8 -9 l -6 18 L 8 25\" fill=\"none\" style=\"stroke:rgb(0.0, 138.56128015770727, 250.76166088685727);stroke-width:2\" />  </svg></g><g transform=\"translate(0,0)\">  <svg x=\"34.32920831276211%\" y=\"40\" height=\"18\" overflow=\"visible\" width=\"30\">    <path d=\"M 8 -9 l -6 18 L 8 25\" fill=\"none\" style=\"stroke:rgb(0.0, 138.56128015770727, 250.76166088685727);stroke-width:2\" />  </svg></g><g transform=\"translate(-2,0)\">  <svg x=\"34.32920831276211%\" y=\"40\" height=\"18\" overflow=\"visible\" width=\"30\">    <path d=\"M 8 -9 l -6 18 L 8 25\" fill=\"none\" style=\"stroke:rgb(0.0, 138.56128015770727, 250.76166088685727);stroke-width:2\" />  </svg></g><g transform=\"translate(-4,0)\">  <svg x=\"34.32920831276211%\" y=\"40\" height=\"18\" overflow=\"visible\" width=\"30\">    <path d=\"M 8 -9 l -6 18 L 8 25\" fill=\"none\" style=\"stroke:rgb(0.0, 138.56128015770727, 250.76166088685727);stroke-width:2\" />  </svg></g><g transform=\"translate(-8,0)\">  <svg x=\"42.597207885554155%\" y=\"40\" height=\"18\" overflow=\"visible\" width=\"30\">    <path d=\"M 8 -9 l -6 18 L 8 25\" fill=\"none\" style=\"stroke:rgb(0.0, 138.56128015770727, 250.76166088685727);stroke-width:2\" />  </svg></g><g transform=\"translate(-10,0)\">  <svg x=\"42.597207885554155%\" y=\"40\" height=\"18\" overflow=\"visible\" width=\"30\">    <path d=\"M 8 -9 l -6 18 L 8 25\" fill=\"none\" style=\"stroke:rgb(0.0, 138.56128015770727, 250.76166088685727);stroke-width:2\" />  </svg></g><g transform=\"translate(-12,0)\">  <svg x=\"42.597207885554155%\" y=\"40\" height=\"18\" overflow=\"visible\" width=\"30\">    <path d=\"M 8 -9 l -6 18 L 8 25\" fill=\"none\" style=\"stroke:rgb(0.0, 138.56128015770727, 250.76166088685727);stroke-width:2\" />  </svg></g><g transform=\"translate(-14,0)\">  <svg x=\"42.597207885554155%\" y=\"40\" height=\"18\" overflow=\"visible\" width=\"30\">    <path d=\"M 8 -9 l -6 18 L 8 25\" fill=\"none\" style=\"stroke:rgb(0.0, 138.56128015770727, 250.76166088685727);stroke-width:2\" />  </svg></g><g transform=\"translate(2,0)\">  <svg x=\"42.597207885554155%\" y=\"40\" height=\"18\" overflow=\"visible\" width=\"30\">    <path d=\"M 8 -9 l -6 18 L 8 25\" fill=\"none\" style=\"stroke:rgb(0.0, 138.56128015770727, 250.76166088685727);stroke-width:2\" />  </svg></g><g transform=\"translate(0,0)\">  <svg x=\"42.597207885554155%\" y=\"40\" height=\"18\" overflow=\"visible\" width=\"30\">    <path d=\"M 8 -9 l -6 18 L 8 25\" fill=\"none\" style=\"stroke:rgb(0.0, 138.56128015770727, 250.76166088685727);stroke-width:2\" />  </svg></g><g transform=\"translate(-2,0)\">  <svg x=\"42.597207885554155%\" y=\"40\" height=\"18\" overflow=\"visible\" width=\"30\">    <path d=\"M 8 -9 l -6 18 L 8 25\" fill=\"none\" style=\"stroke:rgb(0.0, 138.56128015770727, 250.76166088685727);stroke-width:2\" />  </svg></g><g transform=\"translate(-4,0)\">  <svg x=\"42.597207885554155%\" y=\"40\" height=\"18\" overflow=\"visible\" width=\"30\">    <path d=\"M 8 -9 l -6 18 L 8 25\" fill=\"none\" style=\"stroke:rgb(0.0, 138.56128015770727, 250.76166088685727);stroke-width:2\" />  </svg></g><g transform=\"translate(-8,0)\">  <svg x=\"50.75799292844745%\" y=\"40\" height=\"18\" overflow=\"visible\" width=\"30\">    <path d=\"M 8 -9 l -6 18 L 8 25\" fill=\"none\" style=\"stroke:rgb(0.0, 138.56128015770727, 250.76166088685727);stroke-width:2\" />  </svg></g><g transform=\"translate(-10,0)\">  <svg x=\"50.75799292844745%\" y=\"40\" height=\"18\" overflow=\"visible\" width=\"30\">    <path d=\"M 8 -9 l -6 18 L 8 25\" fill=\"none\" style=\"stroke:rgb(0.0, 138.56128015770727, 250.76166088685727);stroke-width:2\" />  </svg></g><g transform=\"translate(-12,0)\">  <svg x=\"50.75799292844745%\" y=\"40\" height=\"18\" overflow=\"visible\" width=\"30\">    <path d=\"M 8 -9 l -6 18 L 8 25\" fill=\"none\" style=\"stroke:rgb(0.0, 138.56128015770727, 250.76166088685727);stroke-width:2\" />  </svg></g><g transform=\"translate(-14,0)\">  <svg x=\"50.75799292844745%\" y=\"40\" height=\"18\" overflow=\"visible\" width=\"30\">    <path d=\"M 8 -9 l -6 18 L 8 25\" fill=\"none\" style=\"stroke:rgb(0.0, 138.56128015770727, 250.76166088685727);stroke-width:2\" />  </svg></g><g transform=\"translate(2,0)\">  <svg x=\"50.75799292844745%\" y=\"40\" height=\"18\" overflow=\"visible\" width=\"30\">    <path d=\"M 8 -9 l -6 18 L 8 25\" fill=\"none\" style=\"stroke:rgb(0.0, 138.56128015770727, 250.76166088685727);stroke-width:2\" />  </svg></g><g transform=\"translate(0,0)\">  <svg x=\"50.75799292844745%\" y=\"40\" height=\"18\" overflow=\"visible\" width=\"30\">    <path d=\"M 8 -9 l -6 18 L 8 25\" fill=\"none\" style=\"stroke:rgb(0.0, 138.56128015770727, 250.76166088685727);stroke-width:2\" />  </svg></g><g transform=\"translate(-2,0)\">  <svg x=\"50.75799292844745%\" y=\"40\" height=\"18\" overflow=\"visible\" width=\"30\">    <path d=\"M 8 -9 l -6 18 L 8 25\" fill=\"none\" style=\"stroke:rgb(0.0, 138.56128015770727, 250.76166088685727);stroke-width:2\" />  </svg></g><g transform=\"translate(-4,0)\">  <svg x=\"50.75799292844745%\" y=\"40\" height=\"18\" overflow=\"visible\" width=\"30\">    <path d=\"M 8 -9 l -6 18 L 8 25\" fill=\"none\" style=\"stroke:rgb(0.0, 138.56128015770727, 250.76166088685727);stroke-width:2\" />  </svg></g><g transform=\"translate(-8,0)\">  <svg x=\"57.85305938836903%\" y=\"40\" height=\"18\" overflow=\"visible\" width=\"30\">    <path d=\"M 8 -9 l -6 18 L 8 25\" fill=\"none\" style=\"stroke:rgb(0.0, 138.56128015770727, 250.76166088685727);stroke-width:2\" />  </svg></g><g transform=\"translate(-10,0)\">  <svg x=\"57.85305938836903%\" y=\"40\" height=\"18\" overflow=\"visible\" width=\"30\">    <path d=\"M 8 -9 l -6 18 L 8 25\" fill=\"none\" style=\"stroke:rgb(0.0, 138.56128015770727, 250.76166088685727);stroke-width:2\" />  </svg></g><g transform=\"translate(-12,0)\">  <svg x=\"57.85305938836903%\" y=\"40\" height=\"18\" overflow=\"visible\" width=\"30\">    <path d=\"M 8 -9 l -6 18 L 8 25\" fill=\"none\" style=\"stroke:rgb(0.0, 138.56128015770727, 250.76166088685727);stroke-width:2\" />  </svg></g><g transform=\"translate(-14,0)\">  <svg x=\"57.85305938836903%\" y=\"40\" height=\"18\" overflow=\"visible\" width=\"30\">    <path d=\"M 8 -9 l -6 18 L 8 25\" fill=\"none\" style=\"stroke:rgb(0.0, 138.56128015770727, 250.76166088685727);stroke-width:2\" />  </svg></g><g transform=\"translate(2,0)\">  <svg x=\"57.85305938836903%\" y=\"40\" height=\"18\" overflow=\"visible\" width=\"30\">    <path d=\"M 8 -9 l -6 18 L 8 25\" fill=\"none\" style=\"stroke:rgb(0.0, 138.56128015770727, 250.76166088685727);stroke-width:2\" />  </svg></g><g transform=\"translate(0,0)\">  <svg x=\"57.85305938836903%\" y=\"40\" height=\"18\" overflow=\"visible\" width=\"30\">    <path d=\"M 8 -9 l -6 18 L 8 25\" fill=\"none\" style=\"stroke:rgb(0.0, 138.56128015770727, 250.76166088685727);stroke-width:2\" />  </svg></g><g transform=\"translate(-2,0)\">  <svg x=\"57.85305938836903%\" y=\"40\" height=\"18\" overflow=\"visible\" width=\"30\">    <path d=\"M 8 -9 l -6 18 L 8 25\" fill=\"none\" style=\"stroke:rgb(0.0, 138.56128015770727, 250.76166088685727);stroke-width:2\" />  </svg></g><g transform=\"translate(-4,0)\">  <svg x=\"57.85305938836903%\" y=\"40\" height=\"18\" overflow=\"visible\" width=\"30\">    <path d=\"M 8 -9 l -6 18 L 8 25\" fill=\"none\" style=\"stroke:rgb(0.0, 138.56128015770727, 250.76166088685727);stroke-width:2\" />  </svg></g><g transform=\"translate(-8,0)\">  <svg x=\"62.712780093289666%\" y=\"40\" height=\"18\" overflow=\"visible\" width=\"30\">    <path d=\"M 8 -9 l -6 18 L 8 25\" fill=\"none\" style=\"stroke:rgb(0.0, 138.56128015770727, 250.76166088685727);stroke-width:2\" />  </svg></g><g transform=\"translate(-10,0)\">  <svg x=\"62.712780093289666%\" y=\"40\" height=\"18\" overflow=\"visible\" width=\"30\">    <path d=\"M 8 -9 l -6 18 L 8 25\" fill=\"none\" style=\"stroke:rgb(0.0, 138.56128015770727, 250.76166088685727);stroke-width:2\" />  </svg></g><g transform=\"translate(-12,0)\">  <svg x=\"62.712780093289666%\" y=\"40\" height=\"18\" overflow=\"visible\" width=\"30\">    <path d=\"M 8 -9 l -6 18 L 8 25\" fill=\"none\" style=\"stroke:rgb(0.0, 138.56128015770727, 250.76166088685727);stroke-width:2\" />  </svg></g><g transform=\"translate(-14,0)\">  <svg x=\"62.712780093289666%\" y=\"40\" height=\"18\" overflow=\"visible\" width=\"30\">    <path d=\"M 8 -9 l -6 18 L 8 25\" fill=\"none\" style=\"stroke:rgb(0.0, 138.56128015770727, 250.76166088685727);stroke-width:2\" />  </svg></g><g transform=\"translate(2,0)\">  <svg x=\"62.712780093289666%\" y=\"40\" height=\"18\" overflow=\"visible\" width=\"30\">    <path d=\"M 8 -9 l -6 18 L 8 25\" fill=\"none\" style=\"stroke:rgb(0.0, 138.56128015770727, 250.76166088685727);stroke-width:2\" />  </svg></g><g transform=\"translate(0,0)\">  <svg x=\"62.712780093289666%\" y=\"40\" height=\"18\" overflow=\"visible\" width=\"30\">    <path d=\"M 8 -9 l -6 18 L 8 25\" fill=\"none\" style=\"stroke:rgb(0.0, 138.56128015770727, 250.76166088685727);stroke-width:2\" />  </svg></g><g transform=\"translate(-2,0)\">  <svg x=\"62.712780093289666%\" y=\"40\" height=\"18\" overflow=\"visible\" width=\"30\">    <path d=\"M 8 -9 l -6 18 L 8 25\" fill=\"none\" style=\"stroke:rgb(0.0, 138.56128015770727, 250.76166088685727);stroke-width:2\" />  </svg></g><g transform=\"translate(-4,0)\">  <svg x=\"62.712780093289666%\" y=\"40\" height=\"18\" overflow=\"visible\" width=\"30\">    <path d=\"M 8 -9 l -6 18 L 8 25\" fill=\"none\" style=\"stroke:rgb(0.0, 138.56128015770727, 250.76166088685727);stroke-width:2\" />  </svg></g><g transform=\"translate(-8,0)\">  <svg x=\"67.25789049264971%\" y=\"40\" height=\"18\" overflow=\"visible\" width=\"30\">    <path d=\"M 8 -9 l -6 18 L 8 25\" fill=\"none\" style=\"stroke:rgb(0.0, 138.56128015770727, 250.76166088685727);stroke-width:2\" />  </svg></g><g transform=\"translate(-10,0)\">  <svg x=\"67.25789049264971%\" y=\"40\" height=\"18\" overflow=\"visible\" width=\"30\">    <path d=\"M 8 -9 l -6 18 L 8 25\" fill=\"none\" style=\"stroke:rgb(0.0, 138.56128015770727, 250.76166088685727);stroke-width:2\" />  </svg></g><g transform=\"translate(-12,0)\">  <svg x=\"67.25789049264971%\" y=\"40\" height=\"18\" overflow=\"visible\" width=\"30\">    <path d=\"M 8 -9 l -6 18 L 8 25\" fill=\"none\" style=\"stroke:rgb(0.0, 138.56128015770727, 250.76166088685727);stroke-width:2\" />  </svg></g><g transform=\"translate(-14,0)\">  <svg x=\"67.25789049264971%\" y=\"40\" height=\"18\" overflow=\"visible\" width=\"30\">    <path d=\"M 8 -9 l -6 18 L 8 25\" fill=\"none\" style=\"stroke:rgb(0.0, 138.56128015770727, 250.76166088685727);stroke-width:2\" />  </svg></g><g transform=\"translate(2,0)\">  <svg x=\"67.25789049264971%\" y=\"40\" height=\"18\" overflow=\"visible\" width=\"30\">    <path d=\"M 8 -9 l -6 18 L 8 25\" fill=\"none\" style=\"stroke:rgb(0.0, 138.56128015770727, 250.76166088685727);stroke-width:2\" />  </svg></g><g transform=\"translate(0,0)\">  <svg x=\"67.25789049264971%\" y=\"40\" height=\"18\" overflow=\"visible\" width=\"30\">    <path d=\"M 8 -9 l -6 18 L 8 25\" fill=\"none\" style=\"stroke:rgb(0.0, 138.56128015770727, 250.76166088685727);stroke-width:2\" />  </svg></g><g transform=\"translate(-2,0)\">  <svg x=\"67.25789049264971%\" y=\"40\" height=\"18\" overflow=\"visible\" width=\"30\">    <path d=\"M 8 -9 l -6 18 L 8 25\" fill=\"none\" style=\"stroke:rgb(0.0, 138.56128015770727, 250.76166088685727);stroke-width:2\" />  </svg></g><g transform=\"translate(-4,0)\">  <svg x=\"67.25789049264971%\" y=\"40\" height=\"18\" overflow=\"visible\" width=\"30\">    <path d=\"M 8 -9 l -6 18 L 8 25\" fill=\"none\" style=\"stroke:rgb(0.0, 138.56128015770727, 250.76166088685727);stroke-width:2\" />  </svg></g><g transform=\"translate(-8,0)\">  <svg x=\"71.39496010856796%\" y=\"40\" height=\"18\" overflow=\"visible\" width=\"30\">    <path d=\"M 8 -9 l -6 18 L 8 25\" fill=\"none\" style=\"stroke:rgb(0.0, 138.56128015770727, 250.76166088685727);stroke-width:2\" />  </svg></g><g transform=\"translate(-10,0)\">  <svg x=\"71.39496010856796%\" y=\"40\" height=\"18\" overflow=\"visible\" width=\"30\">    <path d=\"M 8 -9 l -6 18 L 8 25\" fill=\"none\" style=\"stroke:rgb(0.0, 138.56128015770727, 250.76166088685727);stroke-width:2\" />  </svg></g><g transform=\"translate(-12,0)\">  <svg x=\"71.39496010856796%\" y=\"40\" height=\"18\" overflow=\"visible\" width=\"30\">    <path d=\"M 8 -9 l -6 18 L 8 25\" fill=\"none\" style=\"stroke:rgb(0.0, 138.56128015770727, 250.76166088685727);stroke-width:2\" />  </svg></g><g transform=\"translate(-14,0)\">  <svg x=\"71.39496010856796%\" y=\"40\" height=\"18\" overflow=\"visible\" width=\"30\">    <path d=\"M 8 -9 l -6 18 L 8 25\" fill=\"none\" style=\"stroke:rgb(0.0, 138.56128015770727, 250.76166088685727);stroke-width:2\" />  </svg></g><g transform=\"translate(2,0)\">  <svg x=\"71.39496010856796%\" y=\"40\" height=\"18\" overflow=\"visible\" width=\"30\">    <path d=\"M 8 -9 l -6 18 L 8 25\" fill=\"none\" style=\"stroke:rgb(0.0, 138.56128015770727, 250.76166088685727);stroke-width:2\" />  </svg></g><g transform=\"translate(0,0)\">  <svg x=\"71.39496010856796%\" y=\"40\" height=\"18\" overflow=\"visible\" width=\"30\">    <path d=\"M 8 -9 l -6 18 L 8 25\" fill=\"none\" style=\"stroke:rgb(0.0, 138.56128015770727, 250.76166088685727);stroke-width:2\" />  </svg></g><g transform=\"translate(-2,0)\">  <svg x=\"71.39496010856796%\" y=\"40\" height=\"18\" overflow=\"visible\" width=\"30\">    <path d=\"M 8 -9 l -6 18 L 8 25\" fill=\"none\" style=\"stroke:rgb(0.0, 138.56128015770727, 250.76166088685727);stroke-width:2\" />  </svg></g><g transform=\"translate(-4,0)\">  <svg x=\"71.39496010856796%\" y=\"40\" height=\"18\" overflow=\"visible\" width=\"30\">    <path d=\"M 8 -9 l -6 18 L 8 25\" fill=\"none\" style=\"stroke:rgb(0.0, 138.56128015770727, 250.76166088685727);stroke-width:2\" />  </svg></g><g transform=\"translate(-8,0)\">  <svg x=\"75.50475246533614%\" y=\"40\" height=\"18\" overflow=\"visible\" width=\"30\">    <path d=\"M 8 -9 l -6 18 L 8 25\" fill=\"none\" style=\"stroke:rgb(0.0, 138.56128015770727, 250.76166088685727);stroke-width:2\" />  </svg></g><g transform=\"translate(-10,0)\">  <svg x=\"75.50475246533614%\" y=\"40\" height=\"18\" overflow=\"visible\" width=\"30\">    <path d=\"M 8 -9 l -6 18 L 8 25\" fill=\"none\" style=\"stroke:rgb(0.0, 138.56128015770727, 250.76166088685727);stroke-width:2\" />  </svg></g><g transform=\"translate(-12,0)\">  <svg x=\"75.50475246533614%\" y=\"40\" height=\"18\" overflow=\"visible\" width=\"30\">    <path d=\"M 8 -9 l -6 18 L 8 25\" fill=\"none\" style=\"stroke:rgb(0.0, 138.56128015770727, 250.76166088685727);stroke-width:2\" />  </svg></g><g transform=\"translate(-14,0)\">  <svg x=\"75.50475246533614%\" y=\"40\" height=\"18\" overflow=\"visible\" width=\"30\">    <path d=\"M 8 -9 l -6 18 L 8 25\" fill=\"none\" style=\"stroke:rgb(0.0, 138.56128015770727, 250.76166088685727);stroke-width:2\" />  </svg></g><g transform=\"translate(2,0)\">  <svg x=\"75.50475246533614%\" y=\"40\" height=\"18\" overflow=\"visible\" width=\"30\">    <path d=\"M 8 -9 l -6 18 L 8 25\" fill=\"none\" style=\"stroke:rgb(0.0, 138.56128015770727, 250.76166088685727);stroke-width:2\" />  </svg></g><g transform=\"translate(0,0)\">  <svg x=\"75.50475246533614%\" y=\"40\" height=\"18\" overflow=\"visible\" width=\"30\">    <path d=\"M 8 -9 l -6 18 L 8 25\" fill=\"none\" style=\"stroke:rgb(0.0, 138.56128015770727, 250.76166088685727);stroke-width:2\" />  </svg></g><g transform=\"translate(-2,0)\">  <svg x=\"75.50475246533614%\" y=\"40\" height=\"18\" overflow=\"visible\" width=\"30\">    <path d=\"M 8 -9 l -6 18 L 8 25\" fill=\"none\" style=\"stroke:rgb(0.0, 138.56128015770727, 250.76166088685727);stroke-width:2\" />  </svg></g><g transform=\"translate(-4,0)\">  <svg x=\"75.50475246533614%\" y=\"40\" height=\"18\" overflow=\"visible\" width=\"30\">    <path d=\"M 8 -9 l -6 18 L 8 25\" fill=\"none\" style=\"stroke:rgb(0.0, 138.56128015770727, 250.76166088685727);stroke-width:2\" />  </svg></g><g transform=\"translate(-8,0)\">  <svg x=\"78.96153450941239%\" y=\"40\" height=\"18\" overflow=\"visible\" width=\"30\">    <path d=\"M 8 -9 l -6 18 L 8 25\" fill=\"none\" style=\"stroke:rgb(0.0, 138.56128015770727, 250.76166088685727);stroke-width:2\" />  </svg></g><g transform=\"translate(-10,0)\">  <svg x=\"78.96153450941239%\" y=\"40\" height=\"18\" overflow=\"visible\" width=\"30\">    <path d=\"M 8 -9 l -6 18 L 8 25\" fill=\"none\" style=\"stroke:rgb(0.0, 138.56128015770727, 250.76166088685727);stroke-width:2\" />  </svg></g><g transform=\"translate(-12,0)\">  <svg x=\"78.96153450941239%\" y=\"40\" height=\"18\" overflow=\"visible\" width=\"30\">    <path d=\"M 8 -9 l -6 18 L 8 25\" fill=\"none\" style=\"stroke:rgb(0.0, 138.56128015770727, 250.76166088685727);stroke-width:2\" />  </svg></g><g transform=\"translate(-14,0)\">  <svg x=\"78.96153450941239%\" y=\"40\" height=\"18\" overflow=\"visible\" width=\"30\">    <path d=\"M 8 -9 l -6 18 L 8 25\" fill=\"none\" style=\"stroke:rgb(0.0, 138.56128015770727, 250.76166088685727);stroke-width:2\" />  </svg></g><g transform=\"translate(2,0)\">  <svg x=\"78.96153450941239%\" y=\"40\" height=\"18\" overflow=\"visible\" width=\"30\">    <path d=\"M 8 -9 l -6 18 L 8 25\" fill=\"none\" style=\"stroke:rgb(0.0, 138.56128015770727, 250.76166088685727);stroke-width:2\" />  </svg></g><g transform=\"translate(0,0)\">  <svg x=\"78.96153450941239%\" y=\"40\" height=\"18\" overflow=\"visible\" width=\"30\">    <path d=\"M 8 -9 l -6 18 L 8 25\" fill=\"none\" style=\"stroke:rgb(0.0, 138.56128015770727, 250.76166088685727);stroke-width:2\" />  </svg></g><g transform=\"translate(-2,0)\">  <svg x=\"78.96153450941239%\" y=\"40\" height=\"18\" overflow=\"visible\" width=\"30\">    <path d=\"M 8 -9 l -6 18 L 8 25\" fill=\"none\" style=\"stroke:rgb(0.0, 138.56128015770727, 250.76166088685727);stroke-width:2\" />  </svg></g><g transform=\"translate(-4,0)\">  <svg x=\"78.96153450941239%\" y=\"40\" height=\"18\" overflow=\"visible\" width=\"30\">    <path d=\"M 8 -9 l -6 18 L 8 25\" fill=\"none\" style=\"stroke:rgb(0.0, 138.56128015770727, 250.76166088685727);stroke-width:2\" />  </svg></g><g transform=\"translate(-8,0)\">  <svg x=\"82.18874309060256%\" y=\"40\" height=\"18\" overflow=\"visible\" width=\"30\">    <path d=\"M 8 -9 l -6 18 L 8 25\" fill=\"none\" style=\"stroke:rgb(0.0, 138.56128015770727, 250.76166088685727);stroke-width:2\" />  </svg></g><g transform=\"translate(-10,0)\">  <svg x=\"82.18874309060256%\" y=\"40\" height=\"18\" overflow=\"visible\" width=\"30\">    <path d=\"M 8 -9 l -6 18 L 8 25\" fill=\"none\" style=\"stroke:rgb(0.0, 138.56128015770727, 250.76166088685727);stroke-width:2\" />  </svg></g><g transform=\"translate(-12,0)\">  <svg x=\"82.18874309060256%\" y=\"40\" height=\"18\" overflow=\"visible\" width=\"30\">    <path d=\"M 8 -9 l -6 18 L 8 25\" fill=\"none\" style=\"stroke:rgb(0.0, 138.56128015770727, 250.76166088685727);stroke-width:2\" />  </svg></g><g transform=\"translate(-14,0)\">  <svg x=\"82.18874309060256%\" y=\"40\" height=\"18\" overflow=\"visible\" width=\"30\">    <path d=\"M 8 -9 l -6 18 L 8 25\" fill=\"none\" style=\"stroke:rgb(0.0, 138.56128015770727, 250.76166088685727);stroke-width:2\" />  </svg></g><g transform=\"translate(2,0)\">  <svg x=\"82.18874309060256%\" y=\"40\" height=\"18\" overflow=\"visible\" width=\"30\">    <path d=\"M 8 -9 l -6 18 L 8 25\" fill=\"none\" style=\"stroke:rgb(0.0, 138.56128015770727, 250.76166088685727);stroke-width:2\" />  </svg></g><g transform=\"translate(0,0)\">  <svg x=\"82.18874309060256%\" y=\"40\" height=\"18\" overflow=\"visible\" width=\"30\">    <path d=\"M 8 -9 l -6 18 L 8 25\" fill=\"none\" style=\"stroke:rgb(0.0, 138.56128015770727, 250.76166088685727);stroke-width:2\" />  </svg></g><g transform=\"translate(-2,0)\">  <svg x=\"82.18874309060256%\" y=\"40\" height=\"18\" overflow=\"visible\" width=\"30\">    <path d=\"M 8 -9 l -6 18 L 8 25\" fill=\"none\" style=\"stroke:rgb(0.0, 138.56128015770727, 250.76166088685727);stroke-width:2\" />  </svg></g><g transform=\"translate(-4,0)\">  <svg x=\"82.18874309060256%\" y=\"40\" height=\"18\" overflow=\"visible\" width=\"30\">    <path d=\"M 8 -9 l -6 18 L 8 25\" fill=\"none\" style=\"stroke:rgb(0.0, 138.56128015770727, 250.76166088685727);stroke-width:2\" />  </svg></g><g transform=\"translate(-8,0)\">  <svg x=\"85.35359701392015%\" y=\"40\" height=\"18\" overflow=\"visible\" width=\"30\">    <path d=\"M 8 -9 l -6 18 L 8 25\" fill=\"none\" style=\"stroke:rgb(0.0, 138.56128015770727, 250.76166088685727);stroke-width:2\" />  </svg></g><g transform=\"translate(-10,0)\">  <svg x=\"85.35359701392015%\" y=\"40\" height=\"18\" overflow=\"visible\" width=\"30\">    <path d=\"M 8 -9 l -6 18 L 8 25\" fill=\"none\" style=\"stroke:rgb(0.0, 138.56128015770727, 250.76166088685727);stroke-width:2\" />  </svg></g><g transform=\"translate(-12,0)\">  <svg x=\"85.35359701392015%\" y=\"40\" height=\"18\" overflow=\"visible\" width=\"30\">    <path d=\"M 8 -9 l -6 18 L 8 25\" fill=\"none\" style=\"stroke:rgb(0.0, 138.56128015770727, 250.76166088685727);stroke-width:2\" />  </svg></g><g transform=\"translate(-14,0)\">  <svg x=\"85.35359701392015%\" y=\"40\" height=\"18\" overflow=\"visible\" width=\"30\">    <path d=\"M 8 -9 l -6 18 L 8 25\" fill=\"none\" style=\"stroke:rgb(0.0, 138.56128015770727, 250.76166088685727);stroke-width:2\" />  </svg></g><g transform=\"translate(2,0)\">  <svg x=\"85.35359701392015%\" y=\"40\" height=\"18\" overflow=\"visible\" width=\"30\">    <path d=\"M 8 -9 l -6 18 L 8 25\" fill=\"none\" style=\"stroke:rgb(0.0, 138.56128015770727, 250.76166088685727);stroke-width:2\" />  </svg></g><g transform=\"translate(0,0)\">  <svg x=\"85.35359701392015%\" y=\"40\" height=\"18\" overflow=\"visible\" width=\"30\">    <path d=\"M 8 -9 l -6 18 L 8 25\" fill=\"none\" style=\"stroke:rgb(0.0, 138.56128015770727, 250.76166088685727);stroke-width:2\" />  </svg></g><g transform=\"translate(-2,0)\">  <svg x=\"85.35359701392015%\" y=\"40\" height=\"18\" overflow=\"visible\" width=\"30\">    <path d=\"M 8 -9 l -6 18 L 8 25\" fill=\"none\" style=\"stroke:rgb(0.0, 138.56128015770727, 250.76166088685727);stroke-width:2\" />  </svg></g><g transform=\"translate(-4,0)\">  <svg x=\"85.35359701392015%\" y=\"40\" height=\"18\" overflow=\"visible\" width=\"30\">    <path d=\"M 8 -9 l -6 18 L 8 25\" fill=\"none\" style=\"stroke:rgb(0.0, 138.56128015770727, 250.76166088685727);stroke-width:2\" />  </svg></g><g transform=\"translate(-8,0)\">  <svg x=\"88.20013940945587%\" y=\"40\" height=\"18\" overflow=\"visible\" width=\"30\">    <path d=\"M 8 -9 l -6 18 L 8 25\" fill=\"none\" style=\"stroke:rgb(0.0, 138.56128015770727, 250.76166088685727);stroke-width:2\" />  </svg></g><g transform=\"translate(-10,0)\">  <svg x=\"88.20013940945587%\" y=\"40\" height=\"18\" overflow=\"visible\" width=\"30\">    <path d=\"M 8 -9 l -6 18 L 8 25\" fill=\"none\" style=\"stroke:rgb(0.0, 138.56128015770727, 250.76166088685727);stroke-width:2\" />  </svg></g><g transform=\"translate(-12,0)\">  <svg x=\"88.20013940945587%\" y=\"40\" height=\"18\" overflow=\"visible\" width=\"30\">    <path d=\"M 8 -9 l -6 18 L 8 25\" fill=\"none\" style=\"stroke:rgb(0.0, 138.56128015770727, 250.76166088685727);stroke-width:2\" />  </svg></g><g transform=\"translate(-14,0)\">  <svg x=\"88.20013940945587%\" y=\"40\" height=\"18\" overflow=\"visible\" width=\"30\">    <path d=\"M 8 -9 l -6 18 L 8 25\" fill=\"none\" style=\"stroke:rgb(0.0, 138.56128015770727, 250.76166088685727);stroke-width:2\" />  </svg></g><g transform=\"translate(2,0)\">  <svg x=\"88.20013940945587%\" y=\"40\" height=\"18\" overflow=\"visible\" width=\"30\">    <path d=\"M 8 -9 l -6 18 L 8 25\" fill=\"none\" style=\"stroke:rgb(0.0, 138.56128015770727, 250.76166088685727);stroke-width:2\" />  </svg></g><g transform=\"translate(0,0)\">  <svg x=\"88.20013940945587%\" y=\"40\" height=\"18\" overflow=\"visible\" width=\"30\">    <path d=\"M 8 -9 l -6 18 L 8 25\" fill=\"none\" style=\"stroke:rgb(0.0, 138.56128015770727, 250.76166088685727);stroke-width:2\" />  </svg></g><g transform=\"translate(-2,0)\">  <svg x=\"88.20013940945587%\" y=\"40\" height=\"18\" overflow=\"visible\" width=\"30\">    <path d=\"M 8 -9 l -6 18 L 8 25\" fill=\"none\" style=\"stroke:rgb(0.0, 138.56128015770727, 250.76166088685727);stroke-width:2\" />  </svg></g><g transform=\"translate(-4,0)\">  <svg x=\"88.20013940945587%\" y=\"40\" height=\"18\" overflow=\"visible\" width=\"30\">    <path d=\"M 8 -9 l -6 18 L 8 25\" fill=\"none\" style=\"stroke:rgb(0.0, 138.56128015770727, 250.76166088685727);stroke-width:2\" />  </svg></g><g transform=\"translate(-8,0)\">  <svg x=\"89.48447520661801%\" y=\"40\" height=\"18\" overflow=\"visible\" width=\"30\">    <path d=\"M 8 -9 l -6 18 L 8 25\" fill=\"none\" style=\"stroke:rgb(0.0, 138.56128015770727, 250.76166088685727);stroke-width:2\" />  </svg></g><g transform=\"translate(-10,0)\">  <svg x=\"89.48447520661801%\" y=\"40\" height=\"18\" overflow=\"visible\" width=\"30\">    <path d=\"M 8 -9 l -6 18 L 8 25\" fill=\"none\" style=\"stroke:rgb(0.0, 138.56128015770727, 250.76166088685727);stroke-width:2\" />  </svg></g><g transform=\"translate(-12,0)\">  <svg x=\"89.48447520661801%\" y=\"40\" height=\"18\" overflow=\"visible\" width=\"30\">    <path d=\"M 8 -9 l -6 18 L 8 25\" fill=\"none\" style=\"stroke:rgb(0.0, 138.56128015770727, 250.76166088685727);stroke-width:2\" />  </svg></g><g transform=\"translate(-14,0)\">  <svg x=\"89.48447520661801%\" y=\"40\" height=\"18\" overflow=\"visible\" width=\"30\">    <path d=\"M 8 -9 l -6 18 L 8 25\" fill=\"none\" style=\"stroke:rgb(0.0, 138.56128015770727, 250.76166088685727);stroke-width:2\" />  </svg></g><g transform=\"translate(2,0)\">  <svg x=\"89.48447520661801%\" y=\"40\" height=\"18\" overflow=\"visible\" width=\"30\">    <path d=\"M 8 -9 l -6 18 L 8 25\" fill=\"none\" style=\"stroke:rgb(0.0, 138.56128015770727, 250.76166088685727);stroke-width:2\" />  </svg></g><g transform=\"translate(0,0)\">  <svg x=\"89.48447520661801%\" y=\"40\" height=\"18\" overflow=\"visible\" width=\"30\">    <path d=\"M 8 -9 l -6 18 L 8 25\" fill=\"none\" style=\"stroke:rgb(0.0, 138.56128015770727, 250.76166088685727);stroke-width:2\" />  </svg></g><g transform=\"translate(-2,0)\">  <svg x=\"89.48447520661801%\" y=\"40\" height=\"18\" overflow=\"visible\" width=\"30\">    <path d=\"M 8 -9 l -6 18 L 8 25\" fill=\"none\" style=\"stroke:rgb(0.0, 138.56128015770727, 250.76166088685727);stroke-width:2\" />  </svg></g><g transform=\"translate(-4,0)\">  <svg x=\"89.48447520661801%\" y=\"40\" height=\"18\" overflow=\"visible\" width=\"30\">    <path d=\"M 8 -9 l -6 18 L 8 25\" fill=\"none\" style=\"stroke:rgb(0.0, 138.56128015770727, 250.76166088685727);stroke-width:2\" />  </svg></g><g transform=\"translate(-8,0)\">  <svg x=\"90.64489227708364%\" y=\"40\" height=\"18\" overflow=\"visible\" width=\"30\">    <path d=\"M 8 -9 l -6 18 L 8 25\" fill=\"none\" style=\"stroke:rgb(0.0, 138.56128015770727, 250.76166088685727);stroke-width:2\" />  </svg></g><g transform=\"translate(-10,0)\">  <svg x=\"90.64489227708364%\" y=\"40\" height=\"18\" overflow=\"visible\" width=\"30\">    <path d=\"M 8 -9 l -6 18 L 8 25\" fill=\"none\" style=\"stroke:rgb(0.0, 138.56128015770727, 250.76166088685727);stroke-width:2\" />  </svg></g><g transform=\"translate(-12,0)\">  <svg x=\"90.64489227708364%\" y=\"40\" height=\"18\" overflow=\"visible\" width=\"30\">    <path d=\"M 8 -9 l -6 18 L 8 25\" fill=\"none\" style=\"stroke:rgb(0.0, 138.56128015770727, 250.76166088685727);stroke-width:2\" />  </svg></g><g transform=\"translate(-14,0)\">  <svg x=\"90.64489227708364%\" y=\"40\" height=\"18\" overflow=\"visible\" width=\"30\">    <path d=\"M 8 -9 l -6 18 L 8 25\" fill=\"none\" style=\"stroke:rgb(0.0, 138.56128015770727, 250.76166088685727);stroke-width:2\" />  </svg></g><g transform=\"translate(2,0)\">  <svg x=\"90.64489227708364%\" y=\"40\" height=\"18\" overflow=\"visible\" width=\"30\">    <path d=\"M 8 -9 l -6 18 L 8 25\" fill=\"none\" style=\"stroke:rgb(0.0, 138.56128015770727, 250.76166088685727);stroke-width:2\" />  </svg></g><g transform=\"translate(0,0)\">  <svg x=\"90.64489227708364%\" y=\"40\" height=\"18\" overflow=\"visible\" width=\"30\">    <path d=\"M 8 -9 l -6 18 L 8 25\" fill=\"none\" style=\"stroke:rgb(0.0, 138.56128015770727, 250.76166088685727);stroke-width:2\" />  </svg></g><g transform=\"translate(-2,0)\">  <svg x=\"90.64489227708364%\" y=\"40\" height=\"18\" overflow=\"visible\" width=\"30\">    <path d=\"M 8 -9 l -6 18 L 8 25\" fill=\"none\" style=\"stroke:rgb(0.0, 138.56128015770727, 250.76166088685727);stroke-width:2\" />  </svg></g><g transform=\"translate(-4,0)\">  <svg x=\"90.64489227708364%\" y=\"40\" height=\"18\" overflow=\"visible\" width=\"30\">    <path d=\"M 8 -9 l -6 18 L 8 25\" fill=\"none\" style=\"stroke:rgb(0.0, 138.56128015770727, 250.76166088685727);stroke-width:2\" />  </svg></g><g transform=\"translate(-8,0)\">  <svg x=\"91.36131513557312%\" y=\"40\" height=\"18\" overflow=\"visible\" width=\"30\">    <path d=\"M 8 -9 l -6 18 L 8 25\" fill=\"none\" style=\"stroke:rgb(0.0, 138.56128015770727, 250.76166088685727);stroke-width:2\" />  </svg></g><g transform=\"translate(-10,0)\">  <svg x=\"91.36131513557312%\" y=\"40\" height=\"18\" overflow=\"visible\" width=\"30\">    <path d=\"M 8 -9 l -6 18 L 8 25\" fill=\"none\" style=\"stroke:rgb(0.0, 138.56128015770727, 250.76166088685727);stroke-width:2\" />  </svg></g><g transform=\"translate(-12,0)\">  <svg x=\"91.36131513557312%\" y=\"40\" height=\"18\" overflow=\"visible\" width=\"30\">    <path d=\"M 8 -9 l -6 18 L 8 25\" fill=\"none\" style=\"stroke:rgb(0.0, 138.56128015770727, 250.76166088685727);stroke-width:2\" />  </svg></g><g transform=\"translate(-14,0)\">  <svg x=\"91.36131513557312%\" y=\"40\" height=\"18\" overflow=\"visible\" width=\"30\">    <path d=\"M 8 -9 l -6 18 L 8 25\" fill=\"none\" style=\"stroke:rgb(0.0, 138.56128015770727, 250.76166088685727);stroke-width:2\" />  </svg></g><g transform=\"translate(2,0)\">  <svg x=\"91.36131513557312%\" y=\"40\" height=\"18\" overflow=\"visible\" width=\"30\">    <path d=\"M 8 -9 l -6 18 L 8 25\" fill=\"none\" style=\"stroke:rgb(0.0, 138.56128015770727, 250.76166088685727);stroke-width:2\" />  </svg></g><g transform=\"translate(0,0)\">  <svg x=\"91.36131513557312%\" y=\"40\" height=\"18\" overflow=\"visible\" width=\"30\">    <path d=\"M 8 -9 l -6 18 L 8 25\" fill=\"none\" style=\"stroke:rgb(0.0, 138.56128015770727, 250.76166088685727);stroke-width:2\" />  </svg></g><g transform=\"translate(-2,0)\">  <svg x=\"91.36131513557312%\" y=\"40\" height=\"18\" overflow=\"visible\" width=\"30\">    <path d=\"M 8 -9 l -6 18 L 8 25\" fill=\"none\" style=\"stroke:rgb(0.0, 138.56128015770727, 250.76166088685727);stroke-width:2\" />  </svg></g><g transform=\"translate(-4,0)\">  <svg x=\"91.36131513557312%\" y=\"40\" height=\"18\" overflow=\"visible\" width=\"30\">    <path d=\"M 8 -9 l -6 18 L 8 25\" fill=\"none\" style=\"stroke:rgb(0.0, 138.56128015770727, 250.76166088685727);stroke-width:2\" />  </svg></g><rect transform=\"translate(0,0)\" x=\"12.616753579025096%\" y=\"40\" width=\"8\" height=\"18\" style=\"fill:rgb(0.0, 138.56128015770727, 250.76166088685727)\"/><g transform=\"translate(-6.0,0)\">  <svg x=\"91.66666666666666%\" y=\"40\" height=\"18\" overflow=\"visible\" width=\"30\">    <path d=\"M 8 -9 l -6 18 L 8 25 L 20 25 L 20 -9\" fill=\"#ffffff\" style=\"stroke:rgb(255,255,255);stroke-width:2\" />  </svg></g><g transform=\"translate(-6.0,0)\">  <svg x=\"23.942045694189442%\" y=\"40\" height=\"18\" overflow=\"visible\" width=\"30\">    <path d=\"M 8 -9 l -6 18 L 8 25\" fill=\"none\" style=\"stroke:rgb(208, 230, 250);stroke-width:2\" />  </svg></g><rect x=\"12.616753579025096%\" y=\"40\" height=\"20\" width=\"11.325292115164347%\"      onmouseover=\"document.getElementById('_tp_qmutcfksfskfcibbuzrd_ind_4').style.textDecoration = 'underline';document.getElementById('_fs_qmutcfksfskfcibbuzrd_ind_4').style.opacity = 1;document.getElementById('_fb_qmutcfksfskfcibbuzrd_ind_4').style.opacity = 1;\"      onmouseout=\"document.getElementById('_tp_qmutcfksfskfcibbuzrd_ind_4').style.textDecoration = 'none';document.getElementById('_fs_qmutcfksfskfcibbuzrd_ind_4').style.opacity = 0;document.getElementById('_fb_qmutcfksfskfcibbuzrd_ind_4').style.opacity = 0;\" style=\"fill:rgb(0,0,0,0)\" /><g transform=\"translate(-6.0,0)\">  <svg x=\"34.32920831276211%\" y=\"40\" height=\"18\" overflow=\"visible\" width=\"30\">    <path d=\"M 8 -9 l -6 18 L 8 25\" fill=\"none\" style=\"stroke:rgb(208, 230, 250);stroke-width:2\" />  </svg></g><rect x=\"23.942045694189442%\" y=\"40\" height=\"20\" width=\"10.38716261857267%\"      onmouseover=\"document.getElementById('_tp_qmutcfksfskfcibbuzrd_ind_6').style.textDecoration = 'underline';document.getElementById('_fs_qmutcfksfskfcibbuzrd_ind_6').style.opacity = 1;document.getElementById('_fb_qmutcfksfskfcibbuzrd_ind_6').style.opacity = 1;\"      onmouseout=\"document.getElementById('_tp_qmutcfksfskfcibbuzrd_ind_6').style.textDecoration = 'none';document.getElementById('_fs_qmutcfksfskfcibbuzrd_ind_6').style.opacity = 0;document.getElementById('_fb_qmutcfksfskfcibbuzrd_ind_6').style.opacity = 0;\" style=\"fill:rgb(0,0,0,0)\" /><g transform=\"translate(-6.0,0)\">  <svg x=\"42.597207885554155%\" y=\"40\" height=\"18\" overflow=\"visible\" width=\"30\">    <path d=\"M 8 -9 l -6 18 L 8 25\" fill=\"none\" style=\"stroke:rgb(208, 230, 250);stroke-width:2\" />  </svg></g><rect x=\"34.32920831276211%\" y=\"40\" height=\"20\" width=\"8.267999572792043%\"      onmouseover=\"document.getElementById('_tp_qmutcfksfskfcibbuzrd_ind_17').style.textDecoration = 'underline';document.getElementById('_fs_qmutcfksfskfcibbuzrd_ind_17').style.opacity = 1;document.getElementById('_fb_qmutcfksfskfcibbuzrd_ind_17').style.opacity = 1;\"      onmouseout=\"document.getElementById('_tp_qmutcfksfskfcibbuzrd_ind_17').style.textDecoration = 'none';document.getElementById('_fs_qmutcfksfskfcibbuzrd_ind_17').style.opacity = 0;document.getElementById('_fb_qmutcfksfskfcibbuzrd_ind_17').style.opacity = 0;\" style=\"fill:rgb(0,0,0,0)\" /><g transform=\"translate(-6.0,0)\">  <svg x=\"50.75799292844745%\" y=\"40\" height=\"18\" overflow=\"visible\" width=\"30\">    <path d=\"M 8 -9 l -6 18 L 8 25\" fill=\"none\" style=\"stroke:rgb(208, 230, 250);stroke-width:2\" />  </svg></g><rect x=\"42.597207885554155%\" y=\"40\" height=\"20\" width=\"8.160785042893295%\"      onmouseover=\"document.getElementById('_tp_qmutcfksfskfcibbuzrd_ind_5').style.textDecoration = 'underline';document.getElementById('_fs_qmutcfksfskfcibbuzrd_ind_5').style.opacity = 1;document.getElementById('_fb_qmutcfksfskfcibbuzrd_ind_5').style.opacity = 1;\"      onmouseout=\"document.getElementById('_tp_qmutcfksfskfcibbuzrd_ind_5').style.textDecoration = 'none';document.getElementById('_fs_qmutcfksfskfcibbuzrd_ind_5').style.opacity = 0;document.getElementById('_fb_qmutcfksfskfcibbuzrd_ind_5').style.opacity = 0;\" style=\"fill:rgb(0,0,0,0)\" /><g transform=\"translate(-6.0,0)\">  <svg x=\"57.85305938836903%\" y=\"40\" height=\"18\" overflow=\"visible\" width=\"30\">    <path d=\"M 8 -9 l -6 18 L 8 25\" fill=\"none\" style=\"stroke:rgb(208, 230, 250);stroke-width:2\" />  </svg></g><rect x=\"50.75799292844745%\" y=\"40\" height=\"20\" width=\"7.095066459921583%\"      onmouseover=\"document.getElementById('_tp_qmutcfksfskfcibbuzrd_ind_1').style.textDecoration = 'underline';document.getElementById('_fs_qmutcfksfskfcibbuzrd_ind_1').style.opacity = 1;document.getElementById('_fb_qmutcfksfskfcibbuzrd_ind_1').style.opacity = 1;\"      onmouseout=\"document.getElementById('_tp_qmutcfksfskfcibbuzrd_ind_1').style.textDecoration = 'none';document.getElementById('_fs_qmutcfksfskfcibbuzrd_ind_1').style.opacity = 0;document.getElementById('_fb_qmutcfksfskfcibbuzrd_ind_1').style.opacity = 0;\" style=\"fill:rgb(0,0,0,0)\" /><g transform=\"translate(-6.0,0)\">  <svg x=\"62.712780093289666%\" y=\"40\" height=\"18\" overflow=\"visible\" width=\"30\">    <path d=\"M 8 -9 l -6 18 L 8 25\" fill=\"none\" style=\"stroke:rgb(208, 230, 250);stroke-width:2\" />  </svg></g><rect x=\"57.85305938836903%\" y=\"40\" height=\"20\" width=\"4.859720704920633%\"      onmouseover=\"document.getElementById('_tp_qmutcfksfskfcibbuzrd_ind_12').style.textDecoration = 'underline';document.getElementById('_fs_qmutcfksfskfcibbuzrd_ind_12').style.opacity = 1;document.getElementById('_fb_qmutcfksfskfcibbuzrd_ind_12').style.opacity = 1;\"      onmouseout=\"document.getElementById('_tp_qmutcfksfskfcibbuzrd_ind_12').style.textDecoration = 'none';document.getElementById('_fs_qmutcfksfskfcibbuzrd_ind_12').style.opacity = 0;document.getElementById('_fb_qmutcfksfskfcibbuzrd_ind_12').style.opacity = 0;\" style=\"fill:rgb(0,0,0,0)\" /><g transform=\"translate(-6.0,0)\">  <svg x=\"67.25789049264971%\" y=\"40\" height=\"18\" overflow=\"visible\" width=\"30\">    <path d=\"M 8 -9 l -6 18 L 8 25\" fill=\"none\" style=\"stroke:rgb(208, 230, 250);stroke-width:2\" />  </svg></g><rect x=\"62.712780093289666%\" y=\"40\" height=\"20\" width=\"4.545110399360041%\"      onmouseover=\"document.getElementById('_tp_qmutcfksfskfcibbuzrd_ind_20').style.textDecoration = 'underline';document.getElementById('_fs_qmutcfksfskfcibbuzrd_ind_20').style.opacity = 1;document.getElementById('_fb_qmutcfksfskfcibbuzrd_ind_20').style.opacity = 1;\"      onmouseout=\"document.getElementById('_tp_qmutcfksfskfcibbuzrd_ind_20').style.textDecoration = 'none';document.getElementById('_fs_qmutcfksfskfcibbuzrd_ind_20').style.opacity = 0;document.getElementById('_fb_qmutcfksfskfcibbuzrd_ind_20').style.opacity = 0;\" style=\"fill:rgb(0,0,0,0)\" /><g transform=\"translate(-6.0,0)\">  <svg x=\"71.39496010856796%\" y=\"40\" height=\"18\" overflow=\"visible\" width=\"30\">    <path d=\"M 8 -9 l -6 18 L 8 25\" fill=\"none\" style=\"stroke:rgb(208, 230, 250);stroke-width:2\" />  </svg></g><rect x=\"67.25789049264971%\" y=\"40\" height=\"20\" width=\"4.13706961591825%\"      onmouseover=\"document.getElementById('_tp_qmutcfksfskfcibbuzrd_ind_15').style.textDecoration = 'underline';document.getElementById('_fs_qmutcfksfskfcibbuzrd_ind_15').style.opacity = 1;document.getElementById('_fb_qmutcfksfskfcibbuzrd_ind_15').style.opacity = 1;\"      onmouseout=\"document.getElementById('_tp_qmutcfksfskfcibbuzrd_ind_15').style.textDecoration = 'none';document.getElementById('_fs_qmutcfksfskfcibbuzrd_ind_15').style.opacity = 0;document.getElementById('_fb_qmutcfksfskfcibbuzrd_ind_15').style.opacity = 0;\" style=\"fill:rgb(0,0,0,0)\" /><g transform=\"translate(-6.0,0)\">  <svg x=\"75.50475246533614%\" y=\"40\" height=\"18\" overflow=\"visible\" width=\"30\">    <path d=\"M 8 -9 l -6 18 L 8 25\" fill=\"none\" style=\"stroke:rgb(208, 230, 250);stroke-width:2\" />  </svg></g><rect x=\"71.39496010856796%\" y=\"40\" height=\"20\" width=\"4.109792356768182%\"      onmouseover=\"document.getElementById('_tp_qmutcfksfskfcibbuzrd_ind_3').style.textDecoration = 'underline';document.getElementById('_fs_qmutcfksfskfcibbuzrd_ind_3').style.opacity = 1;document.getElementById('_fb_qmutcfksfskfcibbuzrd_ind_3').style.opacity = 1;\"      onmouseout=\"document.getElementById('_tp_qmutcfksfskfcibbuzrd_ind_3').style.textDecoration = 'none';document.getElementById('_fs_qmutcfksfskfcibbuzrd_ind_3').style.opacity = 0;document.getElementById('_fb_qmutcfksfskfcibbuzrd_ind_3').style.opacity = 0;\" style=\"fill:rgb(0,0,0,0)\" /><g transform=\"translate(-6.0,0)\">  <svg x=\"78.96153450941239%\" y=\"40\" height=\"18\" overflow=\"visible\" width=\"30\">    <path d=\"M 8 -9 l -6 18 L 8 25\" fill=\"none\" style=\"stroke:rgb(208, 230, 250);stroke-width:2\" />  </svg></g><rect x=\"75.50475246533614%\" y=\"40\" height=\"20\" width=\"3.456782044076249%\"      onmouseover=\"document.getElementById('_tp_qmutcfksfskfcibbuzrd_ind_10').style.textDecoration = 'underline';document.getElementById('_fs_qmutcfksfskfcibbuzrd_ind_10').style.opacity = 1;document.getElementById('_fb_qmutcfksfskfcibbuzrd_ind_10').style.opacity = 1;\"      onmouseout=\"document.getElementById('_tp_qmutcfksfskfcibbuzrd_ind_10').style.textDecoration = 'none';document.getElementById('_fs_qmutcfksfskfcibbuzrd_ind_10').style.opacity = 0;document.getElementById('_fb_qmutcfksfskfcibbuzrd_ind_10').style.opacity = 0;\" style=\"fill:rgb(0,0,0,0)\" /><g transform=\"translate(-6.0,0)\">  <svg x=\"82.18874309060256%\" y=\"40\" height=\"18\" overflow=\"visible\" width=\"30\">    <path d=\"M 8 -9 l -6 18 L 8 25\" fill=\"none\" style=\"stroke:rgb(208, 230, 250);stroke-width:2\" />  </svg></g><rect x=\"78.96153450941239%\" y=\"40\" height=\"20\" width=\"3.227208581190169%\"      onmouseover=\"document.getElementById('_tp_qmutcfksfskfcibbuzrd_ind_14').style.textDecoration = 'underline';document.getElementById('_fs_qmutcfksfskfcibbuzrd_ind_14').style.opacity = 1;document.getElementById('_fb_qmutcfksfskfcibbuzrd_ind_14').style.opacity = 1;\"      onmouseout=\"document.getElementById('_tp_qmutcfksfskfcibbuzrd_ind_14').style.textDecoration = 'none';document.getElementById('_fs_qmutcfksfskfcibbuzrd_ind_14').style.opacity = 0;document.getElementById('_fb_qmutcfksfskfcibbuzrd_ind_14').style.opacity = 0;\" style=\"fill:rgb(0,0,0,0)\" /><g transform=\"translate(-6.0,0)\">  <svg x=\"85.35359701392015%\" y=\"40\" height=\"18\" overflow=\"visible\" width=\"30\">    <path d=\"M 8 -9 l -6 18 L 8 25\" fill=\"none\" style=\"stroke:rgb(208, 230, 250);stroke-width:2\" />  </svg></g><rect x=\"82.18874309060256%\" y=\"40\" height=\"20\" width=\"3.164853923317594%\"      onmouseover=\"document.getElementById('_tp_qmutcfksfskfcibbuzrd_ind_8').style.textDecoration = 'underline';document.getElementById('_fs_qmutcfksfskfcibbuzrd_ind_8').style.opacity = 1;document.getElementById('_fb_qmutcfksfskfcibbuzrd_ind_8').style.opacity = 1;\"      onmouseout=\"document.getElementById('_tp_qmutcfksfskfcibbuzrd_ind_8').style.textDecoration = 'none';document.getElementById('_fs_qmutcfksfskfcibbuzrd_ind_8').style.opacity = 0;document.getElementById('_fb_qmutcfksfskfcibbuzrd_ind_8').style.opacity = 0;\" style=\"fill:rgb(0,0,0,0)\" /><g transform=\"translate(-6.0,0)\">  <svg x=\"88.20013940945587%\" y=\"40\" height=\"18\" overflow=\"visible\" width=\"30\">    <path d=\"M 8 -9 l -6 18 L 8 25\" fill=\"none\" style=\"stroke:rgb(208, 230, 250);stroke-width:2\" />  </svg></g><rect x=\"85.35359701392015%\" y=\"40\" height=\"20\" width=\"2.846542395535721%\"      onmouseover=\"document.getElementById('_tp_qmutcfksfskfcibbuzrd_ind_9').style.textDecoration = 'underline';document.getElementById('_fs_qmutcfksfskfcibbuzrd_ind_9').style.opacity = 1;document.getElementById('_fb_qmutcfksfskfcibbuzrd_ind_9').style.opacity = 1;\"      onmouseout=\"document.getElementById('_tp_qmutcfksfskfcibbuzrd_ind_9').style.textDecoration = 'none';document.getElementById('_fs_qmutcfksfskfcibbuzrd_ind_9').style.opacity = 0;document.getElementById('_fb_qmutcfksfskfcibbuzrd_ind_9').style.opacity = 0;\" style=\"fill:rgb(0,0,0,0)\" /><g transform=\"translate(-6.0,0)\">  <svg x=\"89.48447520661801%\" y=\"40\" height=\"18\" overflow=\"visible\" width=\"30\">    <path d=\"M 8 -9 l -6 18 L 8 25\" fill=\"none\" style=\"stroke:rgb(208, 230, 250);stroke-width:2\" />  </svg></g><rect x=\"88.20013940945587%\" y=\"40\" height=\"20\" width=\"1.284335797162143%\"      onmouseover=\"document.getElementById('_tp_qmutcfksfskfcibbuzrd_ind_7').style.textDecoration = 'underline';document.getElementById('_fs_qmutcfksfskfcibbuzrd_ind_7').style.opacity = 1;document.getElementById('_fb_qmutcfksfskfcibbuzrd_ind_7').style.opacity = 1;\"      onmouseout=\"document.getElementById('_tp_qmutcfksfskfcibbuzrd_ind_7').style.textDecoration = 'none';document.getElementById('_fs_qmutcfksfskfcibbuzrd_ind_7').style.opacity = 0;document.getElementById('_fb_qmutcfksfskfcibbuzrd_ind_7').style.opacity = 0;\" style=\"fill:rgb(0,0,0,0)\" /><g transform=\"translate(-6.0,0)\">  <svg x=\"90.64489227708364%\" y=\"40\" height=\"18\" overflow=\"visible\" width=\"30\">    <path d=\"M 8 -9 l -6 18 L 8 25\" fill=\"none\" style=\"stroke:rgb(208, 230, 250);stroke-width:2\" />  </svg></g><rect x=\"89.48447520661801%\" y=\"40\" height=\"20\" width=\"1.160417070465627%\"      onmouseover=\"document.getElementById('_tp_qmutcfksfskfcibbuzrd_ind_18').style.textDecoration = 'underline';document.getElementById('_fs_qmutcfksfskfcibbuzrd_ind_18').style.opacity = 1;document.getElementById('_fb_qmutcfksfskfcibbuzrd_ind_18').style.opacity = 1;\"      onmouseout=\"document.getElementById('_tp_qmutcfksfskfcibbuzrd_ind_18').style.textDecoration = 'none';document.getElementById('_fs_qmutcfksfskfcibbuzrd_ind_18').style.opacity = 0;document.getElementById('_fb_qmutcfksfskfcibbuzrd_ind_18').style.opacity = 0;\" style=\"fill:rgb(0,0,0,0)\" /><g transform=\"translate(-6.0,0)\">  <svg x=\"91.36131513557312%\" y=\"40\" height=\"18\" overflow=\"visible\" width=\"30\">    <path d=\"M 8 -9 l -6 18 L 8 25\" fill=\"none\" style=\"stroke:rgb(208, 230, 250);stroke-width:2\" />  </svg></g><rect x=\"90.64489227708364%\" y=\"40\" height=\"20\" width=\"0.7164228584894801%\"      onmouseover=\"document.getElementById('_tp_qmutcfksfskfcibbuzrd_ind_16').style.textDecoration = 'underline';document.getElementById('_fs_qmutcfksfskfcibbuzrd_ind_16').style.opacity = 1;document.getElementById('_fb_qmutcfksfskfcibbuzrd_ind_16').style.opacity = 1;\"      onmouseout=\"document.getElementById('_tp_qmutcfksfskfcibbuzrd_ind_16').style.textDecoration = 'none';document.getElementById('_fs_qmutcfksfskfcibbuzrd_ind_16').style.opacity = 0;document.getElementById('_fb_qmutcfksfskfcibbuzrd_ind_16').style.opacity = 0;\" style=\"fill:rgb(0,0,0,0)\" /><rect x=\"91.36131513557312%\" y=\"40\" height=\"20\" width=\"0.3053515310935353%\"      onmouseover=\"document.getElementById('_tp_qmutcfksfskfcibbuzrd_ind_13').style.textDecoration = 'underline';document.getElementById('_fs_qmutcfksfskfcibbuzrd_ind_13').style.opacity = 1;document.getElementById('_fb_qmutcfksfskfcibbuzrd_ind_13').style.opacity = 1;\"      onmouseout=\"document.getElementById('_tp_qmutcfksfskfcibbuzrd_ind_13').style.textDecoration = 'none';document.getElementById('_fs_qmutcfksfskfcibbuzrd_ind_13').style.opacity = 0;document.getElementById('_fb_qmutcfksfskfcibbuzrd_ind_13').style.opacity = 0;\" style=\"fill:rgb(0,0,0,0)\" /></svg><div style='display: inline; text-align: center;'><div style='display: none; color: #999; padding-top: 0px; font-size: 12px;'>0.0</div><div id='_tp_qmutcfksfskfcibbuzrd_ind_0'style='display: inline; background: rgba(230.2941176470614, 26.505882352939775, 102.59215686274348, 0.0); border-radius: 3px; padding: 0px'onclick=\"if (this.previousSibling.style.display == 'none') {this.previousSibling.style.display = 'block';this.parentNode.style.display = 'inline-block';} else {this.previousSibling.style.display = 'none';this.parentNode.style.display = 'inline';}\"onmouseover=\"document.getElementById('_fb_qmutcfksfskfcibbuzrd_ind_0').style.opacity = 1; document.getElementById('_fs_qmutcfksfskfcibbuzrd_ind_0').style.opacity = 1;\"onmouseout=\"document.getElementById('_fb_qmutcfksfskfcibbuzrd_ind_0').style.opacity = 0; document.getElementById('_fs_qmutcfksfskfcibbuzrd_ind_0').style.opacity = 0;\"></div></div><div style='display: inline; text-align: center;'><div style='display: none; color: #999; padding-top: 0px; font-size: 12px;'>-0.059</div><div id='_tp_qmutcfksfskfcibbuzrd_ind_1'style='display: inline; background: rgba(30.0, 136.0, 229.0, 0.6295107942166766); border-radius: 3px; padding: 0px'onclick=\"if (this.previousSibling.style.display == 'none') {this.previousSibling.style.display = 'block';this.parentNode.style.display = 'inline-block';} else {this.previousSibling.style.display = 'none';this.parentNode.style.display = 'inline';}\"onmouseover=\"document.getElementById('_fb_qmutcfksfskfcibbuzrd_ind_1').style.opacity = 1; document.getElementById('_fs_qmutcfksfskfcibbuzrd_ind_1').style.opacity = 1;\"onmouseout=\"document.getElementById('_fb_qmutcfksfskfcibbuzrd_ind_1').style.opacity = 0; document.getElementById('_fs_qmutcfksfskfcibbuzrd_ind_1').style.opacity = 0;\">If </div></div><div style='display: inline; text-align: center;'><div style='display: none; color: #999; padding-top: 0px; font-size: 12px;'>0.015</div><div id='_tp_qmutcfksfskfcibbuzrd_ind_2'style='display: inline; background: rgba(255.0, 13.0, 87.0, 0.15654585066349747); border-radius: 3px; padding: 0px'onclick=\"if (this.previousSibling.style.display == 'none') {this.previousSibling.style.display = 'block';this.parentNode.style.display = 'inline-block';} else {this.previousSibling.style.display = 'none';this.parentNode.style.display = 'inline';}\"onmouseover=\"document.getElementById('_fb_qmutcfksfskfcibbuzrd_ind_2').style.opacity = 1; document.getElementById('_fs_qmutcfksfskfcibbuzrd_ind_2').style.opacity = 1;\"onmouseout=\"document.getElementById('_fb_qmutcfksfskfcibbuzrd_ind_2').style.opacity = 0; document.getElementById('_fs_qmutcfksfskfcibbuzrd_ind_2').style.opacity = 0;\">you </div></div><div style='display: inline; text-align: center;'><div style='display: none; color: #999; padding-top: 0px; font-size: 12px;'>-0.034</div><div id='_tp_qmutcfksfskfcibbuzrd_ind_3'style='display: inline; background: rgba(30.0, 136.0, 229.0, 0.36149732620320846); border-radius: 3px; padding: 0px'onclick=\"if (this.previousSibling.style.display == 'none') {this.previousSibling.style.display = 'block';this.parentNode.style.display = 'inline-block';} else {this.previousSibling.style.display = 'none';this.parentNode.style.display = 'inline';}\"onmouseover=\"document.getElementById('_fb_qmutcfksfskfcibbuzrd_ind_3').style.opacity = 1; document.getElementById('_fs_qmutcfksfskfcibbuzrd_ind_3').style.opacity = 1;\"onmouseout=\"document.getElementById('_fb_qmutcfksfskfcibbuzrd_ind_3').style.opacity = 0; document.getElementById('_fs_qmutcfksfskfcibbuzrd_ind_3').style.opacity = 0;\">don</div></div><div style='display: inline; text-align: center;'><div style='display: none; color: #999; padding-top: 0px; font-size: 12px;'>-0.095</div><div id='_tp_qmutcfksfskfcibbuzrd_ind_4'style='display: inline; background: rgba(30.0, 136.0, 229.0, 1.0); border-radius: 3px; padding: 0px'onclick=\"if (this.previousSibling.style.display == 'none') {this.previousSibling.style.display = 'block';this.parentNode.style.display = 'inline-block';} else {this.previousSibling.style.display = 'none';this.parentNode.style.display = 'inline';}\"onmouseover=\"document.getElementById('_fb_qmutcfksfskfcibbuzrd_ind_4').style.opacity = 1; document.getElementById('_fs_qmutcfksfskfcibbuzrd_ind_4').style.opacity = 1;\"onmouseout=\"document.getElementById('_fb_qmutcfksfskfcibbuzrd_ind_4').style.opacity = 0; document.getElementById('_fs_qmutcfksfskfcibbuzrd_ind_4').style.opacity = 0;\">t </div></div><div style='display: inline; text-align: center;'><div style='display: none; color: #999; padding-top: 0px; font-size: 12px;'>-0.068</div><div id='_tp_qmutcfksfskfcibbuzrd_ind_5'style='display: inline; background: rgba(30.0, 136.0, 229.0, 0.7241037829273124); border-radius: 3px; padding: 0px'onclick=\"if (this.previousSibling.style.display == 'none') {this.previousSibling.style.display = 'block';this.parentNode.style.display = 'inline-block';} else {this.previousSibling.style.display = 'none';this.parentNode.style.display = 'inline';}\"onmouseover=\"document.getElementById('_fb_qmutcfksfskfcibbuzrd_ind_5').style.opacity = 1; document.getElementById('_fs_qmutcfksfskfcibbuzrd_ind_5').style.opacity = 1;\"onmouseout=\"document.getElementById('_fb_qmutcfksfskfcibbuzrd_ind_5').style.opacity = 0; document.getElementById('_fs_qmutcfksfskfcibbuzrd_ind_5').style.opacity = 0;\">understand </div></div><div style='display: inline; text-align: center;'><div style='display: none; color: #999; padding-top: 0px; font-size: 12px;'>-0.087</div><div id='_tp_qmutcfksfskfcibbuzrd_ind_6'style='display: inline; background: rgba(30.0, 136.0, 229.0, 0.9211725094078036); border-radius: 3px; padding: 0px'onclick=\"if (this.previousSibling.style.display == 'none') {this.previousSibling.style.display = 'block';this.parentNode.style.display = 'inline-block';} else {this.previousSibling.style.display = 'none';this.parentNode.style.display = 'inline';}\"onmouseover=\"document.getElementById('_fb_qmutcfksfskfcibbuzrd_ind_6').style.opacity = 1; document.getElementById('_fs_qmutcfksfskfcibbuzrd_ind_6').style.opacity = 1;\"onmouseout=\"document.getElementById('_fb_qmutcfksfskfcibbuzrd_ind_6').style.opacity = 0; document.getElementById('_fs_qmutcfksfskfcibbuzrd_ind_6').style.opacity = 0;\">what </div></div><div style='display: inline; text-align: center;'><div style='display: none; color: #999; padding-top: 0px; font-size: 12px;'>-0.011</div><div id='_tp_qmutcfksfskfcibbuzrd_ind_7'style='display: inline; background: rgba(30.0, 136.0, 229.0, 0.10924935630817977); border-radius: 3px; padding: 0px'onclick=\"if (this.previousSibling.style.display == 'none') {this.previousSibling.style.display = 'block';this.parentNode.style.display = 'inline-block';} else {this.previousSibling.style.display = 'none';this.parentNode.style.display = 'inline';}\"onmouseover=\"document.getElementById('_fb_qmutcfksfskfcibbuzrd_ind_7').style.opacity = 1; document.getElementById('_fs_qmutcfksfskfcibbuzrd_ind_7').style.opacity = 1;\"onmouseout=\"document.getElementById('_fb_qmutcfksfskfcibbuzrd_ind_7').style.opacity = 0; document.getElementById('_fs_qmutcfksfskfcibbuzrd_ind_7').style.opacity = 0;\">transgender </div></div><div style='display: inline; text-align: center;'><div style='display: none; color: #999; padding-top: 0px; font-size: 12px;'>-0.026</div><div id='_tp_qmutcfksfskfcibbuzrd_ind_8'style='display: inline; background: rgba(30.0, 136.0, 229.0, 0.27478708655179246); border-radius: 3px; padding: 0px'onclick=\"if (this.previousSibling.style.display == 'none') {this.previousSibling.style.display = 'block';this.parentNode.style.display = 'inline-block';} else {this.previousSibling.style.display = 'none';this.parentNode.style.display = 'inline';}\"onmouseover=\"document.getElementById('_fb_qmutcfksfskfcibbuzrd_ind_8').style.opacity = 1; document.getElementById('_fs_qmutcfksfskfcibbuzrd_ind_8').style.opacity = 1;\"onmouseout=\"document.getElementById('_fb_qmutcfksfskfcibbuzrd_ind_8').style.opacity = 0; document.getElementById('_fs_qmutcfksfskfcibbuzrd_ind_8').style.opacity = 0;\">is  </div></div><div style='display: inline; text-align: center;'><div style='display: none; color: #999; padding-top: 0px; font-size: 12px;'>-0.024</div><div id='_tp_qmutcfksfskfcibbuzrd_ind_9'style='display: inline; background: rgba(30.0, 136.0, 229.0, 0.25113883937413345); border-radius: 3px; padding: 0px'onclick=\"if (this.previousSibling.style.display == 'none') {this.previousSibling.style.display = 'block';this.parentNode.style.display = 'inline-block';} else {this.previousSibling.style.display = 'none';this.parentNode.style.display = 'inline';}\"onmouseover=\"document.getElementById('_fb_qmutcfksfskfcibbuzrd_ind_9').style.opacity = 1; document.getElementById('_fs_qmutcfksfskfcibbuzrd_ind_9').style.opacity = 1;\"onmouseout=\"document.getElementById('_fb_qmutcfksfskfcibbuzrd_ind_9').style.opacity = 0; document.getElementById('_fs_qmutcfksfskfcibbuzrd_ind_9').style.opacity = 0;\">go </div></div><div style='display: inline; text-align: center;'><div style='display: none; color: #999; padding-top: 0px; font-size: 12px;'>-0.029</div><div id='_tp_qmutcfksfskfcibbuzrd_ind_10'style='display: inline; background: rgba(30.0, 136.0, 229.0, 0.30631808278867095); border-radius: 3px; padding: 0px'onclick=\"if (this.previousSibling.style.display == 'none') {this.previousSibling.style.display = 'block';this.parentNode.style.display = 'inline-block';} else {this.previousSibling.style.display = 'none';this.parentNode.style.display = 'inline';}\"onmouseover=\"document.getElementById('_fb_qmutcfksfskfcibbuzrd_ind_10').style.opacity = 1; document.getElementById('_fs_qmutcfksfskfcibbuzrd_ind_10').style.opacity = 1;\"onmouseout=\"document.getElementById('_fb_qmutcfksfskfcibbuzrd_ind_10').style.opacity = 0; document.getElementById('_fs_qmutcfksfskfcibbuzrd_ind_10').style.opacity = 0;\">talk </div></div><div style='display: inline; text-align: center;'><div style='display: none; color: #999; padding-top: 0px; font-size: 12px;'>0.005</div><div id='_tp_qmutcfksfskfcibbuzrd_ind_11'style='display: inline; background: rgba(255.0, 13.0, 87.0, 0.04618736383442265); border-radius: 3px; padding: 0px'onclick=\"if (this.previousSibling.style.display == 'none') {this.previousSibling.style.display = 'block';this.parentNode.style.display = 'inline-block';} else {this.previousSibling.style.display = 'none';this.parentNode.style.display = 'inline';}\"onmouseover=\"document.getElementById('_fb_qmutcfksfskfcibbuzrd_ind_11').style.opacity = 1; document.getElementById('_fs_qmutcfksfskfcibbuzrd_ind_11').style.opacity = 1;\"onmouseout=\"document.getElementById('_fb_qmutcfksfskfcibbuzrd_ind_11').style.opacity = 0; document.getElementById('_fs_qmutcfksfskfcibbuzrd_ind_11').style.opacity = 0;\">to </div></div><div style='display: inline; text-align: center;'><div style='display: none; color: #999; padding-top: 0px; font-size: 12px;'>-0.041</div><div id='_tp_qmutcfksfskfcibbuzrd_ind_12'style='display: inline; background: rgba(30.0, 136.0, 229.0, 0.42455931867696567); border-radius: 3px; padding: 0px'onclick=\"if (this.previousSibling.style.display == 'none') {this.previousSibling.style.display = 'block';this.parentNode.style.display = 'inline-block';} else {this.previousSibling.style.display = 'none';this.parentNode.style.display = 'inline';}\"onmouseover=\"document.getElementById('_fb_qmutcfksfskfcibbuzrd_ind_12').style.opacity = 1; document.getElementById('_fs_qmutcfksfskfcibbuzrd_ind_12').style.opacity = 1;\"onmouseout=\"document.getElementById('_fb_qmutcfksfskfcibbuzrd_ind_12').style.opacity = 0; document.getElementById('_fs_qmutcfksfskfcibbuzrd_ind_12').style.opacity = 0;\">your </div></div><div style='display: inline; text-align: center;'><div style='display: none; color: #999; padding-top: 0px; font-size: 12px;'>-0.003</div><div id='_tp_qmutcfksfskfcibbuzrd_ind_13'style='display: inline; background: rgba(30.0, 136.0, 229.0, 0.022539116656763607); border-radius: 3px; padding: 0px'onclick=\"if (this.previousSibling.style.display == 'none') {this.previousSibling.style.display = 'block';this.parentNode.style.display = 'inline-block';} else {this.previousSibling.style.display = 'none';this.parentNode.style.display = 'inline';}\"onmouseover=\"document.getElementById('_fb_qmutcfksfskfcibbuzrd_ind_13').style.opacity = 1; document.getElementById('_fs_qmutcfksfskfcibbuzrd_ind_13').style.opacity = 1;\"onmouseout=\"document.getElementById('_fb_qmutcfksfskfcibbuzrd_ind_13').style.opacity = 0; document.getElementById('_fs_qmutcfksfskfcibbuzrd_ind_13').style.opacity = 0;\">family </div></div><div style='display: inline; text-align: center;'><div style='display: none; color: #999; padding-top: 0px; font-size: 12px;'>-0.027</div><div id='_tp_qmutcfksfskfcibbuzrd_ind_14'style='display: inline; background: rgba(30.0, 136.0, 229.0, 0.282669835611012); border-radius: 3px; padding: 0px'onclick=\"if (this.previousSibling.style.display == 'none') {this.previousSibling.style.display = 'block';this.parentNode.style.display = 'inline-block';} else {this.previousSibling.style.display = 'none';this.parentNode.style.display = 'inline';}\"onmouseover=\"document.getElementById('_fb_qmutcfksfskfcibbuzrd_ind_14').style.opacity = 1; document.getElementById('_fs_qmutcfksfskfcibbuzrd_ind_14').style.opacity = 1;\"onmouseout=\"document.getElementById('_fb_qmutcfksfskfcibbuzrd_ind_14').style.opacity = 0; document.getElementById('_fs_qmutcfksfskfcibbuzrd_ind_14').style.opacity = 0;\">doctor  </div></div><div style='display: inline; text-align: center;'><div style='display: none; color: #999; padding-top: 0px; font-size: 12px;'>-0.035</div><div id='_tp_qmutcfksfskfcibbuzrd_ind_15'style='display: inline; background: rgba(30.0, 136.0, 229.0, 0.36149732620320846); border-radius: 3px; padding: 0px'onclick=\"if (this.previousSibling.style.display == 'none') {this.previousSibling.style.display = 'block';this.parentNode.style.display = 'inline-block';} else {this.previousSibling.style.display = 'none';this.parentNode.style.display = 'inline';}\"onmouseover=\"document.getElementById('_fb_qmutcfksfskfcibbuzrd_ind_15').style.opacity = 1; document.getElementById('_fs_qmutcfksfskfcibbuzrd_ind_15').style.opacity = 1;\"onmouseout=\"document.getElementById('_fb_qmutcfksfskfcibbuzrd_ind_15').style.opacity = 0; document.getElementById('_fs_qmutcfksfskfcibbuzrd_ind_15').style.opacity = 0;\">They </div></div><div style='display: inline; text-align: center;'><div style='display: none; color: #999; padding-top: 0px; font-size: 12px;'>-0.006</div><div id='_tp_qmutcfksfskfcibbuzrd_ind_16'style='display: inline; background: rgba(30.0, 136.0, 229.0, 0.06195286195286191); border-radius: 3px; padding: 0px'onclick=\"if (this.previousSibling.style.display == 'none') {this.previousSibling.style.display = 'block';this.parentNode.style.display = 'inline-block';} else {this.previousSibling.style.display = 'none';this.parentNode.style.display = 'inline';}\"onmouseover=\"document.getElementById('_fb_qmutcfksfskfcibbuzrd_ind_16').style.opacity = 1; document.getElementById('_fs_qmutcfksfskfcibbuzrd_ind_16').style.opacity = 1;\"onmouseout=\"document.getElementById('_fb_qmutcfksfskfcibbuzrd_ind_16').style.opacity = 0; document.getElementById('_fs_qmutcfksfskfcibbuzrd_ind_16').style.opacity = 0;\">cover </div></div><div style='display: inline; text-align: center;'><div style='display: none; color: #999; padding-top: 0px; font-size: 12px;'>-0.069</div><div id='_tp_qmutcfksfskfcibbuzrd_ind_17'style='display: inline; background: rgba(30.0, 136.0, 229.0, 0.731986531986532); border-radius: 3px; padding: 0px'onclick=\"if (this.previousSibling.style.display == 'none') {this.previousSibling.style.display = 'block';this.parentNode.style.display = 'inline-block';} else {this.previousSibling.style.display = 'none';this.parentNode.style.display = 'inline';}\"onmouseover=\"document.getElementById('_fb_qmutcfksfskfcibbuzrd_ind_17').style.opacity = 1; document.getElementById('_fs_qmutcfksfskfcibbuzrd_ind_17').style.opacity = 1;\"onmouseout=\"document.getElementById('_fb_qmutcfksfskfcibbuzrd_ind_17').style.opacity = 0; document.getElementById('_fs_qmutcfksfskfcibbuzrd_ind_17').style.opacity = 0;\">it </div></div><div style='display: inline; text-align: center;'><div style='display: none; color: #999; padding-top: 0px; font-size: 12px;'>-0.01</div><div id='_tp_qmutcfksfskfcibbuzrd_ind_18'style='display: inline; background: rgba(30.0, 136.0, 229.0, 0.10136660724896014); border-radius: 3px; padding: 0px'onclick=\"if (this.previousSibling.style.display == 'none') {this.previousSibling.style.display = 'block';this.parentNode.style.display = 'inline-block';} else {this.previousSibling.style.display = 'none';this.parentNode.style.display = 'inline';}\"onmouseover=\"document.getElementById('_fb_qmutcfksfskfcibbuzrd_ind_18').style.opacity = 1; document.getElementById('_fs_qmutcfksfskfcibbuzrd_ind_18').style.opacity = 1;\"onmouseout=\"document.getElementById('_fb_qmutcfksfskfcibbuzrd_ind_18').style.opacity = 0; document.getElementById('_fs_qmutcfksfskfcibbuzrd_ind_18').style.opacity = 0;\">in </div></div><div style='display: inline; text-align: center;'><div style='display: none; color: #999; padding-top: 0px; font-size: 12px;'>0.016</div><div id='_tp_qmutcfksfskfcibbuzrd_ind_19'style='display: inline; background: rgba(255.0, 13.0, 87.0, 0.16442859972271742); border-radius: 3px; padding: 0px'onclick=\"if (this.previousSibling.style.display == 'none') {this.previousSibling.style.display = 'block';this.parentNode.style.display = 'inline-block';} else {this.previousSibling.style.display = 'none';this.parentNode.style.display = 'inline';}\"onmouseover=\"document.getElementById('_fb_qmutcfksfskfcibbuzrd_ind_19').style.opacity = 1; document.getElementById('_fs_qmutcfksfskfcibbuzrd_ind_19').style.opacity = 1;\"onmouseout=\"document.getElementById('_fb_qmutcfksfskfcibbuzrd_ind_19').style.opacity = 0; document.getElementById('_fs_qmutcfksfskfcibbuzrd_ind_19').style.opacity = 0;\">medical </div></div><div style='display: inline; text-align: center;'><div style='display: none; color: #999; padding-top: 0px; font-size: 12px;'>-0.038</div><div id='_tp_qmutcfksfskfcibbuzrd_ind_20'style='display: inline; background: rgba(30.0, 136.0, 229.0, 0.40091107149930677); border-radius: 3px; padding: 0px'onclick=\"if (this.previousSibling.style.display == 'none') {this.previousSibling.style.display = 'block';this.parentNode.style.display = 'inline-block';} else {this.previousSibling.style.display = 'none';this.parentNode.style.display = 'inline';}\"onmouseover=\"document.getElementById('_fb_qmutcfksfskfcibbuzrd_ind_20').style.opacity = 1; document.getElementById('_fs_qmutcfksfskfcibbuzrd_ind_20').style.opacity = 1;\"onmouseout=\"document.getElementById('_fb_qmutcfksfskfcibbuzrd_ind_20').style.opacity = 0; document.getElementById('_fs_qmutcfksfskfcibbuzrd_ind_20').style.opacity = 0;\">school</div></div><div style='display: inline; text-align: center;'><div style='display: none; color: #999; padding-top: 0px; font-size: 12px;'>0.0</div><div id='_tp_qmutcfksfskfcibbuzrd_ind_21'style='display: inline; background: rgba(230.2941176470614, 26.505882352939775, 102.59215686274348, 0.0); border-radius: 3px; padding: 0px'onclick=\"if (this.previousSibling.style.display == 'none') {this.previousSibling.style.display = 'block';this.parentNode.style.display = 'inline-block';} else {this.previousSibling.style.display = 'none';this.parentNode.style.display = 'inline';}\"onmouseover=\"document.getElementById('_fb_qmutcfksfskfcibbuzrd_ind_21').style.opacity = 1; document.getElementById('_fs_qmutcfksfskfcibbuzrd_ind_21').style.opacity = 1;\"onmouseout=\"document.getElementById('_fb_qmutcfksfskfcibbuzrd_ind_21').style.opacity = 0; document.getElementById('_fs_qmutcfksfskfcibbuzrd_ind_21').style.opacity = 0;\"></div></div>"
      ],
      "text/plain": [
       "<IPython.core.display.HTML object>"
      ]
     },
     "metadata": {},
     "output_type": "display_data"
    }
   ],
   "source": [
    "shap.plots.text(sample)"
   ]
  },
  {
   "cell_type": "markdown",
   "metadata": {},
   "source": [
    "#### Clustering data\n",
    "We are going to cluster the training data using SHAP explanations (shapely space)\n",
    "SHAP clustering works by clustering on Shapley values of each instance. \n",
    "This means that you cluster instances by explanation similarity."
   ]
  },
  {
   "cell_type": "code",
   "execution_count": null,
   "metadata": {},
   "outputs": [],
   "source": [
    "n_clusters = 50\n",
    "kmeans = KMeans(n_clusters= n_clusters, n_jobs=-1, max_iter=600)\n",
    "kmeans.fit(shap_values_pool)"
   ]
  },
  {
   "cell_type": "code",
   "execution_count": null,
   "metadata": {},
   "outputs": [],
   "source": [
    "homogeneity_score( y_pool, kmeans.labels_), v_measure_score(y_pool, kmeans.labels_)"
   ]
  },
  {
   "cell_type": "markdown",
   "metadata": {},
   "source": [
    "We use cosine distance instead of euclidean distance to measure the similarity between the documents.\n",
    "As the size of the document increases, the number of common words (euclidean) tend to increase \n",
    "even if the documents talk about different topics. The cosine similarity helps overcome this fundamental flaw \n",
    "and finds the similarity irrespective of size.\n",
    "\n",
    "https://www.machinelearningplus.com/nlp/cosine-similarity/"
   ]
  },
  {
   "cell_type": "code",
   "execution_count": null,
   "metadata": {},
   "outputs": [],
   "source": [
    "# Find similarity of each point in cluster to its centroid\n",
    "similarity_to_center = []\n",
    "for i, instance in enumerate(shap_values_pool):\n",
    "    cluster_label = kmeans.labels_[i] # cluster of this instance\n",
    "    centroid = kmeans.cluster_centers_[cluster_label] # cluster center of the cluster of that instance\n",
    "    similarity = 1-cosine(instance, centroid) # 1- cosine distance gives similarity\n",
    "    similarity_to_center.append(similarity)\n",
    "    \n",
    "centroid_match = [None]*n_clusters\n",
    "centroid_indices =[None]*n_clusters\n",
    "for i, instance in enumerate(shap_values_pool):\n",
    "    cluster_label = kmeans.labels_[i]     \n",
    "    if centroid_match[cluster_label] is None or similarity_to_center[i] > centroid_match[cluster_label]:\n",
    "        centroid_indices[cluster_label] = i\n",
    "        centroid_match[cluster_label] = similarity_to_center[i]"
   ]
  },
  {
   "cell_type": "markdown",
   "metadata": {},
   "source": [
    "#### Visualize clusters"
   ]
  },
  {
   "cell_type": "code",
   "execution_count": null,
   "metadata": {},
   "outputs": [],
   "source": [
    "from sklearn.manifold import TSNE\n",
    "tsne = TSNE(n_components=2, perplexity=20)\n",
    "principals = tsne.fit_transform(shap_values_pool)"
   ]
  },
  {
   "cell_type": "code",
   "execution_count": null,
   "metadata": {
    "scrolled": false
   },
   "outputs": [],
   "source": [
    "data = []\n",
    "colorscale = [[0, 'mediumturquoise'], [1, 'salmon']]\n",
    "collect = dict()\n",
    "sizes = []\n",
    "color = ['hsl(' + str(h) + ',80%' + ',50%)' for h in np.linspace(0, 255, n_clusters)]\n",
    "df_final_labels = pd.DataFrame()\n",
    "for cluster_id in np.unique(kmeans.labels_):\n",
    "    cluster_indices = np.where(kmeans.labels_ == cluster_id)    \n",
    "    \n",
    "    cluster_text = df_pool[cluster_indices]\n",
    "    center_index = centroid_indices[cluster_id]\n",
    "    center_text = df_pool[center_index]\n",
    "    sizes.append(len(cluster_indices[0]))\n",
    "    df_cluster = pd.DataFrame({'text': cluster_text})\n",
    "    df_cluster['cluster_id'] = cluster_id\n",
    "    df_cluster['centroid'] = False\n",
    "    df_cluster = df_cluster.append({'text':center_text, 'cluster_id':cluster_id,\n",
    "                                    'centroid':True }, ignore_index=True)\n",
    "    df_final_labels = pd.concat([df_final_labels, df_cluster])\n",
    "\n",
    "    cp = principals[cluster_indices]\n",
    "    data.append(go.Heatmap(x=cp[:, 0],\n",
    "                           y=cp[:, 1],\n",
    "                           z=uncertainty[cluster_indices],\n",
    "                           name='uncertainity map',\n",
    "                           visible=True,\n",
    "                           showscale=False,\n",
    "                           colorscale=colorscale,\n",
    "                                         ))\n",
    "    data.append(go.Scatter(x = cp[:,0],\n",
    "                   y = cp[:,1],\n",
    "                   mode='markers',                    \n",
    "                hovertext=cluster_text,\n",
    "                            marker=dict(color=color[cluster_id],\n",
    "                                                   size=10),\n",
    "                           name = 'cluster '+ str(cluster_id)\n",
    "                          ))\n",
    "    data.append(go.Scatter(x = [principals[center_index, 0]],\n",
    "                   y = [principals[center_index, 1]],\n",
    "                   mode='markers',  \n",
    "                           marker=dict(color=color[cluster_id],\n",
    "                                                   size=15,\n",
    "                                                   line=dict(color='black', width=5)),\n",
    "                           name = 'centroid cluster '+ str(cluster_id),\n",
    "                           visible='legendonly',\n",
    "                           \n",
    "                          ))\n",
    "    collect[cluster_id] = df_pool[cluster_indices]\n",
    "    \n",
    "fig = go.Figure(data=data)\n",
    "fig.show()\n",
    "df_final_labels.to_csv('df_input.csv')"
   ]
  },
  {
   "cell_type": "code",
   "execution_count": null,
   "metadata": {},
   "outputs": [],
   "source": [
    "sizes"
   ]
  },
  {
   "cell_type": "markdown",
   "metadata": {},
   "source": [
    "#### Analyze uncertainty within clusters"
   ]
  },
  {
   "cell_type": "code",
   "execution_count": null,
   "metadata": {},
   "outputs": [],
   "source": [
    "data = []\n",
    "ranges = []\n",
    "for cluster_id in np.unique(kmeans.labels_):\n",
    "    cluster_indices = np.where(kmeans.labels_ == cluster_id)    \n",
    "    uncertainty_cluster = uncertainty[cluster_indices]\n",
    "    rng = np.max(uncertainty_cluster)- np.min(uncertainty_cluster)\n",
    "    print(cluster_id, \"range \", rng)\n",
    "    ranges.append(rng)\n",
    "    print(y_pool[cluster_indices])\n",
    "    print(\"\\n\")\n",
    "    data.append(go.Histogram(x=uncertainty_cluster, name=str(cluster_id), showlegend=True,visible='legendonly'))\n",
    "fig = go.Figure(data=data)\n",
    "url=py.plot(fig, filename='clusters_50', sharing='public')"
   ]
  },
  {
   "cell_type": "code",
   "execution_count": null,
   "metadata": {},
   "outputs": [],
   "source": [
    "max_uncertain_indices = (-uncertainty).argsort()[:20]\n",
    "y_pool[max_uncertain_indices], uncertainty[max_uncertain_indices]"
   ]
  },
  {
   "cell_type": "code",
   "execution_count": null,
   "metadata": {
    "scrolled": true
   },
   "outputs": [],
   "source": [
    "cluster_id = 8\n",
    "cluster_indices = np.where(kmeans.labels_ == cluster_id)    \n",
    "d = {'text' : df_pool[cluster_indices], 'uncertainty': uncertainty[cluster_indices], 'label': y_pool[cluster_indices]}\n",
    "\n",
    "pd.DataFrame(d)\n"
   ]
  },
  {
   "cell_type": "code",
   "execution_count": null,
   "metadata": {},
   "outputs": [],
   "source": [
    "i=cluster_indices[0][10]\n",
    "shap.force_plot(explainer.expected_value, shap_values_pool[i,:], x_pool[i,:], feature_names = tfid.get_feature_names(),\n",
    "               matplotlib=True)"
   ]
  },
  {
   "cell_type": "code",
   "execution_count": null,
   "metadata": {},
   "outputs": [],
   "source": [
    "cluster_indices"
   ]
  },
  {
   "cell_type": "markdown",
   "metadata": {},
   "source": [
    "#### Find optimal cluster size"
   ]
  },
  {
   "cell_type": "code",
   "execution_count": null,
   "metadata": {},
   "outputs": [],
   "source": [
    "homogeneity_scores = []\n",
    "v_measure_scores = []\n",
    "completeness_scores = []\n",
    "n_iters = 10\n",
    "ranges = list(range(10, 110, 10))\n",
    "for k in ranges:\n",
    "    vavg = 0\n",
    "    havg = 0\n",
    "    cavg = 0\n",
    "    for i in range(n_iters):\n",
    "        kmeans = KMeans(n_clusters= n_clusters, n_jobs=-1)\n",
    "        kmeans.fit(shap_values_pool)\n",
    "        v = v_measure_score(labels_pred=kmeans.labels_, labels_true=y_pool) \n",
    "        h = homogeneity_score(labels_pred=kmeans.labels_, labels_true=y_pool) \n",
    "        c = completeness_score(labels_pred=kmeans.labels_, labels_true=y_pool) \n",
    "        vavg += v\n",
    "        havg += h\n",
    "        cavg += c\n",
    "    homogeneity_scores.append(havg/n_iters)\n",
    "    v_measure_scores.append(vavg/n_iters)\n",
    "    completeness_scores.append(cavg/n_iters)\n",
    "    print(k, \"done\")\n",
    "\n"
   ]
  },
  {
   "cell_type": "code",
   "execution_count": null,
   "metadata": {},
   "outputs": [],
   "source": [
    "data = [go.Scatter(x=ranges, y=homogeneity_scores, mode=\"lines\", name=\"homogeneity\"),\n",
    "        go.Scatter(x=ranges, y=v_measure_scores, mode=\"lines\", name=\"v_measure\"),\n",
    "        go.Scatter(x=ranges, y=completeness_scores, mode=\"lines\", name=\"completeness\")\n",
    "        ]\n",
    "fig = go.Figure(data=data)\n",
    "fig.update_layout(xaxis_title=\"no of clusters\")\n",
    "fig.show()"
   ]
  },
  {
   "cell_type": "markdown",
   "metadata": {},
   "source": [
    "#### Add centroid of each cluster to the training set and retrain the model"
   ]
  },
  {
   "cell_type": "code",
   "execution_count": null,
   "metadata": {},
   "outputs": [],
   "source": [
    "train_indices_new = np.append(train_indices, centroid_indices)\n"
   ]
  },
  {
   "cell_type": "code",
   "execution_count": null,
   "metadata": {},
   "outputs": [],
   "source": [
    "model1 = SVC( max_iter=max_iter, C=C, kernel='linear')\n",
    "x_train_new = x[train_indices_new]\n",
    "y_train_new = y[train_indices_new]\n",
    "model1.fit(x_train_new, y_train_new)"
   ]
  },
  {
   "cell_type": "code",
   "execution_count": null,
   "metadata": {},
   "outputs": [],
   "source": [
    "model1.score(x_train_new, y_train_new), model1.score(x_test, y_test)"
   ]
  },
  {
   "cell_type": "code",
   "execution_count": null,
   "metadata": {},
   "outputs": [],
   "source": [
    "predictions1 = model1.predict(x_test)\n",
    "f1_score(y_test, predictions1)"
   ]
  },
  {
   "cell_type": "code",
   "execution_count": null,
   "metadata": {},
   "outputs": [],
   "source": [
    "accuracy_score(y_test, predictions1)"
   ]
  },
  {
   "cell_type": "markdown",
   "metadata": {},
   "source": [
    "#### Add entire x_pool back to training instead of just centroids"
   ]
  },
  {
   "cell_type": "code",
   "execution_count": null,
   "metadata": {},
   "outputs": [],
   "source": [
    "train_indices_full = np.append(train_indices, pool_indices)"
   ]
  },
  {
   "cell_type": "code",
   "execution_count": null,
   "metadata": {},
   "outputs": [],
   "source": [
    "model2 = SVC(max_iter=max_iter, C=C, kernel='linear')\n",
    "x_train_full = x[train_indices_full]\n",
    "y_train_full = y[train_indices_full]\n",
    "model2.fit(x_train_full, y_train_full)\n",
    "model2.score(x_train_full, y_train_full), model2.score(x_test, y_test)"
   ]
  },
  {
   "cell_type": "code",
   "execution_count": null,
   "metadata": {},
   "outputs": [],
   "source": [
    "predictions2 = model2.predict(x_test)\n",
    "f1_score(y_test, predictions2)"
   ]
  },
  {
   "cell_type": "code",
   "execution_count": null,
   "metadata": {},
   "outputs": [],
   "source": [
    "accuracy_score(y_test, predictions2)"
   ]
  },
  {
   "cell_type": "markdown",
   "metadata": {},
   "source": [
    "#### Compare"
   ]
  },
  {
   "cell_type": "code",
   "execution_count": null,
   "metadata": {},
   "outputs": [],
   "source": [
    "print(\"Model with 20% train \", f1_score(y_test, predictions))\n",
    "print(\"Model with 20% train + center \", f1_score(y_test, predictions1))\n",
    "print(\"Model with 20% train + 60% pool \", f1_score(y_test, predictions2))"
   ]
  },
  {
   "cell_type": "code",
   "execution_count": null,
   "metadata": {},
   "outputs": [],
   "source": [
    "print(\"Model with 20% train \", accuracy_score(y_test, predictions))\n",
    "print(\"Model with 20% train + center \", accuracy_score(y_test, predictions1))\n",
    "print(\"Model with 20% train + 60% pool \", accuracy_score(y_test, predictions2))"
   ]
  },
  {
   "cell_type": "code",
   "execution_count": null,
   "metadata": {},
   "outputs": [],
   "source": []
  }
 ],
 "metadata": {
  "kernelspec": {
   "display_name": "Python 3",
   "language": "python",
   "name": "python3"
  },
  "language_info": {
   "codemirror_mode": {
    "name": "ipython",
    "version": 3
   },
   "file_extension": ".py",
   "mimetype": "text/x-python",
   "name": "python",
   "nbconvert_exporter": "python",
   "pygments_lexer": "ipython3",
   "version": "3.7.6"
  }
 },
 "nbformat": 4,
 "nbformat_minor": 2
}
